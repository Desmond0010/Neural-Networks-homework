{
 "cells": [
  {
   "cell_type": "markdown",
   "metadata": {},
   "source": [
    "# Checking the Convolutional Layer Implementation\n",
    "This notebook will output garbage if you modify the methods `Conv2D.forward_faster` or `Conv2D.backward_faster`, so please **do not modify those methods**."
   ]
  },
  {
   "cell_type": "code",
   "execution_count": 3,
   "metadata": {},
   "outputs": [
    {
     "name": "stdout",
     "output_type": "stream",
     "text": [
      "The autoreload extension is already loaded. To reload it, use:\n",
      "  %reload_ext autoreload\n"
     ]
    }
   ],
   "source": [
    "%load_ext autoreload\n",
    "%autoreload 2\n",
    "\n",
    "import numpy as np\n",
    "from neural_networks.utils.grad_check import check_gradients\n",
    "from neural_networks.layers import FullyConnected, Elman, Conv2D\n",
    "from neural_networks.activations import Linear, Sigmoid, TanH, ReLU, SoftMax"
   ]
  },
  {
   "cell_type": "code",
   "execution_count": 4,
   "metadata": {},
   "outputs": [
    {
     "name": "stdout",
     "output_type": "stream",
     "text": [
      "It is True that `Conv2D.forward` is correct.\n",
      "It is True that `Conv2D.backward` is correct.\n"
     ]
    }
   ],
   "source": [
    "X = np.random.randn(2, 5, 6, 7)\n",
    "dLdY = np.random.randn(2, 5, 6, 4)\n",
    "\n",
    "# initialize a fully connected layer\n",
    "# and perform a forward and backward pass\n",
    "conv_layer = Conv2D(\n",
    "    n_out=4,\n",
    "    kernel_shape=(3, 3),\n",
    "    activation=\"tanh\",\n",
    "    weight_init=\"uniform\",\n",
    "    pad=\"same\",\n",
    ")\n",
    "\n",
    "student_forward = conv_layer.forward(X)\n",
    "student_backward = conv_layer.backward(dLdY)\n",
    "\n",
    "staff_forward = conv_layer.forward_faster(X)\n",
    "staff_backward = conv_layer.backward_faster(dLdY)\n",
    "\n",
    "print(f\"It is {np.allclose(student_forward, staff_forward)} that `Conv2D.forward` is correct.\")\n",
    "print(f\"It is {np.allclose(student_backward, staff_backward)} that `Conv2D.backward` is correct.\")"
   ]
  },
  {
   "cell_type": "code",
   "execution_count": null,
   "metadata": {},
   "outputs": [],
   "source": []
  }
 ],
 "metadata": {
  "kernelspec": {
   "display_name": "hw6env",
   "language": "python",
   "name": "hw6env"
  },
  "language_info": {
   "codemirror_mode": {
    "name": "ipython",
    "version": 3
   },
   "file_extension": ".py",
   "mimetype": "text/x-python",
   "name": "python",
   "nbconvert_exporter": "python",
   "pygments_lexer": "ipython3",
   "version": "3.6.10"
  }
 },
 "nbformat": 4,
 "nbformat_minor": 2
}
