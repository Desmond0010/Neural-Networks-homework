{
 "cells": [
  {
   "cell_type": "code",
   "execution_count": 1,
   "metadata": {},
   "outputs": [],
   "source": [
    "def s()->int:\n",
    "    return \"a\""
   ]
  },
  {
   "cell_type": "code",
   "execution_count": 2,
   "metadata": {},
   "outputs": [],
   "source": [
    "import numpy as np"
   ]
  },
  {
   "cell_type": "code",
   "execution_count": 4,
   "metadata": {},
   "outputs": [
    {
     "data": {
      "text/plain": [
       "(2, 3, 4, 1)"
      ]
     },
     "execution_count": 4,
     "metadata": {},
     "output_type": "execute_result"
    }
   ],
   "source": [
    "np.ones((1,2,3,4)).transpose(1,2,3,0).shape"
   ]
  },
  {
   "cell_type": "code",
   "execution_count": 4,
   "metadata": {},
   "outputs": [
    {
     "data": {
      "text/plain": [
       "(1, 2, 3, 4)"
      ]
     },
     "execution_count": 4,
     "metadata": {},
     "output_type": "execute_result"
    }
   ],
   "source": [
    "np.ones((1,2,3,4))[:,:,:,:][:,:,:,:][:,:,:,:].shape"
   ]
  },
  {
   "cell_type": "code",
   "execution_count": 7,
   "metadata": {},
   "outputs": [
    {
     "data": {
      "text/plain": [
       "2"
      ]
     },
     "execution_count": 7,
     "metadata": {},
     "output_type": "execute_result"
    }
   ],
   "source": [
    "int(np.ceil(1.5))"
   ]
  },
  {
   "cell_type": "code",
   "execution_count": 8,
   "metadata": {},
   "outputs": [
    {
     "data": {
      "text/plain": [
       "(10,)"
      ]
     },
     "execution_count": 8,
     "metadata": {},
     "output_type": "execute_result"
    }
   ],
   "source": [
    "np.sum(np.ones((10,2,3,4)),axis=(1,2,3)).shape"
   ]
  },
  {
   "cell_type": "code",
   "execution_count": 11,
   "metadata": {},
   "outputs": [
    {
     "data": {
      "text/plain": [
       "array([[[1., 1., 1.],\n",
       "        [1., 1., 1.],\n",
       "        [1., 1., 1.]],\n",
       "\n",
       "       [[1., 1., 1.],\n",
       "        [1., 1., 1.],\n",
       "        [1., 1., 1.]]])"
      ]
     },
     "execution_count": 11,
     "metadata": {},
     "output_type": "execute_result"
    }
   ],
   "source": [
    "np.ones((2,3,3))*np.ones([3,3])"
   ]
  },
  {
   "cell_type": "code",
   "execution_count": 15,
   "metadata": {},
   "outputs": [
    {
     "ename": "ValueError",
     "evalue": "shape-mismatch for sum",
     "output_type": "error",
     "traceback": [
      "\u001b[1;31m---------------------------------------------------------------------------\u001b[0m",
      "\u001b[1;31mValueError\u001b[0m                                Traceback (most recent call last)",
      "\u001b[1;32m<ipython-input-15-915c5fd839b5>\u001b[0m in \u001b[0;36m<module>\u001b[1;34m\u001b[0m\n\u001b[1;32m----> 1\u001b[1;33m \u001b[0mnp\u001b[0m\u001b[1;33m.\u001b[0m\u001b[0mtensordot\u001b[0m\u001b[1;33m(\u001b[0m\u001b[0mA\u001b[0m\u001b[1;33m,\u001b[0m\u001b[0mB\u001b[0m\u001b[1;33m,\u001b[0m\u001b[0maxes\u001b[0m\u001b[1;33m=\u001b[0m\u001b[1;33m[\u001b[0m\u001b[1;36m2\u001b[0m\u001b[1;33m,\u001b[0m\u001b[1;36m1\u001b[0m\u001b[1;33m]\u001b[0m\u001b[1;33m)\u001b[0m\u001b[1;33m.\u001b[0m\u001b[0mshape\u001b[0m\u001b[1;33m\u001b[0m\u001b[1;33m\u001b[0m\u001b[0m\n\u001b[0m",
      "\u001b[1;32m<__array_function__ internals>\u001b[0m in \u001b[0;36mtensordot\u001b[1;34m(*args, **kwargs)\u001b[0m\n",
      "\u001b[1;32m~\\Anaconda3\\envs\\hw6env\\lib\\site-packages\\numpy\\core\\numeric.py\u001b[0m in \u001b[0;36mtensordot\u001b[1;34m(a, b, axes)\u001b[0m\n\u001b[0;32m   1074\u001b[0m                 \u001b[0maxes_b\u001b[0m\u001b[1;33m[\u001b[0m\u001b[0mk\u001b[0m\u001b[1;33m]\u001b[0m \u001b[1;33m+=\u001b[0m \u001b[0mndb\u001b[0m\u001b[1;33m\u001b[0m\u001b[1;33m\u001b[0m\u001b[0m\n\u001b[0;32m   1075\u001b[0m     \u001b[1;32mif\u001b[0m \u001b[1;32mnot\u001b[0m \u001b[0mequal\u001b[0m\u001b[1;33m:\u001b[0m\u001b[1;33m\u001b[0m\u001b[1;33m\u001b[0m\u001b[0m\n\u001b[1;32m-> 1076\u001b[1;33m         \u001b[1;32mraise\u001b[0m \u001b[0mValueError\u001b[0m\u001b[1;33m(\u001b[0m\u001b[1;34m\"shape-mismatch for sum\"\u001b[0m\u001b[1;33m)\u001b[0m\u001b[1;33m\u001b[0m\u001b[1;33m\u001b[0m\u001b[0m\n\u001b[0m\u001b[0;32m   1077\u001b[0m \u001b[1;33m\u001b[0m\u001b[0m\n\u001b[0;32m   1078\u001b[0m     \u001b[1;31m# Move the axes to sum over to the end of \"a\"\u001b[0m\u001b[1;33m\u001b[0m\u001b[1;33m\u001b[0m\u001b[1;33m\u001b[0m\u001b[0m\n",
      "\u001b[1;31mValueError\u001b[0m: shape-mismatch for sum"
     ]
    }
   ],
   "source": [
    "np.tensordot(A,B,axes=[2,1]).shape"
   ]
  },
  {
   "cell_type": "code",
   "execution_count": 18,
   "metadata": {},
   "outputs": [
    {
     "data": {
      "text/plain": [
       "(2, 3, 5, 6, 8)"
      ]
     },
     "execution_count": 18,
     "metadata": {},
     "output_type": "execute_result"
    }
   ],
   "source": [
    "A=np.ones((2,3,7,5))\n",
    "B=np.ones((6,7,8))\n",
    "\n",
    "np.tensordot(A,B,axes=[[2],[1]]).shape"
   ]
  },
  {
   "cell_type": "code",
   "execution_count": 23,
   "metadata": {},
   "outputs": [
    {
     "data": {
      "text/plain": [
       "array([[0., 0., 0.],\n",
       "       [0., 0., 0.],\n",
       "       [1., 1., 1.],\n",
       "       [1., 1., 1.],\n",
       "       [0., 0., 0.]])"
      ]
     },
     "execution_count": 23,
     "metadata": {},
     "output_type": "execute_result"
    }
   ],
   "source": [
    "np.pad(np.ones((2,3)),[(2,1),(0,0)])"
   ]
  },
  {
   "cell_type": "code",
   "execution_count": null,
   "metadata": {},
   "outputs": [],
   "source": [
    "np.im2"
   ]
  },
  {
   "cell_type": "code",
   "execution_count": 12,
   "metadata": {},
   "outputs": [
    {
     "data": {
      "text/plain": [
       "array([[ True,  True,  True,  True],\n",
       "       [ True,  True,  True,  True],\n",
       "       [ True,  True,  True,  True]])"
      ]
     },
     "execution_count": 12,
     "metadata": {},
     "output_type": "execute_result"
    }
   ],
   "source": [
    "(np.array([i for i in range(12)]).reshape((3,4))+np.array([100,200,300,400])!=0)\n"
   ]
  },
  {
   "cell_type": "code",
   "execution_count": 8,
   "metadata": {},
   "outputs": [
    {
     "data": {
      "text/plain": [
       "array([ 312,  615,  918, 1221])"
      ]
     },
     "execution_count": 8,
     "metadata": {},
     "output_type": "execute_result"
    }
   ],
   "source": [
    "np.sum(np.array([i for i in range(12)]).reshape((3,4))+np.array([100,200,300,400]),axis=0)"
   ]
  },
  {
   "cell_type": "code",
   "execution_count": 4,
   "metadata": {},
   "outputs": [
    {
     "name": "stdout",
     "output_type": "stream",
     "text": [
      "10\n",
      "9\n",
      "8\n",
      "7\n",
      "6\n",
      "5\n",
      "4\n",
      "3\n",
      "2\n",
      "1\n",
      "0\n"
     ]
    }
   ],
   "source": [
    "for i in range(10,-1,-1):\n",
    "    print(i)"
   ]
  },
  {
   "cell_type": "code",
   "execution_count": 92,
   "metadata": {},
   "outputs": [
    {
     "data": {
      "text/plain": [
       "'C:\\\\Users\\\\desco\\\\Documents\\\\PythonScripts\\\\CS189\\\\HW6\\\\hw6'"
      ]
     },
     "execution_count": 92,
     "metadata": {},
     "output_type": "execute_result"
    }
   ],
   "source": [
    "os.getcwd()"
   ]
  },
  {
   "cell_type": "code",
   "execution_count": 112,
   "metadata": {},
   "outputs": [
    {
     "ename": "FileNotFoundError",
     "evalue": "[WinError 3] The system cannot find the path specified: 'C:Users\\\\desco\\\\Documents\\\\PythonScripts\\\\CS189\\\\HW6\\\\hw6'",
     "output_type": "error",
     "traceback": [
      "\u001b[1;31m---------------------------------------------------------------------------\u001b[0m",
      "\u001b[1;31mFileNotFoundError\u001b[0m                         Traceback (most recent call last)",
      "\u001b[1;32m~\\Documents\\PythonScripts\\CS189\\HW6\\hw6\\train_ffnn.py\u001b[0m in \u001b[0;36m<module>\u001b[1;34m\u001b[0m\n\u001b[0;32m      1\u001b[0m \u001b[1;32mimport\u001b[0m \u001b[0mos\u001b[0m\u001b[1;33m\u001b[0m\u001b[1;33m\u001b[0m\u001b[0m\n\u001b[1;32m----> 2\u001b[1;33m \u001b[0mos\u001b[0m\u001b[1;33m.\u001b[0m\u001b[0mchdir\u001b[0m\u001b[1;33m(\u001b[0m\u001b[1;34mr\"C:Users\\desco\\Documents\\PythonScripts\\CS189\\HW6\\hw6\"\u001b[0m\u001b[1;33m)\u001b[0m\u001b[1;33m\u001b[0m\u001b[1;33m\u001b[0m\u001b[0m\n\u001b[0m",
      "\u001b[1;31mFileNotFoundError\u001b[0m: [WinError 3] The system cannot find the path specified: 'C:Users\\\\desco\\\\Documents\\\\PythonScripts\\\\CS189\\\\HW6\\\\hw6'"
     ]
    }
   ],
   "source": [
    "import os\n",
    "os.chdir(r\"C:Users\\desco\\Documents\\PythonScripts\\CS189\\HW6\\hw6\")"
   ]
  },
  {
   "cell_type": "code",
   "execution_count": 16,
   "metadata": {},
   "outputs": [
    {
     "name": "stdout",
     "output_type": "stream",
     "text": [
      "Training two_layer_NN neural network on iris with SGD for 25 epochs...\n",
      "Optimizer:\n",
      "{'name': 'SGD', 'lr': 0.01, 'lr_scheduler': 'exponential', 'lr_decay': 0.99, 'stage_length': 1000, 'staircase': False, 'clip_norm': None, 'momentum': 0}\n"
     ]
    },
    {
     "name": "stderr",
     "output_type": "stream",
     "text": [
      "  0%|                                                                                            | 0/3 [00:00<?, ?it/s]\n"
     ]
    },
    {
     "ename": "IndexError",
     "evalue": "too many indices for array",
     "output_type": "error",
     "traceback": [
      "\u001b[1;31m---------------------------------------------------------------------------\u001b[0m",
      "\u001b[1;31mIndexError\u001b[0m                                Traceback (most recent call last)",
      "\u001b[1;32m~\\Documents\\PythonScripts\\CS189\\HW6\\hw6\\train_ffnn.py\u001b[0m in \u001b[0;36m<module>\u001b[1;34m\u001b[0m\n\u001b[0;32m    154\u001b[0m \u001b[0mprint\u001b[0m\u001b[1;33m(\u001b[0m\u001b[0moptimizer_args\u001b[0m\u001b[1;33m)\u001b[0m\u001b[1;33m\u001b[0m\u001b[1;33m\u001b[0m\u001b[0m\n\u001b[0;32m    155\u001b[0m \u001b[1;33m\u001b[0m\u001b[0m\n\u001b[1;32m--> 156\u001b[1;33m \u001b[0mmodel\u001b[0m\u001b[1;33m.\u001b[0m\u001b[0mtrain\u001b[0m\u001b[1;33m(\u001b[0m\u001b[0mdataset\u001b[0m\u001b[1;33m,\u001b[0m \u001b[0mepochs\u001b[0m\u001b[1;33m=\u001b[0m\u001b[0mepochs\u001b[0m\u001b[1;33m)\u001b[0m\u001b[1;33m\u001b[0m\u001b[1;33m\u001b[0m\u001b[0m\n\u001b[0m\u001b[0;32m    157\u001b[0m \u001b[0mmodel\u001b[0m\u001b[1;33m.\u001b[0m\u001b[0mtest\u001b[0m\u001b[1;33m(\u001b[0m\u001b[0mdataset\u001b[0m\u001b[1;33m)\u001b[0m \u001b[1;31m# For Higgs, call test_kaggle() to generate the Kaggle file.\u001b[0m\u001b[1;33m\u001b[0m\u001b[1;33m\u001b[0m\u001b[0m\n",
      "\u001b[1;32m~\\Documents\\PythonScripts\\CS189\\HW6\\hw6\\neural_networks\\models.py\u001b[0m in \u001b[0;36mtrain\u001b[1;34m(self, dataset, epochs)\u001b[0m\n\u001b[0;32m    224\u001b[0m             \u001b[1;31m#for _ in (range(dataset.train.samples_per_epoch)):\u001b[0m\u001b[1;33m\u001b[0m\u001b[1;33m\u001b[0m\u001b[1;33m\u001b[0m\u001b[0m\n\u001b[0;32m    225\u001b[0m                 \u001b[0mX\u001b[0m\u001b[1;33m,\u001b[0m \u001b[0mY\u001b[0m \u001b[1;33m=\u001b[0m \u001b[0mdataset\u001b[0m\u001b[1;33m.\u001b[0m\u001b[0mtrain\u001b[0m\u001b[1;33m.\u001b[0m\u001b[0msample\u001b[0m\u001b[1;33m(\u001b[0m\u001b[1;33m)\u001b[0m\u001b[1;33m\u001b[0m\u001b[1;33m\u001b[0m\u001b[0m\n\u001b[1;32m--> 226\u001b[1;33m                 \u001b[1;31m#X=X[:,:,:10]\u001b[0m\u001b[1;33m\u001b[0m\u001b[1;33m\u001b[0m\u001b[1;33m\u001b[0m\u001b[0m\n\u001b[0m\u001b[0;32m    227\u001b[0m                 \u001b[0mY_hat\u001b[0m \u001b[1;33m=\u001b[0m \u001b[0mself\u001b[0m\u001b[1;33m.\u001b[0m\u001b[0mforward\u001b[0m\u001b[1;33m(\u001b[0m\u001b[0mX\u001b[0m\u001b[1;33m)\u001b[0m\u001b[1;33m\u001b[0m\u001b[1;33m\u001b[0m\u001b[0m\n\u001b[0;32m    228\u001b[0m                 \u001b[0mL\u001b[0m \u001b[1;33m=\u001b[0m \u001b[0mself\u001b[0m\u001b[1;33m.\u001b[0m\u001b[0mbackward\u001b[0m\u001b[1;33m(\u001b[0m\u001b[0mnp\u001b[0m\u001b[1;33m.\u001b[0m\u001b[0marray\u001b[0m\u001b[1;33m(\u001b[0m\u001b[0mY\u001b[0m\u001b[1;33m)\u001b[0m\u001b[1;33m,\u001b[0m \u001b[0mnp\u001b[0m\u001b[1;33m.\u001b[0m\u001b[0marray\u001b[0m\u001b[1;33m(\u001b[0m\u001b[0mY_hat\u001b[0m\u001b[1;33m)\u001b[0m\u001b[1;33m)\u001b[0m\u001b[1;33m\u001b[0m\u001b[1;33m\u001b[0m\u001b[0m\n",
      "\u001b[1;31mIndexError\u001b[0m: too many indices for array"
     ]
    }
   ],
   "source": [
    "%run -i train_ffnn.py\n"
   ]
  },
  {
   "cell_type": "code",
   "execution_count": 25,
   "metadata": {},
   "outputs": [
    {
     "name": "stdout",
     "output_type": "stream",
     "text": [
      "> c:\\users\\desco\\documents\\pythonscripts\\cs189\\hw6\\hw6\\neural_networks\\layers.py(327)forward()\n",
      "    325         ### END YOUR CODE ###\n",
      "    326 \n",
      "--> 327         assert False\n",
      "    328         return self.cache[\"s\"][-1]\n",
      "    329 \n",
      "\n",
      "ipdb> [np.sum(i) for i in self.cache[\"s\"]]\n",
      "[0.0, 72.68352022173502, 85.16362015525769, 78.2438433319684, 73.77307746197872, 70.43715555697662, 67.8852262233919, 68.42031523972074, 67.63311083767397, 64.39692113194559, 57.41477305758558, 48.60993521352417, 40.83140757175296, 33.66922738730746, 27.354514091120897, 22.414103672814296, 19.30888103843506, 19.046232673417602, 20.948307506238407, 24.223205622685306, 29.226241400442525, 34.55403170635367, 41.256970974673166, 48.015075679949604, 53.89928862683606, 57.96315701149959, 60.174668724214285, 60.99652685380136, 61.59799649137127, 62.76265339073174, 64.9078242603761, 68.75224598717585, 73.78001754776241, 75.67123796575767, 76.77494123058082, 79.08412813622161, 77.76323054379245, 75.93941207947196, 72.46575497852166, 69.66585710973533, 66.4563194010492, 60.76883182966422, 52.31461676503128, 43.93750158532849, 36.58093091688583, 29.84079391420343, 24.28459922091075, 20.312020151254387, 18.80009416316507, 19.986071687062996, 22.665355306710893]\n",
      "ipdb> exit()\n"
     ]
    }
   ],
   "source": [
    "%debug"
   ]
  },
  {
   "cell_type": "code",
   "execution_count": 3,
   "metadata": {},
   "outputs": [
    {
     "name": "stdout",
     "output_type": "stream",
     "text": [
      "Training rnnatt1 neural network on sinewave with SGD for 20 epochs...\n",
      "Optimizer:\n",
      "{'name': 'SGD', 'lr': 0.01, 'lr_scheduler': 'exponential', 'lr_decay': 0.99, 'stage_length': 1000, 'staircase': True, 'clip_norm': 1.0, 'momentum': 0}\n"
     ]
    },
    {
     "name": "stderr",
     "output_type": "stream",
     "text": [
      "\r",
      "  0%|                                                                                          | 0/117 [00:00<?, ?it/s]"
     ]
    },
    {
     "name": "stdout",
     "output_type": "stream",
     "text": [
      "85.16362015525769\n",
      "85.94691494854668\n",
      "83.38192547496186\n",
      "79.46616039170152\n",
      "82.89694185870368\n",
      "80.65991061794674\n",
      "81.96643004220482\n",
      "82.65062209727893\n"
     ]
    },
    {
     "name": "stderr",
     "output_type": "stream",
     "text": [
      "\r",
      "  7%|█████▌                                                                            | 8/117 [00:00<00:01, 72.27it/s]"
     ]
    },
    {
     "name": "stdout",
     "output_type": "stream",
     "text": [
      "79.4886096383301\n",
      "78.44008608022483\n",
      "80.31851454082637\n",
      "86.49538699604216\n",
      "83.55273320047695\n",
      "82.29347018688924\n",
      "83.22814019431237\n",
      "83.90458593256277\n",
      "85.0513004656764\n"
     ]
    },
    {
     "name": "stderr",
     "output_type": "stream",
     "text": [
      "\r",
      " 15%|███████████▊                                                                     | 17/117 [00:00<00:01, 74.99it/s]"
     ]
    },
    {
     "name": "stdout",
     "output_type": "stream",
     "text": [
      "79.69664850056482\n",
      "79.87590008431155\n",
      "86.0773786403196\n",
      "82.27951146972752\n",
      "81.401130220082\n",
      "82.09822145947777\n",
      "78.96986704726919\n",
      "84.76806758308216\n",
      "82.39031547160137\n"
     ]
    },
    {
     "name": "stderr",
     "output_type": "stream",
     "text": [
      "\r",
      " 22%|██████████████████                                                               | 26/117 [00:00<00:01, 77.57it/s]"
     ]
    },
    {
     "name": "stdout",
     "output_type": "stream",
     "text": [
      "83.54829440520386\n",
      "82.79161470448264\n",
      "86.65842568202035\n",
      "84.50432355007221\n",
      "86.62086247302472\n",
      "84.28240888097366\n",
      "88.21767317200806\n"
     ]
    },
    {
     "name": "stderr",
     "output_type": "stream",
     "text": [
      "\r",
      " 28%|██████████████████████▊                                                          | 33/117 [00:00<00:01, 74.48it/s]"
     ]
    },
    {
     "name": "stdout",
     "output_type": "stream",
     "text": [
      "80.82979314606418\n",
      "84.07006738025102\n",
      "77.22893686473446\n",
      "83.48335516206137\n",
      "85.18450139505012\n",
      "92.38912359362615\n",
      "80.85239779956422\n"
     ]
    },
    {
     "name": "stderr",
     "output_type": "stream",
     "text": [
      "\r",
      " 34%|███████████████████████████▋                                                     | 40/117 [00:00<00:01, 72.68it/s]"
     ]
    },
    {
     "name": "stdout",
     "output_type": "stream",
     "text": [
      "84.65434121247881\n",
      "84.55941918958933\n",
      "79.8514642147419\n",
      "85.01505432361436\n",
      "84.93258604446288\n",
      "85.29560500475371\n",
      "78.3337606971038\n",
      "79.426096244008\n"
     ]
    },
    {
     "name": "stderr",
     "output_type": "stream",
     "text": [
      "\r",
      " 41%|█████████████████████████████████▏                                               | 48/117 [00:00<00:00, 73.15it/s]"
     ]
    },
    {
     "name": "stdout",
     "output_type": "stream",
     "text": [
      "81.73044165293842\n",
      "84.50500923891897\n",
      "82.23987427701576\n",
      "81.17083888598586\n",
      "84.9612766012603\n",
      "81.43742519039182\n",
      "81.48611256241298\n"
     ]
    },
    {
     "name": "stderr",
     "output_type": "stream",
     "text": [
      "\r",
      " 47%|██████████████████████████████████████                                           | 55/117 [00:00<00:00, 69.66it/s]"
     ]
    },
    {
     "name": "stdout",
     "output_type": "stream",
     "text": [
      "79.60101904781737\n",
      "78.82955002880118\n",
      "83.40670310874509\n",
      "85.16986660566309\n",
      "86.30037118707237\n",
      "87.69006067729111\n",
      "81.72897080760862\n"
     ]
    },
    {
     "name": "stderr",
     "output_type": "stream",
     "text": [
      "\r",
      " 53%|██████████████████████████████████████████▉                                      | 62/117 [00:00<00:00, 66.44it/s]"
     ]
    },
    {
     "name": "stdout",
     "output_type": "stream",
     "text": [
      "82.77454828031377\n",
      "84.25857796187226\n",
      "84.01679125795252\n",
      "83.39808110240486\n",
      "80.6767790910788\n",
      "87.89687376951593\n",
      "87.78168499894832\n"
     ]
    },
    {
     "name": "stderr",
     "output_type": "stream",
     "text": [
      "\r",
      " 59%|███████████████████████████████████████████████▊                                 | 69/117 [00:00<00:00, 66.19it/s]"
     ]
    },
    {
     "name": "stdout",
     "output_type": "stream",
     "text": [
      "81.04870013797984\n",
      "82.12220729160649\n",
      "79.43234637888233\n",
      "85.7112236088752\n",
      "80.71556129105849\n",
      "83.02675268649114\n",
      "84.59465212509619\n"
     ]
    },
    {
     "name": "stderr",
     "output_type": "stream",
     "text": [
      "\r",
      " 65%|████████████████████████████████████████████████████▌                            | 76/117 [00:01<00:00, 66.01it/s]"
     ]
    },
    {
     "name": "stdout",
     "output_type": "stream",
     "text": [
      "85.91636913353126\n",
      "81.40968398867713\n",
      "82.01980947181903\n",
      "85.57993681419649\n",
      "89.37308916350575\n",
      "83.8584723703568\n",
      "80.32044677742228\n"
     ]
    },
    {
     "name": "stderr",
     "output_type": "stream",
     "text": [
      "\r",
      " 71%|█████████████████████████████████████████████████████████▍                       | 83/117 [00:01<00:00, 64.97it/s]"
     ]
    },
    {
     "name": "stdout",
     "output_type": "stream",
     "text": [
      "80.85268237409585\n",
      "82.83455786803157\n",
      "83.93762701662757\n",
      "84.70078518992892\n",
      "87.20720721801219\n",
      "83.24092702707414\n",
      "82.25132796131689\n"
     ]
    },
    {
     "name": "stderr",
     "output_type": "stream",
     "text": [
      "\r",
      " 77%|██████████████████████████████████████████████████████████████▎                  | 90/117 [00:01<00:00, 52.09it/s]"
     ]
    },
    {
     "name": "stdout",
     "output_type": "stream",
     "text": [
      "81.2925255385239\n",
      "87.95615274651931\n",
      "85.71610005849672\n",
      "85.07130484471273\n",
      "82.29721795797211\n",
      "84.10803366358302\n"
     ]
    },
    {
     "name": "stderr",
     "output_type": "stream",
     "text": [
      "\r",
      " 82%|██████████████████████████████████████████████████████████████████▍              | 96/117 [00:01<00:00, 50.08it/s]"
     ]
    },
    {
     "name": "stdout",
     "output_type": "stream",
     "text": [
      "81.86917710864657\n",
      "81.65408267665177\n",
      "83.06527963483992\n",
      "84.63640504882022\n",
      "86.91530147041018\n",
      "82.17625489839648\n"
     ]
    },
    {
     "name": "stderr",
     "output_type": "stream",
     "text": [
      "\r",
      " 87%|█████████████████████████████████████████████████████████████████████▋          | 102/117 [00:01<00:00, 48.17it/s]"
     ]
    },
    {
     "name": "stdout",
     "output_type": "stream",
     "text": [
      "86.10204140084694\n",
      "82.93729084668843\n",
      "81.33406727936193\n",
      "86.56856021019038\n",
      "80.84111095160868\n",
      "82.49588172112652\n"
     ]
    },
    {
     "name": "stderr",
     "output_type": "stream",
     "text": [
      "\r",
      " 92%|█████████████████████████████████████████████████████████████████████████▊      | 108/117 [00:01<00:00, 48.04it/s]"
     ]
    },
    {
     "name": "stdout",
     "output_type": "stream",
     "text": [
      "78.76022420500945\n",
      "82.47742939413507\n",
      "84.87121950666369\n",
      "81.89832814710564\n",
      "87.64276409829853\n"
     ]
    },
    {
     "name": "stderr",
     "output_type": "stream",
     "text": [
      "\r",
      " 97%|█████████████████████████████████████████████████████████████████████████████▎  | 113/117 [00:01<00:00, 48.09it/s]"
     ]
    },
    {
     "name": "stdout",
     "output_type": "stream",
     "text": [
      "80.12513936681258\n",
      "82.21744481692431\n",
      "82.66846577635876\n",
      "55.32025032341503\n"
     ]
    },
    {
     "name": "stderr",
     "output_type": "stream",
     "text": [
      "100%|████████████████████████████████████████████████████████████████████████████████| 117/117 [00:01<00:00, 59.50it/s]\n"
     ]
    },
    {
     "name": "stdout",
     "output_type": "stream",
     "text": [
      "84.58625376110173\n",
      "79.56066624608653\n",
      "86.01274835734043\n",
      "84.51292440304567\n",
      "80.02897748123638\n",
      "82.3118873289923\n",
      "85.25538303280135\n",
      "84.54067286333049\n",
      "84.98905008216478\n",
      "78.99166775564942\n",
      "84.6085862530651\n",
      "82.96247549106931\n",
      "82.20557119393865\n",
      "85.73091661478779\n",
      "84.4441323991172\n",
      "84.04715060878681\n",
      "55.27412452069501\n",
      "Example target: [-0.98873343]\n",
      "Example prediction: [-0.0]\n",
      "Epoch 0 Training Loss: 0.4107 Training Accuracy: 0.5893 Val Loss: 0.4055 Val Accuracy: 0.5945\n"
     ]
    },
    {
     "name": "stderr",
     "output_type": "stream",
     "text": [
      "\r",
      "  0%|                                                                                          | 0/117 [00:00<?, ?it/s]"
     ]
    },
    {
     "name": "stdout",
     "output_type": "stream",
     "text": [
      "84.50114498165274\n",
      "80.95060755478778\n",
      "82.75805248979324\n",
      "83.76220985707414\n",
      "87.20479793316022\n",
      "81.28859835093063\n",
      "83.10372107444113\n",
      "83.53339615538152\n"
     ]
    },
    {
     "name": "stderr",
     "output_type": "stream",
     "text": [
      "\r",
      "  7%|█████▌                                                                            | 8/117 [00:00<00:01, 73.44it/s]"
     ]
    },
    {
     "name": "stdout",
     "output_type": "stream",
     "text": [
      "86.99400405348773\n",
      "82.09933000246542\n",
      "81.67821614812968\n",
      "82.42922206541395\n",
      "84.82489575478232\n",
      "84.71178813295006\n",
      "87.01960286017591\n",
      "83.02286323276769\n",
      "83.90670092924853\n"
     ]
    },
    {
     "name": "stderr",
     "output_type": "stream",
     "text": [
      "\r",
      " 15%|███████████▊                                                                     | 17/117 [00:00<00:01, 75.66it/s]"
     ]
    },
    {
     "name": "stdout",
     "output_type": "stream",
     "text": [
      "80.46692131429077\n",
      "85.56098350250538\n",
      "82.09816904832704\n",
      "83.5390774347532\n",
      "79.61373843862381\n",
      "84.50683786036954\n",
      "78.71994037919676\n",
      "93.52168205024252\n"
     ]
    },
    {
     "name": "stderr",
     "output_type": "stream",
     "text": [
      "\r",
      " 21%|█████████████████▎                                                               | 25/117 [00:00<00:01, 75.59it/s]"
     ]
    },
    {
     "name": "stdout",
     "output_type": "stream",
     "text": [
      "80.60418052037039\n",
      "80.69406597668527\n",
      "80.0867022567869\n",
      "87.25703601731746\n",
      "80.44056693210266\n",
      "81.55628011946567\n"
     ]
    },
    {
     "name": "stderr",
     "output_type": "stream",
     "text": [
      "\r",
      " 26%|█████████████████████▍                                                           | 31/117 [00:00<00:01, 68.51it/s]"
     ]
    },
    {
     "name": "stdout",
     "output_type": "stream",
     "text": [
      "81.52095076306806\n",
      "79.88782914785693\n",
      "86.22884320796814\n",
      "82.02853302934986\n",
      "84.71575520907953\n",
      "82.23978201593323\n",
      "83.26994747888791\n"
     ]
    },
    {
     "name": "stderr",
     "output_type": "stream",
     "text": [
      "\r",
      " 32%|██████████████████████████▎                                                      | 38/117 [00:00<00:01, 67.03it/s]"
     ]
    },
    {
     "name": "stdout",
     "output_type": "stream",
     "text": [
      "85.20497689089869\n",
      "85.0456375067465\n",
      "83.76417498347774\n",
      "82.24608012056045\n",
      "80.29021630288335\n",
      "88.27709104225406\n"
     ]
    },
    {
     "name": "stderr",
     "output_type": "stream",
     "text": [
      "\r",
      " 38%|██████████████████████████████▍                                                  | 44/117 [00:00<00:01, 64.19it/s]"
     ]
    },
    {
     "name": "stdout",
     "output_type": "stream",
     "text": [
      "81.29974097309778\n",
      "80.63968286749308\n",
      "81.27415811261349\n",
      "82.5009478046926\n",
      "89.63626944347699\n",
      "79.99967017663653\n"
     ]
    },
    {
     "name": "stderr",
     "output_type": "stream",
     "text": [
      "\r",
      " 43%|██████████████████████████████████▌                                              | 50/117 [00:00<00:01, 57.18it/s]"
     ]
    },
    {
     "name": "stdout",
     "output_type": "stream",
     "text": [
      "85.23102601168097\n",
      "83.09970770624076\n",
      "79.90133218018988\n",
      "80.31068139149184\n",
      "82.9979355493463\n",
      "84.17644126125617\n",
      "86.96726099468826\n"
     ]
    },
    {
     "name": "stderr",
     "output_type": "stream",
     "text": [
      "\r",
      " 49%|███████████████████████████████████████▍                                         | 57/117 [00:00<00:01, 59.92it/s]"
     ]
    },
    {
     "name": "stdout",
     "output_type": "stream",
     "text": [
      "90.07885065481014\n",
      "82.67147718372809\n",
      "87.47911402740758\n",
      "78.81653092205978\n",
      "83.13783217575562\n",
      "83.83076988032923\n",
      "86.14156404079407\n"
     ]
    },
    {
     "name": "stderr",
     "output_type": "stream",
     "text": [
      "\r",
      " 55%|████████████████████████████████████████████▎                                    | 64/117 [00:00<00:00, 61.84it/s]"
     ]
    },
    {
     "name": "stdout",
     "output_type": "stream",
     "text": [
      "84.88052301637919\n",
      "85.0455358410915\n",
      "79.88425437578834\n",
      "83.40947079852386\n",
      "82.65823701477632\n",
      "84.83316616860932\n",
      "79.66907620003215\n"
     ]
    },
    {
     "name": "stderr",
     "output_type": "stream",
     "text": [
      "\r",
      " 61%|█████████████████████████████████████████████████▏                               | 71/117 [00:01<00:00, 63.14it/s]"
     ]
    },
    {
     "name": "stdout",
     "output_type": "stream",
     "text": [
      "86.28741764949211\n",
      "83.76566555120684\n",
      "83.19460487693925\n",
      "82.6626006697273\n",
      "79.80941062047111\n",
      "81.4308482484843\n",
      "80.25177698768411\n"
     ]
    },
    {
     "name": "stderr",
     "output_type": "stream",
     "text": [
      "\r",
      " 67%|██████████████████████████████████████████████████████                           | 78/117 [00:01<00:00, 58.79it/s]"
     ]
    },
    {
     "name": "stdout",
     "output_type": "stream",
     "text": [
      "81.9618283911093\n",
      "79.15109208037774\n",
      "78.50153294051543\n",
      "83.03690098185042\n",
      "79.73875565851841\n",
      "83.64117392892211\n"
     ]
    },
    {
     "name": "stderr",
     "output_type": "stream",
     "text": [
      "\r",
      " 72%|██████████████████████████████████████████████████████████▏                      | 84/117 [00:01<00:00, 55.28it/s]"
     ]
    },
    {
     "name": "stdout",
     "output_type": "stream",
     "text": [
      "86.11521485739243\n",
      "85.80248107273255\n",
      "80.72731855066667\n",
      "87.309973399381\n",
      "84.70101791430287\n",
      "86.02358136032557\n"
     ]
    },
    {
     "name": "stderr",
     "output_type": "stream",
     "text": [
      "\r",
      " 77%|██████████████████████████████████████████████████████████████▎                  | 90/117 [00:01<00:00, 54.80it/s]"
     ]
    },
    {
     "name": "stdout",
     "output_type": "stream",
     "text": [
      "86.24509177802474\n",
      "84.12723619577281\n",
      "81.11335812565427\n",
      "81.16612442917989\n",
      "81.99178576762841\n",
      "79.00508366793471\n"
     ]
    },
    {
     "name": "stderr",
     "output_type": "stream",
     "text": [
      "\r",
      " 82%|██████████████████████████████████████████████████████████████████▍              | 96/117 [00:01<00:00, 55.21it/s]"
     ]
    },
    {
     "name": "stdout",
     "output_type": "stream",
     "text": [
      "79.94086951822163\n",
      "78.49833818957681\n",
      "84.6523447486689\n",
      "86.12192362081034\n",
      "83.7612088299117\n",
      "80.37352231616141\n"
     ]
    },
    {
     "name": "stderr",
     "output_type": "stream",
     "text": [
      "\r",
      " 87%|█████████████████████████████████████████████████████████████████████▋          | 102/117 [00:01<00:00, 54.31it/s]"
     ]
    },
    {
     "name": "stdout",
     "output_type": "stream",
     "text": [
      "80.74846264623827\n",
      "84.78497163741093\n",
      "81.00076708128802\n",
      "84.25888413335886\n",
      "80.44634958160029\n",
      "84.5047250017895\n"
     ]
    },
    {
     "name": "stderr",
     "output_type": "stream",
     "text": [
      "\r",
      " 92%|█████████████████████████████████████████████████████████████████████████▊      | 108/117 [00:01<00:00, 55.41it/s]"
     ]
    },
    {
     "name": "stdout",
     "output_type": "stream",
     "text": [
      "87.99351736267533\n",
      "82.71421071651812\n",
      "84.49657026939647\n",
      "81.8866659563846\n",
      "82.69819672384682\n",
      "84.23552008601396\n"
     ]
    },
    {
     "name": "stderr",
     "output_type": "stream",
     "text": [
      "\r",
      " 97%|█████████████████████████████████████████████████████████████████████████████▉  | 114/117 [00:01<00:00, 56.44it/s]"
     ]
    },
    {
     "name": "stdout",
     "output_type": "stream",
     "text": [
      "80.35347865207584\n",
      "87.8498986284408\n",
      "54.15409460853536\n"
     ]
    },
    {
     "name": "stderr",
     "output_type": "stream",
     "text": [
      "100%|████████████████████████████████████████████████████████████████████████████████| 117/117 [00:01<00:00, 60.40it/s]\n"
     ]
    },
    {
     "name": "stdout",
     "output_type": "stream",
     "text": [
      "84.75250096485676\n",
      "84.53192335827444\n",
      "85.10115528623808\n",
      "84.49921268086203\n",
      "82.72166176396372\n",
      "80.16279323013445\n",
      "81.04066458305032\n",
      "85.54215253717217\n",
      "81.19865772302444\n",
      "81.77295544679708\n",
      "88.4686083085876\n",
      "81.9447671201831\n",
      "85.36081725972679\n",
      "83.5242114571631\n",
      "81.58296131122401\n",
      "85.81104357488607\n",
      "53.185687195239424\n",
      "Example target: [-0.43937076]\n",
      "Example prediction: [-0.0]\n",
      "Epoch 1 Training Loss: 0.41 Training Accuracy: 0.59 Val Loss: 0.4051 Val Accuracy: 0.5949\n"
     ]
    },
    {
     "name": "stderr",
     "output_type": "stream",
     "text": [
      "\r",
      "  0%|                                                                                          | 0/117 [00:00<?, ?it/s]"
     ]
    },
    {
     "name": "stdout",
     "output_type": "stream",
     "text": [
      "85.2186961471468\n",
      "85.3145309018177\n",
      "79.24546358173592\n",
      "84.80325126213324\n",
      "82.19242537036257\n",
      "83.38727202189693\n",
      "81.5135413517655\n"
     ]
    },
    {
     "name": "stderr",
     "output_type": "stream",
     "text": [
      "\r",
      "  6%|████▉                                                                             | 7/117 [00:00<00:01, 68.75it/s]"
     ]
    },
    {
     "name": "stdout",
     "output_type": "stream",
     "text": [
      "84.46977322419161\n",
      "82.48339086173115\n",
      "78.7361048499279\n",
      "82.65794617031652\n",
      "81.85737108086033\n",
      "86.5395348964394\n",
      "83.18639096414024\n",
      "88.68236431557008\n",
      "80.47390616209734\n"
     ]
    },
    {
     "name": "stderr",
     "output_type": "stream",
     "text": [
      "\r",
      " 14%|███████████                                                                      | 16/117 [00:00<00:01, 72.08it/s]"
     ]
    },
    {
     "name": "stdout",
     "output_type": "stream",
     "text": [
      "86.11568588807376\n",
      "81.90044307537579\n",
      "81.75988193262329\n",
      "79.33913524088248\n",
      "82.92231664024901\n",
      "82.59804372760877\n",
      "86.54492458641332\n",
      "83.77480476673603\n"
     ]
    },
    {
     "name": "stderr",
     "output_type": "stream",
     "text": [
      "\r",
      " 21%|████████████████▌                                                                | 24/117 [00:00<00:01, 73.61it/s]"
     ]
    },
    {
     "name": "stdout",
     "output_type": "stream",
     "text": [
      "86.2010414180996\n",
      "84.65153972414743\n",
      "85.34352235858589\n",
      "82.06118064114742\n",
      "80.46082951822427\n",
      "80.72757436741685\n",
      "85.82791384275727\n",
      "82.33923606725585\n",
      "86.78577563843001\n"
     ]
    },
    {
     "name": "stderr",
     "output_type": "stream",
     "text": [
      "\r",
      " 28%|██████████████████████▊                                                          | 33/117 [00:00<00:01, 75.95it/s]"
     ]
    },
    {
     "name": "stdout",
     "output_type": "stream",
     "text": [
      "81.94776689778779\n",
      "84.3036313613218\n",
      "86.8219337928542\n",
      "80.78621634801432\n",
      "81.9698511720751\n",
      "80.22939184673217\n"
     ]
    },
    {
     "name": "stderr",
     "output_type": "stream",
     "text": [
      "\r",
      " 33%|███████████████████████████                                                      | 39/117 [00:00<00:01, 69.19it/s]"
     ]
    },
    {
     "name": "stdout",
     "output_type": "stream",
     "text": [
      "84.70456589001785\n",
      "86.00117412904103\n",
      "88.04550957137725\n",
      "79.82904524934523\n",
      "84.76328615966219\n",
      "83.4490008445311\n",
      "81.10412741014224\n",
      "79.14049242249703\n"
     ]
    },
    {
     "name": "stderr",
     "output_type": "stream",
     "text": [
      "\r",
      " 40%|████████████████████████████████▌                                                | 47/117 [00:00<00:00, 71.01it/s]"
     ]
    },
    {
     "name": "stdout",
     "output_type": "stream",
     "text": [
      "81.75439248372805\n",
      "81.43221774746526\n",
      "84.6710255693953\n",
      "82.19418879770579\n",
      "87.99264484771642\n",
      "79.19543878199022\n",
      "82.89973978933261\n"
     ]
    },
    {
     "name": "stderr",
     "output_type": "stream",
     "text": [
      "\r",
      " 46%|█████████████████████████████████████▍                                           | 54/117 [00:00<00:00, 67.00it/s]"
     ]
    },
    {
     "name": "stdout",
     "output_type": "stream",
     "text": [
      "80.97815572344348\n",
      "79.99968059243761\n",
      "84.05894746619252\n",
      "81.50683022749233\n",
      "86.67016694611763\n",
      "85.41188999264352\n",
      "80.63146884408508\n",
      "81.90702607010769\n"
     ]
    },
    {
     "name": "stderr",
     "output_type": "stream",
     "text": [
      "\r",
      " 53%|██████████████████████████████████████████▉                                      | 62/117 [00:00<00:00, 68.50it/s]"
     ]
    },
    {
     "name": "stdout",
     "output_type": "stream",
     "text": [
      "79.18593981970679\n",
      "87.81711946063228\n",
      "82.52064051931289\n",
      "83.47622461195326\n",
      "84.93707559188096\n",
      "83.57242847613674\n",
      "81.7555408448952\n"
     ]
    },
    {
     "name": "stderr",
     "output_type": "stream",
     "text": [
      "\r",
      " 59%|███████████████████████████████████████████████▊                                 | 69/117 [00:00<00:00, 68.18it/s]"
     ]
    },
    {
     "name": "stdout",
     "output_type": "stream",
     "text": [
      "80.6199657981191\n",
      "80.86787887446258\n",
      "83.34451050179952\n",
      "85.52223074301381\n",
      "82.08318507859805\n",
      "84.74713112041198\n",
      "83.44911245497829\n"
     ]
    },
    {
     "name": "stderr",
     "output_type": "stream",
     "text": [
      "\r",
      " 65%|████████████████████████████████████████████████████▌                            | 76/117 [00:01<00:00, 66.81it/s]"
     ]
    },
    {
     "name": "stdout",
     "output_type": "stream",
     "text": [
      "83.21376683640622\n",
      "82.65245162972514\n",
      "82.16811764382027\n",
      "80.56935929504743\n",
      "83.62146438473678\n",
      "82.76399754658692\n",
      "82.12404933491243\n"
     ]
    },
    {
     "name": "stderr",
     "output_type": "stream",
     "text": [
      "\r",
      " 71%|█████████████████████████████████████████████████████████▍                       | 83/117 [00:01<00:00, 65.88it/s]"
     ]
    },
    {
     "name": "stdout",
     "output_type": "stream",
     "text": [
      "85.70038229402431\n",
      "82.92996196655017\n",
      "80.93378064705828\n",
      "79.81920147248302\n",
      "84.30082036752155\n",
      "85.43061532660434\n",
      "83.48587489028392\n"
     ]
    },
    {
     "name": "stderr",
     "output_type": "stream",
     "text": [
      "\r",
      " 77%|██████████████████████████████████████████████████████████████▎                  | 90/117 [00:01<00:00, 63.99it/s]"
     ]
    },
    {
     "name": "stdout",
     "output_type": "stream",
     "text": [
      "80.1850266068806\n",
      "85.88472297281494\n",
      "84.17018198206426\n",
      "84.73064976353238\n",
      "81.42538823927521\n",
      "81.51455777308115\n",
      "81.21056129382819\n"
     ]
    },
    {
     "name": "stderr",
     "output_type": "stream",
     "text": [
      "\r",
      " 83%|███████████████████████████████████████████████████████████████████▏             | 97/117 [00:01<00:00, 62.91it/s]"
     ]
    },
    {
     "name": "stdout",
     "output_type": "stream",
     "text": [
      "83.63718388330354\n",
      "80.85692359035775\n",
      "90.70666969822213\n",
      "81.34738499617445\n",
      "85.74605333471281\n",
      "79.37059109540371\n",
      "83.801907193753\n"
     ]
    },
    {
     "name": "stderr",
     "output_type": "stream",
     "text": [
      "\r",
      " 89%|███████████████████████████████████████████████████████████████████████         | 104/117 [00:01<00:00, 62.67it/s]"
     ]
    },
    {
     "name": "stdout",
     "output_type": "stream",
     "text": [
      "83.78586375254686\n",
      "82.46028071206473\n",
      "87.08116227607566\n",
      "81.96932484004745\n",
      "83.10330807408727\n",
      "84.58834234516513\n",
      "83.60310923812999\n"
     ]
    },
    {
     "name": "stderr",
     "output_type": "stream",
     "text": [
      "\r",
      " 95%|███████████████████████████████████████████████████████████████████████████▉    | 111/117 [00:01<00:00, 63.42it/s]"
     ]
    },
    {
     "name": "stdout",
     "output_type": "stream",
     "text": [
      "84.12004093818489\n",
      "80.60356792521107\n",
      "83.74749923498834\n",
      "83.1033342390254\n",
      "82.9155829326038\n",
      "56.81704000405867\n"
     ]
    },
    {
     "name": "stderr",
     "output_type": "stream",
     "text": [
      "100%|████████████████████████████████████████████████████████████████████████████████| 117/117 [00:01<00:00, 67.31it/s]\n"
     ]
    },
    {
     "name": "stdout",
     "output_type": "stream",
     "text": [
      "82.82639804741582\n",
      "80.62772218261316\n",
      "83.39699922957354\n",
      "82.74285201948547\n",
      "84.21533648682563\n",
      "87.33533142119163\n",
      "80.99792813505239\n",
      "81.96784087460001\n",
      "79.91186079128815\n",
      "82.60753433978918\n",
      "85.43670892721805\n",
      "85.47264151576232\n",
      "84.05280741178949\n",
      "82.09404060821203\n",
      "84.2246050320463\n",
      "86.14847290706896\n",
      "55.24834429807805\n",
      "Example target: [-0.00987716]\n",
      "Example prediction: [-0.0]\n",
      "Epoch 2 Training Loss: 0.4099 Training Accuracy: 0.5901 Val Loss: 0.4052 Val Accuracy: 0.5948\n"
     ]
    },
    {
     "name": "stderr",
     "output_type": "stream",
     "text": [
      "\r",
      "  0%|                                                                                          | 0/117 [00:00<?, ?it/s]"
     ]
    },
    {
     "name": "stdout",
     "output_type": "stream",
     "text": [
      "84.39682822407575\n",
      "80.01907789629247\n",
      "80.00554602265899\n",
      "82.24088995808569\n",
      "85.85682575825213\n",
      "82.66474607962165\n",
      "79.16819005413916\n"
     ]
    },
    {
     "name": "stderr",
     "output_type": "stream",
     "text": [
      "\r",
      "  6%|████▉                                                                             | 7/117 [00:00<00:01, 59.99it/s]"
     ]
    },
    {
     "name": "stdout",
     "output_type": "stream",
     "text": [
      "78.57116823914336\n",
      "80.29007253411908\n",
      "83.29766902262641\n",
      "84.90162263568229\n",
      "81.19080614965333\n",
      "80.2826145533771\n",
      "84.2448695427343\n"
     ]
    },
    {
     "name": "stderr",
     "output_type": "stream",
     "text": [
      "\r",
      " 12%|█████████▋                                                                       | 14/117 [00:00<00:01, 62.06it/s]"
     ]
    },
    {
     "name": "stdout",
     "output_type": "stream",
     "text": [
      "83.9671051636351\n",
      "85.13106811879592\n",
      "82.74601308755098\n",
      "81.30391418042393\n",
      "79.22974835997023\n",
      "82.5849907459457\n",
      "81.1609092035473\n"
     ]
    },
    {
     "name": "stderr",
     "output_type": "stream",
     "text": [
      "\r",
      " 18%|██████████████▌                                                                  | 21/117 [00:00<00:01, 63.24it/s]"
     ]
    },
    {
     "name": "stdout",
     "output_type": "stream",
     "text": [
      "81.9307766941119\n",
      "87.09006992037305\n",
      "82.91176523364422\n",
      "82.11807059539898\n",
      "85.61351190207921\n"
     ]
    },
    {
     "name": "stderr",
     "output_type": "stream",
     "text": [
      "\r",
      " 22%|██████████████████                                                               | 26/117 [00:00<00:01, 55.16it/s]"
     ]
    },
    {
     "name": "stdout",
     "output_type": "stream",
     "text": [
      "85.44285993976942\n",
      "85.86457368353489\n",
      "80.93459465002437\n",
      "82.88181097602717\n",
      "79.97098165168296\n",
      "84.70823641119593\n"
     ]
    },
    {
     "name": "stderr",
     "output_type": "stream",
     "text": [
      "\r",
      " 27%|██████████████████████▏                                                          | 32/117 [00:00<00:01, 54.78it/s]"
     ]
    },
    {
     "name": "stdout",
     "output_type": "stream",
     "text": [
      "85.39374818339572\n",
      "83.23814874644003\n",
      "85.57027744225412\n",
      "85.71915234650928\n",
      "84.32565701537948\n",
      "84.48818601047361\n"
     ]
    },
    {
     "name": "stderr",
     "output_type": "stream",
     "text": [
      "\r",
      " 32%|██████████████████████████▎                                                      | 38/117 [00:00<00:01, 52.60it/s]"
     ]
    },
    {
     "name": "stdout",
     "output_type": "stream",
     "text": [
      "84.65277131563471\n",
      "82.26009979611177\n",
      "81.54357316019022\n",
      "80.88695893231775\n",
      "80.15225011286248\n"
     ]
    },
    {
     "name": "stderr",
     "output_type": "stream",
     "text": [
      "\r",
      " 37%|█████████████████████████████▊                                                   | 43/117 [00:00<00:01, 48.24it/s]"
     ]
    },
    {
     "name": "stdout",
     "output_type": "stream",
     "text": [
      "81.662183978582\n",
      "81.97173545699869\n",
      "83.77793672887123\n",
      "83.97835183027021\n",
      "87.19888801568075\n",
      "79.51578944700552\n"
     ]
    },
    {
     "name": "stderr",
     "output_type": "stream",
     "text": [
      "\r",
      " 42%|█████████████████████████████████▉                                               | 49/117 [00:00<00:01, 49.76it/s]"
     ]
    },
    {
     "name": "stdout",
     "output_type": "stream",
     "text": [
      "86.85914065396352\n",
      "85.48358689081766\n",
      "80.54004262342241\n",
      "80.93583839463928\n",
      "80.9476258103726\n",
      "78.99369451851413\n"
     ]
    },
    {
     "name": "stderr",
     "output_type": "stream",
     "text": [
      "\r",
      " 47%|██████████████████████████████████████                                           | 55/117 [00:01<00:01, 50.12it/s]"
     ]
    },
    {
     "name": "stdout",
     "output_type": "stream",
     "text": [
      "83.59144168958986\n",
      "83.07748144897752\n",
      "79.424166692601\n",
      "87.93715227862288\n",
      "82.48556879990305\n"
     ]
    },
    {
     "name": "stderr",
     "output_type": "stream",
     "text": [
      "\r",
      " 51%|█████████████████████████████████████████▌                                       | 60/117 [00:01<00:01, 48.25it/s]"
     ]
    },
    {
     "name": "stdout",
     "output_type": "stream",
     "text": [
      "81.28350347613231\n",
      "81.7367438194891\n",
      "78.48132967583354\n",
      "82.88685072290794\n",
      "82.74363280421414\n",
      "85.33686998077394\n"
     ]
    },
    {
     "name": "stderr",
     "output_type": "stream",
     "text": [
      "\r",
      " 56%|█████████████████████████████████████████████▋                                   | 66/117 [00:01<00:01, 50.01it/s]"
     ]
    },
    {
     "name": "stdout",
     "output_type": "stream",
     "text": [
      "81.80363007450168\n",
      "82.45181545028352\n",
      "79.83893490913854\n",
      "84.11484272743296\n",
      "85.86931720032582\n",
      "83.70095590920906\n"
     ]
    },
    {
     "name": "stderr",
     "output_type": "stream",
     "text": [
      "\r",
      " 62%|█████████████████████████████████████████████████▊                               | 72/117 [00:01<00:00, 50.05it/s]"
     ]
    },
    {
     "name": "stdout",
     "output_type": "stream",
     "text": [
      "84.3635067778159\n",
      "81.65510831314631\n",
      "83.07889657944517\n",
      "84.20291937898602\n",
      "83.26113315931032\n",
      "80.80291861428734\n"
     ]
    },
    {
     "name": "stderr",
     "output_type": "stream",
     "text": [
      "\r",
      " 67%|██████████████████████████████████████████████████████                           | 78/117 [00:01<00:00, 51.62it/s]"
     ]
    },
    {
     "name": "stdout",
     "output_type": "stream",
     "text": [
      "87.65909831671713\n",
      "83.35289291094242\n",
      "79.85200002882752\n",
      "85.7401307139578\n",
      "86.90538695870295\n",
      "84.85769019558909\n"
     ]
    },
    {
     "name": "stderr",
     "output_type": "stream",
     "text": [
      "\r",
      " 72%|██████████████████████████████████████████████████████████▏                      | 84/117 [00:01<00:00, 51.82it/s]"
     ]
    },
    {
     "name": "stdout",
     "output_type": "stream",
     "text": [
      "83.76140598259065\n",
      "82.7378494331616\n",
      "84.2379649696729\n",
      "81.11686033026407\n",
      "87.64318629251011\n",
      "87.66659718746249\n"
     ]
    },
    {
     "name": "stderr",
     "output_type": "stream",
     "text": [
      "\r",
      " 77%|██████████████████████████████████████████████████████████████▎                  | 90/117 [00:01<00:00, 46.01it/s]"
     ]
    },
    {
     "name": "stdout",
     "output_type": "stream",
     "text": [
      "83.32727086824934\n",
      "85.13290985438185\n",
      "80.4845444634088\n",
      "81.31186612361965\n",
      "81.2706063187604\n"
     ]
    },
    {
     "name": "stderr",
     "output_type": "stream",
     "text": [
      "\r",
      " 81%|█████████████████████████████████████████████████████████████████▊               | 95/117 [00:01<00:00, 47.04it/s]"
     ]
    },
    {
     "name": "stdout",
     "output_type": "stream",
     "text": [
      "81.71373238191549\n",
      "83.88124595594891\n",
      "84.78521526793855\n",
      "81.25469113132993\n",
      "85.30400341547666\n",
      "87.08190987074107\n"
     ]
    },
    {
     "name": "stderr",
     "output_type": "stream",
     "text": [
      "\r",
      " 86%|█████████████████████████████████████████████████████████████████████           | 101/117 [00:01<00:00, 49.71it/s]"
     ]
    },
    {
     "name": "stdout",
     "output_type": "stream",
     "text": [
      "80.44016054276113\n",
      "83.36777892948214\n",
      "89.09988552388288\n",
      "83.4650761741848\n",
      "84.08106817378803\n",
      "87.43387729865739\n"
     ]
    },
    {
     "name": "stderr",
     "output_type": "stream",
     "text": [
      "\r",
      " 91%|█████████████████████████████████████████████████████████████████████████▏      | 107/117 [00:02<00:00, 51.11it/s]"
     ]
    },
    {
     "name": "stdout",
     "output_type": "stream",
     "text": [
      "83.92221054325583\n",
      "80.64653712765926\n",
      "82.56841332005882\n",
      "83.08947318011717\n",
      "83.23641767263223\n",
      "83.416431692657\n"
     ]
    },
    {
     "name": "stderr",
     "output_type": "stream",
     "text": [
      "\r",
      " 97%|█████████████████████████████████████████████████████████████████████████████▎  | 113/117 [00:02<00:00, 53.24it/s]"
     ]
    },
    {
     "name": "stdout",
     "output_type": "stream",
     "text": [
      "87.78556241444043\n",
      "85.539912733206\n",
      "82.54078327753038\n",
      "57.5748536581837\n"
     ]
    },
    {
     "name": "stderr",
     "output_type": "stream",
     "text": [
      "100%|████████████████████████████████████████████████████████████████████████████████| 117/117 [00:02<00:00, 52.38it/s]\n"
     ]
    },
    {
     "name": "stdout",
     "output_type": "stream",
     "text": [
      "79.34620158711219\n",
      "80.2080771577175\n",
      "86.9542857386082\n",
      "85.62909166981211\n",
      "82.63429373580183\n",
      "87.38192743020846\n",
      "83.90071861411063\n",
      "85.87553685114962\n",
      "83.65068730019297\n",
      "81.18557648756695\n",
      "81.27326573867597\n",
      "79.45536478027408\n",
      "80.82450430497718\n",
      "85.64700049757087\n",
      "81.81034137880042\n",
      "83.28079090671955\n",
      "61.118751675690305\n",
      "Example target: [-0.75731318]\n",
      "Example prediction: [-0.0]\n",
      "Epoch 3 Training Loss: 0.4101 Training Accuracy: 0.5899 Val Loss: 0.4034 Val Accuracy: 0.5966\n"
     ]
    },
    {
     "name": "stderr",
     "output_type": "stream",
     "text": [
      "\r",
      "  0%|                                                                                          | 0/117 [00:00<?, ?it/s]"
     ]
    },
    {
     "name": "stdout",
     "output_type": "stream",
     "text": [
      "87.28570863124924\n",
      "85.8291983869778\n",
      "78.2013371948393\n",
      "86.65442724178304\n",
      "82.99385809936126\n",
      "80.73062475282185\n",
      "86.49524476506585\n",
      "84.72173530045585\n",
      "81.99832315911067\n"
     ]
    },
    {
     "name": "stderr",
     "output_type": "stream",
     "text": [
      "\r",
      "  8%|██████▎                                                                           | 9/117 [00:00<00:01, 82.03it/s]"
     ]
    },
    {
     "name": "stdout",
     "output_type": "stream",
     "text": [
      "80.15553298001699\n",
      "82.54914100550434\n",
      "82.80876751517708\n",
      "83.03736611439149\n",
      "84.90267504625822\n",
      "79.3654148754515\n",
      "84.16197216552813\n",
      "83.2193377979978\n"
     ]
    },
    {
     "name": "stderr",
     "output_type": "stream",
     "text": [
      "\r",
      " 15%|███████████▊                                                                     | 17/117 [00:00<00:01, 80.74it/s]"
     ]
    },
    {
     "name": "stdout",
     "output_type": "stream",
     "text": [
      "77.50822859693612\n",
      "83.09637888325113\n",
      "84.98973057900685\n",
      "84.68344354942052\n",
      "79.98329618254027\n",
      "79.83965494038151\n",
      "78.90257521748497\n",
      "80.69069441376273\n"
     ]
    },
    {
     "name": "stderr",
     "output_type": "stream",
     "text": [
      "\r",
      " 21%|█████████████████▎                                                               | 25/117 [00:00<00:01, 78.44it/s]"
     ]
    },
    {
     "name": "stdout",
     "output_type": "stream",
     "text": [
      "80.7415454973229\n",
      "87.05809787926512\n",
      "84.07615278541545\n",
      "87.00062858690987\n",
      "82.2939085442172\n",
      "82.75330143732157\n",
      "83.97263188157311\n",
      "86.72478322764383\n"
     ]
    },
    {
     "name": "stderr",
     "output_type": "stream",
     "text": [
      "\r",
      " 28%|██████████████████████▊                                                          | 33/117 [00:00<00:01, 75.83it/s]"
     ]
    },
    {
     "name": "stdout",
     "output_type": "stream",
     "text": [
      "83.41793183157861\n",
      "80.97714870908105\n",
      "81.53219354314223\n",
      "80.83431232241671\n",
      "80.79231572846872\n",
      "85.40076612772754\n"
     ]
    },
    {
     "name": "stderr",
     "output_type": "stream",
     "text": [
      "\r",
      " 33%|███████████████████████████                                                      | 39/117 [00:00<00:01, 69.83it/s]"
     ]
    },
    {
     "name": "stdout",
     "output_type": "stream",
     "text": [
      "80.0373735659266\n",
      "80.57801479072334\n",
      "82.05133215992291\n",
      "82.85365146397922\n",
      "82.24059088958494\n",
      "85.92892318658008\n",
      "83.85457266000836\n"
     ]
    },
    {
     "name": "stderr",
     "output_type": "stream",
     "text": [
      "\r",
      " 39%|███████████████████████████████▊                                                 | 46/117 [00:00<00:01, 67.32it/s]"
     ]
    },
    {
     "name": "stdout",
     "output_type": "stream",
     "text": [
      "83.42092870366001\n",
      "82.49372453959995\n",
      "83.85938847275571\n",
      "80.88902814219804\n",
      "82.12141165912695\n",
      "80.89803911051743\n",
      "86.36337194599237\n"
     ]
    },
    {
     "name": "stderr",
     "output_type": "stream",
     "text": [
      "\r",
      " 45%|████████████████████████████████████▋                                            | 53/117 [00:00<00:00, 65.30it/s]"
     ]
    },
    {
     "name": "stdout",
     "output_type": "stream",
     "text": [
      "80.40284176905595\n",
      "82.88116826371656\n",
      "78.12205133608393\n",
      "80.93118486754382\n",
      "81.08431034132472\n",
      "81.25699900148169\n",
      "81.37357237331905\n"
     ]
    },
    {
     "name": "stderr",
     "output_type": "stream",
     "text": [
      "\r",
      " 51%|█████████████████████████████████████████▌                                       | 60/117 [00:00<00:00, 65.20it/s]"
     ]
    },
    {
     "name": "stdout",
     "output_type": "stream",
     "text": [
      "84.15572970183274\n",
      "80.48437091879157\n",
      "82.19920875171812\n",
      "82.35519859356762\n",
      "87.12298062691158\n",
      "81.9177977914317\n",
      "87.15851573691054\n"
     ]
    },
    {
     "name": "stderr",
     "output_type": "stream",
     "text": [
      "\r",
      " 57%|██████████████████████████████████████████████▍                                  | 67/117 [00:00<00:00, 65.13it/s]"
     ]
    },
    {
     "name": "stdout",
     "output_type": "stream",
     "text": [
      "86.04432658622318\n",
      "85.38070438921326\n",
      "80.31932540586621\n",
      "83.60970786993107\n",
      "81.60382658281638\n",
      "81.89505623923425\n",
      "82.312947984573\n"
     ]
    },
    {
     "name": "stderr",
     "output_type": "stream",
     "text": [
      "\r",
      " 63%|███████████████████████████████████████████████████▏                             | 74/117 [00:01<00:00, 64.37it/s]"
     ]
    },
    {
     "name": "stdout",
     "output_type": "stream",
     "text": [
      "82.62221085950367\n",
      "85.11568186833867\n",
      "85.52482930815769\n",
      "82.55498236032687\n",
      "85.51188299410131\n",
      "85.28767257724625\n",
      "86.9622079895801\n"
     ]
    },
    {
     "name": "stderr",
     "output_type": "stream",
     "text": [
      "\r",
      " 69%|████████████████████████████████████████████████████████                         | 81/117 [00:01<00:00, 62.66it/s]"
     ]
    },
    {
     "name": "stdout",
     "output_type": "stream",
     "text": [
      "83.22480616717684\n",
      "81.11243759671737\n",
      "84.97104442620179\n",
      "89.61313085902123\n",
      "82.20929050158453\n",
      "83.52490448465913\n",
      "81.89133501683847\n"
     ]
    },
    {
     "name": "stderr",
     "output_type": "stream",
     "text": [
      "\r",
      " 75%|████████████████████████████████████████████████████████████▉                    | 88/117 [00:01<00:00, 60.15it/s]"
     ]
    },
    {
     "name": "stdout",
     "output_type": "stream",
     "text": [
      "83.40308762608464\n",
      "83.4439283245799\n",
      "87.21470294445211\n",
      "84.22443515285916\n",
      "85.03293299319492\n",
      "82.9755997423223\n"
     ]
    },
    {
     "name": "stderr",
     "output_type": "stream",
     "text": [
      "\r",
      " 80%|█████████████████████████████████████████████████████████████████                | 94/117 [00:01<00:00, 58.92it/s]"
     ]
    },
    {
     "name": "stdout",
     "output_type": "stream",
     "text": [
      "85.22205617035038\n",
      "86.4459141222864\n",
      "88.653348219392\n",
      "81.84959967719448\n",
      "80.40496845124949\n",
      "81.34914566656428\n"
     ]
    },
    {
     "name": "stderr",
     "output_type": "stream",
     "text": [
      "\r",
      " 85%|████████████████████████████████████████████████████████████████████▍           | 100/117 [00:01<00:00, 57.41it/s]"
     ]
    },
    {
     "name": "stdout",
     "output_type": "stream",
     "text": [
      "84.66798917790669\n",
      "81.8439468753084\n",
      "86.29726348989395\n",
      "86.26395062569156\n",
      "83.06965503048963\n",
      "89.75050810051756\n"
     ]
    },
    {
     "name": "stderr",
     "output_type": "stream",
     "text": [
      "\r",
      " 91%|████████████████████████████████████████████████████████████████████████▍       | 106/117 [00:01<00:00, 57.37it/s]"
     ]
    },
    {
     "name": "stdout",
     "output_type": "stream",
     "text": [
      "82.26080863237404\n",
      "85.77888563424824\n",
      "81.74132124594225\n",
      "84.28618954178586\n",
      "79.15402048654056\n",
      "84.67321058022848\n",
      "82.5294085584576\n"
     ]
    },
    {
     "name": "stderr",
     "output_type": "stream",
     "text": [
      "\r",
      " 97%|█████████████████████████████████████████████████████████████████████████████▎  | 113/117 [00:01<00:00, 58.57it/s]"
     ]
    },
    {
     "name": "stdout",
     "output_type": "stream",
     "text": [
      "85.17059437309601\n",
      "84.89928925310109\n",
      "83.3236736747817\n",
      "52.16237198178837\n"
     ]
    },
    {
     "name": "stderr",
     "output_type": "stream",
     "text": [
      "100%|████████████████████████████████████████████████████████████████████████████████| 117/117 [00:01<00:00, 63.49it/s]\n"
     ]
    },
    {
     "name": "stdout",
     "output_type": "stream",
     "text": [
      "86.35105084691095\n",
      "88.66314055527957\n",
      "82.1421909328846\n",
      "83.0504066829431\n",
      "81.65487014218273\n",
      "81.45811693063365\n"
     ]
    },
    {
     "ename": "KeyboardInterrupt",
     "evalue": "",
     "output_type": "error",
     "traceback": [
      "\u001b[1;31m---------------------------------------------------------------------------\u001b[0m",
      "\u001b[1;31mKeyboardInterrupt\u001b[0m                         Traceback (most recent call last)",
      "\u001b[1;32m~\\Documents\\PythonScripts\\CS189\\HW6\\hw6\\train_rnn.py\u001b[0m in \u001b[0;36m<module>\u001b[1;34m\u001b[0m\n\u001b[0;32m    155\u001b[0m \u001b[0mprint\u001b[0m\u001b[1;33m(\u001b[0m\u001b[0moptimizer_args\u001b[0m\u001b[1;33m)\u001b[0m\u001b[1;33m\u001b[0m\u001b[1;33m\u001b[0m\u001b[0m\n\u001b[0;32m    156\u001b[0m \u001b[1;33m\u001b[0m\u001b[0m\n\u001b[1;32m--> 157\u001b[1;33m \u001b[0mmodel\u001b[0m\u001b[1;33m.\u001b[0m\u001b[0mtrain\u001b[0m\u001b[1;33m(\u001b[0m\u001b[0mdataset\u001b[0m\u001b[1;33m,\u001b[0m \u001b[0mepochs\u001b[0m\u001b[1;33m=\u001b[0m\u001b[0mepochs\u001b[0m\u001b[1;33m)\u001b[0m\u001b[1;33m\u001b[0m\u001b[1;33m\u001b[0m\u001b[0m\n\u001b[0m\u001b[0;32m    158\u001b[0m \u001b[0mmodel\u001b[0m\u001b[1;33m.\u001b[0m\u001b[0mtest\u001b[0m\u001b[1;33m(\u001b[0m\u001b[0mdataset\u001b[0m\u001b[1;33m)\u001b[0m\u001b[1;33m\u001b[0m\u001b[1;33m\u001b[0m\u001b[0m\n",
      "\u001b[1;32m~\\Documents\\PythonScripts\\CS189\\HW6\\hw6\\neural_networks\\models.py\u001b[0m in \u001b[0;36mtrain\u001b[1;34m(self, dataset, epochs)\u001b[0m\n\u001b[0;32m    249\u001b[0m             \u001b[1;32mfor\u001b[0m \u001b[0m_\u001b[0m \u001b[1;32min\u001b[0m \u001b[0mrange\u001b[0m\u001b[1;33m(\u001b[0m\u001b[0mdataset\u001b[0m\u001b[1;33m.\u001b[0m\u001b[0mvalidate\u001b[0m\u001b[1;33m.\u001b[0m\u001b[0msamples_per_epoch\u001b[0m\u001b[1;33m)\u001b[0m\u001b[1;33m:\u001b[0m\u001b[1;33m\u001b[0m\u001b[1;33m\u001b[0m\u001b[0m\n\u001b[0;32m    250\u001b[0m                 \u001b[0mX\u001b[0m\u001b[1;33m,\u001b[0m \u001b[0mY\u001b[0m \u001b[1;33m=\u001b[0m \u001b[0mdataset\u001b[0m\u001b[1;33m.\u001b[0m\u001b[0mvalidate\u001b[0m\u001b[1;33m.\u001b[0m\u001b[0msample\u001b[0m\u001b[1;33m(\u001b[0m\u001b[1;33m)\u001b[0m\u001b[1;33m\u001b[0m\u001b[1;33m\u001b[0m\u001b[0m\n\u001b[1;32m--> 251\u001b[1;33m                 \u001b[0mY_hat\u001b[0m \u001b[1;33m=\u001b[0m \u001b[0mself\u001b[0m\u001b[1;33m.\u001b[0m\u001b[0mforward\u001b[0m\u001b[1;33m(\u001b[0m\u001b[0mX\u001b[0m\u001b[1;33m)\u001b[0m\u001b[1;33m\u001b[0m\u001b[1;33m\u001b[0m\u001b[0m\n\u001b[0m\u001b[0;32m    252\u001b[0m                 \u001b[0mL\u001b[0m \u001b[1;33m=\u001b[0m \u001b[0mself\u001b[0m\u001b[1;33m.\u001b[0m\u001b[0mloss\u001b[0m\u001b[1;33m.\u001b[0m\u001b[0mforward\u001b[0m\u001b[1;33m(\u001b[0m\u001b[0mY\u001b[0m\u001b[1;33m,\u001b[0m \u001b[0mY_hat\u001b[0m\u001b[1;33m)\u001b[0m\u001b[1;33m\u001b[0m\u001b[1;33m\u001b[0m\u001b[0m\n\u001b[0;32m    253\u001b[0m                 \u001b[0merror\u001b[0m \u001b[1;33m=\u001b[0m \u001b[0mself\u001b[0m\u001b[1;33m.\u001b[0m\u001b[0merror\u001b[0m\u001b[1;33m(\u001b[0m\u001b[0mY\u001b[0m\u001b[1;33m,\u001b[0m \u001b[0mY_hat\u001b[0m\u001b[1;33m)\u001b[0m\u001b[1;33m\u001b[0m\u001b[1;33m\u001b[0m\u001b[0m\n",
      "\u001b[1;32m~\\Documents\\PythonScripts\\CS189\\HW6\\hw6\\neural_networks\\models.py\u001b[0m in \u001b[0;36mforward\u001b[1;34m(self, X)\u001b[0m\n\u001b[0;32m    102\u001b[0m         \u001b[0mtemp\u001b[0m\u001b[1;33m=\u001b[0m\u001b[0mnp\u001b[0m\u001b[1;33m.\u001b[0m\u001b[0mcopy\u001b[0m\u001b[1;33m(\u001b[0m\u001b[0mX\u001b[0m\u001b[1;33m)\u001b[0m\u001b[1;33m\u001b[0m\u001b[1;33m\u001b[0m\u001b[0m\n\u001b[0;32m    103\u001b[0m         \u001b[1;32mfor\u001b[0m \u001b[0mlayer\u001b[0m \u001b[1;32min\u001b[0m \u001b[0mself\u001b[0m\u001b[1;33m.\u001b[0m\u001b[0mlayers\u001b[0m\u001b[1;33m:\u001b[0m\u001b[1;33m\u001b[0m\u001b[1;33m\u001b[0m\u001b[0m\n\u001b[1;32m--> 104\u001b[1;33m             \u001b[0mtemp\u001b[0m\u001b[1;33m=\u001b[0m\u001b[0mlayer\u001b[0m\u001b[1;33m.\u001b[0m\u001b[0mforward\u001b[0m\u001b[1;33m(\u001b[0m\u001b[0mtemp\u001b[0m\u001b[1;33m)\u001b[0m\u001b[1;33m\u001b[0m\u001b[1;33m\u001b[0m\u001b[0m\n\u001b[0m\u001b[0;32m    105\u001b[0m         \u001b[1;32mreturn\u001b[0m \u001b[0mtemp\u001b[0m\u001b[1;33m\u001b[0m\u001b[1;33m\u001b[0m\u001b[0m\n\u001b[0;32m    106\u001b[0m \u001b[1;33m\u001b[0m\u001b[0m\n",
      "\u001b[1;32m~\\Documents\\PythonScripts\\CS189\\HW6\\hw6\\neural_networks\\layers.py\u001b[0m in \u001b[0;36mforward\u001b[1;34m(self, X)\u001b[0m\n\u001b[0;32m    325\u001b[0m         \u001b[1;31m### END YOUR CODE ###\u001b[0m\u001b[1;33m\u001b[0m\u001b[1;33m\u001b[0m\u001b[1;33m\u001b[0m\u001b[0m\n\u001b[0;32m    326\u001b[0m \u001b[1;33m\u001b[0m\u001b[0m\n\u001b[1;32m--> 327\u001b[1;33m         \u001b[0mprint\u001b[0m\u001b[1;33m(\u001b[0m\u001b[1;34m\"her\"\u001b[0m\u001b[1;33m)\u001b[0m\u001b[1;33m\u001b[0m\u001b[1;33m\u001b[0m\u001b[0m\n\u001b[0m\u001b[0;32m    328\u001b[0m         \u001b[0mprint\u001b[0m\u001b[1;33m(\u001b[0m\u001b[0mnp\u001b[0m\u001b[1;33m.\u001b[0m\u001b[0mmin\u001b[0m\u001b[1;33m(\u001b[0m\u001b[0mnp\u001b[0m\u001b[1;33m.\u001b[0m\u001b[0marray\u001b[0m\u001b[1;33m(\u001b[0m\u001b[1;33m[\u001b[0m\u001b[0mnp\u001b[0m\u001b[1;33m.\u001b[0m\u001b[0msum\u001b[0m\u001b[1;33m(\u001b[0m\u001b[0mi\u001b[0m\u001b[1;33m)\u001b[0m \u001b[1;32mfor\u001b[0m \u001b[0mi\u001b[0m \u001b[1;32min\u001b[0m \u001b[0mself\u001b[0m\u001b[1;33m.\u001b[0m\u001b[0mcache\u001b[0m\u001b[1;33m[\u001b[0m\u001b[1;34m\"s\"\u001b[0m\u001b[1;33m]\u001b[0m\u001b[1;33m]\u001b[0m\u001b[1;33m)\u001b[0m\u001b[1;33m)\u001b[0m\u001b[1;33m)\u001b[0m\u001b[1;33m\u001b[0m\u001b[1;33m\u001b[0m\u001b[0m\n\u001b[0;32m    329\u001b[0m         \u001b[1;32mreturn\u001b[0m \u001b[0mself\u001b[0m\u001b[1;33m.\u001b[0m\u001b[0mcache\u001b[0m\u001b[1;33m[\u001b[0m\u001b[1;34m\"s\"\u001b[0m\u001b[1;33m]\u001b[0m\u001b[1;33m[\u001b[0m\u001b[1;33m-\u001b[0m\u001b[1;36m1\u001b[0m\u001b[1;33m]\u001b[0m\u001b[1;33m\u001b[0m\u001b[1;33m\u001b[0m\u001b[0m\n",
      "\u001b[1;32m~\\AppData\\Roaming\\Python\\Python36\\site-packages\\colorama\\ansitowin32.py\u001b[0m in \u001b[0;36mwrite\u001b[1;34m(self, text)\u001b[0m\n\u001b[0;32m     39\u001b[0m \u001b[1;33m\u001b[0m\u001b[0m\n\u001b[0;32m     40\u001b[0m     \u001b[1;32mdef\u001b[0m \u001b[0mwrite\u001b[0m\u001b[1;33m(\u001b[0m\u001b[0mself\u001b[0m\u001b[1;33m,\u001b[0m \u001b[0mtext\u001b[0m\u001b[1;33m)\u001b[0m\u001b[1;33m:\u001b[0m\u001b[1;33m\u001b[0m\u001b[1;33m\u001b[0m\u001b[0m\n\u001b[1;32m---> 41\u001b[1;33m         \u001b[0mself\u001b[0m\u001b[1;33m.\u001b[0m\u001b[0m__convertor\u001b[0m\u001b[1;33m.\u001b[0m\u001b[0mwrite\u001b[0m\u001b[1;33m(\u001b[0m\u001b[0mtext\u001b[0m\u001b[1;33m)\u001b[0m\u001b[1;33m\u001b[0m\u001b[1;33m\u001b[0m\u001b[0m\n\u001b[0m\u001b[0;32m     42\u001b[0m \u001b[1;33m\u001b[0m\u001b[0m\n\u001b[0;32m     43\u001b[0m     \u001b[1;32mdef\u001b[0m \u001b[0misatty\u001b[0m\u001b[1;33m(\u001b[0m\u001b[0mself\u001b[0m\u001b[1;33m)\u001b[0m\u001b[1;33m:\u001b[0m\u001b[1;33m\u001b[0m\u001b[1;33m\u001b[0m\u001b[0m\n",
      "\u001b[1;32m~\\AppData\\Roaming\\Python\\Python36\\site-packages\\colorama\\ansitowin32.py\u001b[0m in \u001b[0;36mwrite\u001b[1;34m(self, text)\u001b[0m\n\u001b[0;32m    160\u001b[0m     \u001b[1;32mdef\u001b[0m \u001b[0mwrite\u001b[0m\u001b[1;33m(\u001b[0m\u001b[0mself\u001b[0m\u001b[1;33m,\u001b[0m \u001b[0mtext\u001b[0m\u001b[1;33m)\u001b[0m\u001b[1;33m:\u001b[0m\u001b[1;33m\u001b[0m\u001b[1;33m\u001b[0m\u001b[0m\n\u001b[0;32m    161\u001b[0m         \u001b[1;32mif\u001b[0m \u001b[0mself\u001b[0m\u001b[1;33m.\u001b[0m\u001b[0mstrip\u001b[0m \u001b[1;32mor\u001b[0m \u001b[0mself\u001b[0m\u001b[1;33m.\u001b[0m\u001b[0mconvert\u001b[0m\u001b[1;33m:\u001b[0m\u001b[1;33m\u001b[0m\u001b[1;33m\u001b[0m\u001b[0m\n\u001b[1;32m--> 162\u001b[1;33m             \u001b[0mself\u001b[0m\u001b[1;33m.\u001b[0m\u001b[0mwrite_and_convert\u001b[0m\u001b[1;33m(\u001b[0m\u001b[0mtext\u001b[0m\u001b[1;33m)\u001b[0m\u001b[1;33m\u001b[0m\u001b[1;33m\u001b[0m\u001b[0m\n\u001b[0m\u001b[0;32m    163\u001b[0m         \u001b[1;32melse\u001b[0m\u001b[1;33m:\u001b[0m\u001b[1;33m\u001b[0m\u001b[1;33m\u001b[0m\u001b[0m\n\u001b[0;32m    164\u001b[0m             \u001b[0mself\u001b[0m\u001b[1;33m.\u001b[0m\u001b[0mwrapped\u001b[0m\u001b[1;33m.\u001b[0m\u001b[0mwrite\u001b[0m\u001b[1;33m(\u001b[0m\u001b[0mtext\u001b[0m\u001b[1;33m)\u001b[0m\u001b[1;33m\u001b[0m\u001b[1;33m\u001b[0m\u001b[0m\n",
      "\u001b[1;32m~\\AppData\\Roaming\\Python\\Python36\\site-packages\\colorama\\ansitowin32.py\u001b[0m in \u001b[0;36mwrite_and_convert\u001b[1;34m(self, text)\u001b[0m\n\u001b[0;32m    188\u001b[0m             \u001b[0mself\u001b[0m\u001b[1;33m.\u001b[0m\u001b[0mconvert_ansi\u001b[0m\u001b[1;33m(\u001b[0m\u001b[1;33m*\u001b[0m\u001b[0mmatch\u001b[0m\u001b[1;33m.\u001b[0m\u001b[0mgroups\u001b[0m\u001b[1;33m(\u001b[0m\u001b[1;33m)\u001b[0m\u001b[1;33m)\u001b[0m\u001b[1;33m\u001b[0m\u001b[1;33m\u001b[0m\u001b[0m\n\u001b[0;32m    189\u001b[0m             \u001b[0mcursor\u001b[0m \u001b[1;33m=\u001b[0m \u001b[0mend\u001b[0m\u001b[1;33m\u001b[0m\u001b[1;33m\u001b[0m\u001b[0m\n\u001b[1;32m--> 190\u001b[1;33m         \u001b[0mself\u001b[0m\u001b[1;33m.\u001b[0m\u001b[0mwrite_plain_text\u001b[0m\u001b[1;33m(\u001b[0m\u001b[0mtext\u001b[0m\u001b[1;33m,\u001b[0m \u001b[0mcursor\u001b[0m\u001b[1;33m,\u001b[0m \u001b[0mlen\u001b[0m\u001b[1;33m(\u001b[0m\u001b[0mtext\u001b[0m\u001b[1;33m)\u001b[0m\u001b[1;33m)\u001b[0m\u001b[1;33m\u001b[0m\u001b[1;33m\u001b[0m\u001b[0m\n\u001b[0m\u001b[0;32m    191\u001b[0m \u001b[1;33m\u001b[0m\u001b[0m\n\u001b[0;32m    192\u001b[0m \u001b[1;33m\u001b[0m\u001b[0m\n",
      "\u001b[1;32m~\\AppData\\Roaming\\Python\\Python36\\site-packages\\colorama\\ansitowin32.py\u001b[0m in \u001b[0;36mwrite_plain_text\u001b[1;34m(self, text, start, end)\u001b[0m\n\u001b[0;32m    194\u001b[0m         \u001b[1;32mif\u001b[0m \u001b[0mstart\u001b[0m \u001b[1;33m<\u001b[0m \u001b[0mend\u001b[0m\u001b[1;33m:\u001b[0m\u001b[1;33m\u001b[0m\u001b[1;33m\u001b[0m\u001b[0m\n\u001b[0;32m    195\u001b[0m             \u001b[0mself\u001b[0m\u001b[1;33m.\u001b[0m\u001b[0mwrapped\u001b[0m\u001b[1;33m.\u001b[0m\u001b[0mwrite\u001b[0m\u001b[1;33m(\u001b[0m\u001b[0mtext\u001b[0m\u001b[1;33m[\u001b[0m\u001b[0mstart\u001b[0m\u001b[1;33m:\u001b[0m\u001b[0mend\u001b[0m\u001b[1;33m]\u001b[0m\u001b[1;33m)\u001b[0m\u001b[1;33m\u001b[0m\u001b[1;33m\u001b[0m\u001b[0m\n\u001b[1;32m--> 196\u001b[1;33m             \u001b[0mself\u001b[0m\u001b[1;33m.\u001b[0m\u001b[0mwrapped\u001b[0m\u001b[1;33m.\u001b[0m\u001b[0mflush\u001b[0m\u001b[1;33m(\u001b[0m\u001b[1;33m)\u001b[0m\u001b[1;33m\u001b[0m\u001b[1;33m\u001b[0m\u001b[0m\n\u001b[0m\u001b[0;32m    197\u001b[0m \u001b[1;33m\u001b[0m\u001b[0m\n\u001b[0;32m    198\u001b[0m \u001b[1;33m\u001b[0m\u001b[0m\n",
      "\u001b[1;32m~\\AppData\\Roaming\\Python\\Python36\\site-packages\\ipykernel\\iostream.py\u001b[0m in \u001b[0;36mflush\u001b[1;34m(self)\u001b[0m\n\u001b[0;32m    349\u001b[0m                 \u001b[0mself\u001b[0m\u001b[1;33m.\u001b[0m\u001b[0mpub_thread\u001b[0m\u001b[1;33m.\u001b[0m\u001b[0mschedule\u001b[0m\u001b[1;33m(\u001b[0m\u001b[0mevt\u001b[0m\u001b[1;33m.\u001b[0m\u001b[0mset\u001b[0m\u001b[1;33m)\u001b[0m\u001b[1;33m\u001b[0m\u001b[1;33m\u001b[0m\u001b[0m\n\u001b[0;32m    350\u001b[0m                 \u001b[1;31m# and give a timeout to avoid\u001b[0m\u001b[1;33m\u001b[0m\u001b[1;33m\u001b[0m\u001b[1;33m\u001b[0m\u001b[0m\n\u001b[1;32m--> 351\u001b[1;33m                 \u001b[1;32mif\u001b[0m \u001b[1;32mnot\u001b[0m \u001b[0mevt\u001b[0m\u001b[1;33m.\u001b[0m\u001b[0mwait\u001b[0m\u001b[1;33m(\u001b[0m\u001b[0mself\u001b[0m\u001b[1;33m.\u001b[0m\u001b[0mflush_timeout\u001b[0m\u001b[1;33m)\u001b[0m\u001b[1;33m:\u001b[0m\u001b[1;33m\u001b[0m\u001b[1;33m\u001b[0m\u001b[0m\n\u001b[0m\u001b[0;32m    352\u001b[0m                     \u001b[1;31m# write directly to __stderr__ instead of warning because\u001b[0m\u001b[1;33m\u001b[0m\u001b[1;33m\u001b[0m\u001b[1;33m\u001b[0m\u001b[0m\n\u001b[0;32m    353\u001b[0m                     \u001b[1;31m# if this is happening sys.stderr may be the problem.\u001b[0m\u001b[1;33m\u001b[0m\u001b[1;33m\u001b[0m\u001b[1;33m\u001b[0m\u001b[0m\n",
      "\u001b[1;32m~\\Anaconda3\\envs\\hw6env\\lib\\threading.py\u001b[0m in \u001b[0;36mwait\u001b[1;34m(self, timeout)\u001b[0m\n\u001b[0;32m    549\u001b[0m             \u001b[0msignaled\u001b[0m \u001b[1;33m=\u001b[0m \u001b[0mself\u001b[0m\u001b[1;33m.\u001b[0m\u001b[0m_flag\u001b[0m\u001b[1;33m\u001b[0m\u001b[1;33m\u001b[0m\u001b[0m\n\u001b[0;32m    550\u001b[0m             \u001b[1;32mif\u001b[0m \u001b[1;32mnot\u001b[0m \u001b[0msignaled\u001b[0m\u001b[1;33m:\u001b[0m\u001b[1;33m\u001b[0m\u001b[1;33m\u001b[0m\u001b[0m\n\u001b[1;32m--> 551\u001b[1;33m                 \u001b[0msignaled\u001b[0m \u001b[1;33m=\u001b[0m \u001b[0mself\u001b[0m\u001b[1;33m.\u001b[0m\u001b[0m_cond\u001b[0m\u001b[1;33m.\u001b[0m\u001b[0mwait\u001b[0m\u001b[1;33m(\u001b[0m\u001b[0mtimeout\u001b[0m\u001b[1;33m)\u001b[0m\u001b[1;33m\u001b[0m\u001b[1;33m\u001b[0m\u001b[0m\n\u001b[0m\u001b[0;32m    552\u001b[0m             \u001b[1;32mreturn\u001b[0m \u001b[0msignaled\u001b[0m\u001b[1;33m\u001b[0m\u001b[1;33m\u001b[0m\u001b[0m\n\u001b[0;32m    553\u001b[0m \u001b[1;33m\u001b[0m\u001b[0m\n",
      "\u001b[1;32m~\\Anaconda3\\envs\\hw6env\\lib\\threading.py\u001b[0m in \u001b[0;36mwait\u001b[1;34m(self, timeout)\u001b[0m\n\u001b[0;32m    297\u001b[0m             \u001b[1;32melse\u001b[0m\u001b[1;33m:\u001b[0m\u001b[1;33m\u001b[0m\u001b[1;33m\u001b[0m\u001b[0m\n\u001b[0;32m    298\u001b[0m                 \u001b[1;32mif\u001b[0m \u001b[0mtimeout\u001b[0m \u001b[1;33m>\u001b[0m \u001b[1;36m0\u001b[0m\u001b[1;33m:\u001b[0m\u001b[1;33m\u001b[0m\u001b[1;33m\u001b[0m\u001b[0m\n\u001b[1;32m--> 299\u001b[1;33m                     \u001b[0mgotit\u001b[0m \u001b[1;33m=\u001b[0m \u001b[0mwaiter\u001b[0m\u001b[1;33m.\u001b[0m\u001b[0macquire\u001b[0m\u001b[1;33m(\u001b[0m\u001b[1;32mTrue\u001b[0m\u001b[1;33m,\u001b[0m \u001b[0mtimeout\u001b[0m\u001b[1;33m)\u001b[0m\u001b[1;33m\u001b[0m\u001b[1;33m\u001b[0m\u001b[0m\n\u001b[0m\u001b[0;32m    300\u001b[0m                 \u001b[1;32melse\u001b[0m\u001b[1;33m:\u001b[0m\u001b[1;33m\u001b[0m\u001b[1;33m\u001b[0m\u001b[0m\n\u001b[0;32m    301\u001b[0m                     \u001b[0mgotit\u001b[0m \u001b[1;33m=\u001b[0m \u001b[0mwaiter\u001b[0m\u001b[1;33m.\u001b[0m\u001b[0macquire\u001b[0m\u001b[1;33m(\u001b[0m\u001b[1;32mFalse\u001b[0m\u001b[1;33m)\u001b[0m\u001b[1;33m\u001b[0m\u001b[1;33m\u001b[0m\u001b[0m\n",
      "\u001b[1;31mKeyboardInterrupt\u001b[0m: "
     ]
    }
   ],
   "source": [
    "%run -i train_rnn.py"
   ]
  },
  {
   "cell_type": "code",
   "execution_count": 118,
   "metadata": {},
   "outputs": [],
   "source": [
    "\n",
    "training_set = np.load('datasets/iris/iris_train_data.npy')"
   ]
  },
  {
   "cell_type": "code",
   "execution_count": 119,
   "metadata": {
    "scrolled": true
   },
   "outputs": [
    {
     "data": {
      "text/plain": [
       "array([[5.1, 3.8, 1.6, 0.2],\n",
       "       [5.6, 2.9, 3.6, 1.3],\n",
       "       [4.6, 3.4, 1.4, 0.3],\n",
       "       [5.2, 2.7, 3.9, 1.4],\n",
       "       [5.5, 2.4, 3.8, 1.1],\n",
       "       [5.4, 3.9, 1.7, 0.4],\n",
       "       [5.1, 3.5, 1.4, 0.3],\n",
       "       [5.4, 3. , 4.5, 1.5],\n",
       "       [7.3, 2.9, 6.3, 1.8],\n",
       "       [5.6, 2.7, 4.2, 1.3],\n",
       "       [5. , 3.3, 1.4, 0.2],\n",
       "       [6. , 2.2, 4. , 1. ],\n",
       "       [7.1, 3. , 5.9, 2.1],\n",
       "       [6.9, 3.2, 5.7, 2.3],\n",
       "       [6.9, 3.1, 5.1, 2.3],\n",
       "       [6.4, 2.9, 4.3, 1.3],\n",
       "       [6.5, 2.8, 4.6, 1.5],\n",
       "       [4.9, 3.1, 1.5, 0.1],\n",
       "       [6.2, 2.9, 4.3, 1.3],\n",
       "       [5.5, 2.6, 4.4, 1.2],\n",
       "       [5.7, 2.8, 4.1, 1.3],\n",
       "       [6.7, 3.3, 5.7, 2.5],\n",
       "       [6.3, 3.3, 6. , 2.5],\n",
       "       [6. , 3.4, 4.5, 1.6],\n",
       "       [4.9, 3.1, 1.5, 0.2],\n",
       "       [7.2, 3.2, 6. , 1.8],\n",
       "       [4.8, 3.1, 1.6, 0.2],\n",
       "       [6.1, 3. , 4.9, 1.8],\n",
       "       [5.1, 3.8, 1.9, 0.4],\n",
       "       [5.1, 3.3, 1.7, 0.5],\n",
       "       [5. , 3.4, 1.6, 0.4],\n",
       "       [6.2, 2.8, 4.8, 1.8],\n",
       "       [6.7, 3.3, 5.7, 2.1],\n",
       "       [7.7, 3. , 6.1, 2.3],\n",
       "       [5.8, 2.7, 5.1, 1.9],\n",
       "       [6.3, 3.4, 5.6, 2.4],\n",
       "       [4.8, 3. , 1.4, 0.3],\n",
       "       [5.9, 3. , 4.2, 1.5],\n",
       "       [6.7, 3.1, 4.7, 1.5],\n",
       "       [5.8, 2.7, 5.1, 1.9],\n",
       "       [5.6, 2.5, 3.9, 1.1],\n",
       "       [7.7, 2.6, 6.9, 2.3],\n",
       "       [4.7, 3.2, 1.6, 0.2],\n",
       "       [5.1, 3.8, 1.5, 0.3],\n",
       "       [5.2, 4.1, 1.5, 0.1],\n",
       "       [7.9, 3.8, 6.4, 2. ],\n",
       "       [5.8, 2.7, 3.9, 1.2],\n",
       "       [7.2, 3.6, 6.1, 2.5],\n",
       "       [6.5, 3. , 5.5, 1.8],\n",
       "       [6.7, 3. , 5. , 1.7],\n",
       "       [6.5, 3.2, 5.1, 2. ],\n",
       "       [5.5, 3.5, 1.3, 0.2],\n",
       "       [6.1, 2.9, 4.7, 1.4],\n",
       "       [5. , 3.5, 1.3, 0.3],\n",
       "       [5.5, 2.4, 3.7, 1. ],\n",
       "       [6.6, 2.9, 4.6, 1.3],\n",
       "       [6.3, 2.8, 5.1, 1.5],\n",
       "       [6.5, 3. , 5.2, 2. ],\n",
       "       [7.7, 3.8, 6.7, 2.2],\n",
       "       [5. , 3.2, 1.2, 0.2],\n",
       "       [5.8, 2.8, 5.1, 2.4],\n",
       "       [6.3, 2.9, 5.6, 1.8],\n",
       "       [6.2, 3.4, 5.4, 2.3],\n",
       "       [5.2, 3.4, 1.4, 0.2],\n",
       "       [6.7, 2.5, 5.8, 1.8],\n",
       "       [5.5, 2.5, 4. , 1.3],\n",
       "       [5. , 3.6, 1.4, 0.2],\n",
       "       [5.8, 2.6, 4. , 1.2],\n",
       "       [5.2, 3.5, 1.5, 0.2],\n",
       "       [6.1, 2.8, 4.7, 1.2],\n",
       "       [5.4, 3.7, 1.5, 0.2],\n",
       "       [5.9, 3. , 5.1, 1.8],\n",
       "       [6.3, 2.5, 4.9, 1.5],\n",
       "       [6. , 3. , 4.8, 1.8],\n",
       "       [5.4, 3.9, 1.3, 0.4],\n",
       "       [5.1, 3.5, 1.4, 0.2],\n",
       "       [5.6, 3. , 4.5, 1.5],\n",
       "       [6.4, 3.2, 4.5, 1.5],\n",
       "       [4.6, 3.6, 1. , 0.2],\n",
       "       [4.4, 2.9, 1.4, 0.2],\n",
       "       [5. , 2. , 3.5, 1. ],\n",
       "       [4.9, 3. , 1.4, 0.2],\n",
       "       [6.4, 2.8, 5.6, 2.2],\n",
       "       [6.6, 3. , 4.4, 1.4],\n",
       "       [6.4, 2.7, 5.3, 1.9],\n",
       "       [4.7, 3.2, 1.3, 0.2],\n",
       "       [6.8, 3. , 5.5, 2.1],\n",
       "       [7.2, 3. , 5.8, 1.6],\n",
       "       [4.8, 3.4, 1.9, 0.2],\n",
       "       [4.3, 3. , 1.1, 0.1],\n",
       "       [7. , 3.2, 4.7, 1.4],\n",
       "       [6.3, 3.3, 4.7, 1.6],\n",
       "       [6.4, 2.8, 5.6, 2.1],\n",
       "       [6.4, 3.2, 5.3, 2.3],\n",
       "       [6.2, 2.2, 4.5, 1.5],\n",
       "       [6.9, 3.1, 4.9, 1.5],\n",
       "       [6.3, 2.5, 5. , 1.9],\n",
       "       [5.7, 2.6, 3.5, 1. ],\n",
       "       [4.4, 3.2, 1.3, 0.2],\n",
       "       [5.6, 2.8, 4.9, 2. ],\n",
       "       [4.5, 2.3, 1.3, 0.3],\n",
       "       [7.6, 3. , 6.6, 2.1],\n",
       "       [5.5, 2.3, 4. , 1.3],\n",
       "       [5.1, 2.5, 3. , 1.1],\n",
       "       [6.1, 3. , 4.6, 1.4]])"
      ]
     },
     "execution_count": 119,
     "metadata": {},
     "output_type": "execute_result"
    }
   ],
   "source": [
    "training_set"
   ]
  },
  {
   "cell_type": "code",
   "execution_count": 2,
   "metadata": {},
   "outputs": [],
   "source": [
    "import numpy as np"
   ]
  },
  {
   "cell_type": "code",
   "execution_count": 124,
   "metadata": {},
   "outputs": [
    {
     "data": {
      "text/plain": [
       "array([[1., 1.],\n",
       "       [1., 1.],\n",
       "       [1., 1.]])"
      ]
     },
     "execution_count": 124,
     "metadata": {},
     "output_type": "execute_result"
    }
   ],
   "source": [
    "np.zeros((3,2))+np.ones((3)).reshape((3,1))"
   ]
  },
  {
   "cell_type": "code",
   "execution_count": 130,
   "metadata": {},
   "outputs": [],
   "source": [
    "dY=np.array([i+6 for i in range(6)]).reshape(2,3)\n"
   ]
  },
  {
   "cell_type": "code",
   "execution_count": 131,
   "metadata": {},
   "outputs": [
    {
     "data": {
      "text/plain": [
       "array([[ 0,  0,  8],\n",
       "       [ 9, 10, 11]])"
      ]
     },
     "execution_count": 131,
     "metadata": {},
     "output_type": "execute_result"
    }
   ],
   "source": [
    "Hl=np.vectorize(lambda x:1 if x>=0 else 0)\n",
    "Hl(Z)*dY"
   ]
  },
  {
   "cell_type": "code",
   "execution_count": 128,
   "metadata": {},
   "outputs": [
    {
     "data": {
      "text/plain": [
       "array([[0, 0, 0],\n",
       "       [1, 2, 3]])"
      ]
     },
     "execution_count": 128,
     "metadata": {},
     "output_type": "execute_result"
    }
   ],
   "source": [
    "Z=np.array([i-2 for i in range(6)]).reshape(2,3)\n",
    "ReLUl=np.vectorize(lambda x:x if x>=0 else 0)\n",
    "ReLUl(Z)"
   ]
  },
  {
   "cell_type": "code",
   "execution_count": 123,
   "metadata": {},
   "outputs": [
    {
     "data": {
      "text/plain": [
       "array([[1., 1.],\n",
       "       [1., 1.],\n",
       "       [1., 1.]])"
      ]
     },
     "execution_count": 123,
     "metadata": {},
     "output_type": "execute_result"
    }
   ],
   "source": [
    "np.zeros((3,2))+np.ones((2))"
   ]
  },
  {
   "cell_type": "code",
   "execution_count": 71,
   "metadata": {},
   "outputs": [
    {
     "ename": "ValueError",
     "evalue": "operands could not be broadcast together with shapes (3,) (3,2) ",
     "output_type": "error",
     "traceback": [
      "\u001b[1;31m---------------------------------------------------------------------------\u001b[0m",
      "\u001b[1;31mValueError\u001b[0m                                Traceback (most recent call last)",
      "\u001b[1;32m<ipython-input-71-a20c80982096>\u001b[0m in \u001b[0;36m<module>\u001b[1;34m\u001b[0m\n\u001b[1;32m----> 1\u001b[1;33m \u001b[0mnp\u001b[0m\u001b[1;33m.\u001b[0m\u001b[0mones\u001b[0m\u001b[1;33m(\u001b[0m\u001b[1;33m(\u001b[0m\u001b[1;36m3\u001b[0m\u001b[1;33m)\u001b[0m\u001b[1;33m)\u001b[0m\u001b[1;33m+\u001b[0m\u001b[0mnp\u001b[0m\u001b[1;33m.\u001b[0m\u001b[0mzeros\u001b[0m\u001b[1;33m(\u001b[0m\u001b[1;33m(\u001b[0m\u001b[1;36m3\u001b[0m\u001b[1;33m,\u001b[0m\u001b[1;36m2\u001b[0m\u001b[1;33m)\u001b[0m\u001b[1;33m)\u001b[0m\u001b[1;33m\u001b[0m\u001b[1;33m\u001b[0m\u001b[0m\n\u001b[0m",
      "\u001b[1;31mValueError\u001b[0m: operands could not be broadcast together with shapes (3,) (3,2) "
     ]
    }
   ],
   "source": [
    "np.ones((3))+np.zeros((3,2))"
   ]
  },
  {
   "cell_type": "code",
   "execution_count": 53,
   "metadata": {},
   "outputs": [],
   "source": [
    "A=np.ones((3,4,6))\n",
    "B=np.ones((6,4,7))"
   ]
  },
  {
   "cell_type": "code",
   "execution_count": 56,
   "metadata": {},
   "outputs": [
    {
     "data": {
      "text/plain": [
       "tuple"
      ]
     },
     "execution_count": 56,
     "metadata": {},
     "output_type": "execute_result"
    }
   ],
   "source": [
    "type(np.tensordot(A,B,axes=[[2,1],[0,1]]).shape)"
   ]
  },
  {
   "cell_type": "code",
   "execution_count": 19,
   "metadata": {},
   "outputs": [
    {
     "data": {
      "text/plain": [
       "array([[4., 4., 4., 4., 4.],\n",
       "       [4., 4., 4., 4., 4.],\n",
       "       [4., 4., 4., 4., 4.]])"
      ]
     },
     "execution_count": 19,
     "metadata": {},
     "output_type": "execute_result"
    }
   ],
   "source": [
    "A=np.ones((3,4))\n",
    "B=np.ones((4,5))\n",
    "np.tensordot(A,B,axes=[1,0])"
   ]
  },
  {
   "cell_type": "code",
   "execution_count": 61,
   "metadata": {},
   "outputs": [
    {
     "data": {
      "text/plain": [
       "array([[0, 0, 0],\n",
       "       [0, 0, 0]])"
      ]
     },
     "execution_count": 61,
     "metadata": {},
     "output_type": "execute_result"
    }
   ],
   "source": [
    "\n",
    "ReLUl(-np.ones((2,3)))"
   ]
  },
  {
   "cell_type": "code",
   "execution_count": 60,
   "metadata": {},
   "outputs": [],
   "source": [
    "ReLUl=np.vectorize(lambda x:x if x>=0 else 0)"
   ]
  },
  {
   "cell_type": "code",
   "execution_count": 58,
   "metadata": {},
   "outputs": [
    {
     "data": {
      "text/plain": [
       "(2, 3, 1)"
      ]
     },
     "execution_count": 58,
     "metadata": {},
     "output_type": "execute_result"
    }
   ],
   "source": [
    "np.expand_dims(np.ones((2,3)), axis=2).shape"
   ]
  },
  {
   "cell_type": "code",
   "execution_count": 49,
   "metadata": {
    "scrolled": true
   },
   "outputs": [
    {
     "data": {
      "text/plain": [
       "array([[[1., 1., 1., 1., 1., 1., 1., 1., 1., 1.],\n",
       "        [1., 1., 1., 1., 1., 1., 1., 1., 1., 1.],\n",
       "        [1., 1., 1., 1., 1., 1., 1., 1., 1., 1.]],\n",
       "\n",
       "       [[1., 1., 1., 1., 1., 1., 1., 1., 1., 1.],\n",
       "        [1., 1., 1., 1., 1., 1., 1., 1., 1., 1.],\n",
       "        [1., 1., 1., 1., 1., 1., 1., 1., 1., 1.]]])"
      ]
     },
     "execution_count": 49,
     "metadata": {},
     "output_type": "execute_result"
    }
   ],
   "source": [
    "np.repeat(np.ones((2,3,1)),10,axis=2)"
   ]
  },
  {
   "cell_type": "code",
   "execution_count": 50,
   "metadata": {},
   "outputs": [
    {
     "ename": "TypeError",
     "evalue": "can only concatenate tuple (not \"int\") to tuple",
     "output_type": "error",
     "traceback": [
      "\u001b[1;31m---------------------------------------------------------------------------\u001b[0m",
      "\u001b[1;31mTypeError\u001b[0m                                 Traceback (most recent call last)",
      "\u001b[1;32m<ipython-input-50-55e915118ee5>\u001b[0m in \u001b[0;36m<module>\u001b[1;34m\u001b[0m\n\u001b[1;32m----> 1\u001b[1;33m \u001b[1;33m(\u001b[0m\u001b[1;36m1\u001b[0m\u001b[1;33m,\u001b[0m\u001b[1;36m2\u001b[0m\u001b[1;33m)\u001b[0m\u001b[1;33m+\u001b[0m\u001b[1;33m(\u001b[0m\u001b[1;36m3\u001b[0m\u001b[1;33m)\u001b[0m\u001b[1;33m\u001b[0m\u001b[1;33m\u001b[0m\u001b[0m\n\u001b[0m",
      "\u001b[1;31mTypeError\u001b[0m: can only concatenate tuple (not \"int\") to tuple"
     ]
    }
   ],
   "source": [
    "(1,2)+(3)"
   ]
  },
  {
   "cell_type": "code",
   "execution_count": 68,
   "metadata": {},
   "outputs": [
    {
     "ename": "TypeError",
     "evalue": "<lambda>() takes 1 positional argument but 2 were given",
     "output_type": "error",
     "traceback": [
      "\u001b[1;31m---------------------------------------------------------------------------\u001b[0m",
      "\u001b[1;31mTypeError\u001b[0m                                 Traceback (most recent call last)",
      "\u001b[1;32m<ipython-input-68-6372f806595e>\u001b[0m in \u001b[0;36m<module>\u001b[1;34m\u001b[0m\n\u001b[0;32m      1\u001b[0m \u001b[0mf\u001b[0m\u001b[1;33m=\u001b[0m\u001b[0mnp\u001b[0m\u001b[1;33m.\u001b[0m\u001b[0mvectorize\u001b[0m\u001b[1;33m(\u001b[0m\u001b[1;32mlambda\u001b[0m \u001b[0mx\u001b[0m\u001b[1;33m:\u001b[0m\u001b[0mnp\u001b[0m\u001b[1;33m.\u001b[0m\u001b[0mmean\u001b[0m\u001b[1;33m(\u001b[0m\u001b[0mx\u001b[0m\u001b[1;33m)\u001b[0m\u001b[1;33m)\u001b[0m\u001b[1;33m\u001b[0m\u001b[1;33m\u001b[0m\u001b[0m\n\u001b[1;32m----> 2\u001b[1;33m \u001b[0mnp\u001b[0m\u001b[1;33m.\u001b[0m\u001b[0mapply_over_axes\u001b[0m\u001b[1;33m(\u001b[0m\u001b[0mf\u001b[0m\u001b[1;33m,\u001b[0m\u001b[0mnp\u001b[0m\u001b[1;33m.\u001b[0m\u001b[0mones\u001b[0m\u001b[1;33m(\u001b[0m\u001b[1;33m(\u001b[0m\u001b[1;36m2\u001b[0m\u001b[1;33m,\u001b[0m\u001b[1;36m3\u001b[0m\u001b[1;33m)\u001b[0m\u001b[1;33m)\u001b[0m\u001b[1;33m,\u001b[0m\u001b[1;36m1\u001b[0m\u001b[1;33m)\u001b[0m\u001b[1;33m\u001b[0m\u001b[1;33m\u001b[0m\u001b[0m\n\u001b[0m",
      "\u001b[1;32m<__array_function__ internals>\u001b[0m in \u001b[0;36mapply_over_axes\u001b[1;34m(*args, **kwargs)\u001b[0m\n",
      "\u001b[1;32m~\\Anaconda3\\envs\\hw6env\\lib\\site-packages\\numpy\\lib\\shape_base.py\u001b[0m in \u001b[0;36mapply_over_axes\u001b[1;34m(func, a, axes)\u001b[0m\n\u001b[0;32m    493\u001b[0m             \u001b[0maxis\u001b[0m \u001b[1;33m=\u001b[0m \u001b[0mN\u001b[0m \u001b[1;33m+\u001b[0m \u001b[0maxis\u001b[0m\u001b[1;33m\u001b[0m\u001b[1;33m\u001b[0m\u001b[0m\n\u001b[0;32m    494\u001b[0m         \u001b[0margs\u001b[0m \u001b[1;33m=\u001b[0m \u001b[1;33m(\u001b[0m\u001b[0mval\u001b[0m\u001b[1;33m,\u001b[0m \u001b[0maxis\u001b[0m\u001b[1;33m)\u001b[0m\u001b[1;33m\u001b[0m\u001b[1;33m\u001b[0m\u001b[0m\n\u001b[1;32m--> 495\u001b[1;33m         \u001b[0mres\u001b[0m \u001b[1;33m=\u001b[0m \u001b[0mfunc\u001b[0m\u001b[1;33m(\u001b[0m\u001b[1;33m*\u001b[0m\u001b[0margs\u001b[0m\u001b[1;33m)\u001b[0m\u001b[1;33m\u001b[0m\u001b[1;33m\u001b[0m\u001b[0m\n\u001b[0m\u001b[0;32m    496\u001b[0m         \u001b[1;32mif\u001b[0m \u001b[0mres\u001b[0m\u001b[1;33m.\u001b[0m\u001b[0mndim\u001b[0m \u001b[1;33m==\u001b[0m \u001b[0mval\u001b[0m\u001b[1;33m.\u001b[0m\u001b[0mndim\u001b[0m\u001b[1;33m:\u001b[0m\u001b[1;33m\u001b[0m\u001b[1;33m\u001b[0m\u001b[0m\n\u001b[0;32m    497\u001b[0m             \u001b[0mval\u001b[0m \u001b[1;33m=\u001b[0m \u001b[0mres\u001b[0m\u001b[1;33m\u001b[0m\u001b[1;33m\u001b[0m\u001b[0m\n",
      "\u001b[1;32m~\\Anaconda3\\envs\\hw6env\\lib\\site-packages\\numpy\\lib\\function_base.py\u001b[0m in \u001b[0;36m__call__\u001b[1;34m(self, *args, **kwargs)\u001b[0m\n\u001b[0;32m   2089\u001b[0m             \u001b[0mvargs\u001b[0m\u001b[1;33m.\u001b[0m\u001b[0mextend\u001b[0m\u001b[1;33m(\u001b[0m\u001b[1;33m[\u001b[0m\u001b[0mkwargs\u001b[0m\u001b[1;33m[\u001b[0m\u001b[0m_n\u001b[0m\u001b[1;33m]\u001b[0m \u001b[1;32mfor\u001b[0m \u001b[0m_n\u001b[0m \u001b[1;32min\u001b[0m \u001b[0mnames\u001b[0m\u001b[1;33m]\u001b[0m\u001b[1;33m)\u001b[0m\u001b[1;33m\u001b[0m\u001b[1;33m\u001b[0m\u001b[0m\n\u001b[0;32m   2090\u001b[0m \u001b[1;33m\u001b[0m\u001b[0m\n\u001b[1;32m-> 2091\u001b[1;33m         \u001b[1;32mreturn\u001b[0m \u001b[0mself\u001b[0m\u001b[1;33m.\u001b[0m\u001b[0m_vectorize_call\u001b[0m\u001b[1;33m(\u001b[0m\u001b[0mfunc\u001b[0m\u001b[1;33m=\u001b[0m\u001b[0mfunc\u001b[0m\u001b[1;33m,\u001b[0m \u001b[0margs\u001b[0m\u001b[1;33m=\u001b[0m\u001b[0mvargs\u001b[0m\u001b[1;33m)\u001b[0m\u001b[1;33m\u001b[0m\u001b[1;33m\u001b[0m\u001b[0m\n\u001b[0m\u001b[0;32m   2092\u001b[0m \u001b[1;33m\u001b[0m\u001b[0m\n\u001b[0;32m   2093\u001b[0m     \u001b[1;32mdef\u001b[0m \u001b[0m_get_ufunc_and_otypes\u001b[0m\u001b[1;33m(\u001b[0m\u001b[0mself\u001b[0m\u001b[1;33m,\u001b[0m \u001b[0mfunc\u001b[0m\u001b[1;33m,\u001b[0m \u001b[0margs\u001b[0m\u001b[1;33m)\u001b[0m\u001b[1;33m:\u001b[0m\u001b[1;33m\u001b[0m\u001b[1;33m\u001b[0m\u001b[0m\n",
      "\u001b[1;32m~\\Anaconda3\\envs\\hw6env\\lib\\site-packages\\numpy\\lib\\function_base.py\u001b[0m in \u001b[0;36m_vectorize_call\u001b[1;34m(self, func, args)\u001b[0m\n\u001b[0;32m   2159\u001b[0m             \u001b[0mres\u001b[0m \u001b[1;33m=\u001b[0m \u001b[0mfunc\u001b[0m\u001b[1;33m(\u001b[0m\u001b[1;33m)\u001b[0m\u001b[1;33m\u001b[0m\u001b[1;33m\u001b[0m\u001b[0m\n\u001b[0;32m   2160\u001b[0m         \u001b[1;32melse\u001b[0m\u001b[1;33m:\u001b[0m\u001b[1;33m\u001b[0m\u001b[1;33m\u001b[0m\u001b[0m\n\u001b[1;32m-> 2161\u001b[1;33m             \u001b[0mufunc\u001b[0m\u001b[1;33m,\u001b[0m \u001b[0motypes\u001b[0m \u001b[1;33m=\u001b[0m \u001b[0mself\u001b[0m\u001b[1;33m.\u001b[0m\u001b[0m_get_ufunc_and_otypes\u001b[0m\u001b[1;33m(\u001b[0m\u001b[0mfunc\u001b[0m\u001b[1;33m=\u001b[0m\u001b[0mfunc\u001b[0m\u001b[1;33m,\u001b[0m \u001b[0margs\u001b[0m\u001b[1;33m=\u001b[0m\u001b[0margs\u001b[0m\u001b[1;33m)\u001b[0m\u001b[1;33m\u001b[0m\u001b[1;33m\u001b[0m\u001b[0m\n\u001b[0m\u001b[0;32m   2162\u001b[0m \u001b[1;33m\u001b[0m\u001b[0m\n\u001b[0;32m   2163\u001b[0m             \u001b[1;31m# Convert args to object arrays first\u001b[0m\u001b[1;33m\u001b[0m\u001b[1;33m\u001b[0m\u001b[1;33m\u001b[0m\u001b[0m\n",
      "\u001b[1;32m~\\Anaconda3\\envs\\hw6env\\lib\\site-packages\\numpy\\lib\\function_base.py\u001b[0m in \u001b[0;36m_get_ufunc_and_otypes\u001b[1;34m(self, func, args)\u001b[0m\n\u001b[0;32m   2119\u001b[0m \u001b[1;33m\u001b[0m\u001b[0m\n\u001b[0;32m   2120\u001b[0m             \u001b[0minputs\u001b[0m \u001b[1;33m=\u001b[0m \u001b[1;33m[\u001b[0m\u001b[0marg\u001b[0m\u001b[1;33m.\u001b[0m\u001b[0mflat\u001b[0m\u001b[1;33m[\u001b[0m\u001b[1;36m0\u001b[0m\u001b[1;33m]\u001b[0m \u001b[1;32mfor\u001b[0m \u001b[0marg\u001b[0m \u001b[1;32min\u001b[0m \u001b[0margs\u001b[0m\u001b[1;33m]\u001b[0m\u001b[1;33m\u001b[0m\u001b[1;33m\u001b[0m\u001b[0m\n\u001b[1;32m-> 2121\u001b[1;33m             \u001b[0moutputs\u001b[0m \u001b[1;33m=\u001b[0m \u001b[0mfunc\u001b[0m\u001b[1;33m(\u001b[0m\u001b[1;33m*\u001b[0m\u001b[0minputs\u001b[0m\u001b[1;33m)\u001b[0m\u001b[1;33m\u001b[0m\u001b[1;33m\u001b[0m\u001b[0m\n\u001b[0m\u001b[0;32m   2122\u001b[0m \u001b[1;33m\u001b[0m\u001b[0m\n\u001b[0;32m   2123\u001b[0m             \u001b[1;31m# Performance note: profiling indicates that -- for simple\u001b[0m\u001b[1;33m\u001b[0m\u001b[1;33m\u001b[0m\u001b[1;33m\u001b[0m\u001b[0m\n",
      "\u001b[1;31mTypeError\u001b[0m: <lambda>() takes 1 positional argument but 2 were given"
     ]
    }
   ],
   "source": [
    "f=np.vectorize(lambda x:np.mean(x))\n",
    "np.apply_over_axes(f,np.ones((2,3)),1)"
   ]
  },
  {
   "cell_type": "code",
   "execution_count": 83,
   "metadata": {},
   "outputs": [
    {
     "data": {
      "text/plain": [
       "array([1., 1.])"
      ]
     },
     "execution_count": 83,
     "metadata": {},
     "output_type": "execute_result"
    }
   ],
   "source": [
    "np.max(np.ones((2,3)),1)"
   ]
  },
  {
   "cell_type": "code",
   "execution_count": 76,
   "metadata": {},
   "outputs": [],
   "source": [
    "a=np.ones((2,3))"
   ]
  },
  {
   "cell_type": "code",
   "execution_count": 80,
   "metadata": {},
   "outputs": [
    {
     "data": {
      "text/plain": [
       "(2, 3, 2, 3)"
      ]
     },
     "execution_count": 80,
     "metadata": {},
     "output_type": "execute_result"
    }
   ],
   "source": [
    "np.tensordot(np.expand_dims(a,1),np.expand_dims(a,2),axes=[1,2]).shape"
   ]
  },
  {
   "cell_type": "code",
   "execution_count": 82,
   "metadata": {},
   "outputs": [
    {
     "data": {
      "text/plain": [
       "array([[1., 1., 1., 1.],\n",
       "       [1., 1., 1., 1.],\n",
       "       [1., 1., 1., 1.]])"
      ]
     },
     "execution_count": 82,
     "metadata": {},
     "output_type": "execute_result"
    }
   ],
   "source": [
    "np.outer(np.ones((3)),np.ones((4)))"
   ]
  },
  {
   "cell_type": "code",
   "execution_count": 14,
   "metadata": {},
   "outputs": [
    {
     "name": "stdout",
     "output_type": "stream",
     "text": [
      "Training two_layer_NN_20l_1e-1 neural network on iris with SGD for 100 epochs...\n",
      "Optimizer:\n",
      "{'name': 'SGD', 'lr': 0.1, 'lr_scheduler': 'exponential', 'lr_decay': 0.99, 'stage_length': 1000, 'staircase': False, 'clip_norm': None, 'momentum': 0}\n"
     ]
    },
    {
     "name": "stderr",
     "output_type": "stream",
     "text": [
      "100%|███████████████████████████████████████████████████████████████████████████████████| 3/3 [00:00<00:00, 374.68it/s]\n"
     ]
    },
    {
     "name": "stdout",
     "output_type": "stream",
     "text": [
      "Example target: [0. 1. 0.]\n",
      "Example prediction: [0.0, 1.0, 0.0]\n",
      "Epoch 0 Training Loss: 2.6143 Training Accuracy: 0.3733 Val Loss: 10.0087 Val Accuracy: 0.2\n"
     ]
    },
    {
     "name": "stderr",
     "output_type": "stream",
     "text": [
      "100%|███████████████████████████████████████████████████████████████████████████████████| 3/3 [00:00<00:00, 375.07it/s]\n"
     ]
    },
    {
     "name": "stdout",
     "output_type": "stream",
     "text": [
      "Example target: [0. 0. 1.]\n",
      "Example prediction: [0.0118, 0.018, 0.9702]\n",
      "Epoch 1 Training Loss: 4.099 Training Accuracy: 0.3267 Val Loss: 1.0298 Val Accuracy: 0.4667\n"
     ]
    },
    {
     "name": "stderr",
     "output_type": "stream",
     "text": [
      "100%|███████████████████████████████████████████████████████████████████████████████████| 3/3 [00:00<00:00, 749.34it/s]\n"
     ]
    },
    {
     "name": "stdout",
     "output_type": "stream",
     "text": [
      "Example target: [0. 1. 0.]\n",
      "Example prediction: [0.0951, 0.0964, 0.8085]\n",
      "Epoch 2 Training Loss: 0.8416 Training Accuracy: 0.7533 Val Loss: 0.6569 Val Accuracy: 0.8\n"
     ]
    },
    {
     "name": "stderr",
     "output_type": "stream",
     "text": [
      "100%|███████████████████████████████████████████████████████████████████████████████████| 3/3 [00:00<00:00, 374.97it/s]\n"
     ]
    },
    {
     "name": "stdout",
     "output_type": "stream",
     "text": [
      "Example target: [1. 0. 0.]\n",
      "Example prediction: [0.7201, 0.0964, 0.1835]\n",
      "Epoch 3 Training Loss: 0.7109 Training Accuracy: 0.7 Val Loss: 0.4334 Val Accuracy: 0.8\n"
     ]
    },
    {
     "name": "stderr",
     "output_type": "stream",
     "text": [
      "100%|███████████████████████████████████████████████████████████████████████████████████| 3/3 [00:00<00:00, 374.88it/s]\n"
     ]
    },
    {
     "name": "stdout",
     "output_type": "stream",
     "text": [
      "Example target: [0. 1. 0.]\n",
      "Example prediction: [0.0886, 0.6165, 0.2949]\n",
      "Epoch 4 Training Loss: 0.6736 Training Accuracy: 0.5933 Val Loss: 0.3482 Val Accuracy: 0.8667\n"
     ]
    },
    {
     "name": "stderr",
     "output_type": "stream",
     "text": [
      "100%|███████████████████████████████████████████████████████████████████████████████████| 3/3 [00:00<00:00, 374.85it/s]\n"
     ]
    },
    {
     "name": "stdout",
     "output_type": "stream",
     "text": [
      "Example target: [1. 0. 0.]\n",
      "Example prediction: [0.9635, 0.0091, 0.0274]\n",
      "Epoch 5 Training Loss: 0.4102 Training Accuracy: 0.9733 Val Loss: 0.4584 Val Accuracy: 0.8\n"
     ]
    },
    {
     "name": "stderr",
     "output_type": "stream",
     "text": [
      "100%|███████████████████████████████████████████████████████████████████████████████████| 3/3 [00:00<00:00, 749.56it/s]\n"
     ]
    },
    {
     "name": "stdout",
     "output_type": "stream",
     "text": [
      "Example target: [0. 0. 1.]\n",
      "Example prediction: [0.0128, 0.1548, 0.8323]\n",
      "Epoch 6 Training Loss: 0.5734 Training Accuracy: 0.78 Val Loss: 0.3487 Val Accuracy: 0.8\n"
     ]
    },
    {
     "name": "stderr",
     "output_type": "stream",
     "text": [
      "100%|███████████████████████████████████████████████████████████████████████████████████| 3/3 [00:00<00:00, 750.28it/s]\n"
     ]
    },
    {
     "name": "stdout",
     "output_type": "stream",
     "text": [
      "Example target: [0. 0. 1.]\n",
      "Example prediction: [0.029, 0.5996, 0.3714]\n",
      "Epoch 7 Training Loss: 0.448 Training Accuracy: 0.84 Val Loss: 0.3745 Val Accuracy: 0.7333\n"
     ]
    },
    {
     "name": "stderr",
     "output_type": "stream",
     "text": [
      "100%|███████████████████████████████████████████████████████████████████████████████████| 3/3 [00:00<00:00, 749.70it/s]\n"
     ]
    },
    {
     "name": "stdout",
     "output_type": "stream",
     "text": [
      "Example target: [1. 0. 0.]\n",
      "Example prediction: [0.9868, 0.0081, 0.0051]\n",
      "Epoch 8 Training Loss: 0.4197 Training Accuracy: 0.84 Val Loss: 0.3404 Val Accuracy: 0.8\n"
     ]
    },
    {
     "name": "stderr",
     "output_type": "stream",
     "text": [
      "100%|███████████████████████████████████████████████████████████████████████████████████| 3/3 [00:00<00:00, 749.96it/s]\n"
     ]
    },
    {
     "name": "stdout",
     "output_type": "stream",
     "text": [
      "Example target: [0. 0. 1.]\n",
      "Example prediction: [0.0083, 0.3465, 0.6452]\n",
      "Epoch 9 Training Loss: 0.4107 Training Accuracy: 0.9067 Val Loss: 0.2525 Val Accuracy: 1.0\n"
     ]
    },
    {
     "name": "stderr",
     "output_type": "stream",
     "text": [
      "100%|███████████████████████████████████████████████████████████████████████████████████| 3/3 [00:00<00:00, 375.05it/s]\n"
     ]
    },
    {
     "name": "stdout",
     "output_type": "stream",
     "text": [
      "Example target: [0. 0. 1.]\n",
      "Example prediction: [0.0067, 0.7018, 0.2915]\n",
      "Epoch 10 Training Loss: 0.4145 Training Accuracy: 0.8067 Val Loss: 0.3992 Val Accuracy: 0.7333\n"
     ]
    },
    {
     "name": "stderr",
     "output_type": "stream",
     "text": [
      "100%|███████████████████████████████████████████████████████████████████████████████████| 3/3 [00:00<00:00, 750.14it/s]\n"
     ]
    },
    {
     "name": "stdout",
     "output_type": "stream",
     "text": [
      "Example target: [1. 0. 0.]\n",
      "Example prediction: [0.9512, 0.0411, 0.0077]\n",
      "Epoch 11 Training Loss: 0.4191 Training Accuracy: 0.78 Val Loss: 0.5406 Val Accuracy: 0.7333\n"
     ]
    },
    {
     "name": "stderr",
     "output_type": "stream",
     "text": [
      "100%|███████████████████████████████████████████████████████████████████████████████████| 3/3 [00:00<00:00, 750.10it/s]\n"
     ]
    },
    {
     "name": "stdout",
     "output_type": "stream",
     "text": [
      "Example target: [1. 0. 0.]\n",
      "Example prediction: [0.985, 0.0093, 0.0057]\n",
      "Epoch 12 Training Loss: 0.5573 Training Accuracy: 0.7267 Val Loss: 0.2256 Val Accuracy: 1.0\n"
     ]
    },
    {
     "name": "stderr",
     "output_type": "stream",
     "text": [
      "100%|███████████████████████████████████████████████████████████████████████████████████| 3/3 [00:00<00:00, 451.66it/s]\n"
     ]
    },
    {
     "name": "stdout",
     "output_type": "stream",
     "text": [
      "Example target: [1. 0. 0.]\n",
      "Example prediction: [0.9915, 0.0066, 0.0019]\n",
      "Epoch 13 Training Loss: 0.3983 Training Accuracy: 0.78 Val Loss: 0.3114 Val Accuracy: 0.8\n"
     ]
    },
    {
     "name": "stderr",
     "output_type": "stream",
     "text": [
      "100%|████████████████████████████████████████████████████████████████████████████████████████████| 3/3 [00:00<?, ?it/s]\n"
     ]
    },
    {
     "name": "stdout",
     "output_type": "stream",
     "text": [
      "Example target: [0. 0. 1.]\n",
      "Example prediction: [0.0051, 0.3645, 0.6304]\n",
      "Epoch 14 Training Loss: 0.3692 Training Accuracy: 0.74 Val Loss: 0.2251 Val Accuracy: 1.0\n"
     ]
    },
    {
     "name": "stderr",
     "output_type": "stream",
     "text": [
      "100%|███████████████████████████████████████████████████████████████████████████████████| 3/3 [00:00<00:00, 374.67it/s]\n"
     ]
    },
    {
     "name": "stdout",
     "output_type": "stream",
     "text": [
      "Example target: [1. 0. 0.]\n",
      "Example prediction: [0.9245, 0.066, 0.0095]\n",
      "Epoch 15 Training Loss: 0.3985 Training Accuracy: 0.8533 Val Loss: 0.4145 Val Accuracy: 0.7333\n"
     ]
    },
    {
     "name": "stderr",
     "output_type": "stream",
     "text": [
      "100%|███████████████████████████████████████████████████████████████████████████████████| 3/3 [00:00<00:00, 375.03it/s]\n"
     ]
    },
    {
     "name": "stdout",
     "output_type": "stream",
     "text": [
      "Example target: [0. 0. 1.]\n",
      "Example prediction: [0.001, 0.0126, 0.9864]\n",
      "Epoch 16 Training Loss: 0.5941 Training Accuracy: 0.58 Val Loss: 0.4341 Val Accuracy: 0.8\n"
     ]
    },
    {
     "name": "stderr",
     "output_type": "stream",
     "text": [
      "100%|███████████████████████████████████████████████████████████████████████████████████| 3/3 [00:00<00:00, 749.96it/s]\n"
     ]
    },
    {
     "name": "stdout",
     "output_type": "stream",
     "text": [
      "Example target: [1. 0. 0.]\n",
      "Example prediction: [0.9922, 0.0062, 0.0016]\n",
      "Epoch 17 Training Loss: 0.5446 Training Accuracy: 0.7933 Val Loss: 0.2077 Val Accuracy: 1.0\n"
     ]
    },
    {
     "name": "stderr",
     "output_type": "stream",
     "text": [
      "100%|███████████████████████████████████████████████████████████████████████████████████| 3/3 [00:00<00:00, 249.94it/s]\n"
     ]
    },
    {
     "name": "stdout",
     "output_type": "stream",
     "text": [
      "Example target: [0. 1. 0.]\n",
      "Example prediction: [0.0387, 0.6968, 0.2646]\n",
      "Epoch 18 Training Loss: 0.285 Training Accuracy: 0.9733 Val Loss: 0.1952 Val Accuracy: 1.0\n"
     ]
    },
    {
     "name": "stderr",
     "output_type": "stream",
     "text": [
      "100%|███████████████████████████████████████████████████████████████████████████████████| 3/3 [00:00<00:00, 375.02it/s]\n"
     ]
    },
    {
     "name": "stdout",
     "output_type": "stream",
     "text": [
      "Example target: [1. 0. 0.]\n",
      "Example prediction: [0.9679, 0.0286, 0.0036]\n",
      "Epoch 19 Training Loss: 0.3545 Training Accuracy: 0.8067 Val Loss: 0.3373 Val Accuracy: 0.7333\n"
     ]
    },
    {
     "name": "stderr",
     "output_type": "stream",
     "text": [
      "100%|███████████████████████████████████████████████████████████████████████████████████| 3/3 [00:00<00:00, 749.92it/s]\n"
     ]
    },
    {
     "name": "stdout",
     "output_type": "stream",
     "text": [
      "Example target: [0. 1. 0.]\n",
      "Example prediction: [0.0558, 0.7028, 0.2415]\n",
      "Epoch 20 Training Loss: 0.5316 Training Accuracy: 0.6867 Val Loss: 0.1998 Val Accuracy: 1.0\n"
     ]
    },
    {
     "name": "stderr",
     "output_type": "stream",
     "text": [
      "100%|███████████████████████████████████████████████████████████████████████████████████| 3/3 [00:00<00:00, 375.56it/s]\n"
     ]
    },
    {
     "name": "stdout",
     "output_type": "stream",
     "text": [
      "Example target: [0. 0. 1.]\n",
      "Example prediction: [0.0091, 0.3725, 0.6184]\n",
      "Epoch 21 Training Loss: 0.2996 Training Accuracy: 0.9867 Val Loss: 0.2211 Val Accuracy: 0.9333\n"
     ]
    },
    {
     "name": "stderr",
     "output_type": "stream",
     "text": [
      "100%|███████████████████████████████████████████████████████████████████████████████████| 3/3 [00:00<00:00, 375.00it/s]\n"
     ]
    },
    {
     "name": "stdout",
     "output_type": "stream",
     "text": [
      "Example target: [0. 1. 0.]\n",
      "Example prediction: [0.0223, 0.5848, 0.3929]\n",
      "Epoch 22 Training Loss: 0.2567 Training Accuracy: 0.9467 Val Loss: 0.1634 Val Accuracy: 1.0\n"
     ]
    },
    {
     "name": "stderr",
     "output_type": "stream",
     "text": [
      "100%|███████████████████████████████████████████████████████████████████████████████████| 3/3 [00:00<00:00, 750.37it/s]\n"
     ]
    },
    {
     "name": "stdout",
     "output_type": "stream",
     "text": [
      "Example target: [0. 0. 1.]\n",
      "Example prediction: [0.0092, 0.7536, 0.2373]\n",
      "Epoch 23 Training Loss: 0.5792 Training Accuracy: 0.6867 Val Loss: 0.417 Val Accuracy: 0.7333\n"
     ]
    },
    {
     "name": "stderr",
     "output_type": "stream",
     "text": [
      "100%|███████████████████████████████████████████████████████████████████████████████████| 3/3 [00:00<00:00, 374.58it/s]\n"
     ]
    },
    {
     "name": "stdout",
     "output_type": "stream",
     "text": [
      "Example target: [1. 0. 0.]\n",
      "Example prediction: [0.9748, 0.0198, 0.0054]\n",
      "Epoch 24 Training Loss: 0.405 Training Accuracy: 0.72 Val Loss: 0.1762 Val Accuracy: 1.0\n"
     ]
    },
    {
     "name": "stderr",
     "output_type": "stream",
     "text": [
      "100%|███████████████████████████████████████████████████████████████████████████████████| 3/3 [00:00<00:00, 375.18it/s]\n"
     ]
    },
    {
     "name": "stdout",
     "output_type": "stream",
     "text": [
      "Example target: [0. 1. 0.]\n",
      "Example prediction: [0.0835, 0.8246, 0.0919]\n",
      "Epoch 25 Training Loss: 0.2913 Training Accuracy: 0.9333 Val Loss: 0.3672 Val Accuracy: 0.7333\n"
     ]
    },
    {
     "name": "stderr",
     "output_type": "stream",
     "text": [
      "100%|███████████████████████████████████████████████████████████████████████████████████| 3/3 [00:00<00:00, 374.98it/s]\n"
     ]
    },
    {
     "name": "stdout",
     "output_type": "stream",
     "text": [
      "Example target: [1. 0. 0.]\n",
      "Example prediction: [0.9559, 0.0387, 0.0055]\n",
      "Epoch 26 Training Loss: 0.3761 Training Accuracy: 0.7867 Val Loss: 0.1631 Val Accuracy: 1.0\n"
     ]
    },
    {
     "name": "stderr",
     "output_type": "stream",
     "text": [
      "100%|███████████████████████████████████████████████████████████████████████████████████| 3/3 [00:00<00:00, 750.28it/s]\n"
     ]
    },
    {
     "name": "stdout",
     "output_type": "stream",
     "text": [
      "Example target: [1. 0. 0.]\n",
      "Example prediction: [0.9957, 0.0042, 0.0002]\n",
      "Epoch 27 Training Loss: 0.31 Training Accuracy: 0.9067 Val Loss: 0.314 Val Accuracy: 0.7333\n"
     ]
    },
    {
     "name": "stderr",
     "output_type": "stream",
     "text": [
      "100%|███████████████████████████████████████████████████████████████████████████████████| 3/3 [00:00<00:00, 375.00it/s]\n"
     ]
    },
    {
     "name": "stdout",
     "output_type": "stream",
     "text": [
      "Example target: [1. 0. 0.]\n",
      "Example prediction: [0.9863, 0.0116, 0.0021]\n",
      "Epoch 28 Training Loss: 0.5059 Training Accuracy: 0.6933 Val Loss: 0.1599 Val Accuracy: 1.0\n"
     ]
    },
    {
     "name": "stderr",
     "output_type": "stream",
     "text": [
      "100%|███████████████████████████████████████████████████████████████████████████████████| 3/3 [00:00<00:00, 748.63it/s]\n"
     ]
    },
    {
     "name": "stdout",
     "output_type": "stream",
     "text": [
      "Example target: [1. 0. 0.]\n",
      "Example prediction: [0.9966, 0.003, 0.0004]\n",
      "Epoch 29 Training Loss: 0.2598 Training Accuracy: 0.92 Val Loss: 0.187 Val Accuracy: 0.8\n"
     ]
    },
    {
     "name": "stderr",
     "output_type": "stream",
     "text": [
      "100%|███████████████████████████████████████████████████████████████████████████████████| 3/3 [00:00<00:00, 750.01it/s]\n"
     ]
    },
    {
     "name": "stdout",
     "output_type": "stream",
     "text": [
      "Example target: [1. 0. 0.]\n",
      "Example prediction: [0.998, 0.0018, 0.0002]\n",
      "Epoch 30 Training Loss: 0.2693 Training Accuracy: 0.92 Val Loss: 0.1592 Val Accuracy: 1.0\n"
     ]
    },
    {
     "name": "stderr",
     "output_type": "stream",
     "text": [
      "100%|███████████████████████████████████████████████████████████████████████████████████| 3/3 [00:00<00:00, 493.02it/s]\n"
     ]
    },
    {
     "name": "stdout",
     "output_type": "stream",
     "text": [
      "Example target: [1. 0. 0.]\n",
      "Example prediction: [0.9882, 0.0109, 0.0009]\n",
      "Epoch 31 Training Loss: 0.4045 Training Accuracy: 0.72 Val Loss: 0.1622 Val Accuracy: 1.0\n"
     ]
    },
    {
     "name": "stderr",
     "output_type": "stream",
     "text": [
      "100%|███████████████████████████████████████████████████████████████████████████████████| 3/3 [00:00<00:00, 374.95it/s]\n"
     ]
    },
    {
     "name": "stdout",
     "output_type": "stream",
     "text": [
      "Example target: [0. 1. 0.]\n",
      "Example prediction: [0.07, 0.8336, 0.0964]\n",
      "Epoch 32 Training Loss: 0.2175 Training Accuracy: 0.9733 Val Loss: 0.2447 Val Accuracy: 0.8667\n"
     ]
    },
    {
     "name": "stderr",
     "output_type": "stream",
     "text": [
      "100%|███████████████████████████████████████████████████████████████████████████████████| 3/3 [00:00<00:00, 374.98it/s]\n"
     ]
    },
    {
     "name": "stdout",
     "output_type": "stream",
     "text": [
      "Example target: [0. 0. 1.]\n",
      "Example prediction: [0.0001, 0.0029, 0.9971]\n",
      "Epoch 33 Training Loss: 0.298 Training Accuracy: 0.8867 Val Loss: 0.6821 Val Accuracy: 0.8\n"
     ]
    },
    {
     "name": "stderr",
     "output_type": "stream",
     "text": [
      "100%|███████████████████████████████████████████████████████████████████████████████████| 3/3 [00:00<00:00, 749.88it/s]\n"
     ]
    },
    {
     "name": "stdout",
     "output_type": "stream",
     "text": [
      "Example target: [1. 0. 0.]\n",
      "Example prediction: [0.9813, 0.0165, 0.0022]\n",
      "Epoch 34 Training Loss: 0.7278 Training Accuracy: 0.82 Val Loss: 0.1706 Val Accuracy: 1.0\n"
     ]
    },
    {
     "name": "stderr",
     "output_type": "stream",
     "text": [
      "100%|███████████████████████████████████████████████████████████████████████████████████| 3/3 [00:00<00:00, 375.09it/s]\n"
     ]
    },
    {
     "name": "stdout",
     "output_type": "stream",
     "text": [
      "Example target: [1. 0. 0.]\n",
      "Example prediction: [0.9778, 0.0209, 0.0013]\n",
      "Epoch 35 Training Loss: 0.2834 Training Accuracy: 0.9733 Val Loss: 0.4489 Val Accuracy: 0.7333\n"
     ]
    },
    {
     "name": "stderr",
     "output_type": "stream",
     "text": [
      "100%|███████████████████████████████████████████████████████████████████████████████████| 3/3 [00:00<00:00, 750.05it/s]\n"
     ]
    },
    {
     "name": "stdout",
     "output_type": "stream",
     "text": [
      "Example target: [0. 1. 0.]\n",
      "Example prediction: [0.0561, 0.799, 0.1449]\n",
      "Epoch 36 Training Loss: 0.4562 Training Accuracy: 0.74 Val Loss: 0.2269 Val Accuracy: 0.8667\n"
     ]
    },
    {
     "name": "stderr",
     "output_type": "stream",
     "text": [
      "100%|███████████████████████████████████████████████████████████████████████████████████| 3/3 [00:00<00:00, 249.93it/s]\n"
     ]
    },
    {
     "name": "stdout",
     "output_type": "stream",
     "text": [
      "Example target: [0. 0. 1.]\n",
      "Example prediction: [0.0004, 0.0196, 0.9801]\n",
      "Epoch 37 Training Loss: 0.2854 Training Accuracy: 0.9533 Val Loss: 0.2361 Val Accuracy: 0.8\n"
     ]
    },
    {
     "name": "stderr",
     "output_type": "stream",
     "text": [
      "100%|███████████████████████████████████████████████████████████████████████████████████| 3/3 [00:00<00:00, 375.03it/s]\n"
     ]
    },
    {
     "name": "stdout",
     "output_type": "stream",
     "text": [
      "Example target: [0. 1. 0.]\n",
      "Example prediction: [0.0462, 0.7339, 0.2199]\n",
      "Epoch 38 Training Loss: 0.3292 Training Accuracy: 0.8867 Val Loss: 0.1259 Val Accuracy: 1.0\n"
     ]
    },
    {
     "name": "stderr",
     "output_type": "stream",
     "text": [
      "100%|████████████████████████████████████████████████████████████████████████████████████████████| 3/3 [00:00<?, ?it/s]\n"
     ]
    },
    {
     "name": "stdout",
     "output_type": "stream",
     "text": [
      "Example target: [0. 0. 1.]\n",
      "Example prediction: [0.0062, 0.4617, 0.5321]\n",
      "Epoch 39 Training Loss: 0.3171 Training Accuracy: 0.8667 Val Loss: 0.2592 Val Accuracy: 0.8\n"
     ]
    },
    {
     "name": "stderr",
     "output_type": "stream",
     "text": [
      "100%|███████████████████████████████████████████████████████████████████████████████████| 3/3 [00:00<00:00, 374.98it/s]\n"
     ]
    },
    {
     "name": "stdout",
     "output_type": "stream",
     "text": [
      "Example target: [1. 0. 0.]\n",
      "Example prediction: [0.9611, 0.0372, 0.0017]\n",
      "Epoch 40 Training Loss: 0.2636 Training Accuracy: 0.9267 Val Loss: 0.1265 Val Accuracy: 1.0\n"
     ]
    },
    {
     "name": "stderr",
     "output_type": "stream",
     "text": [
      "100%|███████████████████████████████████████████████████████████████████████████████████| 3/3 [00:00<00:00, 375.04it/s]\n"
     ]
    },
    {
     "name": "stdout",
     "output_type": "stream",
     "text": [
      "Example target: [1. 0. 0.]\n",
      "Example prediction: [0.9964, 0.0035, 0.0002]\n",
      "Epoch 41 Training Loss: 0.2464 Training Accuracy: 0.9733 Val Loss: 0.1914 Val Accuracy: 0.8\n"
     ]
    },
    {
     "name": "stderr",
     "output_type": "stream",
     "text": [
      "100%|███████████████████████████████████████████████████████████████████████████████████| 3/3 [00:00<00:00, 749.79it/s]\n"
     ]
    },
    {
     "name": "stdout",
     "output_type": "stream",
     "text": [
      "Example target: [1. 0. 0.]\n",
      "Example prediction: [0.9983, 0.0017, 0.0]\n",
      "Epoch 42 Training Loss: 0.3829 Training Accuracy: 0.7533 Val Loss: 0.152 Val Accuracy: 1.0\n"
     ]
    },
    {
     "name": "stderr",
     "output_type": "stream",
     "text": [
      "100%|███████████████████████████████████████████████████████████████████████████████████| 3/3 [00:00<00:00, 749.88it/s]\n"
     ]
    },
    {
     "name": "stdout",
     "output_type": "stream",
     "text": [
      "Example target: [0. 1. 0.]\n",
      "Example prediction: [0.0523, 0.8808, 0.0668]\n",
      "Epoch 43 Training Loss: 0.2102 Training Accuracy: 0.9867 Val Loss: 0.2307 Val Accuracy: 0.8667\n"
     ]
    },
    {
     "name": "stderr",
     "output_type": "stream",
     "text": [
      "100%|███████████████████████████████████████████████████████████████████████████████████| 3/3 [00:00<00:00, 750.01it/s]\n"
     ]
    },
    {
     "name": "stdout",
     "output_type": "stream",
     "text": [
      "Example target: [1. 0. 0.]\n",
      "Example prediction: [0.9779, 0.0214, 0.0007]\n",
      "Epoch 44 Training Loss: 0.2711 Training Accuracy: 0.8933 Val Loss: 0.1018 Val Accuracy: 1.0\n"
     ]
    },
    {
     "name": "stderr",
     "output_type": "stream",
     "text": [
      "100%|███████████████████████████████████████████████████████████████████████████████████| 3/3 [00:00<00:00, 749.83it/s]\n"
     ]
    },
    {
     "name": "stdout",
     "output_type": "stream",
     "text": [
      "Example target: [0. 0. 1.]\n",
      "Example prediction: [0.0003, 0.0261, 0.9736]\n",
      "Epoch 45 Training Loss: 0.1682 Training Accuracy: 0.96 Val Loss: 0.1138 Val Accuracy: 1.0\n"
     ]
    },
    {
     "name": "stderr",
     "output_type": "stream",
     "text": [
      "100%|███████████████████████████████████████████████████████████████████████████████████| 3/3 [00:00<00:00, 750.19it/s]\n"
     ]
    },
    {
     "name": "stdout",
     "output_type": "stream",
     "text": [
      "Example target: [0. 0. 1.]\n",
      "Example prediction: [0.0052, 0.5538, 0.441]\n",
      "Epoch 46 Training Loss: 0.2084 Training Accuracy: 0.94 Val Loss: 0.1814 Val Accuracy: 0.9333\n"
     ]
    },
    {
     "name": "stderr",
     "output_type": "stream",
     "text": [
      "100%|███████████████████████████████████████████████████████████████████████████████████| 3/3 [00:00<00:00, 375.09it/s]\n"
     ]
    },
    {
     "name": "stdout",
     "output_type": "stream",
     "text": [
      "Example target: [0. 1. 0.]\n",
      "Example prediction: [0.0535, 0.8519, 0.0946]\n",
      "Epoch 47 Training Loss: 0.3486 Training Accuracy: 0.7733 Val Loss: 0.1215 Val Accuracy: 1.0\n"
     ]
    },
    {
     "name": "stderr",
     "output_type": "stream",
     "text": [
      "100%|███████████████████████████████████████████████████████████████████████████████████| 3/3 [00:00<00:00, 374.99it/s]\n"
     ]
    },
    {
     "name": "stdout",
     "output_type": "stream",
     "text": [
      "Example target: [0. 1. 0.]\n",
      "Example prediction: [0.0505, 0.8634, 0.0861]\n",
      "Epoch 48 Training Loss: 0.1431 Training Accuracy: 0.9933 Val Loss: 0.1303 Val Accuracy: 1.0\n"
     ]
    },
    {
     "name": "stderr",
     "output_type": "stream",
     "text": [
      "100%|███████████████████████████████████████████████████████████████████████████████████| 3/3 [00:00<00:00, 374.57it/s]\n"
     ]
    },
    {
     "name": "stdout",
     "output_type": "stream",
     "text": [
      "Example target: [0. 1. 0.]\n",
      "Example prediction: [0.0363, 0.7942, 0.1695]\n",
      "Epoch 49 Training Loss: 0.1404 Training Accuracy: 0.9867 Val Loss: 0.0767 Val Accuracy: 1.0\n"
     ]
    },
    {
     "name": "stderr",
     "output_type": "stream",
     "text": [
      "100%|███████████████████████████████████████████████████████████████████████████████████| 3/3 [00:00<00:00, 374.95it/s]\n"
     ]
    },
    {
     "name": "stdout",
     "output_type": "stream",
     "text": [
      "Example target: [1. 0. 0.]\n",
      "Example prediction: [0.9833, 0.0166, 0.0002]\n",
      "Epoch 50 Training Loss: 0.2166 Training Accuracy: 0.94 Val Loss: 0.2202 Val Accuracy: 0.8667\n"
     ]
    },
    {
     "name": "stderr",
     "output_type": "stream",
     "text": [
      "100%|███████████████████████████████████████████████████████████████████████████████████| 3/3 [00:00<00:00, 750.10it/s]\n"
     ]
    },
    {
     "name": "stdout",
     "output_type": "stream",
     "text": [
      "Example target: [1. 0. 0.]\n",
      "Example prediction: [0.9983, 0.0017, 0.0]\n",
      "Epoch 51 Training Loss: 0.2054 Training Accuracy: 0.92 Val Loss: 0.2168 Val Accuracy: 0.8667\n"
     ]
    },
    {
     "name": "stderr",
     "output_type": "stream",
     "text": [
      "100%|███████████████████████████████████████████████████████████████████████████████████| 3/3 [00:00<00:00, 374.99it/s]\n"
     ]
    },
    {
     "name": "stdout",
     "output_type": "stream",
     "text": [
      "Example target: [1. 0. 0.]\n",
      "Example prediction: [0.9783, 0.02, 0.0017]\n",
      "Epoch 52 Training Loss: 0.3215 Training Accuracy: 0.84 Val Loss: 0.4751 Val Accuracy: 0.8\n"
     ]
    },
    {
     "name": "stderr",
     "output_type": "stream",
     "text": [
      "100%|███████████████████████████████████████████████████████████████████████████████████| 3/3 [00:00<00:00, 749.88it/s]\n"
     ]
    },
    {
     "name": "stdout",
     "output_type": "stream",
     "text": [
      "Example target: [1. 0. 0.]\n",
      "Example prediction: [0.9864, 0.0135, 0.0001]\n",
      "Epoch 53 Training Loss: 0.7495 Training Accuracy: 0.62 Val Loss: 0.9475 Val Accuracy: 0.7333\n"
     ]
    },
    {
     "name": "stderr",
     "output_type": "stream",
     "text": [
      "100%|███████████████████████████████████████████████████████████████████████████████████| 3/3 [00:00<00:00, 749.83it/s]\n"
     ]
    },
    {
     "name": "stdout",
     "output_type": "stream",
     "text": [
      "Example target: [0. 1. 0.]\n",
      "Example prediction: [0.0252, 0.7405, 0.2343]\n",
      "Epoch 54 Training Loss: 0.5699 Training Accuracy: 0.8333 Val Loss: 0.1551 Val Accuracy: 1.0\n"
     ]
    },
    {
     "name": "stderr",
     "output_type": "stream",
     "text": [
      "100%|███████████████████████████████████████████████████████████████████████████████████| 3/3 [00:00<00:00, 750.23it/s]\n"
     ]
    },
    {
     "name": "stdout",
     "output_type": "stream",
     "text": [
      "Example target: [1. 0. 0.]\n",
      "Example prediction: [0.9963, 0.0035, 0.0002]\n",
      "Epoch 55 Training Loss: 0.2963 Training Accuracy: 0.8933 Val Loss: 0.1865 Val Accuracy: 0.8\n"
     ]
    },
    {
     "name": "stderr",
     "output_type": "stream",
     "text": [
      "100%|███████████████████████████████████████████████████████████████████████████████████| 3/3 [00:00<00:00, 749.61it/s]\n"
     ]
    },
    {
     "name": "stdout",
     "output_type": "stream",
     "text": [
      "Example target: [0. 0. 1.]\n",
      "Example prediction: [0.0003, 0.0746, 0.9251]\n",
      "Epoch 56 Training Loss: 0.2807 Training Accuracy: 0.9067 Val Loss: 0.0825 Val Accuracy: 1.0\n"
     ]
    },
    {
     "name": "stderr",
     "output_type": "stream",
     "text": [
      "100%|███████████████████████████████████████████████████████████████████████████████████| 3/3 [00:00<00:00, 749.61it/s]\n"
     ]
    },
    {
     "name": "stdout",
     "output_type": "stream",
     "text": [
      "Example target: [0. 1. 0.]\n",
      "Example prediction: [0.0769, 0.8743, 0.0488]\n",
      "Epoch 57 Training Loss: 0.2783 Training Accuracy: 0.86 Val Loss: 0.2186 Val Accuracy: 0.8667\n"
     ]
    },
    {
     "name": "stderr",
     "output_type": "stream",
     "text": [
      "100%|███████████████████████████████████████████████████████████████████████████████████| 3/3 [00:00<00:00, 749.92it/s]\n"
     ]
    },
    {
     "name": "stdout",
     "output_type": "stream",
     "text": [
      "Example target: [0. 1. 0.]\n",
      "Example prediction: [0.0542, 0.9071, 0.0387]\n",
      "Epoch 58 Training Loss: 0.1664 Training Accuracy: 0.9467 Val Loss: 0.2435 Val Accuracy: 0.8667\n"
     ]
    },
    {
     "name": "stderr",
     "output_type": "stream",
     "text": [
      "100%|███████████████████████████████████████████████████████████████████████████████████| 3/3 [00:00<00:00, 750.23it/s]\n"
     ]
    },
    {
     "name": "stdout",
     "output_type": "stream",
     "text": [
      "Example target: [0. 1. 0.]\n",
      "Example prediction: [0.0322, 0.8447, 0.1231]\n",
      "Epoch 59 Training Loss: 0.1764 Training Accuracy: 0.94 Val Loss: 0.0583 Val Accuracy: 1.0\n"
     ]
    },
    {
     "name": "stderr",
     "output_type": "stream",
     "text": [
      "100%|███████████████████████████████████████████████████████████████████████████████████| 3/3 [00:00<00:00, 375.02it/s]\n"
     ]
    },
    {
     "name": "stdout",
     "output_type": "stream",
     "text": [
      "Example target: [1. 0. 0.]\n",
      "Example prediction: [0.9952, 0.0048, 0.0]\n",
      "Epoch 60 Training Loss: 0.1833 Training Accuracy: 0.94 Val Loss: 0.0997 Val Accuracy: 1.0\n"
     ]
    },
    {
     "name": "stderr",
     "output_type": "stream",
     "text": [
      "100%|███████████████████████████████████████████████████████████████████████████████████| 3/3 [00:00<00:00, 374.93it/s]\n"
     ]
    },
    {
     "name": "stdout",
     "output_type": "stream",
     "text": [
      "Example target: [0. 0. 1.]\n",
      "Example prediction: [0.0002, 0.0249, 0.9749]\n",
      "Epoch 61 Training Loss: 0.1942 Training Accuracy: 0.9667 Val Loss: 0.1024 Val Accuracy: 1.0\n"
     ]
    },
    {
     "name": "stderr",
     "output_type": "stream",
     "text": [
      "100%|███████████████████████████████████████████████████████████████████████████████████| 3/3 [00:00<00:00, 750.41it/s]\n"
     ]
    },
    {
     "name": "stdout",
     "output_type": "stream",
     "text": [
      "Example target: [0. 0. 1.]\n",
      "Example prediction: [0.0002, 0.02, 0.9798]\n",
      "Epoch 62 Training Loss: 0.233 Training Accuracy: 0.86 Val Loss: 0.1158 Val Accuracy: 1.0\n"
     ]
    },
    {
     "name": "stderr",
     "output_type": "stream",
     "text": [
      "100%|███████████████████████████████████████████████████████████████████████████████████| 3/3 [00:00<00:00, 750.10it/s]\n"
     ]
    },
    {
     "name": "stdout",
     "output_type": "stream",
     "text": [
      "Example target: [0. 0. 1.]\n",
      "Example prediction: [0.0001, 0.0165, 0.9834]\n",
      "Epoch 63 Training Loss: 0.6114 Training Accuracy: 0.7333 Val Loss: 0.2436 Val Accuracy: 0.8\n"
     ]
    },
    {
     "name": "stderr",
     "output_type": "stream",
     "text": [
      "100%|███████████████████████████████████████████████████████████████████████████████████| 3/3 [00:00<00:00, 750.19it/s]\n"
     ]
    },
    {
     "name": "stdout",
     "output_type": "stream",
     "text": [
      "Example target: [1. 0. 0.]\n",
      "Example prediction: [0.9989, 0.0011, 0.0]\n",
      "Epoch 64 Training Loss: 0.4043 Training Accuracy: 0.8467 Val Loss: 0.1263 Val Accuracy: 1.0\n"
     ]
    },
    {
     "name": "stderr",
     "output_type": "stream",
     "text": [
      "100%|███████████████████████████████████████████████████████████████████████████████████| 3/3 [00:00<00:00, 374.87it/s]\n"
     ]
    },
    {
     "name": "stdout",
     "output_type": "stream",
     "text": [
      "Example target: [0. 1. 0.]\n",
      "Example prediction: [0.0162, 0.8781, 0.1057]\n",
      "Epoch 65 Training Loss: 0.289 Training Accuracy: 0.8867 Val Loss: 0.1208 Val Accuracy: 1.0\n"
     ]
    },
    {
     "name": "stderr",
     "output_type": "stream",
     "text": [
      "100%|███████████████████████████████████████████████████████████████████████████████████| 3/3 [00:00<00:00, 374.70it/s]\n"
     ]
    },
    {
     "name": "stdout",
     "output_type": "stream",
     "text": [
      "Example target: [0. 1. 0.]\n",
      "Example prediction: [0.0177, 0.8969, 0.0855]\n",
      "Epoch 66 Training Loss: 0.1786 Training Accuracy: 0.9733 Val Loss: 0.0875 Val Accuracy: 1.0\n"
     ]
    },
    {
     "name": "stderr",
     "output_type": "stream",
     "text": [
      "100%|███████████████████████████████████████████████████████████████████████████████████| 3/3 [00:00<00:00, 747.56it/s]\n"
     ]
    },
    {
     "name": "stdout",
     "output_type": "stream",
     "text": [
      "Example target: [0. 0. 1.]\n",
      "Example prediction: [0.0011, 0.1043, 0.8946]\n",
      "Epoch 67 Training Loss: 0.1403 Training Accuracy: 0.9667 Val Loss: 0.0768 Val Accuracy: 1.0\n"
     ]
    },
    {
     "name": "stderr",
     "output_type": "stream",
     "text": [
      "100%|███████████████████████████████████████████████████████████████████████████████████| 3/3 [00:00<00:00, 749.96it/s]\n"
     ]
    },
    {
     "name": "stdout",
     "output_type": "stream",
     "text": [
      "Example target: [0. 0. 1.]\n",
      "Example prediction: [0.0025, 0.2941, 0.7033]\n",
      "Epoch 68 Training Loss: 0.1283 Training Accuracy: 0.9733 Val Loss: 0.1561 Val Accuracy: 0.9333\n"
     ]
    },
    {
     "name": "stderr",
     "output_type": "stream",
     "text": [
      "100%|███████████████████████████████████████████████████████████████████████████████████| 3/3 [00:00<00:00, 374.95it/s]\n"
     ]
    },
    {
     "name": "stdout",
     "output_type": "stream",
     "text": [
      "Example target: [0. 1. 0.]\n",
      "Example prediction: [0.0155, 0.9762, 0.0083]\n",
      "Epoch 69 Training Loss: 0.1501 Training Accuracy: 0.96 Val Loss: 0.3015 Val Accuracy: 0.7333\n"
     ]
    },
    {
     "name": "stderr",
     "output_type": "stream",
     "text": [
      "100%|███████████████████████████████████████████████████████████████████████████████████| 3/3 [00:00<00:00, 749.56it/s]\n"
     ]
    },
    {
     "name": "stdout",
     "output_type": "stream",
     "text": [
      "Example target: [0. 0. 1.]\n",
      "Example prediction: [0.0001, 0.0311, 0.9688]\n",
      "Epoch 70 Training Loss: 0.227 Training Accuracy: 0.92 Val Loss: 0.0734 Val Accuracy: 1.0\n"
     ]
    },
    {
     "name": "stderr",
     "output_type": "stream",
     "text": [
      "100%|███████████████████████████████████████████████████████████████████████████████████| 3/3 [00:00<00:00, 750.05it/s]\n"
     ]
    },
    {
     "name": "stdout",
     "output_type": "stream",
     "text": [
      "Example target: [0. 1. 0.]\n",
      "Example prediction: [0.028, 0.9683, 0.0037]\n",
      "Epoch 71 Training Loss: 0.5691 Training Accuracy: 0.6867 Val Loss: 0.7931 Val Accuracy: 0.7333\n"
     ]
    },
    {
     "name": "stderr",
     "output_type": "stream",
     "text": [
      "100%|███████████████████████████████████████████████████████████████████████████████████| 3/3 [00:00<00:00, 744.60it/s]\n"
     ]
    },
    {
     "name": "stdout",
     "output_type": "stream",
     "text": [
      "Example target: [1. 0. 0.]\n",
      "Example prediction: [0.9951, 0.0049, 0.0001]\n",
      "Epoch 72 Training Loss: 0.4102 Training Accuracy: 0.8533 Val Loss: 0.0677 Val Accuracy: 1.0\n"
     ]
    },
    {
     "name": "stderr",
     "output_type": "stream",
     "text": [
      "100%|███████████████████████████████████████████████████████████████████████████████████| 3/3 [00:00<00:00, 373.60it/s]\n"
     ]
    },
    {
     "name": "stdout",
     "output_type": "stream",
     "text": [
      "Example target: [1. 0. 0.]\n",
      "Example prediction: [0.9992, 0.0008, 0.0]\n",
      "Epoch 73 Training Loss: 0.1589 Training Accuracy: 0.9667 Val Loss: 0.0623 Val Accuracy: 1.0\n"
     ]
    },
    {
     "name": "stderr",
     "output_type": "stream",
     "text": [
      "100%|███████████████████████████████████████████████████████████████████████████████████| 3/3 [00:00<00:00, 495.82it/s]\n"
     ]
    },
    {
     "name": "stdout",
     "output_type": "stream",
     "text": [
      "Example target: [1. 0. 0.]\n",
      "Example prediction: [0.9971, 0.0028, 0.0]\n",
      "Epoch 74 Training Loss: 0.1465 Training Accuracy: 0.98 Val Loss: 0.0945 Val Accuracy: 1.0\n"
     ]
    },
    {
     "name": "stderr",
     "output_type": "stream",
     "text": [
      "100%|███████████████████████████████████████████████████████████████████████████████████| 3/3 [00:00<00:00, 749.92it/s]\n"
     ]
    },
    {
     "name": "stdout",
     "output_type": "stream",
     "text": [
      "Example target: [0. 0. 1.]\n",
      "Example prediction: [0.0011, 0.1615, 0.8375]\n",
      "Epoch 75 Training Loss: 0.1303 Training Accuracy: 0.98 Val Loss: 0.0493 Val Accuracy: 1.0\n"
     ]
    },
    {
     "name": "stderr",
     "output_type": "stream",
     "text": [
      "100%|███████████████████████████████████████████████████████████████████████████████████| 3/3 [00:00<00:00, 749.96it/s]\n"
     ]
    },
    {
     "name": "stdout",
     "output_type": "stream",
     "text": [
      "Example target: [1. 0. 0.]\n",
      "Example prediction: [0.9996, 0.0004, 0.0]\n",
      "Epoch 76 Training Loss: 0.1282 Training Accuracy: 0.98 Val Loss: 0.0761 Val Accuracy: 1.0\n"
     ]
    },
    {
     "name": "stderr",
     "output_type": "stream",
     "text": [
      "100%|███████████████████████████████████████████████████████████████████████████████████| 3/3 [00:00<00:00, 749.61it/s]\n"
     ]
    },
    {
     "name": "stdout",
     "output_type": "stream",
     "text": [
      "Example target: [0. 0. 1.]\n",
      "Example prediction: [0.0005, 0.0759, 0.9236]\n",
      "Epoch 77 Training Loss: 0.2276 Training Accuracy: 0.9 Val Loss: 0.0432 Val Accuracy: 1.0\n"
     ]
    },
    {
     "name": "stderr",
     "output_type": "stream",
     "text": [
      "100%|████████████████████████████████████████████████████████████████████████████████████████████| 3/3 [00:00<?, ?it/s]\n"
     ]
    },
    {
     "name": "stdout",
     "output_type": "stream",
     "text": [
      "Example target: [1. 0. 0.]\n",
      "Example prediction: [0.9995, 0.0005, 0.0]\n",
      "Epoch 78 Training Loss: 0.1585 Training Accuracy: 0.9667 Val Loss: 0.437 Val Accuracy: 0.7333\n"
     ]
    },
    {
     "name": "stderr",
     "output_type": "stream",
     "text": [
      "100%|███████████████████████████████████████████████████████████████████████████████████| 3/3 [00:00<00:00, 191.96it/s]\n"
     ]
    },
    {
     "name": "stdout",
     "output_type": "stream",
     "text": [
      "Example target: [1. 0. 0.]\n",
      "Example prediction: [0.9933, 0.0063, 0.0004]\n",
      "Epoch 79 Training Loss: 0.6103 Training Accuracy: 0.7 Val Loss: 0.6791 Val Accuracy: 0.8\n"
     ]
    },
    {
     "name": "stderr",
     "output_type": "stream",
     "text": [
      "100%|███████████████████████████████████████████████████████████████████████████████████| 3/3 [00:00<00:00, 301.80it/s]\n"
     ]
    },
    {
     "name": "stdout",
     "output_type": "stream",
     "text": [
      "Example target: [1. 0. 0.]\n",
      "Example prediction: [0.9829, 0.0164, 0.0007]\n",
      "Epoch 80 Training Loss: 0.7298 Training Accuracy: 0.82 Val Loss: 0.0898 Val Accuracy: 1.0\n"
     ]
    },
    {
     "name": "stderr",
     "output_type": "stream",
     "text": [
      "100%|████████████████████████████████████████████████████████████████████████████████████████████| 3/3 [00:00<?, ?it/s]\n"
     ]
    },
    {
     "name": "stdout",
     "output_type": "stream",
     "text": [
      "Example target: [1. 0. 0.]\n",
      "Example prediction: [0.999, 0.0009, 0.0]\n",
      "Epoch 81 Training Loss: 0.2757 Training Accuracy: 0.8733 Val Loss: 0.157 Val Accuracy: 0.9333\n"
     ]
    },
    {
     "name": "stderr",
     "output_type": "stream",
     "text": [
      "100%|████████████████████████████████████████████████████████████████████████████████████████████| 3/3 [00:00<?, ?it/s]\n"
     ]
    },
    {
     "name": "stdout",
     "output_type": "stream",
     "text": [
      "Example target: [1. 0. 0.]\n",
      "Example prediction: [0.9854, 0.0141, 0.0005]\n",
      "Epoch 82 Training Loss: 0.3284 Training Accuracy: 0.84 Val Loss: 0.0817 Val Accuracy: 1.0\n"
     ]
    },
    {
     "name": "stderr",
     "output_type": "stream",
     "text": [
      "100%|████████████████████████████████████████████████████████████████████████████████████████████| 3/3 [00:00<?, ?it/s]\n"
     ]
    },
    {
     "name": "stdout",
     "output_type": "stream",
     "text": [
      "Example target: [1. 0. 0.]\n",
      "Example prediction: [0.9996, 0.0004, 0.0]\n",
      "Epoch 83 Training Loss: 0.211 Training Accuracy: 0.9333 Val Loss: 0.0787 Val Accuracy: 1.0\n"
     ]
    },
    {
     "name": "stderr",
     "output_type": "stream",
     "text": [
      "100%|████████████████████████████████████████████████████████████████████████████████████████████| 3/3 [00:00<?, ?it/s]\n"
     ]
    },
    {
     "name": "stdout",
     "output_type": "stream",
     "text": [
      "Example target: [0. 1. 0.]\n",
      "Example prediction: [0.0299, 0.8887, 0.0814]\n",
      "Epoch 84 Training Loss: 0.1905 Training Accuracy: 0.9667 Val Loss: 0.2366 Val Accuracy: 0.8667\n"
     ]
    },
    {
     "name": "stderr",
     "output_type": "stream",
     "text": [
      "100%|████████████████████████████████████████████████████████████████████████████████████████████| 3/3 [00:00<?, ?it/s]\n"
     ]
    },
    {
     "name": "stdout",
     "output_type": "stream",
     "text": [
      "Example target: [0. 0. 1.]\n",
      "Example prediction: [0.0041, 0.6833, 0.3126]\n",
      "Epoch 85 Training Loss: 0.2025 Training Accuracy: 0.9333 Val Loss: 0.243 Val Accuracy: 0.8667\n"
     ]
    },
    {
     "name": "stderr",
     "output_type": "stream",
     "text": [
      "100%|████████████████████████████████████████████████████████████████████████████████████████████| 3/3 [00:00<?, ?it/s]\n"
     ]
    },
    {
     "name": "stdout",
     "output_type": "stream",
     "text": [
      "Example target: [0. 0. 1.]\n",
      "Example prediction: [0.0014, 0.1812, 0.8175]\n",
      "Epoch 86 Training Loss: 0.1557 Training Accuracy: 0.9733 Val Loss: 0.0614 Val Accuracy: 1.0\n"
     ]
    },
    {
     "name": "stderr",
     "output_type": "stream",
     "text": [
      "100%|████████████████████████████████████████████████████████████████████████████████████████████| 3/3 [00:00<?, ?it/s]\n"
     ]
    },
    {
     "name": "stdout",
     "output_type": "stream",
     "text": [
      "Example target: [1. 0. 0.]\n",
      "Example prediction: [0.9975, 0.0024, 0.0]\n",
      "Epoch 87 Training Loss: 0.2213 Training Accuracy: 0.84 Val Loss: 0.1441 Val Accuracy: 0.9333\n"
     ]
    },
    {
     "name": "stderr",
     "output_type": "stream",
     "text": [
      "100%|████████████████████████████████████████████████████████████████████████████████████████████| 3/3 [00:00<?, ?it/s]\n"
     ]
    },
    {
     "name": "stdout",
     "output_type": "stream",
     "text": [
      "Example target: [1. 0. 0.]\n",
      "Example prediction: [0.9993, 0.0007, 0.0]\n",
      "Epoch 88 Training Loss: 0.377 Training Accuracy: 0.8267 Val Loss: 0.5442 Val Accuracy: 0.7333\n"
     ]
    },
    {
     "name": "stderr",
     "output_type": "stream",
     "text": [
      "100%|███████████████████████████████████████████████████████████████████████████████████| 3/3 [00:00<00:00, 192.12it/s]\n"
     ]
    },
    {
     "name": "stdout",
     "output_type": "stream",
     "text": [
      "Example target: [1. 0. 0.]\n",
      "Example prediction: [0.9992, 0.0008, 0.0]\n",
      "Epoch 89 Training Loss: 0.2569 Training Accuracy: 0.8667 Val Loss: 0.0875 Val Accuracy: 1.0\n"
     ]
    },
    {
     "name": "stderr",
     "output_type": "stream",
     "text": [
      "100%|███████████████████████████████████████████████████████████████████████████████████| 3/3 [00:00<00:00, 374.97it/s]\n"
     ]
    },
    {
     "name": "stdout",
     "output_type": "stream",
     "text": [
      "Example target: [1. 0. 0.]\n",
      "Example prediction: [0.9965, 0.0035, 0.0]\n",
      "Epoch 90 Training Loss: 0.1575 Training Accuracy: 0.98 Val Loss: 0.2959 Val Accuracy: 0.7333\n"
     ]
    },
    {
     "name": "stderr",
     "output_type": "stream",
     "text": [
      "100%|███████████████████████████████████████████████████████████████████████████████████| 3/3 [00:00<00:00, 187.51it/s]\n"
     ]
    },
    {
     "name": "stdout",
     "output_type": "stream",
     "text": [
      "Example target: [1. 0. 0.]\n",
      "Example prediction: [0.9993, 0.0007, 0.0]\n",
      "Epoch 91 Training Loss: 0.1801 Training Accuracy: 0.9333 Val Loss: 0.3737 Val Accuracy: 0.7333\n"
     ]
    },
    {
     "name": "stderr",
     "output_type": "stream",
     "text": [
      "100%|███████████████████████████████████████████████████████████████████████████████████| 3/3 [00:00<00:00, 374.97it/s]\n"
     ]
    },
    {
     "name": "stdout",
     "output_type": "stream",
     "text": [
      "Example target: [0. 0. 1.]\n",
      "Example prediction: [0.0006, 0.228, 0.7714]\n",
      "Epoch 92 Training Loss: 0.2925 Training Accuracy: 0.84 Val Loss: 0.1224 Val Accuracy: 1.0\n"
     ]
    },
    {
     "name": "stderr",
     "output_type": "stream",
     "text": [
      "100%|████████████████████████████████████████████████████████████████████████████████████████████| 3/3 [00:00<?, ?it/s]\n"
     ]
    },
    {
     "name": "stdout",
     "output_type": "stream",
     "text": [
      "Example target: [0. 0. 1.]\n",
      "Example prediction: [0.0009, 0.2798, 0.7192]\n",
      "Epoch 93 Training Loss: 0.1159 Training Accuracy: 0.9867 Val Loss: 0.0878 Val Accuracy: 1.0\n"
     ]
    },
    {
     "name": "stderr",
     "output_type": "stream",
     "text": [
      "100%|███████████████████████████████████████████████████████████████████████████████████| 3/3 [00:00<00:00, 750.05it/s]\n"
     ]
    },
    {
     "name": "stdout",
     "output_type": "stream",
     "text": [
      "Example target: [0. 0. 1.]\n",
      "Example prediction: [0.0001, 0.0165, 0.9834]\n",
      "Epoch 94 Training Loss: 0.1244 Training Accuracy: 0.98 Val Loss: 0.0332 Val Accuracy: 1.0\n"
     ]
    },
    {
     "name": "stderr",
     "output_type": "stream",
     "text": [
      "100%|███████████████████████████████████████████████████████████████████████████████████| 3/3 [00:00<00:00, 749.92it/s]\n"
     ]
    },
    {
     "name": "stdout",
     "output_type": "stream",
     "text": [
      "Example target: [0. 0. 1.]\n",
      "Example prediction: [0.0001, 0.0835, 0.9164]\n",
      "Epoch 95 Training Loss: 0.1138 Training Accuracy: 0.96 Val Loss: 0.0594 Val Accuracy: 1.0\n"
     ]
    },
    {
     "name": "stderr",
     "output_type": "stream",
     "text": [
      "100%|███████████████████████████████████████████████████████████████████████████████████| 3/3 [00:00<00:00, 374.30it/s]\n"
     ]
    },
    {
     "name": "stdout",
     "output_type": "stream",
     "text": [
      "Example target: [1. 0. 0.]\n",
      "Example prediction: [0.9934, 0.0065, 0.0]\n",
      "Epoch 96 Training Loss: 0.1354 Training Accuracy: 0.9867 Val Loss: 0.0441 Val Accuracy: 1.0\n"
     ]
    },
    {
     "name": "stderr",
     "output_type": "stream",
     "text": [
      "100%|███████████████████████████████████████████████████████████████████████████████████| 3/3 [00:00<00:00, 750.10it/s]\n"
     ]
    },
    {
     "name": "stdout",
     "output_type": "stream",
     "text": [
      "Example target: [0. 0. 1.]\n",
      "Example prediction: [0.0004, 0.0728, 0.9269]\n",
      "Epoch 97 Training Loss: 0.1857 Training Accuracy: 0.9133 Val Loss: 0.0561 Val Accuracy: 1.0\n"
     ]
    },
    {
     "name": "stderr",
     "output_type": "stream",
     "text": [
      "100%|███████████████████████████████████████████████████████████████████████████████████| 3/3 [00:00<00:00, 748.72it/s]\n"
     ]
    },
    {
     "name": "stdout",
     "output_type": "stream",
     "text": [
      "Example target: [0. 1. 0.]\n",
      "Example prediction: [0.0252, 0.9223, 0.0525]\n",
      "Epoch 98 Training Loss: 0.0975 Training Accuracy: 0.98 Val Loss: 0.0289 Val Accuracy: 1.0\n"
     ]
    },
    {
     "name": "stderr",
     "output_type": "stream",
     "text": [
      "100%|███████████████████████████████████████████████████████████████████████████████████| 3/3 [00:00<00:00, 192.58it/s]\n"
     ]
    },
    {
     "name": "stdout",
     "output_type": "stream",
     "text": [
      "Example target: [1. 0. 0.]\n",
      "Example prediction: [0.9996, 0.0004, 0.0]\n",
      "Epoch 99 Training Loss: 0.1562 Training Accuracy: 0.9467 Val Loss: 0.0793 Val Accuracy: 1.0\n",
      "Test Loss: 0.1332 Test Accuracy: 0.9333\n"
     ]
    }
   ],
   "source": [
    "\n",
    "hidden_layer_size=20\n",
    "lr=1e-1\n",
    "model_name = \"two_layer_NN_20l_1e-1\"\n",
    "%run -i train_ffnn.py"
   ]
  },
  {
   "cell_type": "code",
   "execution_count": 12,
   "metadata": {},
   "outputs": [
    {
     "name": "stdout",
     "output_type": "stream",
     "text": [
      "Training two_layer_NN_20l_1e-2 neural network on iris with SGD for 100 epochs...\n",
      "Optimizer:\n",
      "{'name': 'SGD', 'lr': 0.01, 'lr_scheduler': 'exponential', 'lr_decay': 0.99, 'stage_length': 1000, 'staircase': False, 'clip_norm': None, 'momentum': 0}\n"
     ]
    },
    {
     "name": "stderr",
     "output_type": "stream",
     "text": [
      "100%|███████████████████████████████████████████████████████████████████████████████████| 3/3 [00:00<00:00, 374.90it/s]\n"
     ]
    },
    {
     "name": "stdout",
     "output_type": "stream",
     "text": [
      "Example target: [0. 1. 0.]\n",
      "Example prediction: [0.1147, 0.6298, 0.2555]\n",
      "Epoch 0 Training Loss: 1.2062 Training Accuracy: 0.5067 Val Loss: 1.532 Val Accuracy: 0.2\n"
     ]
    },
    {
     "name": "stderr",
     "output_type": "stream",
     "text": [
      "100%|███████████████████████████████████████████████████████████████████████████████████| 3/3 [00:00<00:00, 749.96it/s]\n"
     ]
    },
    {
     "name": "stdout",
     "output_type": "stream",
     "text": [
      "Example target: [0. 0. 1.]\n",
      "Example prediction: [0.1528, 0.2235, 0.6237]\n",
      "Epoch 1 Training Loss: 1.0577 Training Accuracy: 0.4933 Val Loss: 1.1984 Val Accuracy: 0.2667\n"
     ]
    },
    {
     "name": "stderr",
     "output_type": "stream",
     "text": [
      "100%|███████████████████████████████████████████████████████████████████████████████████| 3/3 [00:00<00:00, 375.03it/s]\n"
     ]
    },
    {
     "name": "stdout",
     "output_type": "stream",
     "text": [
      "Example target: [0. 1. 0.]\n",
      "Example prediction: [0.1623, 0.1281, 0.7096]\n",
      "Epoch 2 Training Loss: 1.0117 Training Accuracy: 0.54 Val Loss: 1.2714 Val Accuracy: 0.2667\n"
     ]
    },
    {
     "name": "stderr",
     "output_type": "stream",
     "text": [
      "100%|███████████████████████████████████████████████████████████████████████████████████| 3/3 [00:00<00:00, 373.59it/s]\n"
     ]
    },
    {
     "name": "stdout",
     "output_type": "stream",
     "text": [
      "Example target: [1. 0. 0.]\n",
      "Example prediction: [0.2278, 0.3543, 0.4179]\n",
      "Epoch 3 Training Loss: 1.0468 Training Accuracy: 0.4933 Val Loss: 1.1379 Val Accuracy: 0.2667\n"
     ]
    },
    {
     "name": "stderr",
     "output_type": "stream",
     "text": [
      "100%|███████████████████████████████████████████████████████████████████████████████████| 3/3 [00:00<00:00, 750.14it/s]\n"
     ]
    },
    {
     "name": "stdout",
     "output_type": "stream",
     "text": [
      "Example target: [0. 1. 0.]\n",
      "Example prediction: [0.1387, 0.4381, 0.4232]\n",
      "Epoch 4 Training Loss: 0.9787 Training Accuracy: 0.3667 Val Loss: 0.9985 Val Accuracy: 0.4\n"
     ]
    },
    {
     "name": "stderr",
     "output_type": "stream",
     "text": [
      "100%|███████████████████████████████████████████████████████████████████████████████████| 3/3 [00:00<00:00, 749.92it/s]\n"
     ]
    },
    {
     "name": "stdout",
     "output_type": "stream",
     "text": [
      "Example target: [1. 0. 0.]\n",
      "Example prediction: [0.4452, 0.1285, 0.4263]\n",
      "Epoch 5 Training Loss: 0.8896 Training Accuracy: 0.7067 Val Loss: 0.9336 Val Accuracy: 0.4\n"
     ]
    },
    {
     "name": "stderr",
     "output_type": "stream",
     "text": [
      "100%|███████████████████████████████████████████████████████████████████████████████████| 3/3 [00:00<00:00, 750.05it/s]\n"
     ]
    },
    {
     "name": "stdout",
     "output_type": "stream",
     "text": [
      "Example target: [0. 0. 1.]\n",
      "Example prediction: [0.1378, 0.2059, 0.6563]\n",
      "Epoch 6 Training Loss: 0.9251 Training Accuracy: 0.5867 Val Loss: 0.8649 Val Accuracy: 0.5333\n"
     ]
    },
    {
     "name": "stderr",
     "output_type": "stream",
     "text": [
      "100%|███████████████████████████████████████████████████████████████████████████████████| 3/3 [00:00<00:00, 749.88it/s]\n"
     ]
    },
    {
     "name": "stdout",
     "output_type": "stream",
     "text": [
      "Example target: [0. 0. 1.]\n",
      "Example prediction: [0.1787, 0.5001, 0.3212]\n",
      "Epoch 7 Training Loss: 0.8483 Training Accuracy: 0.66 Val Loss: 0.8169 Val Accuracy: 0.7333\n"
     ]
    },
    {
     "name": "stderr",
     "output_type": "stream",
     "text": [
      "100%|███████████████████████████████████████████████████████████████████████████████████| 3/3 [00:00<00:00, 748.18it/s]\n"
     ]
    },
    {
     "name": "stdout",
     "output_type": "stream",
     "text": [
      "Example target: [1. 0. 0.]\n",
      "Example prediction: [0.5913, 0.2486, 0.1601]\n",
      "Epoch 8 Training Loss: 0.8023 Training Accuracy: 0.7467 Val Loss: 0.742 Val Accuracy: 0.7333\n"
     ]
    },
    {
     "name": "stderr",
     "output_type": "stream",
     "text": [
      "100%|███████████████████████████████████████████████████████████████████████████████████| 3/3 [00:00<00:00, 374.98it/s]\n"
     ]
    },
    {
     "name": "stdout",
     "output_type": "stream",
     "text": [
      "Example target: [0. 0. 1.]\n",
      "Example prediction: [0.0914, 0.3573, 0.5513]\n",
      "Epoch 9 Training Loss: 0.7332 Training Accuracy: 0.9067 Val Loss: 0.7478 Val Accuracy: 0.8\n"
     ]
    },
    {
     "name": "stderr",
     "output_type": "stream",
     "text": [
      "100%|███████████████████████████████████████████████████████████████████████████████████| 3/3 [00:00<00:00, 749.92it/s]\n"
     ]
    },
    {
     "name": "stdout",
     "output_type": "stream",
     "text": [
      "Example target: [0. 0. 1.]\n",
      "Example prediction: [0.0832, 0.4625, 0.4544]\n",
      "Epoch 10 Training Loss: 0.7455 Training Accuracy: 0.7067 Val Loss: 0.7257 Val Accuracy: 0.7333\n"
     ]
    },
    {
     "name": "stderr",
     "output_type": "stream",
     "text": [
      "100%|███████████████████████████████████████████████████████████████████████████████████| 3/3 [00:00<00:00, 749.88it/s]\n"
     ]
    },
    {
     "name": "stdout",
     "output_type": "stream",
     "text": [
      "Example target: [1. 0. 0.]\n",
      "Example prediction: [0.4856, 0.369, 0.1454]\n",
      "Epoch 11 Training Loss: 0.7422 Training Accuracy: 0.6933 Val Loss: 0.7796 Val Accuracy: 0.7333\n"
     ]
    },
    {
     "name": "stderr",
     "output_type": "stream",
     "text": [
      "100%|███████████████████████████████████████████████████████████████████████████████████| 3/3 [00:00<00:00, 750.19it/s]\n"
     ]
    },
    {
     "name": "stdout",
     "output_type": "stream",
     "text": [
      "Example target: [1. 0. 0.]\n",
      "Example prediction: [0.7364, 0.1177, 0.1459]\n",
      "Epoch 12 Training Loss: 0.7174 Training Accuracy: 0.74 Val Loss: 0.5783 Val Accuracy: 0.8\n"
     ]
    },
    {
     "name": "stderr",
     "output_type": "stream",
     "text": [
      "100%|███████████████████████████████████████████████████████████████████████████████████| 3/3 [00:00<00:00, 375.03it/s]\n"
     ]
    },
    {
     "name": "stdout",
     "output_type": "stream",
     "text": [
      "Example target: [1. 0. 0.]\n",
      "Example prediction: [0.7096, 0.173, 0.1174]\n",
      "Epoch 13 Training Loss: 0.6649 Training Accuracy: 0.7133 Val Loss: 0.5964 Val Accuracy: 0.9333\n"
     ]
    },
    {
     "name": "stderr",
     "output_type": "stream",
     "text": [
      "100%|███████████████████████████████████████████████████████████████████████████████████| 3/3 [00:00<00:00, 750.01it/s]\n"
     ]
    },
    {
     "name": "stdout",
     "output_type": "stream",
     "text": [
      "Example target: [0. 0. 1.]\n",
      "Example prediction: [0.1024, 0.3451, 0.5525]\n",
      "Epoch 14 Training Loss: 0.601 Training Accuracy: 0.86 Val Loss: 0.5372 Val Accuracy: 1.0\n"
     ]
    },
    {
     "name": "stderr",
     "output_type": "stream",
     "text": [
      "100%|███████████████████████████████████████████████████████████████████████████████████| 3/3 [00:00<00:00, 373.61it/s]\n"
     ]
    },
    {
     "name": "stdout",
     "output_type": "stream",
     "text": [
      "Example target: [1. 0. 0.]\n",
      "Example prediction: [0.5551, 0.3006, 0.1443]\n",
      "Epoch 15 Training Loss: 0.688 Training Accuracy: 0.7867 Val Loss: 0.6405 Val Accuracy: 0.7333\n"
     ]
    },
    {
     "name": "stderr",
     "output_type": "stream",
     "text": [
      "100%|███████████████████████████████████████████████████████████████████████████████████| 3/3 [00:00<00:00, 732.12it/s]\n"
     ]
    },
    {
     "name": "stdout",
     "output_type": "stream",
     "text": [
      "Example target: [0. 0. 1.]\n",
      "Example prediction: [0.0599, 0.1765, 0.7636]\n",
      "Epoch 16 Training Loss: 0.6517 Training Accuracy: 0.7533 Val Loss: 0.5313 Val Accuracy: 0.8\n"
     ]
    },
    {
     "name": "stderr",
     "output_type": "stream",
     "text": [
      "100%|███████████████████████████████████████████████████████████████████████████████████| 3/3 [00:00<00:00, 749.43it/s]\n"
     ]
    },
    {
     "name": "stdout",
     "output_type": "stream",
     "text": [
      "Example target: [1. 0. 0.]\n",
      "Example prediction: [0.8162, 0.0923, 0.0915]\n",
      "Epoch 17 Training Loss: 0.6072 Training Accuracy: 0.7733 Val Loss: 0.4897 Val Accuracy: 0.8\n"
     ]
    },
    {
     "name": "stderr",
     "output_type": "stream",
     "text": [
      "100%|███████████████████████████████████████████████████████████████████████████████████| 3/3 [00:00<00:00, 375.00it/s]\n"
     ]
    },
    {
     "name": "stdout",
     "output_type": "stream",
     "text": [
      "Example target: [0. 1. 0.]\n",
      "Example prediction: [0.1721, 0.3711, 0.4568]\n",
      "Epoch 18 Training Loss: 0.5571 Training Accuracy: 0.86 Val Loss: 0.4737 Val Accuracy: 0.8\n"
     ]
    },
    {
     "name": "stderr",
     "output_type": "stream",
     "text": [
      "100%|███████████████████████████████████████████████████████████████████████████████████| 3/3 [00:00<00:00, 749.61it/s]\n"
     ]
    },
    {
     "name": "stdout",
     "output_type": "stream",
     "text": [
      "Example target: [1. 0. 0.]\n",
      "Example prediction: [0.6909, 0.1974, 0.1116]\n",
      "Epoch 19 Training Loss: 0.5957 Training Accuracy: 0.7133 Val Loss: 0.4995 Val Accuracy: 0.8667\n"
     ]
    },
    {
     "name": "stderr",
     "output_type": "stream",
     "text": [
      "100%|███████████████████████████████████████████████████████████████████████████████████| 3/3 [00:00<00:00, 374.64it/s]\n"
     ]
    },
    {
     "name": "stdout",
     "output_type": "stream",
     "text": [
      "Example target: [0. 1. 0.]\n",
      "Example prediction: [0.1925, 0.4468, 0.3607]\n",
      "Epoch 20 Training Loss: 0.5799 Training Accuracy: 0.7533 Val Loss: 0.4563 Val Accuracy: 1.0\n"
     ]
    },
    {
     "name": "stderr",
     "output_type": "stream",
     "text": [
      "100%|███████████████████████████████████████████████████████████████████████████████████| 3/3 [00:00<00:00, 749.74it/s]\n"
     ]
    },
    {
     "name": "stdout",
     "output_type": "stream",
     "text": [
      "Example target: [0. 0. 1.]\n",
      "Example prediction: [0.0605, 0.373, 0.5665]\n",
      "Epoch 21 Training Loss: 0.5507 Training Accuracy: 0.92 Val Loss: 0.4619 Val Accuracy: 1.0\n"
     ]
    },
    {
     "name": "stderr",
     "output_type": "stream",
     "text": [
      "100%|███████████████████████████████████████████████████████████████████████████████████| 3/3 [00:00<00:00, 747.87it/s]\n"
     ]
    },
    {
     "name": "stdout",
     "output_type": "stream",
     "text": [
      "Example target: [0. 1. 0.]\n",
      "Example prediction: [0.136, 0.4079, 0.4561]\n",
      "Epoch 22 Training Loss: 0.5144 Training Accuracy: 0.94 Val Loss: 0.4356 Val Accuracy: 0.8\n"
     ]
    },
    {
     "name": "stderr",
     "output_type": "stream",
     "text": [
      "100%|███████████████████████████████████████████████████████████████████████████████████| 3/3 [00:00<00:00, 749.07it/s]\n"
     ]
    },
    {
     "name": "stdout",
     "output_type": "stream",
     "text": [
      "Example target: [0. 0. 1.]\n",
      "Example prediction: [0.0617, 0.5478, 0.3905]\n",
      "Epoch 23 Training Loss: 0.5645 Training Accuracy: 0.74 Val Loss: 0.4769 Val Accuracy: 0.7333\n"
     ]
    },
    {
     "name": "stderr",
     "output_type": "stream",
     "text": [
      "100%|███████████████████████████████████████████████████████████████████████████████████| 3/3 [00:00<00:00, 749.92it/s]\n"
     ]
    },
    {
     "name": "stdout",
     "output_type": "stream",
     "text": [
      "Example target: [1. 0. 0.]\n",
      "Example prediction: [0.7643, 0.1306, 0.1051]\n",
      "Epoch 24 Training Loss: 0.5113 Training Accuracy: 0.86 Val Loss: 0.4154 Val Accuracy: 0.8\n"
     ]
    },
    {
     "name": "stderr",
     "output_type": "stream",
     "text": [
      "100%|███████████████████████████████████████████████████████████████████████████████████| 3/3 [00:00<00:00, 749.74it/s]\n"
     ]
    },
    {
     "name": "stdout",
     "output_type": "stream",
     "text": [
      "Example target: [0. 1. 0.]\n",
      "Example prediction: [0.1623, 0.5945, 0.2432]\n",
      "Epoch 25 Training Loss: 0.5322 Training Accuracy: 0.72 Val Loss: 0.4947 Val Accuracy: 0.7333\n"
     ]
    },
    {
     "name": "stderr",
     "output_type": "stream",
     "text": [
      "100%|███████████████████████████████████████████████████████████████████████████████████| 3/3 [00:00<00:00, 374.96it/s]\n"
     ]
    },
    {
     "name": "stdout",
     "output_type": "stream",
     "text": [
      "Example target: [1. 0. 0.]\n",
      "Example prediction: [0.693, 0.2213, 0.0857]\n",
      "Epoch 26 Training Loss: 0.5261 Training Accuracy: 0.82 Val Loss: 0.4423 Val Accuracy: 0.8667\n"
     ]
    },
    {
     "name": "stderr",
     "output_type": "stream",
     "text": [
      "100%|███████████████████████████████████████████████████████████████████████████████████| 3/3 [00:00<00:00, 749.96it/s]\n"
     ]
    },
    {
     "name": "stdout",
     "output_type": "stream",
     "text": [
      "Example target: [1. 0. 0.]\n",
      "Example prediction: [0.8388, 0.1197, 0.0415]\n",
      "Epoch 27 Training Loss: 0.5592 Training Accuracy: 0.7867 Val Loss: 0.4767 Val Accuracy: 0.7333\n"
     ]
    },
    {
     "name": "stderr",
     "output_type": "stream",
     "text": [
      "100%|███████████████████████████████████████████████████████████████████████████████████| 3/3 [00:00<00:00, 749.92it/s]\n"
     ]
    },
    {
     "name": "stdout",
     "output_type": "stream",
     "text": [
      "Example target: [1. 0. 0.]\n",
      "Example prediction: [0.8302, 0.0914, 0.0784]\n",
      "Epoch 28 Training Loss: 0.5085 Training Accuracy: 0.7 Val Loss: 0.3902 Val Accuracy: 0.8\n"
     ]
    },
    {
     "name": "stderr",
     "output_type": "stream",
     "text": [
      "100%|███████████████████████████████████████████████████████████████████████████████████| 3/3 [00:00<00:00, 750.05it/s]\n"
     ]
    },
    {
     "name": "stdout",
     "output_type": "stream",
     "text": [
      "Example target: [1. 0. 0.]\n",
      "Example prediction: [0.9034, 0.0356, 0.0609]\n",
      "Epoch 29 Training Loss: 0.5008 Training Accuracy: 0.8333 Val Loss: 0.4362 Val Accuracy: 0.8\n"
     ]
    },
    {
     "name": "stderr",
     "output_type": "stream",
     "text": [
      "100%|███████████████████████████████████████████████████████████████████████████████████| 3/3 [00:00<00:00, 749.34it/s]\n"
     ]
    },
    {
     "name": "stdout",
     "output_type": "stream",
     "text": [
      "Example target: [1. 0. 0.]\n",
      "Example prediction: [0.9345, 0.0316, 0.0339]\n",
      "Epoch 30 Training Loss: 0.5535 Training Accuracy: 0.76 Val Loss: 0.407 Val Accuracy: 0.8\n"
     ]
    },
    {
     "name": "stderr",
     "output_type": "stream",
     "text": [
      "100%|███████████████████████████████████████████████████████████████████████████████████| 3/3 [00:00<00:00, 749.92it/s]\n"
     ]
    },
    {
     "name": "stdout",
     "output_type": "stream",
     "text": [
      "Example target: [1. 0. 0.]\n",
      "Example prediction: [0.8429, 0.1051, 0.052]\n",
      "Epoch 31 Training Loss: 0.5141 Training Accuracy: 0.8467 Val Loss: 0.377 Val Accuracy: 1.0\n"
     ]
    },
    {
     "name": "stderr",
     "output_type": "stream",
     "text": [
      "100%|███████████████████████████████████████████████████████████████████████████████████| 3/3 [00:00<00:00, 375.02it/s]\n"
     ]
    },
    {
     "name": "stdout",
     "output_type": "stream",
     "text": [
      "Example target: [0. 1. 0.]\n",
      "Example prediction: [0.1573, 0.5806, 0.2621]\n",
      "Epoch 32 Training Loss: 0.4729 Training Accuracy: 0.86 Val Loss: 0.4236 Val Accuracy: 0.7333\n"
     ]
    },
    {
     "name": "stderr",
     "output_type": "stream",
     "text": [
      "100%|███████████████████████████████████████████████████████████████████████████████████| 3/3 [00:00<00:00, 497.51it/s]\n"
     ]
    },
    {
     "name": "stdout",
     "output_type": "stream",
     "text": [
      "Example target: [0. 0. 1.]\n",
      "Example prediction: [0.0248, 0.0575, 0.9177]\n",
      "Epoch 33 Training Loss: 0.4919 Training Accuracy: 0.9133 Val Loss: 0.5132 Val Accuracy: 0.8\n"
     ]
    },
    {
     "name": "stderr",
     "output_type": "stream",
     "text": [
      "100%|███████████████████████████████████████████████████████████████████████████████████| 3/3 [00:00<00:00, 374.59it/s]\n"
     ]
    },
    {
     "name": "stdout",
     "output_type": "stream",
     "text": [
      "Example target: [1. 0. 0.]\n",
      "Example prediction: [0.7714, 0.1608, 0.0678]\n",
      "Epoch 34 Training Loss: 0.6456 Training Accuracy: 0.7067 Val Loss: 0.3825 Val Accuracy: 1.0\n"
     ]
    },
    {
     "name": "stderr",
     "output_type": "stream",
     "text": [
      "100%|███████████████████████████████████████████████████████████████████████████████████| 3/3 [00:00<00:00, 374.99it/s]\n"
     ]
    },
    {
     "name": "stdout",
     "output_type": "stream",
     "text": [
      "Example target: [1. 0. 0.]\n",
      "Example prediction: [0.7495, 0.2094, 0.0411]\n",
      "Epoch 35 Training Loss: 0.5185 Training Accuracy: 0.7733 Val Loss: 0.5331 Val Accuracy: 0.7333\n"
     ]
    },
    {
     "name": "stderr",
     "output_type": "stream",
     "text": [
      "100%|███████████████████████████████████████████████████████████████████████████████████| 3/3 [00:00<00:00, 749.56it/s]\n"
     ]
    },
    {
     "name": "stdout",
     "output_type": "stream",
     "text": [
      "Example target: [0. 1. 0.]\n",
      "Example prediction: [0.1087, 0.6569, 0.2345]\n",
      "Epoch 36 Training Loss: 0.5416 Training Accuracy: 0.8133 Val Loss: 0.4685 Val Accuracy: 0.7333\n"
     ]
    },
    {
     "name": "stderr",
     "output_type": "stream",
     "text": [
      "100%|███████████████████████████████████████████████████████████████████████████████████| 3/3 [00:00<00:00, 375.09it/s]\n"
     ]
    },
    {
     "name": "stdout",
     "output_type": "stream",
     "text": [
      "Example target: [0. 0. 1.]\n",
      "Example prediction: [0.0184, 0.1156, 0.8661]\n",
      "Epoch 37 Training Loss: 0.5011 Training Accuracy: 0.8733 Val Loss: 0.3775 Val Accuracy: 0.8\n"
     ]
    },
    {
     "name": "stderr",
     "output_type": "stream",
     "text": [
      "100%|███████████████████████████████████████████████████████████████████████████████████| 3/3 [00:00<00:00, 375.00it/s]\n"
     ]
    },
    {
     "name": "stdout",
     "output_type": "stream",
     "text": [
      "Example target: [0. 1. 0.]\n",
      "Example prediction: [0.1336, 0.4662, 0.4002]\n",
      "Epoch 38 Training Loss: 0.4783 Training Accuracy: 0.8 Val Loss: 0.3452 Val Accuracy: 1.0\n"
     ]
    },
    {
     "name": "stderr",
     "output_type": "stream",
     "text": [
      "100%|███████████████████████████████████████████████████████████████████████████████████| 3/3 [00:00<00:00, 375.00it/s]\n"
     ]
    },
    {
     "name": "stdout",
     "output_type": "stream",
     "text": [
      "Example target: [0. 0. 1.]\n",
      "Example prediction: [0.03, 0.4159, 0.5542]\n",
      "Epoch 39 Training Loss: 0.4521 Training Accuracy: 0.8933 Val Loss: 0.3731 Val Accuracy: 0.8667\n"
     ]
    },
    {
     "name": "stderr",
     "output_type": "stream",
     "text": [
      "100%|███████████████████████████████████████████████████████████████████████████████████| 3/3 [00:00<00:00, 374.73it/s]\n"
     ]
    },
    {
     "name": "stdout",
     "output_type": "stream",
     "text": [
      "Example target: [1. 0. 0.]\n",
      "Example prediction: [0.7543, 0.1946, 0.0511]\n",
      "Epoch 40 Training Loss: 0.4834 Training Accuracy: 0.9667 Val Loss: 0.4058 Val Accuracy: 0.8\n"
     ]
    },
    {
     "name": "stderr",
     "output_type": "stream",
     "text": [
      "100%|███████████████████████████████████████████████████████████████████████████████████| 3/3 [00:00<00:00, 752.66it/s]\n"
     ]
    },
    {
     "name": "stdout",
     "output_type": "stream",
     "text": [
      "Example target: [1. 0. 0.]\n",
      "Example prediction: [0.9273, 0.0445, 0.0282]\n",
      "Epoch 41 Training Loss: 0.4847 Training Accuracy: 0.8467 Val Loss: 0.3404 Val Accuracy: 0.8\n"
     ]
    },
    {
     "name": "stderr",
     "output_type": "stream",
     "text": [
      "100%|███████████████████████████████████████████████████████████████████████████████████| 3/3 [00:00<00:00, 662.57it/s]\n"
     ]
    },
    {
     "name": "stdout",
     "output_type": "stream",
     "text": [
      "Example target: [1. 0. 0.]\n",
      "Example prediction: [0.9469, 0.0412, 0.0119]\n",
      "Epoch 42 Training Loss: 0.4364 Training Accuracy: 0.86 Val Loss: 0.3321 Val Accuracy: 1.0\n"
     ]
    },
    {
     "name": "stderr",
     "output_type": "stream",
     "text": [
      "100%|███████████████████████████████████████████████████████████████████████████████████| 3/3 [00:00<00:00, 375.37it/s]\n"
     ]
    },
    {
     "name": "stdout",
     "output_type": "stream",
     "text": [
      "Example target: [0. 1. 0.]\n",
      "Example prediction: [0.1184, 0.5874, 0.2942]\n",
      "Epoch 43 Training Loss: 0.4361 Training Accuracy: 0.94 Val Loss: 0.3604 Val Accuracy: 0.8667\n"
     ]
    },
    {
     "name": "stderr",
     "output_type": "stream",
     "text": [
      "100%|███████████████████████████████████████████████████████████████████████████████████| 3/3 [00:00<00:00, 751.76it/s]\n"
     ]
    },
    {
     "name": "stdout",
     "output_type": "stream",
     "text": [
      "Example target: [1. 0. 0.]\n",
      "Example prediction: [0.8089, 0.151, 0.0401]\n",
      "Epoch 44 Training Loss: 0.4424 Training Accuracy: 0.9533 Val Loss: 0.3642 Val Accuracy: 0.8667\n"
     ]
    },
    {
     "name": "stderr",
     "output_type": "stream",
     "text": [
      "100%|███████████████████████████████████████████████████████████████████████████████████| 3/3 [00:00<00:00, 341.86it/s]\n"
     ]
    },
    {
     "name": "stdout",
     "output_type": "stream",
     "text": [
      "Example target: [0. 0. 1.]\n",
      "Example prediction: [0.0221, 0.1298, 0.8481]\n",
      "Epoch 45 Training Loss: 0.3949 Training Accuracy: 0.9467 Val Loss: 0.3316 Val Accuracy: 0.8\n"
     ]
    },
    {
     "name": "stderr",
     "output_type": "stream",
     "text": [
      "100%|███████████████████████████████████████████████████████████████████████████████████| 3/3 [00:00<00:00, 747.34it/s]\n"
     ]
    },
    {
     "name": "stdout",
     "output_type": "stream",
     "text": [
      "Example target: [0. 0. 1.]\n",
      "Example prediction: [0.0346, 0.5498, 0.4156]\n",
      "Epoch 46 Training Loss: 0.4377 Training Accuracy: 0.8 Val Loss: 0.3719 Val Accuracy: 0.8667\n"
     ]
    },
    {
     "name": "stderr",
     "output_type": "stream",
     "text": [
      "100%|███████████████████████████████████████████████████████████████████████████████████| 3/3 [00:00<00:00, 374.95it/s]\n"
     ]
    },
    {
     "name": "stdout",
     "output_type": "stream",
     "text": [
      "Example target: [0. 1. 0.]\n",
      "Example prediction: [0.1426, 0.5595, 0.298]\n",
      "Epoch 47 Training Loss: 0.428 Training Accuracy: 0.8333 Val Loss: 0.3322 Val Accuracy: 1.0\n"
     ]
    },
    {
     "name": "stderr",
     "output_type": "stream",
     "text": [
      "100%|███████████████████████████████████████████████████████████████████████████████████| 3/3 [00:00<00:00, 374.78it/s]\n"
     ]
    },
    {
     "name": "stdout",
     "output_type": "stream",
     "text": [
      "Example target: [0. 1. 0.]\n",
      "Example prediction: [0.1491, 0.5, 0.3508]\n",
      "Epoch 48 Training Loss: 0.3716 Training Accuracy: 0.9667 Val Loss: 0.3158 Val Accuracy: 1.0\n"
     ]
    },
    {
     "name": "stderr",
     "output_type": "stream",
     "text": [
      "100%|███████████████████████████████████████████████████████████████████████████████████| 3/3 [00:00<00:00, 750.23it/s]\n"
     ]
    },
    {
     "name": "stdout",
     "output_type": "stream",
     "text": [
      "Example target: [0. 1. 0.]\n",
      "Example prediction: [0.1396, 0.4212, 0.4392]\n",
      "Epoch 49 Training Loss: 0.3892 Training Accuracy: 0.9533 Val Loss: 0.3036 Val Accuracy: 0.8667\n"
     ]
    },
    {
     "name": "stderr",
     "output_type": "stream",
     "text": [
      "100%|███████████████████████████████████████████████████████████████████████████████████| 3/3 [00:00<00:00, 750.37it/s]\n"
     ]
    },
    {
     "name": "stdout",
     "output_type": "stream",
     "text": [
      "Example target: [1. 0. 0.]\n",
      "Example prediction: [0.84, 0.1252, 0.0348]\n",
      "Epoch 50 Training Loss: 0.4146 Training Accuracy: 0.8867 Val Loss: 0.3216 Val Accuracy: 1.0\n"
     ]
    },
    {
     "name": "stderr",
     "output_type": "stream",
     "text": [
      "100%|███████████████████████████████████████████████████████████████████████████████████| 3/3 [00:00<00:00, 749.88it/s]\n"
     ]
    },
    {
     "name": "stdout",
     "output_type": "stream",
     "text": [
      "Example target: [1. 0. 0.]\n",
      "Example prediction: [0.939, 0.0522, 0.0088]\n",
      "Epoch 51 Training Loss: 0.4462 Training Accuracy: 0.9067 Val Loss: 0.3477 Val Accuracy: 0.8667\n"
     ]
    },
    {
     "name": "stderr",
     "output_type": "stream",
     "text": [
      "100%|███████████████████████████████████████████████████████████████████████████████████| 3/3 [00:00<00:00, 749.88it/s]\n"
     ]
    },
    {
     "name": "stdout",
     "output_type": "stream",
     "text": [
      "Example target: [1. 0. 0.]\n",
      "Example prediction: [0.8449, 0.114, 0.0411]\n",
      "Epoch 52 Training Loss: 0.4089 Training Accuracy: 0.96 Val Loss: 0.2988 Val Accuracy: 0.8\n"
     ]
    },
    {
     "name": "stderr",
     "output_type": "stream",
     "text": [
      "100%|███████████████████████████████████████████████████████████████████████████████████| 3/3 [00:00<00:00, 750.05it/s]\n"
     ]
    },
    {
     "name": "stdout",
     "output_type": "stream",
     "text": [
      "Example target: [1. 0. 0.]\n",
      "Example prediction: [0.8205, 0.157, 0.0224]\n",
      "Epoch 53 Training Loss: 0.4633 Training Accuracy: 0.8 Val Loss: 0.4193 Val Accuracy: 0.7333\n"
     ]
    },
    {
     "name": "stderr",
     "output_type": "stream",
     "text": [
      "100%|███████████████████████████████████████████████████████████████████████████████████| 3/3 [00:00<00:00, 749.79it/s]\n"
     ]
    },
    {
     "name": "stdout",
     "output_type": "stream",
     "text": [
      "Example target: [0. 1. 0.]\n",
      "Example prediction: [0.0869, 0.5474, 0.3658]\n",
      "Epoch 54 Training Loss: 0.384 Training Accuracy: 0.9 Val Loss: 0.2945 Val Accuracy: 1.0\n"
     ]
    },
    {
     "name": "stderr",
     "output_type": "stream",
     "text": [
      "100%|███████████████████████████████████████████████████████████████████████████████████| 3/3 [00:00<00:00, 749.96it/s]\n"
     ]
    },
    {
     "name": "stdout",
     "output_type": "stream",
     "text": [
      "Example target: [1. 0. 0.]\n",
      "Example prediction: [0.9243, 0.0542, 0.0216]\n",
      "Epoch 55 Training Loss: 0.4336 Training Accuracy: 0.8267 Val Loss: 0.2928 Val Accuracy: 0.8\n"
     ]
    },
    {
     "name": "stderr",
     "output_type": "stream",
     "text": [
      "100%|███████████████████████████████████████████████████████████████████████████████████| 3/3 [00:00<00:00, 375.02it/s]\n"
     ]
    },
    {
     "name": "stdout",
     "output_type": "stream",
     "text": [
      "Example target: [0. 0. 1.]\n",
      "Example prediction: [0.0134, 0.2426, 0.744]\n",
      "Epoch 56 Training Loss: 0.4178 Training Accuracy: 0.8467 Val Loss: 0.286 Val Accuracy: 1.0\n"
     ]
    },
    {
     "name": "stderr",
     "output_type": "stream",
     "text": [
      "100%|███████████████████████████████████████████████████████████████████████████████████| 3/3 [00:00<00:00, 750.19it/s]\n"
     ]
    },
    {
     "name": "stdout",
     "output_type": "stream",
     "text": [
      "Example target: [0. 1. 0.]\n",
      "Example prediction: [0.1217, 0.4736, 0.4047]\n",
      "Epoch 57 Training Loss: 0.4164 Training Accuracy: 0.86 Val Loss: 0.2846 Val Accuracy: 1.0\n"
     ]
    },
    {
     "name": "stderr",
     "output_type": "stream",
     "text": [
      "100%|███████████████████████████████████████████████████████████████████████████████████| 3/3 [00:00<00:00, 750.32it/s]\n"
     ]
    },
    {
     "name": "stdout",
     "output_type": "stream",
     "text": [
      "Example target: [0. 1. 0.]\n",
      "Example prediction: [0.1019, 0.6888, 0.2093]\n",
      "Epoch 58 Training Loss: 0.4055 Training Accuracy: 0.8267 Val Loss: 0.3682 Val Accuracy: 0.7333\n"
     ]
    },
    {
     "name": "stderr",
     "output_type": "stream",
     "text": [
      "100%|███████████████████████████████████████████████████████████████████████████████████| 3/3 [00:00<00:00, 375.04it/s]\n"
     ]
    },
    {
     "name": "stdout",
     "output_type": "stream",
     "text": [
      "Example target: [0. 1. 0.]\n",
      "Example prediction: [0.1084, 0.5355, 0.356]\n",
      "Epoch 59 Training Loss: 0.4074 Training Accuracy: 0.94 Val Loss: 0.2845 Val Accuracy: 1.0\n"
     ]
    },
    {
     "name": "stderr",
     "output_type": "stream",
     "text": [
      "100%|███████████████████████████████████████████████████████████████████████████████████| 3/3 [00:00<00:00, 749.70it/s]\n"
     ]
    },
    {
     "name": "stdout",
     "output_type": "stream",
     "text": [
      "Example target: [1. 0. 0.]\n",
      "Example prediction: [0.9201, 0.0658, 0.0141]\n",
      "Epoch 60 Training Loss: 0.3662 Training Accuracy: 0.94 Val Loss: 0.2849 Val Accuracy: 1.0\n"
     ]
    },
    {
     "name": "stderr",
     "output_type": "stream",
     "text": [
      "100%|███████████████████████████████████████████████████████████████████████████████████| 3/3 [00:00<00:00, 749.96it/s]\n"
     ]
    },
    {
     "name": "stdout",
     "output_type": "stream",
     "text": [
      "Example target: [0. 0. 1.]\n",
      "Example prediction: [0.0211, 0.2772, 0.7017]\n",
      "Epoch 61 Training Loss: 0.3971 Training Accuracy: 0.9333 Val Loss: 0.2757 Val Accuracy: 1.0\n"
     ]
    },
    {
     "name": "stderr",
     "output_type": "stream",
     "text": [
      "100%|███████████████████████████████████████████████████████████████████████████████████| 3/3 [00:00<00:00, 750.14it/s]\n"
     ]
    },
    {
     "name": "stdout",
     "output_type": "stream",
     "text": [
      "Example target: [0. 0. 1.]\n",
      "Example prediction: [0.0191, 0.2248, 0.7561]\n",
      "Epoch 62 Training Loss: 0.4215 Training Accuracy: 0.8067 Val Loss: 0.2782 Val Accuracy: 0.8\n"
     ]
    },
    {
     "name": "stderr",
     "output_type": "stream",
     "text": [
      "100%|███████████████████████████████████████████████████████████████████████████████████| 3/3 [00:00<00:00, 749.96it/s]\n"
     ]
    },
    {
     "name": "stdout",
     "output_type": "stream",
     "text": [
      "Example target: [0. 0. 1.]\n",
      "Example prediction: [0.015, 0.226, 0.759]\n",
      "Epoch 63 Training Loss: 0.3669 Training Accuracy: 0.82 Val Loss: 0.2784 Val Accuracy: 0.8\n"
     ]
    },
    {
     "name": "stderr",
     "output_type": "stream",
     "text": [
      "100%|███████████████████████████████████████████████████████████████████████████████████| 3/3 [00:00<00:00, 375.03it/s]\n"
     ]
    },
    {
     "name": "stdout",
     "output_type": "stream",
     "text": [
      "Example target: [1. 0. 0.]\n",
      "Example prediction: [0.9739, 0.0188, 0.0073]\n",
      "Epoch 64 Training Loss: 0.3784 Training Accuracy: 0.8533 Val Loss: 0.2767 Val Accuracy: 0.8\n"
     ]
    },
    {
     "name": "stderr",
     "output_type": "stream",
     "text": [
      "100%|███████████████████████████████████████████████████████████████████████████████████| 3/3 [00:00<00:00, 749.83it/s]\n"
     ]
    },
    {
     "name": "stdout",
     "output_type": "stream",
     "text": [
      "Example target: [0. 1. 0.]\n",
      "Example prediction: [0.0592, 0.7265, 0.2142]\n",
      "Epoch 65 Training Loss: 0.3968 Training Accuracy: 0.88 Val Loss: 0.3157 Val Accuracy: 0.8667\n"
     ]
    },
    {
     "name": "stderr",
     "output_type": "stream",
     "text": [
      "100%|███████████████████████████████████████████████████████████████████████████████████| 3/3 [00:00<00:00, 375.04it/s]\n"
     ]
    },
    {
     "name": "stdout",
     "output_type": "stream",
     "text": [
      "Example target: [0. 1. 0.]\n",
      "Example prediction: [0.0772, 0.5295, 0.3934]\n",
      "Epoch 66 Training Loss: 0.3654 Training Accuracy: 0.96 Val Loss: 0.2653 Val Accuracy: 1.0\n"
     ]
    },
    {
     "name": "stderr",
     "output_type": "stream",
     "text": [
      "100%|███████████████████████████████████████████████████████████████████████████████████| 3/3 [00:00<00:00, 374.99it/s]\n"
     ]
    },
    {
     "name": "stdout",
     "output_type": "stream",
     "text": [
      "Example target: [0. 0. 1.]\n",
      "Example prediction: [0.0156, 0.3773, 0.6071]\n",
      "Epoch 67 Training Loss: 0.3466 Training Accuracy: 0.9133 Val Loss: 0.2969 Val Accuracy: 1.0\n"
     ]
    },
    {
     "name": "stderr",
     "output_type": "stream",
     "text": [
      "100%|███████████████████████████████████████████████████████████████████████████████████| 3/3 [00:00<00:00, 375.02it/s]\n"
     ]
    },
    {
     "name": "stdout",
     "output_type": "stream",
     "text": [
      "Example target: [0. 0. 1.]\n",
      "Example prediction: [0.0155, 0.3174, 0.6671]\n",
      "Epoch 68 Training Loss: 0.3465 Training Accuracy: 0.9667 Val Loss: 0.2777 Val Accuracy: 1.0\n"
     ]
    },
    {
     "name": "stderr",
     "output_type": "stream",
     "text": [
      "100%|███████████████████████████████████████████████████████████████████████████████████| 3/3 [00:00<00:00, 749.74it/s]\n"
     ]
    },
    {
     "name": "stdout",
     "output_type": "stream",
     "text": [
      "Example target: [0. 1. 0.]\n",
      "Example prediction: [0.0387, 0.8588, 0.1026]\n",
      "Epoch 69 Training Loss: 0.4043 Training Accuracy: 0.98 Val Loss: 0.429 Val Accuracy: 0.7333\n"
     ]
    },
    {
     "name": "stderr",
     "output_type": "stream",
     "text": [
      "100%|███████████████████████████████████████████████████████████████████████████████████| 3/3 [00:00<00:00, 749.56it/s]\n"
     ]
    },
    {
     "name": "stdout",
     "output_type": "stream",
     "text": [
      "Example target: [0. 0. 1.]\n",
      "Example prediction: [0.0122, 0.3598, 0.628]\n",
      "Epoch 70 Training Loss: 0.4027 Training Accuracy: 0.9067 Val Loss: 0.2627 Val Accuracy: 1.0\n"
     ]
    },
    {
     "name": "stderr",
     "output_type": "stream",
     "text": [
      "100%|███████████████████████████████████████████████████████████████████████████████████| 3/3 [00:00<00:00, 374.96it/s]\n"
     ]
    },
    {
     "name": "stdout",
     "output_type": "stream",
     "text": [
      "Example target: [0. 1. 0.]\n",
      "Example prediction: [0.049, 0.6754, 0.2756]\n",
      "Epoch 71 Training Loss: 0.3799 Training Accuracy: 0.8733 Val Loss: 0.2761 Val Accuracy: 1.0\n"
     ]
    },
    {
     "name": "stderr",
     "output_type": "stream",
     "text": [
      "100%|███████████████████████████████████████████████████████████████████████████████████| 3/3 [00:00<00:00, 749.74it/s]\n"
     ]
    },
    {
     "name": "stdout",
     "output_type": "stream",
     "text": [
      "Example target: [1. 0. 0.]\n",
      "Example prediction: [0.9137, 0.0736, 0.0127]\n",
      "Epoch 72 Training Loss: 0.349 Training Accuracy: 0.96 Val Loss: 0.255 Val Accuracy: 1.0\n"
     ]
    },
    {
     "name": "stderr",
     "output_type": "stream",
     "text": [
      "100%|███████████████████████████████████████████████████████████████████████████████████| 3/3 [00:00<00:00, 374.94it/s]\n"
     ]
    },
    {
     "name": "stdout",
     "output_type": "stream",
     "text": [
      "Example target: [1. 0. 0.]\n",
      "Example prediction: [0.9655, 0.031, 0.0035]\n",
      "Epoch 73 Training Loss: 0.378 Training Accuracy: 0.92 Val Loss: 0.2649 Val Accuracy: 1.0\n"
     ]
    },
    {
     "name": "stderr",
     "output_type": "stream",
     "text": [
      "100%|███████████████████████████████████████████████████████████████████████████████████| 3/3 [00:00<00:00, 375.08it/s]\n"
     ]
    },
    {
     "name": "stdout",
     "output_type": "stream",
     "text": [
      "Example target: [1. 0. 0.]\n",
      "Example prediction: [0.9372, 0.0554, 0.0074]\n",
      "Epoch 74 Training Loss: 0.3242 Training Accuracy: 0.9467 Val Loss: 0.2606 Val Accuracy: 1.0\n"
     ]
    },
    {
     "name": "stderr",
     "output_type": "stream",
     "text": [
      "100%|███████████████████████████████████████████████████████████████████████████████████| 3/3 [00:00<00:00, 749.92it/s]\n"
     ]
    },
    {
     "name": "stdout",
     "output_type": "stream",
     "text": [
      "Example target: [0. 0. 1.]\n",
      "Example prediction: [0.0186, 0.3304, 0.651]\n",
      "Epoch 75 Training Loss: 0.3428 Training Accuracy: 0.96 Val Loss: 0.2507 Val Accuracy: 1.0\n"
     ]
    },
    {
     "name": "stderr",
     "output_type": "stream",
     "text": [
      "100%|███████████████████████████████████████████████████████████████████████████████████| 3/3 [00:00<00:00, 374.96it/s]\n"
     ]
    },
    {
     "name": "stdout",
     "output_type": "stream",
     "text": [
      "Example target: [1. 0. 0.]\n",
      "Example prediction: [0.9858, 0.0122, 0.002]\n",
      "Epoch 76 Training Loss: 0.3418 Training Accuracy: 0.9467 Val Loss: 0.2592 Val Accuracy: 0.8\n"
     ]
    },
    {
     "name": "stderr",
     "output_type": "stream",
     "text": [
      "100%|███████████████████████████████████████████████████████████████████████████████████| 3/3 [00:00<00:00, 749.52it/s]\n"
     ]
    },
    {
     "name": "stdout",
     "output_type": "stream",
     "text": [
      "Example target: [0. 0. 1.]\n",
      "Example prediction: [0.0147, 0.1882, 0.7971]\n",
      "Epoch 77 Training Loss: 0.4135 Training Accuracy: 0.8667 Val Loss: 0.2545 Val Accuracy: 0.8\n"
     ]
    },
    {
     "name": "stderr",
     "output_type": "stream",
     "text": [
      "100%|███████████████████████████████████████████████████████████████████████████████████| 3/3 [00:00<00:00, 374.97it/s]\n"
     ]
    },
    {
     "name": "stdout",
     "output_type": "stream",
     "text": [
      "Example target: [1. 0. 0.]\n",
      "Example prediction: [0.9713, 0.0275, 0.0012]\n",
      "Epoch 78 Training Loss: 0.4065 Training Accuracy: 0.7267 Val Loss: 0.3445 Val Accuracy: 0.7333\n"
     ]
    },
    {
     "name": "stderr",
     "output_type": "stream",
     "text": [
      "100%|███████████████████████████████████████████████████████████████████████████████████| 3/3 [00:00<00:00, 749.83it/s]\n"
     ]
    },
    {
     "name": "stdout",
     "output_type": "stream",
     "text": [
      "Example target: [1. 0. 0.]\n",
      "Example prediction: [0.9233, 0.0565, 0.0203]\n",
      "Epoch 79 Training Loss: 0.3547 Training Accuracy: 0.9267 Val Loss: 0.2707 Val Accuracy: 0.8\n"
     ]
    },
    {
     "name": "stderr",
     "output_type": "stream",
     "text": [
      "100%|███████████████████████████████████████████████████████████████████████████████████| 3/3 [00:00<00:00, 375.02it/s]\n"
     ]
    },
    {
     "name": "stdout",
     "output_type": "stream",
     "text": [
      "Example target: [1. 0. 0.]\n",
      "Example prediction: [0.8648, 0.121, 0.0142]\n",
      "Epoch 80 Training Loss: 0.435 Training Accuracy: 0.8267 Val Loss: 0.2423 Val Accuracy: 1.0\n"
     ]
    },
    {
     "name": "stderr",
     "output_type": "stream",
     "text": [
      "100%|███████████████████████████████████████████████████████████████████████████████████| 3/3 [00:00<00:00, 750.10it/s]\n"
     ]
    },
    {
     "name": "stdout",
     "output_type": "stream",
     "text": [
      "Example target: [1. 0. 0.]\n",
      "Example prediction: [0.9724, 0.0237, 0.0039]\n",
      "Epoch 81 Training Loss: 0.4067 Training Accuracy: 0.8533 Val Loss: 0.2385 Val Accuracy: 1.0\n"
     ]
    },
    {
     "name": "stderr",
     "output_type": "stream",
     "text": [
      "100%|███████████████████████████████████████████████████████████████████████████████████| 3/3 [00:00<00:00, 749.70it/s]\n"
     ]
    },
    {
     "name": "stdout",
     "output_type": "stream",
     "text": [
      "Example target: [1. 0. 0.]\n",
      "Example prediction: [0.8956, 0.0897, 0.0147]\n",
      "Epoch 82 Training Loss: 0.3354 Training Accuracy: 0.9133 Val Loss: 0.2393 Val Accuracy: 1.0\n"
     ]
    },
    {
     "name": "stderr",
     "output_type": "stream",
     "text": [
      "100%|████████████████████████████████████████████████████████████████████████████████████████████| 3/3 [00:00<?, ?it/s]\n"
     ]
    },
    {
     "name": "stdout",
     "output_type": "stream",
     "text": [
      "Example target: [1. 0. 0.]\n",
      "Example prediction: [0.9823, 0.0166, 0.0012]\n",
      "Epoch 83 Training Loss: 0.3428 Training Accuracy: 0.9067 Val Loss: 0.2404 Val Accuracy: 1.0\n"
     ]
    },
    {
     "name": "stderr",
     "output_type": "stream",
     "text": [
      "100%|███████████████████████████████████████████████████████████████████████████████████| 3/3 [00:00<00:00, 374.87it/s]\n"
     ]
    },
    {
     "name": "stdout",
     "output_type": "stream",
     "text": [
      "Example target: [0. 1. 0.]\n",
      "Example prediction: [0.0904, 0.7175, 0.1921]\n",
      "Epoch 84 Training Loss: 0.3338 Training Accuracy: 0.9467 Val Loss: 0.3026 Val Accuracy: 0.8667\n"
     ]
    },
    {
     "name": "stderr",
     "output_type": "stream",
     "text": [
      "100%|███████████████████████████████████████████████████████████████████████████████████| 3/3 [00:00<00:00, 749.96it/s]\n"
     ]
    },
    {
     "name": "stdout",
     "output_type": "stream",
     "text": [
      "Example target: [0. 0. 1.]\n",
      "Example prediction: [0.0143, 0.6287, 0.3571]\n",
      "Epoch 85 Training Loss: 0.361 Training Accuracy: 0.9467 Val Loss: 0.3392 Val Accuracy: 0.7333\n"
     ]
    },
    {
     "name": "stderr",
     "output_type": "stream",
     "text": [
      "100%|███████████████████████████████████████████████████████████████████████████████████| 3/3 [00:00<00:00, 486.07it/s]\n"
     ]
    },
    {
     "name": "stdout",
     "output_type": "stream",
     "text": [
      "Example target: [0. 0. 1.]\n",
      "Example prediction: [0.0149, 0.3309, 0.6543]\n",
      "Epoch 86 Training Loss: 0.3313 Training Accuracy: 0.94 Val Loss: 0.233 Val Accuracy: 1.0\n"
     ]
    },
    {
     "name": "stderr",
     "output_type": "stream",
     "text": [
      "100%|███████████████████████████████████████████████████████████████████████████████████| 3/3 [00:00<00:00, 374.92it/s]\n"
     ]
    },
    {
     "name": "stdout",
     "output_type": "stream",
     "text": [
      "Example target: [1. 0. 0.]\n",
      "Example prediction: [0.9546, 0.0399, 0.0055]\n",
      "Epoch 87 Training Loss: 0.378 Training Accuracy: 0.92 Val Loss: 0.2289 Val Accuracy: 1.0\n"
     ]
    },
    {
     "name": "stderr",
     "output_type": "stream",
     "text": [
      "100%|███████████████████████████████████████████████████████████████████████████████████| 3/3 [00:00<00:00, 750.19it/s]\n"
     ]
    },
    {
     "name": "stdout",
     "output_type": "stream",
     "text": [
      "Example target: [1. 0. 0.]\n",
      "Example prediction: [0.9744, 0.0247, 0.0009]\n",
      "Epoch 88 Training Loss: 0.3819 Training Accuracy: 0.9133 Val Loss: 0.2981 Val Accuracy: 0.8667\n"
     ]
    },
    {
     "name": "stderr",
     "output_type": "stream",
     "text": [
      "100%|███████████████████████████████████████████████████████████████████████████████████| 3/3 [00:00<00:00, 374.93it/s]\n"
     ]
    },
    {
     "name": "stdout",
     "output_type": "stream",
     "text": [
      "Example target: [1. 0. 0.]\n",
      "Example prediction: [0.976, 0.0223, 0.0017]\n",
      "Epoch 89 Training Loss: 0.2854 Training Accuracy: 0.9667 Val Loss: 0.233 Val Accuracy: 1.0\n"
     ]
    },
    {
     "name": "stderr",
     "output_type": "stream",
     "text": [
      "100%|███████████████████████████████████████████████████████████████████████████████████| 3/3 [00:00<00:00, 749.83it/s]\n"
     ]
    },
    {
     "name": "stdout",
     "output_type": "stream",
     "text": [
      "Example target: [1. 0. 0.]\n",
      "Example prediction: [0.9117, 0.0857, 0.0026]\n",
      "Epoch 90 Training Loss: 0.3778 Training Accuracy: 0.9467 Val Loss: 0.4393 Val Accuracy: 0.7333\n"
     ]
    },
    {
     "name": "stderr",
     "output_type": "stream",
     "text": [
      "100%|███████████████████████████████████████████████████████████████████████████████████| 3/3 [00:00<00:00, 374.94it/s]\n"
     ]
    },
    {
     "name": "stdout",
     "output_type": "stream",
     "text": [
      "Example target: [1. 0. 0.]\n",
      "Example prediction: [0.9729, 0.0261, 0.001]\n",
      "Epoch 91 Training Loss: 0.3784 Training Accuracy: 0.82 Val Loss: 0.3223 Val Accuracy: 0.7333\n"
     ]
    },
    {
     "name": "stderr",
     "output_type": "stream",
     "text": [
      "100%|███████████████████████████████████████████████████████████████████████████████████| 3/3 [00:00<00:00, 749.83it/s]\n"
     ]
    },
    {
     "name": "stdout",
     "output_type": "stream",
     "text": [
      "Example target: [0. 0. 1.]\n",
      "Example prediction: [0.0066, 0.2476, 0.7459]\n",
      "Epoch 92 Training Loss: 0.2781 Training Accuracy: 0.9067 Val Loss: 0.226 Val Accuracy: 1.0\n"
     ]
    },
    {
     "name": "stderr",
     "output_type": "stream",
     "text": [
      "100%|███████████████████████████████████████████████████████████████████████████████████| 3/3 [00:00<00:00, 374.98it/s]\n"
     ]
    },
    {
     "name": "stdout",
     "output_type": "stream",
     "text": [
      "Example target: [0. 0. 1.]\n",
      "Example prediction: [0.0099, 0.3957, 0.5944]\n",
      "Epoch 93 Training Loss: 0.3494 Training Accuracy: 0.9467 Val Loss: 0.2327 Val Accuracy: 1.0\n"
     ]
    },
    {
     "name": "stderr",
     "output_type": "stream",
     "text": [
      "100%|███████████████████████████████████████████████████████████████████████████████████| 3/3 [00:00<00:00, 747.60it/s]\n"
     ]
    },
    {
     "name": "stdout",
     "output_type": "stream",
     "text": [
      "Example target: [0. 0. 1.]\n",
      "Example prediction: [0.0081, 0.1691, 0.8228]\n",
      "Epoch 94 Training Loss: 0.3214 Training Accuracy: 0.9733 Val Loss: 0.2175 Val Accuracy: 1.0\n"
     ]
    },
    {
     "name": "stderr",
     "output_type": "stream",
     "text": [
      "100%|███████████████████████████████████████████████████████████████████████████████████| 3/3 [00:00<00:00, 749.92it/s]\n"
     ]
    },
    {
     "name": "stdout",
     "output_type": "stream",
     "text": [
      "Example target: [0. 0. 1.]\n",
      "Example prediction: [0.0069, 0.5031, 0.49]\n",
      "Epoch 95 Training Loss: 0.2944 Training Accuracy: 0.9133 Val Loss: 0.31 Val Accuracy: 0.8\n"
     ]
    },
    {
     "name": "stderr",
     "output_type": "stream",
     "text": [
      "100%|███████████████████████████████████████████████████████████████████████████████████| 3/3 [00:00<00:00, 374.96it/s]\n"
     ]
    },
    {
     "name": "stdout",
     "output_type": "stream",
     "text": [
      "Example target: [1. 0. 0.]\n",
      "Example prediction: [0.9289, 0.0643, 0.0068]\n",
      "Epoch 96 Training Loss: 0.3456 Training Accuracy: 0.9 Val Loss: 0.2176 Val Accuracy: 1.0\n"
     ]
    },
    {
     "name": "stderr",
     "output_type": "stream",
     "text": [
      "100%|███████████████████████████████████████████████████████████████████████████████████| 3/3 [00:00<00:00, 750.01it/s]\n"
     ]
    },
    {
     "name": "stdout",
     "output_type": "stream",
     "text": [
      "Example target: [0. 0. 1.]\n",
      "Example prediction: [0.0102, 0.3334, 0.6563]\n",
      "Epoch 97 Training Loss: 0.2709 Training Accuracy: 0.94 Val Loss: 0.2465 Val Accuracy: 1.0\n"
     ]
    },
    {
     "name": "stderr",
     "output_type": "stream",
     "text": [
      "100%|███████████████████████████████████████████████████████████████████████████████████| 3/3 [00:00<00:00, 750.05it/s]\n"
     ]
    },
    {
     "name": "stdout",
     "output_type": "stream",
     "text": [
      "Example target: [0. 1. 0.]\n",
      "Example prediction: [0.0987, 0.5028, 0.3985]\n",
      "Epoch 98 Training Loss: 0.3208 Training Accuracy: 0.9733 Val Loss: 0.2128 Val Accuracy: 1.0\n"
     ]
    },
    {
     "name": "stderr",
     "output_type": "stream",
     "text": [
      "100%|███████████████████████████████████████████████████████████████████████████████████| 3/3 [00:00<00:00, 750.05it/s]\n"
     ]
    },
    {
     "name": "stdout",
     "output_type": "stream",
     "text": [
      "Example target: [1. 0. 0.]\n",
      "Example prediction: [0.9809, 0.0181, 0.001]\n",
      "Epoch 99 Training Loss: 0.3264 Training Accuracy: 0.8333 Val Loss: 0.2301 Val Accuracy: 1.0\n",
      "Test Loss: 0.335 Test Accuracy: 0.9333\n"
     ]
    }
   ],
   "source": [
    "\n",
    "hidden_layer_size=20\n",
    "lr=1e-2\n",
    "model_name = \"two_layer_NN_20l_1e-2\"\n",
    "%run -i train_ffnn.py"
   ]
  },
  {
   "cell_type": "code",
   "execution_count": 13,
   "metadata": {},
   "outputs": [
    {
     "name": "stdout",
     "output_type": "stream",
     "text": [
      "Training two_layer_NN_20l_1e-3 neural network on iris with SGD for 100 epochs...\n",
      "Optimizer:\n",
      "{'name': 'SGD', 'lr': 0.001, 'lr_scheduler': 'exponential', 'lr_decay': 0.99, 'stage_length': 1000, 'staircase': False, 'clip_norm': None, 'momentum': 0}\n"
     ]
    },
    {
     "name": "stderr",
     "output_type": "stream",
     "text": [
      "100%|███████████████████████████████████████████████████████████████████████████████████| 3/3 [00:00<00:00, 374.89it/s]\n"
     ]
    },
    {
     "name": "stdout",
     "output_type": "stream",
     "text": [
      "Example target: [0. 1. 0.]\n",
      "Example prediction: [0.0618, 0.3129, 0.6253]\n",
      "Epoch 0 Training Loss: 1.4502 Training Accuracy: 0.3067 Val Loss: 1.7962 Val Accuracy: 0.2667\n"
     ]
    },
    {
     "name": "stderr",
     "output_type": "stream",
     "text": [
      "100%|███████████████████████████████████████████████████████████████████████████████████| 3/3 [00:00<00:00, 375.03it/s]\n"
     ]
    },
    {
     "name": "stdout",
     "output_type": "stream",
     "text": [
      "Example target: [0. 0. 1.]\n",
      "Example prediction: [0.0509, 0.2967, 0.6524]\n",
      "Epoch 1 Training Loss: 1.225 Training Accuracy: 0.4267 Val Loss: 1.726 Val Accuracy: 0.2667\n"
     ]
    },
    {
     "name": "stderr",
     "output_type": "stream",
     "text": [
      "100%|███████████████████████████████████████████████████████████████████████████████████| 3/3 [00:00<00:00, 374.99it/s]\n"
     ]
    },
    {
     "name": "stdout",
     "output_type": "stream",
     "text": [
      "Example target: [0. 1. 0.]\n",
      "Example prediction: [0.0811, 0.3208, 0.5981]\n",
      "Epoch 2 Training Loss: 1.153 Training Accuracy: 0.4867 Val Loss: 1.6667 Val Accuracy: 0.2667\n"
     ]
    },
    {
     "name": "stderr",
     "output_type": "stream",
     "text": [
      "100%|███████████████████████████████████████████████████████████████████████████████████| 3/3 [00:00<00:00, 750.05it/s]\n"
     ]
    },
    {
     "name": "stdout",
     "output_type": "stream",
     "text": [
      "Example target: [1. 0. 0.]\n",
      "Example prediction: [0.1015, 0.3666, 0.5319]\n",
      "Epoch 3 Training Loss: 1.0917 Training Accuracy: 0.4267 Val Loss: 1.6224 Val Accuracy: 0.2667\n"
     ]
    },
    {
     "name": "stderr",
     "output_type": "stream",
     "text": [
      "100%|███████████████████████████████████████████████████████████████████████████████████| 3/3 [00:00<00:00, 749.92it/s]\n"
     ]
    },
    {
     "name": "stdout",
     "output_type": "stream",
     "text": [
      "Example target: [0. 1. 0.]\n",
      "Example prediction: [0.0558, 0.3712, 0.573]\n",
      "Epoch 4 Training Loss: 1.1816 Training Accuracy: 0.3667 Val Loss: 1.5713 Val Accuracy: 0.2667\n"
     ]
    },
    {
     "name": "stderr",
     "output_type": "stream",
     "text": [
      "100%|███████████████████████████████████████████████████████████████████████████████████| 3/3 [00:00<00:00, 750.01it/s]\n"
     ]
    },
    {
     "name": "stdout",
     "output_type": "stream",
     "text": [
      "Example target: [1. 0. 0.]\n",
      "Example prediction: [0.1021, 0.3633, 0.5346]\n",
      "Epoch 5 Training Loss: 1.1934 Training Accuracy: 0.4267 Val Loss: 1.5105 Val Accuracy: 0.2667\n"
     ]
    },
    {
     "name": "stderr",
     "output_type": "stream",
     "text": [
      "100%|███████████████████████████████████████████████████████████████████████████████████| 3/3 [00:00<00:00, 750.01it/s]\n"
     ]
    },
    {
     "name": "stdout",
     "output_type": "stream",
     "text": [
      "Example target: [0. 0. 1.]\n",
      "Example prediction: [0.0911, 0.3462, 0.5627]\n",
      "Epoch 6 Training Loss: 1.1021 Training Accuracy: 0.4267 Val Loss: 1.4689 Val Accuracy: 0.2667\n"
     ]
    },
    {
     "name": "stderr",
     "output_type": "stream",
     "text": [
      "100%|███████████████████████████████████████████████████████████████████████████████████| 3/3 [00:00<00:00, 749.61it/s]\n"
     ]
    },
    {
     "name": "stdout",
     "output_type": "stream",
     "text": [
      "Example target: [0. 0. 1.]\n",
      "Example prediction: [0.108, 0.3471, 0.545]\n",
      "Epoch 7 Training Loss: 1.2098 Training Accuracy: 0.3067 Val Loss: 1.4195 Val Accuracy: 0.2667\n"
     ]
    },
    {
     "name": "stderr",
     "output_type": "stream",
     "text": [
      "100%|███████████████████████████████████████████████████████████████████████████████████| 3/3 [00:00<00:00, 749.70it/s]\n"
     ]
    },
    {
     "name": "stdout",
     "output_type": "stream",
     "text": [
      "Example target: [1. 0. 0.]\n",
      "Example prediction: [0.1393, 0.3943, 0.4663]\n",
      "Epoch 8 Training Loss: 1.1668 Training Accuracy: 0.3133 Val Loss: 1.3775 Val Accuracy: 0.2667\n"
     ]
    },
    {
     "name": "stderr",
     "output_type": "stream",
     "text": [
      "100%|███████████████████████████████████████████████████████████████████████████████████| 3/3 [00:00<00:00, 374.97it/s]\n"
     ]
    },
    {
     "name": "stdout",
     "output_type": "stream",
     "text": [
      "Example target: [0. 0. 1.]\n",
      "Example prediction: [0.116, 0.3935, 0.4904]\n",
      "Epoch 9 Training Loss: 0.9901 Training Accuracy: 0.4333 Val Loss: 1.3643 Val Accuracy: 0.2667\n"
     ]
    },
    {
     "name": "stderr",
     "output_type": "stream",
     "text": [
      "100%|███████████████████████████████████████████████████████████████████████████████████| 3/3 [00:00<00:00, 375.04it/s]\n"
     ]
    },
    {
     "name": "stdout",
     "output_type": "stream",
     "text": [
      "Example target: [0. 0. 1.]\n",
      "Example prediction: [0.1225, 0.3596, 0.5178]\n",
      "Epoch 10 Training Loss: 1.0796 Training Accuracy: 0.3733 Val Loss: 1.3411 Val Accuracy: 0.2667\n"
     ]
    },
    {
     "name": "stderr",
     "output_type": "stream",
     "text": [
      "100%|███████████████████████████████████████████████████████████████████████████████████| 3/3 [00:00<00:00, 373.62it/s]\n"
     ]
    },
    {
     "name": "stdout",
     "output_type": "stream",
     "text": [
      "Example target: [1. 0. 0.]\n",
      "Example prediction: [0.1649, 0.4205, 0.4146]\n",
      "Epoch 11 Training Loss: 1.0726 Training Accuracy: 0.34 Val Loss: 1.3217 Val Accuracy: 0.4\n"
     ]
    },
    {
     "name": "stderr",
     "output_type": "stream",
     "text": [
      "100%|███████████████████████████████████████████████████████████████████████████████████| 3/3 [00:00<00:00, 749.83it/s]\n"
     ]
    },
    {
     "name": "stdout",
     "output_type": "stream",
     "text": [
      "Example target: [1. 0. 0.]\n",
      "Example prediction: [0.1857, 0.3713, 0.443]\n",
      "Epoch 12 Training Loss: 1.093 Training Accuracy: 0.52 Val Loss: 1.2832 Val Accuracy: 0.2667\n"
     ]
    },
    {
     "name": "stderr",
     "output_type": "stream",
     "text": [
      "100%|███████████████████████████████████████████████████████████████████████████████████| 3/3 [00:00<00:00, 749.79it/s]\n"
     ]
    },
    {
     "name": "stdout",
     "output_type": "stream",
     "text": [
      "Example target: [1. 0. 0.]\n",
      "Example prediction: [0.1842, 0.3968, 0.4189]\n",
      "Epoch 13 Training Loss: 1.0369 Training Accuracy: 0.42 Val Loss: 1.2651 Val Accuracy: 0.3333\n"
     ]
    },
    {
     "name": "stderr",
     "output_type": "stream",
     "text": [
      "100%|███████████████████████████████████████████████████████████████████████████████████| 3/3 [00:00<00:00, 749.88it/s]\n"
     ]
    },
    {
     "name": "stdout",
     "output_type": "stream",
     "text": [
      "Example target: [0. 0. 1.]\n",
      "Example prediction: [0.1645, 0.3542, 0.4813]\n",
      "Epoch 14 Training Loss: 1.1149 Training Accuracy: 0.42 Val Loss: 1.2214 Val Accuracy: 0.2667\n"
     ]
    },
    {
     "name": "stderr",
     "output_type": "stream",
     "text": [
      "100%|███████████████████████████████████████████████████████████████████████████████████| 3/3 [00:00<00:00, 373.58it/s]\n"
     ]
    },
    {
     "name": "stdout",
     "output_type": "stream",
     "text": [
      "Example target: [1. 0. 0.]\n",
      "Example prediction: [0.2133, 0.3939, 0.3929]\n",
      "Epoch 15 Training Loss: 1.0073 Training Accuracy: 0.48 Val Loss: 1.2255 Val Accuracy: 0.4\n"
     ]
    },
    {
     "name": "stderr",
     "output_type": "stream",
     "text": [
      "100%|███████████████████████████████████████████████████████████████████████████████████| 3/3 [00:00<00:00, 979.29it/s]\n"
     ]
    },
    {
     "name": "stdout",
     "output_type": "stream",
     "text": [
      "Example target: [0. 0. 1.]\n",
      "Example prediction: [0.1916, 0.3158, 0.4926]\n",
      "Epoch 16 Training Loss: 1.0212 Training Accuracy: 0.54 Val Loss: 1.2068 Val Accuracy: 0.2667\n"
     ]
    },
    {
     "name": "stderr",
     "output_type": "stream",
     "text": [
      "100%|███████████████████████████████████████████████████████████████████████████████████| 3/3 [00:00<00:00, 374.27it/s]\n"
     ]
    },
    {
     "name": "stdout",
     "output_type": "stream",
     "text": [
      "Example target: [1. 0. 0.]\n",
      "Example prediction: [0.2345, 0.3491, 0.4163]\n",
      "Epoch 17 Training Loss: 1.0558 Training Accuracy: 0.4133 Val Loss: 1.1808 Val Accuracy: 0.2667\n"
     ]
    },
    {
     "name": "stderr",
     "output_type": "stream",
     "text": [
      "100%|███████████████████████████████████████████████████████████████████████████████████| 3/3 [00:00<00:00, 375.00it/s]\n"
     ]
    },
    {
     "name": "stdout",
     "output_type": "stream",
     "text": [
      "Example target: [0. 1. 0.]\n",
      "Example prediction: [0.1578, 0.3925, 0.4497]\n",
      "Epoch 18 Training Loss: 1.0279 Training Accuracy: 0.46 Val Loss: 1.1582 Val Accuracy: 0.2667\n"
     ]
    },
    {
     "name": "stderr",
     "output_type": "stream",
     "text": [
      "100%|███████████████████████████████████████████████████████████████████████████████████| 3/3 [00:00<00:00, 375.06it/s]\n"
     ]
    },
    {
     "name": "stdout",
     "output_type": "stream",
     "text": [
      "Example target: [1. 0. 0.]\n",
      "Example prediction: [0.2426, 0.3661, 0.3913]\n",
      "Epoch 19 Training Loss: 1.0488 Training Accuracy: 0.3267 Val Loss: 1.1423 Val Accuracy: 0.2667\n"
     ]
    },
    {
     "name": "stderr",
     "output_type": "stream",
     "text": [
      "100%|███████████████████████████████████████████████████████████████████████████████████| 3/3 [00:00<00:00, 375.04it/s]\n"
     ]
    },
    {
     "name": "stdout",
     "output_type": "stream",
     "text": [
      "Example target: [0. 1. 0.]\n",
      "Example prediction: [0.177, 0.3978, 0.4251]\n",
      "Epoch 20 Training Loss: 1.0618 Training Accuracy: 0.34 Val Loss: 1.116 Val Accuracy: 0.2667\n"
     ]
    },
    {
     "name": "stderr",
     "output_type": "stream",
     "text": [
      "100%|███████████████████████████████████████████████████████████████████████████████████| 3/3 [00:00<00:00, 750.32it/s]\n"
     ]
    },
    {
     "name": "stdout",
     "output_type": "stream",
     "text": [
      "Example target: [0. 0. 1.]\n",
      "Example prediction: [0.2336, 0.3038, 0.4627]\n",
      "Epoch 21 Training Loss: 0.9804 Training Accuracy: 0.4133 Val Loss: 1.1125 Val Accuracy: 0.2667\n"
     ]
    },
    {
     "name": "stderr",
     "output_type": "stream",
     "text": [
      "100%|███████████████████████████████████████████████████████████████████████████████████| 3/3 [00:00<00:00, 375.04it/s]\n"
     ]
    },
    {
     "name": "stdout",
     "output_type": "stream",
     "text": [
      "Example target: [0. 1. 0.]\n",
      "Example prediction: [0.1796, 0.3925, 0.4279]\n",
      "Epoch 22 Training Loss: 1.0077 Training Accuracy: 0.42 Val Loss: 1.0972 Val Accuracy: 0.2667\n"
     ]
    },
    {
     "name": "stderr",
     "output_type": "stream",
     "text": [
      "100%|███████████████████████████████████████████████████████████████████████████████████| 3/3 [00:00<00:00, 250.01it/s]\n"
     ]
    },
    {
     "name": "stdout",
     "output_type": "stream",
     "text": [
      "Example target: [0. 0. 1.]\n",
      "Example prediction: [0.1959, 0.3845, 0.4196]\n",
      "Epoch 23 Training Loss: 1.0183 Training Accuracy: 0.4 Val Loss: 1.089 Val Accuracy: 0.3333\n"
     ]
    },
    {
     "name": "stderr",
     "output_type": "stream",
     "text": [
      "100%|███████████████████████████████████████████████████████████████████████████████████| 3/3 [00:00<00:00, 749.43it/s]\n"
     ]
    },
    {
     "name": "stdout",
     "output_type": "stream",
     "text": [
      "Example target: [1. 0. 0.]\n",
      "Example prediction: [0.2845, 0.3462, 0.3693]\n",
      "Epoch 24 Training Loss: 0.9938 Training Accuracy: 0.44 Val Loss: 1.0748 Val Accuracy: 0.2667\n"
     ]
    },
    {
     "name": "stderr",
     "output_type": "stream",
     "text": [
      "100%|███████████████████████████████████████████████████████████████████████████████████| 3/3 [00:00<00:00, 749.79it/s]\n"
     ]
    },
    {
     "name": "stdout",
     "output_type": "stream",
     "text": [
      "Example target: [0. 1. 0.]\n",
      "Example prediction: [0.2162, 0.3985, 0.3853]\n",
      "Epoch 25 Training Loss: 1.0129 Training Accuracy: 0.3467 Val Loss: 1.0688 Val Accuracy: 0.4\n"
     ]
    },
    {
     "name": "stderr",
     "output_type": "stream",
     "text": [
      "100%|████████████████████████████████████████████████████████████████████████████████████████████| 3/3 [00:00<?, ?it/s]\n"
     ]
    },
    {
     "name": "stdout",
     "output_type": "stream",
     "text": [
      "Example target: [1. 0. 0.]\n",
      "Example prediction: [0.2548, 0.3897, 0.3555]\n",
      "Epoch 26 Training Loss: 0.9601 Training Accuracy: 0.5333 Val Loss: 1.0695 Val Accuracy: 0.4\n"
     ]
    },
    {
     "name": "stderr",
     "output_type": "stream",
     "text": [
      "100%|███████████████████████████████████████████████████████████████████████████████████| 3/3 [00:00<00:00, 374.93it/s]\n"
     ]
    },
    {
     "name": "stdout",
     "output_type": "stream",
     "text": [
      "Example target: [1. 0. 0.]\n",
      "Example prediction: [0.3, 0.343, 0.357]\n",
      "Epoch 27 Training Loss: 0.9527 Training Accuracy: 0.6133 Val Loss: 1.0795 Val Accuracy: 0.4\n"
     ]
    },
    {
     "name": "stderr",
     "output_type": "stream",
     "text": [
      "100%|███████████████████████████████████████████████████████████████████████████████████| 3/3 [00:00<00:00, 374.81it/s]\n"
     ]
    },
    {
     "name": "stdout",
     "output_type": "stream",
     "text": [
      "Example target: [1. 0. 0.]\n",
      "Example prediction: [0.2882, 0.3493, 0.3625]\n",
      "Epoch 28 Training Loss: 0.9972 Training Accuracy: 0.5 Val Loss: 1.0496 Val Accuracy: 0.2667\n"
     ]
    },
    {
     "name": "stderr",
     "output_type": "stream",
     "text": [
      "100%|███████████████████████████████████████████████████████████████████████████████████| 3/3 [00:00<00:00, 749.12it/s]\n"
     ]
    },
    {
     "name": "stdout",
     "output_type": "stream",
     "text": [
      "Example target: [1. 0. 0.]\n",
      "Example prediction: [0.3197, 0.2966, 0.3837]\n",
      "Epoch 29 Training Loss: 0.9278 Training Accuracy: 0.54 Val Loss: 1.0427 Val Accuracy: 0.2667\n"
     ]
    },
    {
     "name": "stderr",
     "output_type": "stream",
     "text": [
      "100%|███████████████████████████████████████████████████████████████████████████████████| 3/3 [00:00<00:00, 749.38it/s]\n"
     ]
    },
    {
     "name": "stdout",
     "output_type": "stream",
     "text": [
      "Example target: [1. 0. 0.]\n",
      "Example prediction: [0.3208, 0.2954, 0.3838]\n",
      "Epoch 30 Training Loss: 0.9564 Training Accuracy: 0.4333 Val Loss: 1.0296 Val Accuracy: 0.2667\n"
     ]
    },
    {
     "name": "stderr",
     "output_type": "stream",
     "text": [
      "100%|███████████████████████████████████████████████████████████████████████████████████| 3/3 [00:00<00:00, 747.91it/s]\n"
     ]
    },
    {
     "name": "stdout",
     "output_type": "stream",
     "text": [
      "Example target: [1. 0. 0.]\n",
      "Example prediction: [0.3097, 0.3169, 0.3735]\n",
      "Epoch 31 Training Loss: 1.0023 Training Accuracy: 0.3133 Val Loss: 1.0108 Val Accuracy: 0.2667\n"
     ]
    },
    {
     "name": "stderr",
     "output_type": "stream",
     "text": [
      "100%|███████████████████████████████████████████████████████████████████████████████████| 3/3 [00:00<00:00, 374.90it/s]\n"
     ]
    },
    {
     "name": "stdout",
     "output_type": "stream",
     "text": [
      "Example target: [0. 1. 0.]\n",
      "Example prediction: [0.2247, 0.3746, 0.4007]\n",
      "Epoch 32 Training Loss: 0.9839 Training Accuracy: 0.3133 Val Loss: 1.0049 Val Accuracy: 0.2667\n"
     ]
    },
    {
     "name": "stderr",
     "output_type": "stream",
     "text": [
      "100%|███████████████████████████████████████████████████████████████████████████████████| 3/3 [00:00<00:00, 748.36it/s]\n"
     ]
    },
    {
     "name": "stdout",
     "output_type": "stream",
     "text": [
      "Example target: [0. 0. 1.]\n",
      "Example prediction: [0.209, 0.2971, 0.4939]\n",
      "Epoch 33 Training Loss: 0.9005 Training Accuracy: 0.6 Val Loss: 1.0087 Val Accuracy: 0.2667\n"
     ]
    },
    {
     "name": "stderr",
     "output_type": "stream",
     "text": [
      "100%|███████████████████████████████████████████████████████████████████████████████████| 3/3 [00:00<00:00, 749.79it/s]\n"
     ]
    },
    {
     "name": "stdout",
     "output_type": "stream",
     "text": [
      "Example target: [1. 0. 0.]\n",
      "Example prediction: [0.3037, 0.3151, 0.3812]\n",
      "Epoch 34 Training Loss: 0.9472 Training Accuracy: 0.3733 Val Loss: 1.0082 Val Accuracy: 0.2667\n"
     ]
    },
    {
     "name": "stderr",
     "output_type": "stream",
     "text": [
      "100%|███████████████████████████████████████████████████████████████████████████████████| 3/3 [00:00<00:00, 374.99it/s]\n"
     ]
    },
    {
     "name": "stdout",
     "output_type": "stream",
     "text": [
      "Example target: [1. 0. 0.]\n",
      "Example prediction: [0.3093, 0.3349, 0.3558]\n",
      "Epoch 35 Training Loss: 0.9845 Training Accuracy: 0.3133 Val Loss: 1.0111 Val Accuracy: 0.2667\n"
     ]
    },
    {
     "name": "stderr",
     "output_type": "stream",
     "text": [
      "100%|███████████████████████████████████████████████████████████████████████████████████| 3/3 [00:00<00:00, 749.65it/s]\n"
     ]
    },
    {
     "name": "stdout",
     "output_type": "stream",
     "text": [
      "Example target: [0. 1. 0.]\n",
      "Example prediction: [0.2149, 0.3922, 0.3929]\n",
      "Epoch 36 Training Loss: 0.9372 Training Accuracy: 0.4733 Val Loss: 1.0122 Val Accuracy: 0.6\n"
     ]
    },
    {
     "name": "stderr",
     "output_type": "stream",
     "text": [
      "100%|███████████████████████████████████████████████████████████████████████████████████| 3/3 [00:00<00:00, 750.01it/s]\n"
     ]
    },
    {
     "name": "stdout",
     "output_type": "stream",
     "text": [
      "Example target: [0. 0. 1.]\n",
      "Example prediction: [0.2014, 0.2995, 0.499]\n",
      "Epoch 37 Training Loss: 0.8943 Training Accuracy: 0.6267 Val Loss: 1.0099 Val Accuracy: 0.2667\n"
     ]
    },
    {
     "name": "stderr",
     "output_type": "stream",
     "text": [
      "100%|███████████████████████████████████████████████████████████████████████████████████| 3/3 [00:00<00:00, 374.89it/s]\n"
     ]
    },
    {
     "name": "stdout",
     "output_type": "stream",
     "text": [
      "Example target: [0. 1. 0.]\n",
      "Example prediction: [0.2043, 0.3865, 0.4093]\n",
      "Epoch 38 Training Loss: 0.9325 Training Accuracy: 0.4067 Val Loss: 0.9956 Val Accuracy: 0.2667\n"
     ]
    },
    {
     "name": "stderr",
     "output_type": "stream",
     "text": [
      "100%|███████████████████████████████████████████████████████████████████████████████████| 3/3 [00:00<00:00, 750.10it/s]\n"
     ]
    },
    {
     "name": "stdout",
     "output_type": "stream",
     "text": [
      "Example target: [0. 0. 1.]\n",
      "Example prediction: [0.2113, 0.3058, 0.4828]\n",
      "Epoch 39 Training Loss: 0.9362 Training Accuracy: 0.4667 Val Loss: 0.9851 Val Accuracy: 0.4667\n"
     ]
    },
    {
     "name": "stderr",
     "output_type": "stream",
     "text": [
      "100%|███████████████████████████████████████████████████████████████████████████████████| 3/3 [00:00<00:00, 314.58it/s]\n"
     ]
    },
    {
     "name": "stdout",
     "output_type": "stream",
     "text": [
      "Example target: [1. 0. 0.]\n",
      "Example prediction: [0.3077, 0.3451, 0.3472]\n",
      "Epoch 40 Training Loss: 0.8993 Training Accuracy: 0.5 Val Loss: 0.9938 Val Accuracy: 0.6\n"
     ]
    },
    {
     "name": "stderr",
     "output_type": "stream",
     "text": [
      "100%|███████████████████████████████████████████████████████████████████████████████████| 3/3 [00:00<00:00, 749.92it/s]\n"
     ]
    },
    {
     "name": "stdout",
     "output_type": "stream",
     "text": [
      "Example target: [1. 0. 0.]\n",
      "Example prediction: [0.3529, 0.2998, 0.3474]\n",
      "Epoch 41 Training Loss: 0.9162 Training Accuracy: 0.5667 Val Loss: 0.9864 Val Accuracy: 0.4667\n"
     ]
    },
    {
     "name": "stderr",
     "output_type": "stream",
     "text": [
      "100%|███████████████████████████████████████████████████████████████████████████████████| 3/3 [00:00<00:00, 749.65it/s]\n"
     ]
    },
    {
     "name": "stdout",
     "output_type": "stream",
     "text": [
      "Example target: [1. 0. 0.]\n",
      "Example prediction: [0.3594, 0.3048, 0.3359]\n",
      "Epoch 42 Training Loss: 0.918 Training Accuracy: 0.4333 Val Loss: 0.9715 Val Accuracy: 0.4667\n"
     ]
    },
    {
     "name": "stderr",
     "output_type": "stream",
     "text": [
      "100%|███████████████████████████████████████████████████████████████████████████████████| 3/3 [00:00<00:00, 749.74it/s]\n"
     ]
    },
    {
     "name": "stdout",
     "output_type": "stream",
     "text": [
      "Example target: [0. 1. 0.]\n",
      "Example prediction: [0.2022, 0.398, 0.3998]\n",
      "Epoch 43 Training Loss: 0.8943 Training Accuracy: 0.5467 Val Loss: 0.9688 Val Accuracy: 0.5333\n"
     ]
    },
    {
     "name": "stderr",
     "output_type": "stream",
     "text": [
      "100%|███████████████████████████████████████████████████████████████████████████████████| 3/3 [00:00<00:00, 374.89it/s]\n"
     ]
    },
    {
     "name": "stdout",
     "output_type": "stream",
     "text": [
      "Example target: [1. 0. 0.]\n",
      "Example prediction: [0.3276, 0.3338, 0.3386]\n",
      "Epoch 44 Training Loss: 0.9424 Training Accuracy: 0.4 Val Loss: 0.959 Val Accuracy: 0.7333\n"
     ]
    },
    {
     "name": "stderr",
     "output_type": "stream",
     "text": [
      "100%|███████████████████████████████████████████████████████████████████████████████████| 3/3 [00:00<00:00, 374.93it/s]\n"
     ]
    },
    {
     "name": "stdout",
     "output_type": "stream",
     "text": [
      "Example target: [0. 0. 1.]\n",
      "Example prediction: [0.2033, 0.2926, 0.504]\n",
      "Epoch 45 Training Loss: 0.8891 Training Accuracy: 0.72 Val Loss: 0.9421 Val Accuracy: 0.6\n"
     ]
    },
    {
     "name": "stderr",
     "output_type": "stream",
     "text": [
      "100%|███████████████████████████████████████████████████████████████████████████████████| 3/3 [00:00<00:00, 749.79it/s]\n"
     ]
    },
    {
     "name": "stdout",
     "output_type": "stream",
     "text": [
      "Example target: [0. 0. 1.]\n",
      "Example prediction: [0.2, 0.361, 0.439]\n",
      "Epoch 46 Training Loss: 0.9161 Training Accuracy: 0.5267 Val Loss: 0.9368 Val Accuracy: 0.8\n"
     ]
    },
    {
     "name": "stderr",
     "output_type": "stream",
     "text": [
      "100%|███████████████████████████████████████████████████████████████████████████████████| 3/3 [00:00<00:00, 750.10it/s]\n"
     ]
    },
    {
     "name": "stdout",
     "output_type": "stream",
     "text": [
      "Example target: [0. 1. 0.]\n",
      "Example prediction: [0.2205, 0.3927, 0.3867]\n",
      "Epoch 47 Training Loss: 0.912 Training Accuracy: 0.6867 Val Loss: 0.9195 Val Accuracy: 0.8\n"
     ]
    },
    {
     "name": "stderr",
     "output_type": "stream",
     "text": [
      "100%|███████████████████████████████████████████████████████████████████████████████████| 3/3 [00:00<00:00, 750.14it/s]\n"
     ]
    },
    {
     "name": "stdout",
     "output_type": "stream",
     "text": [
      "Example target: [0. 1. 0.]\n",
      "Example prediction: [0.2391, 0.3698, 0.3911]\n",
      "Epoch 48 Training Loss: 0.8952 Training Accuracy: 0.8067 Val Loss: 0.9039 Val Accuracy: 0.8\n"
     ]
    },
    {
     "name": "stderr",
     "output_type": "stream",
     "text": [
      "100%|███████████████████████████████████████████████████████████████████████████████████| 3/3 [00:00<00:00, 748.14it/s]\n"
     ]
    },
    {
     "name": "stdout",
     "output_type": "stream",
     "text": [
      "Example target: [0. 1. 0.]\n",
      "Example prediction: [0.2398, 0.3622, 0.3979]\n",
      "Epoch 49 Training Loss: 0.8697 Training Accuracy: 0.8267 Val Loss: 0.8953 Val Accuracy: 0.8\n"
     ]
    },
    {
     "name": "stderr",
     "output_type": "stream",
     "text": [
      "100%|███████████████████████████████████████████████████████████████████████████████████| 3/3 [00:00<00:00, 750.14it/s]\n"
     ]
    },
    {
     "name": "stdout",
     "output_type": "stream",
     "text": [
      "Example target: [1. 0. 0.]\n",
      "Example prediction: [0.3696, 0.3061, 0.3243]\n",
      "Epoch 50 Training Loss: 0.8663 Training Accuracy: 0.7467 Val Loss: 0.8967 Val Accuracy: 0.7333\n"
     ]
    },
    {
     "name": "stderr",
     "output_type": "stream",
     "text": [
      "100%|███████████████████████████████████████████████████████████████████████████████████| 3/3 [00:00<00:00, 375.02it/s]\n"
     ]
    },
    {
     "name": "stdout",
     "output_type": "stream",
     "text": [
      "Example target: [1. 0. 0.]\n",
      "Example prediction: [0.4284, 0.2718, 0.2999]\n",
      "Epoch 51 Training Loss: 0.8897 Training Accuracy: 0.6867 Val Loss: 0.8988 Val Accuracy: 0.8667\n"
     ]
    },
    {
     "name": "stderr",
     "output_type": "stream",
     "text": [
      "100%|███████████████████████████████████████████████████████████████████████████████████| 3/3 [00:00<00:00, 374.99it/s]\n"
     ]
    },
    {
     "name": "stdout",
     "output_type": "stream",
     "text": [
      "Example target: [1. 0. 0.]\n",
      "Example prediction: [0.3325, 0.3386, 0.3289]\n",
      "Epoch 52 Training Loss: 0.8592 Training Accuracy: 0.7867 Val Loss: 0.8943 Val Accuracy: 0.7333\n"
     ]
    },
    {
     "name": "stderr",
     "output_type": "stream",
     "text": [
      "100%|███████████████████████████████████████████████████████████████████████████████████| 3/3 [00:00<00:00, 375.03it/s]\n"
     ]
    },
    {
     "name": "stdout",
     "output_type": "stream",
     "text": [
      "Example target: [1. 0. 0.]\n",
      "Example prediction: [0.369, 0.3185, 0.3125]\n",
      "Epoch 53 Training Loss: 0.886 Training Accuracy: 0.6667 Val Loss: 0.8989 Val Accuracy: 0.9333\n"
     ]
    },
    {
     "name": "stderr",
     "output_type": "stream",
     "text": [
      "100%|███████████████████████████████████████████████████████████████████████████████████| 3/3 [00:00<00:00, 375.07it/s]\n"
     ]
    },
    {
     "name": "stdout",
     "output_type": "stream",
     "text": [
      "Example target: [0. 1. 0.]\n",
      "Example prediction: [0.1887, 0.4148, 0.3965]\n",
      "Epoch 54 Training Loss: 0.8817 Training Accuracy: 0.8733 Val Loss: 0.8821 Val Accuracy: 0.8667\n"
     ]
    },
    {
     "name": "stderr",
     "output_type": "stream",
     "text": [
      "100%|███████████████████████████████████████████████████████████████████████████████████| 3/3 [00:00<00:00, 750.10it/s]\n"
     ]
    },
    {
     "name": "stdout",
     "output_type": "stream",
     "text": [
      "Example target: [1. 0. 0.]\n",
      "Example prediction: [0.4045, 0.2873, 0.3083]\n",
      "Epoch 55 Training Loss: 0.8472 Training Accuracy: 0.86 Val Loss: 0.876 Val Accuracy: 0.8\n"
     ]
    },
    {
     "name": "stderr",
     "output_type": "stream",
     "text": [
      "100%|████████████████████████████████████████████████████████████████████████████████████████████| 3/3 [00:00<?, ?it/s]\n"
     ]
    },
    {
     "name": "stdout",
     "output_type": "stream",
     "text": [
      "Example target: [0. 0. 1.]\n",
      "Example prediction: [0.1701, 0.3228, 0.5072]\n",
      "Epoch 56 Training Loss: 0.8609 Training Accuracy: 0.7467 Val Loss: 0.8662 Val Accuracy: 0.8\n"
     ]
    },
    {
     "name": "stderr",
     "output_type": "stream",
     "text": [
      "100%|███████████████████████████████████████████████████████████████████████████████████| 3/3 [00:00<00:00, 749.65it/s]\n"
     ]
    },
    {
     "name": "stdout",
     "output_type": "stream",
     "text": [
      "Example target: [0. 1. 0.]\n",
      "Example prediction: [0.2251, 0.3637, 0.4112]\n",
      "Epoch 57 Training Loss: 0.8377 Training Accuracy: 0.7333 Val Loss: 0.8639 Val Accuracy: 0.8\n"
     ]
    },
    {
     "name": "stderr",
     "output_type": "stream",
     "text": [
      "100%|███████████████████████████████████████████████████████████████████████████████████| 3/3 [00:00<00:00, 750.82it/s]\n"
     ]
    },
    {
     "name": "stdout",
     "output_type": "stream",
     "text": [
      "Example target: [0. 1. 0.]\n",
      "Example prediction: [0.2151, 0.3983, 0.3867]\n",
      "Epoch 58 Training Loss: 0.8509 Training Accuracy: 0.6667 Val Loss: 0.8604 Val Accuracy: 0.9333\n"
     ]
    },
    {
     "name": "stderr",
     "output_type": "stream",
     "text": [
      "100%|███████████████████████████████████████████████████████████████████████████████████| 3/3 [00:00<00:00, 751.04it/s]\n"
     ]
    },
    {
     "name": "stdout",
     "output_type": "stream",
     "text": [
      "Example target: [0. 1. 0.]\n",
      "Example prediction: [0.2075, 0.398, 0.3945]\n",
      "Epoch 59 Training Loss: 0.8163 Training Accuracy: 0.7867 Val Loss: 0.8635 Val Accuracy: 0.8667\n"
     ]
    },
    {
     "name": "stderr",
     "output_type": "stream",
     "text": [
      "100%|███████████████████████████████████████████████████████████████████████████████████| 3/3 [00:00<00:00, 749.65it/s]\n"
     ]
    },
    {
     "name": "stdout",
     "output_type": "stream",
     "text": [
      "Example target: [1. 0. 0.]\n",
      "Example prediction: [0.4163, 0.2828, 0.3008]\n",
      "Epoch 60 Training Loss: 0.8242 Training Accuracy: 0.76 Val Loss: 0.8534 Val Accuracy: 0.8\n"
     ]
    },
    {
     "name": "stderr",
     "output_type": "stream",
     "text": [
      "100%|███████████████████████████████████████████████████████████████████████████████████| 3/3 [00:00<00:00, 749.30it/s]\n"
     ]
    },
    {
     "name": "stdout",
     "output_type": "stream",
     "text": [
      "Example target: [0. 0. 1.]\n",
      "Example prediction: [0.1771, 0.3499, 0.473]\n",
      "Epoch 61 Training Loss: 0.8246 Training Accuracy: 0.7467 Val Loss: 0.8488 Val Accuracy: 0.8\n"
     ]
    },
    {
     "name": "stderr",
     "output_type": "stream",
     "text": [
      "100%|███████████████████████████████████████████████████████████████████████████████████| 3/3 [00:00<00:00, 749.47it/s]\n"
     ]
    },
    {
     "name": "stdout",
     "output_type": "stream",
     "text": [
      "Example target: [0. 0. 1.]\n",
      "Example prediction: [0.174, 0.3428, 0.4832]\n",
      "Epoch 62 Training Loss: 0.807 Training Accuracy: 0.72 Val Loss: 0.8442 Val Accuracy: 0.8\n"
     ]
    },
    {
     "name": "stderr",
     "output_type": "stream",
     "text": [
      "100%|███████████████████████████████████████████████████████████████████████████████████| 3/3 [00:00<00:00, 750.46it/s]\n"
     ]
    },
    {
     "name": "stdout",
     "output_type": "stream",
     "text": [
      "Example target: [0. 0. 1.]\n",
      "Example prediction: [0.168, 0.345, 0.487]\n",
      "Epoch 63 Training Loss: 0.7826 Training Accuracy: 0.78 Val Loss: 0.8324 Val Accuracy: 0.8\n"
     ]
    },
    {
     "name": "stderr",
     "output_type": "stream",
     "text": [
      "100%|███████████████████████████████████████████████████████████████████████████████████| 3/3 [00:00<00:00, 374.99it/s]\n"
     ]
    },
    {
     "name": "stdout",
     "output_type": "stream",
     "text": [
      "Example target: [1. 0. 0.]\n",
      "Example prediction: [0.4983, 0.2058, 0.2958]\n",
      "Epoch 64 Training Loss: 0.8158 Training Accuracy: 0.7667 Val Loss: 0.817 Val Accuracy: 0.8\n"
     ]
    },
    {
     "name": "stderr",
     "output_type": "stream",
     "text": [
      "100%|███████████████████████████████████████████████████████████████████████████████████| 3/3 [00:00<00:00, 374.57it/s]\n"
     ]
    },
    {
     "name": "stdout",
     "output_type": "stream",
     "text": [
      "Example target: [0. 1. 0.]\n",
      "Example prediction: [0.1917, 0.3806, 0.4277]\n",
      "Epoch 65 Training Loss: 0.8326 Training Accuracy: 0.6467 Val Loss: 0.8128 Val Accuracy: 0.8\n"
     ]
    },
    {
     "name": "stderr",
     "output_type": "stream",
     "text": [
      "100%|███████████████████████████████████████████████████████████████████████████████████| 3/3 [00:00<00:00, 374.74it/s]\n"
     ]
    },
    {
     "name": "stdout",
     "output_type": "stream",
     "text": [
      "Example target: [0. 1. 0.]\n",
      "Example prediction: [0.1933, 0.3808, 0.4259]\n",
      "Epoch 66 Training Loss: 0.8213 Training Accuracy: 0.7333 Val Loss: 0.8062 Val Accuracy: 0.8\n"
     ]
    },
    {
     "name": "stderr",
     "output_type": "stream",
     "text": [
      "100%|███████████████████████████████████████████████████████████████████████████████████| 3/3 [00:00<00:00, 374.94it/s]\n"
     ]
    },
    {
     "name": "stdout",
     "output_type": "stream",
     "text": [
      "Example target: [0. 0. 1.]\n",
      "Example prediction: [0.181, 0.303, 0.5161]\n",
      "Epoch 67 Training Loss: 0.8094 Training Accuracy: 0.78 Val Loss: 0.802 Val Accuracy: 0.8667\n"
     ]
    },
    {
     "name": "stderr",
     "output_type": "stream",
     "text": [
      "100%|███████████████████████████████████████████████████████████████████████████████████| 3/3 [00:00<00:00, 977.77it/s]\n"
     ]
    },
    {
     "name": "stdout",
     "output_type": "stream",
     "text": [
      "Example target: [0. 0. 1.]\n",
      "Example prediction: [0.1795, 0.3028, 0.5177]\n",
      "Epoch 68 Training Loss: 0.7988 Training Accuracy: 0.76 Val Loss: 0.7964 Val Accuracy: 0.8667\n"
     ]
    },
    {
     "name": "stderr",
     "output_type": "stream",
     "text": [
      "100%|███████████████████████████████████████████████████████████████████████████████████| 3/3 [00:00<00:00, 749.30it/s]\n"
     ]
    },
    {
     "name": "stdout",
     "output_type": "stream",
     "text": [
      "Example target: [0. 1. 0.]\n",
      "Example prediction: [0.1818, 0.4389, 0.3792]\n",
      "Epoch 69 Training Loss: 0.8084 Training Accuracy: 0.7733 Val Loss: 0.809 Val Accuracy: 1.0\n"
     ]
    },
    {
     "name": "stderr",
     "output_type": "stream",
     "text": [
      "100%|███████████████████████████████████████████████████████████████████████████████████| 3/3 [00:00<00:00, 749.96it/s]\n"
     ]
    },
    {
     "name": "stdout",
     "output_type": "stream",
     "text": [
      "Example target: [0. 0. 1.]\n",
      "Example prediction: [0.1591, 0.4025, 0.4385]\n",
      "Epoch 70 Training Loss: 0.7821 Training Accuracy: 0.8467 Val Loss: 0.8089 Val Accuracy: 1.0\n"
     ]
    },
    {
     "name": "stderr",
     "output_type": "stream",
     "text": [
      "100%|███████████████████████████████████████████████████████████████████████████████████| 3/3 [00:00<00:00, 373.13it/s]\n"
     ]
    },
    {
     "name": "stdout",
     "output_type": "stream",
     "text": [
      "Example target: [0. 1. 0.]\n",
      "Example prediction: [0.1679, 0.4301, 0.402]\n",
      "Epoch 71 Training Loss: 0.7709 Training Accuracy: 0.8467 Val Loss: 0.81 Val Accuracy: 1.0\n"
     ]
    },
    {
     "name": "stderr",
     "output_type": "stream",
     "text": [
      "100%|███████████████████████████████████████████████████████████████████████████████████| 3/3 [00:00<00:00, 749.52it/s]\n"
     ]
    },
    {
     "name": "stdout",
     "output_type": "stream",
     "text": [
      "Example target: [1. 0. 0.]\n",
      "Example prediction: [0.4238, 0.2907, 0.2855]\n",
      "Epoch 72 Training Loss: 0.7961 Training Accuracy: 0.8933 Val Loss: 0.7983 Val Accuracy: 0.9333\n"
     ]
    },
    {
     "name": "stderr",
     "output_type": "stream",
     "text": [
      "100%|███████████████████████████████████████████████████████████████████████████████████| 3/3 [00:00<00:00, 375.04it/s]\n"
     ]
    },
    {
     "name": "stdout",
     "output_type": "stream",
     "text": [
      "Example target: [1. 0. 0.]\n",
      "Example prediction: [0.5033, 0.2398, 0.2569]\n",
      "Epoch 73 Training Loss: 0.7836 Training Accuracy: 0.82 Val Loss: 0.7948 Val Accuracy: 0.9333\n"
     ]
    },
    {
     "name": "stderr",
     "output_type": "stream",
     "text": [
      "100%|███████████████████████████████████████████████████████████████████████████████████| 3/3 [00:00<00:00, 750.05it/s]\n"
     ]
    },
    {
     "name": "stdout",
     "output_type": "stream",
     "text": [
      "Example target: [1. 0. 0.]\n",
      "Example prediction: [0.4691, 0.2654, 0.2655]\n",
      "Epoch 74 Training Loss: 0.7879 Training Accuracy: 0.8867 Val Loss: 0.7806 Val Accuracy: 0.9333\n"
     ]
    },
    {
     "name": "stderr",
     "output_type": "stream",
     "text": [
      "100%|████████████████████████████████████████████████████████████████████████████████████████████| 3/3 [00:00<?, ?it/s]\n"
     ]
    },
    {
     "name": "stdout",
     "output_type": "stream",
     "text": [
      "Example target: [0. 0. 1.]\n",
      "Example prediction: [0.1634, 0.3693, 0.4673]\n",
      "Epoch 75 Training Loss: 0.7768 Training Accuracy: 0.88 Val Loss: 0.7725 Val Accuracy: 0.9333\n"
     ]
    },
    {
     "name": "stderr",
     "output_type": "stream",
     "text": [
      "100%|███████████████████████████████████████████████████████████████████████████████████| 3/3 [00:00<00:00, 748.54it/s]\n"
     ]
    },
    {
     "name": "stdout",
     "output_type": "stream",
     "text": [
      "Example target: [1. 0. 0.]\n",
      "Example prediction: [0.5469, 0.218, 0.2351]\n",
      "Epoch 76 Training Loss: 0.7712 Training Accuracy: 0.8667 Val Loss: 0.7575 Val Accuracy: 0.8\n"
     ]
    },
    {
     "name": "stderr",
     "output_type": "stream",
     "text": [
      "100%|███████████████████████████████████████████████████████████████████████████████████| 3/3 [00:00<00:00, 749.88it/s]\n"
     ]
    },
    {
     "name": "stdout",
     "output_type": "stream",
     "text": [
      "Example target: [0. 0. 1.]\n",
      "Example prediction: [0.1595, 0.3385, 0.5021]\n",
      "Epoch 77 Training Loss: 0.7509 Training Accuracy: 0.74 Val Loss: 0.7588 Val Accuracy: 0.8\n"
     ]
    },
    {
     "name": "stderr",
     "output_type": "stream",
     "text": [
      "100%|███████████████████████████████████████████████████████████████████████████████████| 3/3 [00:00<00:00, 749.65it/s]\n"
     ]
    },
    {
     "name": "stdout",
     "output_type": "stream",
     "text": [
      "Example target: [1. 0. 0.]\n",
      "Example prediction: [0.5452, 0.225, 0.2299]\n",
      "Epoch 78 Training Loss: 0.8225 Training Accuracy: 0.66 Val Loss: 0.756 Val Accuracy: 0.8667\n"
     ]
    },
    {
     "name": "stderr",
     "output_type": "stream",
     "text": [
      "100%|███████████████████████████████████████████████████████████████████████████████████| 3/3 [00:00<00:00, 751.22it/s]\n"
     ]
    },
    {
     "name": "stdout",
     "output_type": "stream",
     "text": [
      "Example target: [1. 0. 0.]\n",
      "Example prediction: [0.4565, 0.2558, 0.2876]\n",
      "Epoch 79 Training Loss: 0.7436 Training Accuracy: 0.8467 Val Loss: 0.7447 Val Accuracy: 0.8\n"
     ]
    },
    {
     "name": "stderr",
     "output_type": "stream",
     "text": [
      "100%|███████████████████████████████████████████████████████████████████████████████████| 3/3 [00:00<00:00, 750.32it/s]\n"
     ]
    },
    {
     "name": "stdout",
     "output_type": "stream",
     "text": [
      "Example target: [1. 0. 0.]\n",
      "Example prediction: [0.4095, 0.2985, 0.292]\n",
      "Epoch 80 Training Loss: 0.774 Training Accuracy: 0.66 Val Loss: 0.7485 Val Accuracy: 0.8\n"
     ]
    },
    {
     "name": "stderr",
     "output_type": "stream",
     "text": [
      "100%|███████████████████████████████████████████████████████████████████████████████████| 3/3 [00:00<00:00, 375.03it/s]\n"
     ]
    },
    {
     "name": "stdout",
     "output_type": "stream",
     "text": [
      "Example target: [1. 0. 0.]\n",
      "Example prediction: [0.5462, 0.2015, 0.2524]\n",
      "Epoch 81 Training Loss: 0.7633 Training Accuracy: 0.7267 Val Loss: 0.7512 Val Accuracy: 0.8\n"
     ]
    },
    {
     "name": "stderr",
     "output_type": "stream",
     "text": [
      "100%|███████████████████████████████████████████████████████████████████████████████████| 3/3 [00:00<00:00, 374.92it/s]\n"
     ]
    },
    {
     "name": "stdout",
     "output_type": "stream",
     "text": [
      "Example target: [1. 0. 0.]\n",
      "Example prediction: [0.4184, 0.2908, 0.2907]\n",
      "Epoch 82 Training Loss: 0.7581 Training Accuracy: 0.8133 Val Loss: 0.7363 Val Accuracy: 0.8\n"
     ]
    },
    {
     "name": "stderr",
     "output_type": "stream",
     "text": [
      "100%|████████████████████████████████████████████████████████████████████████████████████████████| 3/3 [00:00<?, ?it/s]\n"
     ]
    },
    {
     "name": "stdout",
     "output_type": "stream",
     "text": [
      "Example target: [1. 0. 0.]\n",
      "Example prediction: [0.5728, 0.2062, 0.221]\n",
      "Epoch 83 Training Loss: 0.7653 Training Accuracy: 0.72 Val Loss: 0.7268 Val Accuracy: 0.8\n"
     ]
    },
    {
     "name": "stderr",
     "output_type": "stream",
     "text": [
      "100%|███████████████████████████████████████████████████████████████████████████████████| 3/3 [00:00<00:00, 187.50it/s]\n"
     ]
    },
    {
     "name": "stdout",
     "output_type": "stream",
     "text": [
      "Example target: [0. 1. 0.]\n",
      "Example prediction: [0.2189, 0.4025, 0.3786]\n",
      "Epoch 84 Training Loss: 0.7666 Training Accuracy: 0.6667 Val Loss: 0.725 Val Accuracy: 0.9333\n"
     ]
    },
    {
     "name": "stderr",
     "output_type": "stream",
     "text": [
      "100%|███████████████████████████████████████████████████████████████████████████████████| 3/3 [00:00<00:00, 125.03it/s]\n"
     ]
    },
    {
     "name": "stdout",
     "output_type": "stream",
     "text": [
      "Example target: [0. 0. 1.]\n",
      "Example prediction: [0.1489, 0.3925, 0.4586]\n",
      "Epoch 85 Training Loss: 0.7504 Training Accuracy: 0.7467 Val Loss: 0.7331 Val Accuracy: 1.0\n"
     ]
    },
    {
     "name": "stderr",
     "output_type": "stream",
     "text": [
      "100%|███████████████████████████████████████████████████████████████████████████████████| 3/3 [00:00<00:00, 750.68it/s]\n"
     ]
    },
    {
     "name": "stdout",
     "output_type": "stream",
     "text": [
      "Example target: [0. 0. 1.]\n",
      "Example prediction: [0.15, 0.3835, 0.4665]\n",
      "Epoch 86 Training Loss: 0.7472 Training Accuracy: 0.8467 Val Loss: 0.7246 Val Accuracy: 1.0\n"
     ]
    },
    {
     "name": "stderr",
     "output_type": "stream",
     "text": [
      "100%|███████████████████████████████████████████████████████████████████████████████████| 3/3 [00:00<00:00, 375.27it/s]\n"
     ]
    },
    {
     "name": "stdout",
     "output_type": "stream",
     "text": [
      "Example target: [1. 0. 0.]\n",
      "Example prediction: [0.5144, 0.2432, 0.2423]\n",
      "Epoch 87 Training Loss: 0.7337 Training Accuracy: 0.8867 Val Loss: 0.7191 Val Accuracy: 0.9333\n"
     ]
    },
    {
     "name": "stderr",
     "output_type": "stream",
     "text": [
      "100%|███████████████████████████████████████████████████████████████████████████████████| 3/3 [00:00<00:00, 750.10it/s]\n"
     ]
    },
    {
     "name": "stdout",
     "output_type": "stream",
     "text": [
      "Example target: [1. 0. 0.]\n",
      "Example prediction: [0.5701, 0.2248, 0.2052]\n",
      "Epoch 88 Training Loss: 0.7502 Training Accuracy: 0.74 Val Loss: 0.7254 Val Accuracy: 1.0\n"
     ]
    },
    {
     "name": "stderr",
     "output_type": "stream",
     "text": [
      "100%|███████████████████████████████████████████████████████████████████████████████████| 3/3 [00:00<00:00, 374.93it/s]\n"
     ]
    },
    {
     "name": "stdout",
     "output_type": "stream",
     "text": [
      "Example target: [1. 0. 0.]\n",
      "Example prediction: [0.5805, 0.2094, 0.2102]\n",
      "Epoch 89 Training Loss: 0.7177 Training Accuracy: 0.8867 Val Loss: 0.7141 Val Accuracy: 1.0\n"
     ]
    },
    {
     "name": "stderr",
     "output_type": "stream",
     "text": [
      "100%|███████████████████████████████████████████████████████████████████████████████████| 3/3 [00:00<00:00, 149.99it/s]\n"
     ]
    },
    {
     "name": "stdout",
     "output_type": "stream",
     "text": [
      "Example target: [1. 0. 0.]\n",
      "Example prediction: [0.5146, 0.266, 0.2194]\n",
      "Epoch 90 Training Loss: 0.7709 Training Accuracy: 0.7667 Val Loss: 0.725 Val Accuracy: 0.9333\n"
     ]
    },
    {
     "name": "stderr",
     "output_type": "stream",
     "text": [
      "100%|███████████████████████████████████████████████████████████████████████████████████| 3/3 [00:00<00:00, 192.03it/s]\n"
     ]
    },
    {
     "name": "stdout",
     "output_type": "stream",
     "text": [
      "Example target: [1. 0. 0.]\n",
      "Example prediction: [0.5896, 0.2244, 0.186]\n",
      "Epoch 91 Training Loss: 0.7501 Training Accuracy: 0.9533 Val Loss: 0.7182 Val Accuracy: 0.8667\n"
     ]
    },
    {
     "name": "stderr",
     "output_type": "stream",
     "text": [
      "100%|███████████████████████████████████████████████████████████████████████████████████| 3/3 [00:00<00:00, 250.00it/s]\n"
     ]
    },
    {
     "name": "stdout",
     "output_type": "stream",
     "text": [
      "Example target: [0. 0. 1.]\n",
      "Example prediction: [0.1266, 0.3733, 0.5002]\n",
      "Epoch 92 Training Loss: 0.6896 Training Accuracy: 0.9333 Val Loss: 0.6991 Val Accuracy: 1.0\n"
     ]
    },
    {
     "name": "stderr",
     "output_type": "stream",
     "text": [
      "100%|███████████████████████████████████████████████████████████████████████████████████| 3/3 [00:00<00:00, 375.06it/s]\n"
     ]
    },
    {
     "name": "stdout",
     "output_type": "stream",
     "text": [
      "Example target: [0. 0. 1.]\n",
      "Example prediction: [0.14, 0.4135, 0.4465]\n",
      "Epoch 93 Training Loss: 0.7334 Training Accuracy: 0.8667 Val Loss: 0.6982 Val Accuracy: 1.0\n"
     ]
    },
    {
     "name": "stderr",
     "output_type": "stream",
     "text": [
      "100%|███████████████████████████████████████████████████████████████████████████████████| 3/3 [00:00<00:00, 375.53it/s]\n"
     ]
    },
    {
     "name": "stdout",
     "output_type": "stream",
     "text": [
      "Example target: [0. 0. 1.]\n",
      "Example prediction: [0.1375, 0.3357, 0.5267]\n",
      "Epoch 94 Training Loss: 0.7227 Training Accuracy: 0.9067 Val Loss: 0.6885 Val Accuracy: 1.0\n"
     ]
    },
    {
     "name": "stderr",
     "output_type": "stream",
     "text": [
      "100%|███████████████████████████████████████████████████████████████████████████████████| 3/3 [00:00<00:00, 375.59it/s]\n"
     ]
    },
    {
     "name": "stdout",
     "output_type": "stream",
     "text": [
      "Example target: [0. 0. 1.]\n",
      "Example prediction: [0.1236, 0.3669, 0.5095]\n",
      "Epoch 95 Training Loss: 0.7287 Training Accuracy: 0.82 Val Loss: 0.6854 Val Accuracy: 1.0\n"
     ]
    },
    {
     "name": "stderr",
     "output_type": "stream",
     "text": [
      "100%|███████████████████████████████████████████████████████████████████████████████████| 3/3 [00:00<00:00, 750.10it/s]\n"
     ]
    },
    {
     "name": "stdout",
     "output_type": "stream",
     "text": [
      "Example target: [1. 0. 0.]\n",
      "Example prediction: [0.5168, 0.2536, 0.2296]\n",
      "Epoch 96 Training Loss: 0.7219 Training Accuracy: 0.8533 Val Loss: 0.678 Val Accuracy: 1.0\n"
     ]
    },
    {
     "name": "stderr",
     "output_type": "stream",
     "text": [
      "100%|███████████████████████████████████████████████████████████████████████████████████| 3/3 [00:00<00:00, 749.88it/s]\n"
     ]
    },
    {
     "name": "stdout",
     "output_type": "stream",
     "text": [
      "Example target: [0. 0. 1.]\n",
      "Example prediction: [0.1438, 0.3433, 0.5129]\n",
      "Epoch 97 Training Loss: 0.6878 Training Accuracy: 0.9 Val Loss: 0.6711 Val Accuracy: 1.0\n"
     ]
    },
    {
     "name": "stderr",
     "output_type": "stream",
     "text": [
      "100%|███████████████████████████████████████████████████████████████████████████████████| 3/3 [00:00<00:00, 750.05it/s]\n"
     ]
    },
    {
     "name": "stdout",
     "output_type": "stream",
     "text": [
      "Example target: [0. 1. 0.]\n",
      "Example prediction: [0.2163, 0.3935, 0.3903]\n",
      "Epoch 98 Training Loss: 0.7068 Training Accuracy: 0.8467 Val Loss: 0.6662 Val Accuracy: 1.0\n"
     ]
    },
    {
     "name": "stderr",
     "output_type": "stream",
     "text": [
      "100%|███████████████████████████████████████████████████████████████████████████████████| 3/3 [00:00<00:00, 374.98it/s]\n"
     ]
    },
    {
     "name": "stdout",
     "output_type": "stream",
     "text": [
      "Example target: [1. 0. 0.]\n",
      "Example prediction: [0.6534, 0.1669, 0.1797]\n",
      "Epoch 99 Training Loss: 0.6961 Training Accuracy: 0.82 Val Loss: 0.6603 Val Accuracy: 1.0\n",
      "Test Loss: 0.7302 Test Accuracy: 0.7667\n"
     ]
    }
   ],
   "source": [
    "\n",
    "hidden_layer_size=20\n",
    "lr=1e-3\n",
    "model_name = \"two_layer_NN_20l_1e-3\"\n",
    "%run -i train_ffnn.py"
   ]
  },
  {
   "cell_type": "code",
   "execution_count": 11,
   "metadata": {},
   "outputs": [
    {
     "name": "stdout",
     "output_type": "stream",
     "text": [
      "Training two_layer_NN_5l_1e-2 neural network on iris with SGD for 100 epochs...\n",
      "Optimizer:\n",
      "{'name': 'SGD', 'lr': 0.01, 'lr_scheduler': 'exponential', 'lr_decay': 0.99, 'stage_length': 1000, 'staircase': False, 'clip_norm': None, 'momentum': 0}\n"
     ]
    },
    {
     "name": "stderr",
     "output_type": "stream",
     "text": [
      "100%|███████████████████████████████████████████████████████████████████████████████████| 3/3 [00:00<00:00, 373.09it/s]\n"
     ]
    },
    {
     "name": "stdout",
     "output_type": "stream",
     "text": [
      "Example target: [1. 0. 0.]\n",
      "Example prediction: [0.0349, 0.8869, 0.0782]\n",
      "Epoch 0 Training Loss: 3.1147 Training Accuracy: 0.42 Val Loss: 2.9027 Val Accuracy: 0.2\n"
     ]
    },
    {
     "name": "stderr",
     "output_type": "stream",
     "text": [
      "100%|███████████████████████████████████████████████████████████████████████████████████| 3/3 [00:00<00:00, 375.00it/s]\n"
     ]
    },
    {
     "name": "stdout",
     "output_type": "stream",
     "text": [
      "Example target: [0. 0. 1.]\n",
      "Example prediction: [0.0192, 0.872, 0.1088]\n",
      "Epoch 1 Training Loss: 2.2434 Training Accuracy: 0.3 Val Loss: 1.8813 Val Accuracy: 0.2\n"
     ]
    },
    {
     "name": "stderr",
     "output_type": "stream",
     "text": [
      "100%|███████████████████████████████████████████████████████████████████████████████████| 3/3 [00:00<00:00, 749.79it/s]\n"
     ]
    },
    {
     "name": "stdout",
     "output_type": "stream",
     "text": [
      "Example target: [1. 0. 0.]\n",
      "Example prediction: [0.1314, 0.5867, 0.2819]\n",
      "Epoch 2 Training Loss: 1.2409 Training Accuracy: 0.42 Val Loss: 1.5344 Val Accuracy: 0.2\n"
     ]
    },
    {
     "name": "stderr",
     "output_type": "stream",
     "text": [
      "100%|███████████████████████████████████████████████████████████████████████████████████| 3/3 [00:00<00:00, 750.10it/s]\n"
     ]
    },
    {
     "name": "stdout",
     "output_type": "stream",
     "text": [
      "Example target: [0. 0. 1.]\n",
      "Example prediction: [0.0599, 0.4682, 0.472]\n",
      "Epoch 3 Training Loss: 1.1027 Training Accuracy: 0.3133 Val Loss: 1.3198 Val Accuracy: 0.4\n"
     ]
    },
    {
     "name": "stderr",
     "output_type": "stream",
     "text": [
      "100%|███████████████████████████████████████████████████████████████████████████████████| 3/3 [00:00<00:00, 750.14it/s]\n"
     ]
    },
    {
     "name": "stdout",
     "output_type": "stream",
     "text": [
      "Example target: [1. 0. 0.]\n",
      "Example prediction: [0.1797, 0.4742, 0.3461]\n",
      "Epoch 4 Training Loss: 1.0229 Training Accuracy: 0.5933 Val Loss: 1.2523 Val Accuracy: 0.3333\n"
     ]
    },
    {
     "name": "stderr",
     "output_type": "stream",
     "text": [
      "100%|███████████████████████████████████████████████████████████████████████████████████| 3/3 [00:00<00:00, 749.65it/s]\n"
     ]
    },
    {
     "name": "stdout",
     "output_type": "stream",
     "text": [
      "Example target: [1. 0. 0.]\n",
      "Example prediction: [0.1979, 0.4779, 0.3242]\n",
      "Epoch 5 Training Loss: 1.0767 Training Accuracy: 0.5267 Val Loss: 1.1901 Val Accuracy: 0.3333\n"
     ]
    },
    {
     "name": "stderr",
     "output_type": "stream",
     "text": [
      "100%|███████████████████████████████████████████████████████████████████████████████████| 3/3 [00:00<00:00, 750.05it/s]\n"
     ]
    },
    {
     "name": "stdout",
     "output_type": "stream",
     "text": [
      "Example target: [1. 0. 0.]\n",
      "Example prediction: [0.2495, 0.4184, 0.3321]\n",
      "Epoch 6 Training Loss: 1.0318 Training Accuracy: 0.5133 Val Loss: 1.1268 Val Accuracy: 0.4\n"
     ]
    },
    {
     "name": "stderr",
     "output_type": "stream",
     "text": [
      "100%|███████████████████████████████████████████████████████████████████████████████████| 3/3 [00:00<00:00, 372.68it/s]\n"
     ]
    },
    {
     "name": "stdout",
     "output_type": "stream",
     "text": [
      "Example target: [0. 1. 0.]\n",
      "Example prediction: [0.1795, 0.4861, 0.3344]\n",
      "Epoch 7 Training Loss: 0.897 Training Accuracy: 0.5867 Val Loss: 1.1695 Val Accuracy: 0.2\n"
     ]
    },
    {
     "name": "stderr",
     "output_type": "stream",
     "text": [
      "100%|███████████████████████████████████████████████████████████████████████████████████| 3/3 [00:00<00:00, 749.79it/s]\n"
     ]
    },
    {
     "name": "stdout",
     "output_type": "stream",
     "text": [
      "Example target: [0. 0. 1.]\n",
      "Example prediction: [0.1152, 0.3859, 0.4989]\n",
      "Epoch 8 Training Loss: 0.9589 Training Accuracy: 0.4733 Val Loss: 1.1327 Val Accuracy: 0.4\n"
     ]
    },
    {
     "name": "stderr",
     "output_type": "stream",
     "text": [
      "100%|███████████████████████████████████████████████████████████████████████████████████| 3/3 [00:00<00:00, 750.14it/s]\n"
     ]
    },
    {
     "name": "stdout",
     "output_type": "stream",
     "text": [
      "Example target: [1. 0. 0.]\n",
      "Example prediction: [0.2529, 0.398, 0.349]\n",
      "Epoch 9 Training Loss: 0.9153 Training Accuracy: 0.6133 Val Loss: 1.1016 Val Accuracy: 0.4\n"
     ]
    },
    {
     "name": "stderr",
     "output_type": "stream",
     "text": [
      "100%|███████████████████████████████████████████████████████████████████████████████████| 3/3 [00:00<00:00, 374.97it/s]\n"
     ]
    },
    {
     "name": "stdout",
     "output_type": "stream",
     "text": [
      "Example target: [0. 1. 0.]\n",
      "Example prediction: [0.203, 0.4143, 0.3827]\n",
      "Epoch 10 Training Loss: 0.9887 Training Accuracy: 0.3933 Val Loss: 1.0914 Val Accuracy: 0.4\n"
     ]
    },
    {
     "name": "stderr",
     "output_type": "stream",
     "text": [
      "100%|████████████████████████████████████████████████████████████████████████████████████████████| 3/3 [00:00<?, ?it/s]\n"
     ]
    },
    {
     "name": "stdout",
     "output_type": "stream",
     "text": [
      "Example target: [1. 0. 0.]\n",
      "Example prediction: [0.2693, 0.3812, 0.3496]\n",
      "Epoch 11 Training Loss: 0.9205 Training Accuracy: 0.58 Val Loss: 1.056 Val Accuracy: 0.2667\n"
     ]
    },
    {
     "name": "stderr",
     "output_type": "stream",
     "text": [
      "100%|███████████████████████████████████████████████████████████████████████████████████| 3/3 [00:00<00:00, 735.50it/s]\n"
     ]
    },
    {
     "name": "stdout",
     "output_type": "stream",
     "text": [
      "Example target: [1. 0. 0.]\n",
      "Example prediction: [0.249, 0.4421, 0.3089]\n",
      "Epoch 12 Training Loss: 0.9394 Training Accuracy: 0.3333 Val Loss: 1.0826 Val Accuracy: 0.4\n"
     ]
    },
    {
     "name": "stderr",
     "output_type": "stream",
     "text": [
      "100%|███████████████████████████████████████████████████████████████████████████████████| 3/3 [00:00<00:00, 375.00it/s]\n"
     ]
    },
    {
     "name": "stdout",
     "output_type": "stream",
     "text": [
      "Example target: [0. 0. 1.]\n",
      "Example prediction: [0.1493, 0.3723, 0.4784]\n",
      "Epoch 13 Training Loss: 0.906 Training Accuracy: 0.5733 Val Loss: 1.0587 Val Accuracy: 0.4\n"
     ]
    },
    {
     "name": "stderr",
     "output_type": "stream",
     "text": [
      "100%|███████████████████████████████████████████████████████████████████████████████████| 3/3 [00:00<00:00, 374.96it/s]\n"
     ]
    },
    {
     "name": "stdout",
     "output_type": "stream",
     "text": [
      "Example target: [1. 0. 0.]\n",
      "Example prediction: [0.2933, 0.3804, 0.3263]\n",
      "Epoch 14 Training Loss: 0.969 Training Accuracy: 0.3933 Val Loss: 1.0347 Val Accuracy: 0.4\n"
     ]
    },
    {
     "name": "stderr",
     "output_type": "stream",
     "text": [
      "100%|███████████████████████████████████████████████████████████████████████████████████| 3/3 [00:00<00:00, 749.61it/s]\n"
     ]
    },
    {
     "name": "stdout",
     "output_type": "stream",
     "text": [
      "Example target: [1. 0. 0.]\n",
      "Example prediction: [0.2879, 0.4001, 0.312]\n",
      "Epoch 15 Training Loss: 0.9546 Training Accuracy: 0.4733 Val Loss: 1.0383 Val Accuracy: 0.4667\n"
     ]
    },
    {
     "name": "stderr",
     "output_type": "stream",
     "text": [
      "100%|███████████████████████████████████████████████████████████████████████████████████| 3/3 [00:00<00:00, 249.43it/s]\n"
     ]
    },
    {
     "name": "stdout",
     "output_type": "stream",
     "text": [
      "Example target: [1. 0. 0.]\n",
      "Example prediction: [0.2973, 0.3993, 0.3034]\n",
      "Epoch 16 Training Loss: 0.9321 Training Accuracy: 0.5 Val Loss: 1.0246 Val Accuracy: 0.4667\n"
     ]
    },
    {
     "name": "stderr",
     "output_type": "stream",
     "text": [
      "100%|███████████████████████████████████████████████████████████████████████████████████| 3/3 [00:00<00:00, 749.79it/s]\n"
     ]
    },
    {
     "name": "stdout",
     "output_type": "stream",
     "text": [
      "Example target: [0. 0. 1.]\n",
      "Example prediction: [0.1768, 0.3832, 0.4399]\n",
      "Epoch 17 Training Loss: 0.9258 Training Accuracy: 0.5667 Val Loss: 1.0268 Val Accuracy: 0.4\n"
     ]
    },
    {
     "name": "stderr",
     "output_type": "stream",
     "text": [
      "100%|███████████████████████████████████████████████████████████████████████████████████| 3/3 [00:00<00:00, 750.14it/s]\n"
     ]
    },
    {
     "name": "stdout",
     "output_type": "stream",
     "text": [
      "Example target: [1. 0. 0.]\n",
      "Example prediction: [0.2863, 0.391, 0.3226]\n",
      "Epoch 18 Training Loss: 0.8553 Training Accuracy: 0.6933 Val Loss: 1.0278 Val Accuracy: 0.4\n"
     ]
    },
    {
     "name": "stderr",
     "output_type": "stream",
     "text": [
      "100%|███████████████████████████████████████████████████████████████████████████████████| 3/3 [00:00<00:00, 374.60it/s]\n"
     ]
    },
    {
     "name": "stdout",
     "output_type": "stream",
     "text": [
      "Example target: [1. 0. 0.]\n",
      "Example prediction: [0.2714, 0.3992, 0.3294]\n",
      "Epoch 19 Training Loss: 0.8579 Training Accuracy: 0.52 Val Loss: 1.022 Val Accuracy: 0.2667\n"
     ]
    },
    {
     "name": "stderr",
     "output_type": "stream",
     "text": [
      "100%|███████████████████████████████████████████████████████████████████████████████████| 3/3 [00:00<00:00, 749.96it/s]\n"
     ]
    },
    {
     "name": "stdout",
     "output_type": "stream",
     "text": [
      "Example target: [1. 0. 0.]\n",
      "Example prediction: [0.3019, 0.3969, 0.3012]\n",
      "Epoch 20 Training Loss: 0.9658 Training Accuracy: 0.3667 Val Loss: 1.0184 Val Accuracy: 0.4667\n"
     ]
    },
    {
     "name": "stderr",
     "output_type": "stream",
     "text": [
      "100%|███████████████████████████████████████████████████████████████████████████████████| 3/3 [00:00<00:00, 744.33it/s]\n"
     ]
    },
    {
     "name": "stdout",
     "output_type": "stream",
     "text": [
      "Example target: [1. 0. 0.]\n",
      "Example prediction: [0.2847, 0.442, 0.2733]\n",
      "Epoch 21 Training Loss: 0.9268 Training Accuracy: 0.5067 Val Loss: 1.038 Val Accuracy: 0.3333\n"
     ]
    },
    {
     "name": "stderr",
     "output_type": "stream",
     "text": [
      "100%|███████████████████████████████████████████████████████████████████████████████████| 3/3 [00:00<00:00, 375.02it/s]\n"
     ]
    },
    {
     "name": "stdout",
     "output_type": "stream",
     "text": [
      "Example target: [0. 0. 1.]\n",
      "Example prediction: [0.1516, 0.3674, 0.481]\n",
      "Epoch 22 Training Loss: 0.8377 Training Accuracy: 0.6333 Val Loss: 1.0117 Val Accuracy: 0.4667\n"
     ]
    },
    {
     "name": "stderr",
     "output_type": "stream",
     "text": [
      "100%|████████████████████████████████████████████████████████████████████████████████████████████| 3/3 [00:00<?, ?it/s]\n"
     ]
    },
    {
     "name": "stdout",
     "output_type": "stream",
     "text": [
      "Example target: [1. 0. 0.]\n",
      "Example prediction: [0.2888, 0.4267, 0.2845]\n",
      "Epoch 23 Training Loss: 0.9301 Training Accuracy: 0.5 Val Loss: 1.0129 Val Accuracy: 0.4\n"
     ]
    },
    {
     "name": "stderr",
     "output_type": "stream",
     "text": [
      "100%|███████████████████████████████████████████████████████████████████████████████████| 3/3 [00:00<00:00, 573.02it/s]\n"
     ]
    },
    {
     "name": "stdout",
     "output_type": "stream",
     "text": [
      "Example target: [0. 1. 0.]\n",
      "Example prediction: [0.2074, 0.4395, 0.3531]\n",
      "Epoch 24 Training Loss: 0.8294 Training Accuracy: 0.6333 Val Loss: 1.0343 Val Accuracy: 0.4\n"
     ]
    },
    {
     "name": "stderr",
     "output_type": "stream",
     "text": [
      "100%|███████████████████████████████████████████████████████████████████████████████████| 3/3 [00:00<00:00, 749.83it/s]\n"
     ]
    },
    {
     "name": "stdout",
     "output_type": "stream",
     "text": [
      "Example target: [1. 0. 0.]\n",
      "Example prediction: [0.2894, 0.394, 0.3166]\n",
      "Epoch 25 Training Loss: 0.819 Training Accuracy: 0.6267 Val Loss: 0.9973 Val Accuracy: 0.2667\n"
     ]
    },
    {
     "name": "stderr",
     "output_type": "stream",
     "text": [
      "100%|███████████████████████████████████████████████████████████████████████████████████| 3/3 [00:00<00:00, 374.97it/s]\n"
     ]
    },
    {
     "name": "stdout",
     "output_type": "stream",
     "text": [
      "Example target: [1. 0. 0.]\n",
      "Example prediction: [0.2939, 0.3891, 0.317]\n",
      "Epoch 26 Training Loss: 0.8112 Training Accuracy: 0.5333 Val Loss: 0.9923 Val Accuracy: 0.2667\n"
     ]
    },
    {
     "name": "stderr",
     "output_type": "stream",
     "text": [
      "100%|███████████████████████████████████████████████████████████████████████████████████| 3/3 [00:00<00:00, 375.43it/s]\n"
     ]
    },
    {
     "name": "stdout",
     "output_type": "stream",
     "text": [
      "Example target: [0. 1. 0.]\n",
      "Example prediction: [0.2038, 0.3744, 0.4218]\n",
      "Epoch 27 Training Loss: 0.8549 Training Accuracy: 0.4667 Val Loss: 0.9888 Val Accuracy: 0.2667\n"
     ]
    },
    {
     "name": "stderr",
     "output_type": "stream",
     "text": [
      "100%|███████████████████████████████████████████████████████████████████████████████████| 3/3 [00:00<00:00, 750.01it/s]\n"
     ]
    },
    {
     "name": "stdout",
     "output_type": "stream",
     "text": [
      "Example target: [1. 0. 0.]\n",
      "Example prediction: [0.3127, 0.375, 0.3123]\n",
      "Epoch 28 Training Loss: 0.8954 Training Accuracy: 0.4 Val Loss: 0.9656 Val Accuracy: 0.2667\n"
     ]
    },
    {
     "name": "stderr",
     "output_type": "stream",
     "text": [
      "100%|███████████████████████████████████████████████████████████████████████████████████| 3/3 [00:00<00:00, 749.74it/s]\n"
     ]
    },
    {
     "name": "stdout",
     "output_type": "stream",
     "text": [
      "Example target: [1. 0. 0.]\n",
      "Example prediction: [0.3151, 0.3809, 0.304]\n",
      "Epoch 29 Training Loss: 0.8902 Training Accuracy: 0.4 Val Loss: 0.9479 Val Accuracy: 0.2667\n"
     ]
    },
    {
     "name": "stderr",
     "output_type": "stream",
     "text": [
      "100%|███████████████████████████████████████████████████████████████████████████████████| 3/3 [00:00<00:00, 749.88it/s]\n"
     ]
    },
    {
     "name": "stdout",
     "output_type": "stream",
     "text": [
      "Example target: [1. 0. 0.]\n",
      "Example prediction: [0.3321, 0.3772, 0.2906]\n",
      "Epoch 30 Training Loss: 0.862 Training Accuracy: 0.3867 Val Loss: 0.9438 Val Accuracy: 0.2667\n"
     ]
    },
    {
     "name": "stderr",
     "output_type": "stream",
     "text": [
      "100%|███████████████████████████████████████████████████████████████████████████████████| 3/3 [00:00<00:00, 749.96it/s]\n"
     ]
    },
    {
     "name": "stdout",
     "output_type": "stream",
     "text": [
      "Example target: [1. 0. 0.]\n",
      "Example prediction: [0.3352, 0.3765, 0.2883]\n",
      "Epoch 31 Training Loss: 0.8438 Training Accuracy: 0.4667 Val Loss: 0.9407 Val Accuracy: 0.2667\n"
     ]
    },
    {
     "name": "stderr",
     "output_type": "stream",
     "text": [
      "100%|███████████████████████████████████████████████████████████████████████████████████| 3/3 [00:00<00:00, 413.48it/s]\n"
     ]
    },
    {
     "name": "stdout",
     "output_type": "stream",
     "text": [
      "Example target: [1. 0. 0.]\n",
      "Example prediction: [0.3206, 0.4061, 0.2733]\n",
      "Epoch 32 Training Loss: 0.8397 Training Accuracy: 0.4133 Val Loss: 0.9381 Val Accuracy: 0.4\n"
     ]
    },
    {
     "name": "stderr",
     "output_type": "stream",
     "text": [
      "100%|███████████████████████████████████████████████████████████████████████████████████| 3/3 [00:00<00:00, 750.23it/s]\n"
     ]
    },
    {
     "name": "stdout",
     "output_type": "stream",
     "text": [
      "Example target: [1. 0. 0.]\n",
      "Example prediction: [0.3372, 0.4084, 0.2545]\n",
      "Epoch 33 Training Loss: 0.8788 Training Accuracy: 0.4 Val Loss: 0.9517 Val Accuracy: 0.4\n"
     ]
    },
    {
     "name": "stderr",
     "output_type": "stream",
     "text": [
      "100%|███████████████████████████████████████████████████████████████████████████████████| 3/3 [00:00<00:00, 749.88it/s]\n"
     ]
    },
    {
     "name": "stdout",
     "output_type": "stream",
     "text": [
      "Example target: [0. 0. 1.]\n",
      "Example prediction: [0.1395, 0.2776, 0.583]\n",
      "Epoch 34 Training Loss: 0.8911 Training Accuracy: 0.4533 Val Loss: 0.9212 Val Accuracy: 0.4667\n"
     ]
    },
    {
     "name": "stderr",
     "output_type": "stream",
     "text": [
      "100%|███████████████████████████████████████████████████████████████████████████████████| 3/3 [00:00<00:00, 749.92it/s]\n"
     ]
    },
    {
     "name": "stdout",
     "output_type": "stream",
     "text": [
      "Example target: [1. 0. 0.]\n",
      "Example prediction: [0.3694, 0.3667, 0.2638]\n",
      "Epoch 35 Training Loss: 0.8312 Training Accuracy: 0.4867 Val Loss: 0.9038 Val Accuracy: 0.5333\n"
     ]
    },
    {
     "name": "stderr",
     "output_type": "stream",
     "text": [
      "100%|███████████████████████████████████████████████████████████████████████████████████| 3/3 [00:00<00:00, 749.92it/s]\n"
     ]
    },
    {
     "name": "stdout",
     "output_type": "stream",
     "text": [
      "Example target: [1. 0. 0.]\n",
      "Example prediction: [0.3604, 0.3626, 0.277]\n",
      "Epoch 36 Training Loss: 0.7687 Training Accuracy: 0.62 Val Loss: 0.8978 Val Accuracy: 0.4\n"
     ]
    },
    {
     "name": "stderr",
     "output_type": "stream",
     "text": [
      "100%|███████████████████████████████████████████████████████████████████████████████████| 3/3 [00:00<00:00, 749.92it/s]\n"
     ]
    },
    {
     "name": "stdout",
     "output_type": "stream",
     "text": [
      "Example target: [0. 1. 0.]\n",
      "Example prediction: [0.203, 0.4551, 0.3419]\n",
      "Epoch 37 Training Loss: 0.9141 Training Accuracy: 0.3733 Val Loss: 0.9227 Val Accuracy: 0.4667\n"
     ]
    },
    {
     "name": "stderr",
     "output_type": "stream",
     "text": [
      "100%|███████████████████████████████████████████████████████████████████████████████████| 3/3 [00:00<00:00, 750.05it/s]\n"
     ]
    },
    {
     "name": "stdout",
     "output_type": "stream",
     "text": [
      "Example target: [0. 0. 1.]\n",
      "Example prediction: [0.1304, 0.3714, 0.4982]\n",
      "Epoch 38 Training Loss: 0.8288 Training Accuracy: 0.5467 Val Loss: 0.9318 Val Accuracy: 0.4667\n"
     ]
    },
    {
     "name": "stderr",
     "output_type": "stream",
     "text": [
      "100%|███████████████████████████████████████████████████████████████████████████████████| 3/3 [00:00<00:00, 374.96it/s]\n"
     ]
    },
    {
     "name": "stdout",
     "output_type": "stream",
     "text": [
      "Example target: [1. 0. 0.]\n",
      "Example prediction: [0.3421, 0.4211, 0.2369]\n",
      "Epoch 39 Training Loss: 0.8496 Training Accuracy: 0.44 Val Loss: 0.9363 Val Accuracy: 0.4\n"
     ]
    },
    {
     "name": "stderr",
     "output_type": "stream",
     "text": [
      "100%|███████████████████████████████████████████████████████████████████████████████████| 3/3 [00:00<00:00, 508.87it/s]\n"
     ]
    },
    {
     "name": "stdout",
     "output_type": "stream",
     "text": [
      "Example target: [0. 0. 1.]\n",
      "Example prediction: [0.1224, 0.34, 0.5376]\n",
      "Epoch 40 Training Loss: 0.7803 Training Accuracy: 0.64 Val Loss: 0.9133 Val Accuracy: 0.4\n"
     ]
    },
    {
     "name": "stderr",
     "output_type": "stream",
     "text": [
      "100%|███████████████████████████████████████████████████████████████████████████████████| 3/3 [00:00<00:00, 374.88it/s]\n"
     ]
    },
    {
     "name": "stdout",
     "output_type": "stream",
     "text": [
      "Example target: [1. 0. 0.]\n",
      "Example prediction: [0.3386, 0.4012, 0.2602]\n",
      "Epoch 41 Training Loss: 0.7901 Training Accuracy: 0.6 Val Loss: 0.9163 Val Accuracy: 0.4\n"
     ]
    },
    {
     "name": "stderr",
     "output_type": "stream",
     "text": [
      "100%|███████████████████████████████████████████████████████████████████████████████████| 3/3 [00:00<00:00, 749.88it/s]\n"
     ]
    },
    {
     "name": "stdout",
     "output_type": "stream",
     "text": [
      "Example target: [1. 0. 0.]\n",
      "Example prediction: [0.3412, 0.4222, 0.2366]\n",
      "Epoch 42 Training Loss: 0.8133 Training Accuracy: 0.5267 Val Loss: 0.922 Val Accuracy: 0.4\n"
     ]
    },
    {
     "name": "stderr",
     "output_type": "stream",
     "text": [
      "100%|███████████████████████████████████████████████████████████████████████████████████| 3/3 [00:00<00:00, 374.94it/s]\n"
     ]
    },
    {
     "name": "stdout",
     "output_type": "stream",
     "text": [
      "Example target: [1. 0. 0.]\n",
      "Example prediction: [0.3537, 0.4018, 0.2445]\n",
      "Epoch 43 Training Loss: 0.8095 Training Accuracy: 0.5733 Val Loss: 0.8982 Val Accuracy: 0.4\n"
     ]
    },
    {
     "name": "stderr",
     "output_type": "stream",
     "text": [
      "100%|███████████████████████████████████████████████████████████████████████████████████| 3/3 [00:00<00:00, 374.94it/s]\n"
     ]
    },
    {
     "name": "stdout",
     "output_type": "stream",
     "text": [
      "Example target: [1. 0. 0.]\n",
      "Example prediction: [0.3614, 0.3905, 0.2481]\n",
      "Epoch 44 Training Loss: 0.7691 Training Accuracy: 0.5333 Val Loss: 0.8776 Val Accuracy: 0.2667\n"
     ]
    },
    {
     "name": "stderr",
     "output_type": "stream",
     "text": [
      "100%|███████████████████████████████████████████████████████████████████████████████████| 3/3 [00:00<00:00, 749.74it/s]\n"
     ]
    },
    {
     "name": "stdout",
     "output_type": "stream",
     "text": [
      "Example target: [1. 0. 0.]\n",
      "Example prediction: [0.3526, 0.4144, 0.233]\n",
      "Epoch 45 Training Loss: 0.8301 Training Accuracy: 0.42 Val Loss: 0.9073 Val Accuracy: 0.4\n"
     ]
    },
    {
     "name": "stderr",
     "output_type": "stream",
     "text": [
      "100%|███████████████████████████████████████████████████████████████████████████████████| 3/3 [00:00<00:00, 750.10it/s]\n"
     ]
    },
    {
     "name": "stdout",
     "output_type": "stream",
     "text": [
      "Example target: [0. 0. 1.]\n",
      "Example prediction: [0.1073, 0.4401, 0.4526]\n",
      "Epoch 46 Training Loss: 0.7467 Training Accuracy: 0.5733 Val Loss: 0.9294 Val Accuracy: 0.4\n"
     ]
    },
    {
     "name": "stderr",
     "output_type": "stream",
     "text": [
      "100%|███████████████████████████████████████████████████████████████████████████████████| 3/3 [00:00<00:00, 750.10it/s]\n"
     ]
    },
    {
     "name": "stdout",
     "output_type": "stream",
     "text": [
      "Example target: [0. 0. 1.]\n",
      "Example prediction: [0.0832, 0.3763, 0.5406]\n",
      "Epoch 47 Training Loss: 0.8141 Training Accuracy: 0.4667 Val Loss: 0.9207 Val Accuracy: 0.3333\n"
     ]
    },
    {
     "name": "stderr",
     "output_type": "stream",
     "text": [
      "100%|███████████████████████████████████████████████████████████████████████████████████| 3/3 [00:00<00:00, 749.34it/s]\n"
     ]
    },
    {
     "name": "stdout",
     "output_type": "stream",
     "text": [
      "Example target: [1. 0. 0.]\n",
      "Example prediction: [0.3607, 0.3982, 0.2411]\n",
      "Epoch 48 Training Loss: 0.7819 Training Accuracy: 0.58 Val Loss: 0.8686 Val Accuracy: 0.2667\n"
     ]
    },
    {
     "name": "stderr",
     "output_type": "stream",
     "text": [
      "100%|███████████████████████████████████████████████████████████████████████████████████| 3/3 [00:00<00:00, 749.52it/s]\n"
     ]
    },
    {
     "name": "stdout",
     "output_type": "stream",
     "text": [
      "Example target: [0. 1. 0.]\n",
      "Example prediction: [0.1725, 0.4788, 0.3487]\n",
      "Epoch 49 Training Loss: 0.8545 Training Accuracy: 0.3533 Val Loss: 0.8764 Val Accuracy: 0.4\n"
     ]
    },
    {
     "name": "stderr",
     "output_type": "stream",
     "text": [
      "100%|███████████████████████████████████████████████████████████████████████████████████| 3/3 [00:00<00:00, 750.01it/s]\n"
     ]
    },
    {
     "name": "stdout",
     "output_type": "stream",
     "text": [
      "Example target: [0. 1. 0.]\n",
      "Example prediction: [0.1654, 0.5368, 0.2977]\n",
      "Epoch 50 Training Loss: 0.7818 Training Accuracy: 0.5533 Val Loss: 0.8993 Val Accuracy: 0.4\n"
     ]
    },
    {
     "name": "stderr",
     "output_type": "stream",
     "text": [
      "100%|███████████████████████████████████████████████████████████████████████████████████| 3/3 [00:00<00:00, 749.56it/s]\n"
     ]
    },
    {
     "name": "stdout",
     "output_type": "stream",
     "text": [
      "Example target: [1. 0. 0.]\n",
      "Example prediction: [0.3699, 0.409, 0.2211]\n",
      "Epoch 51 Training Loss: 0.7359 Training Accuracy: 0.6267 Val Loss: 0.8695 Val Accuracy: 0.4667\n"
     ]
    },
    {
     "name": "stderr",
     "output_type": "stream",
     "text": [
      "100%|███████████████████████████████████████████████████████████████████████████████████| 3/3 [00:00<00:00, 374.87it/s]\n"
     ]
    },
    {
     "name": "stdout",
     "output_type": "stream",
     "text": [
      "Example target: [1. 0. 0.]\n",
      "Example prediction: [0.3867, 0.3978, 0.2155]\n",
      "Epoch 52 Training Loss: 0.7631 Training Accuracy: 0.5 Val Loss: 0.8416 Val Accuracy: 0.4\n"
     ]
    },
    {
     "name": "stderr",
     "output_type": "stream",
     "text": [
      "100%|███████████████████████████████████████████████████████████████████████████████████| 3/3 [00:00<00:00, 749.96it/s]\n"
     ]
    },
    {
     "name": "stdout",
     "output_type": "stream",
     "text": [
      "Example target: [0. 1. 0.]\n",
      "Example prediction: [0.2303, 0.4144, 0.3553]\n",
      "Epoch 53 Training Loss: 0.7419 Training Accuracy: 0.5533 Val Loss: 0.8396 Val Accuracy: 0.4\n"
     ]
    },
    {
     "name": "stderr",
     "output_type": "stream",
     "text": [
      "100%|███████████████████████████████████████████████████████████████████████████████████| 3/3 [00:00<00:00, 749.79it/s]\n"
     ]
    },
    {
     "name": "stdout",
     "output_type": "stream",
     "text": [
      "Example target: [1. 0. 0.]\n",
      "Example prediction: [0.3868, 0.4164, 0.1968]\n",
      "Epoch 54 Training Loss: 0.782 Training Accuracy: 0.6067 Val Loss: 0.8499 Val Accuracy: 0.4\n"
     ]
    },
    {
     "name": "stderr",
     "output_type": "stream",
     "text": [
      "100%|███████████████████████████████████████████████████████████████████████████████████| 3/3 [00:00<00:00, 749.70it/s]\n"
     ]
    },
    {
     "name": "stdout",
     "output_type": "stream",
     "text": [
      "Example target: [1. 0. 0.]\n",
      "Example prediction: [0.3731, 0.4451, 0.1818]\n",
      "Epoch 55 Training Loss: 0.7765 Training Accuracy: 0.58 Val Loss: 0.8747 Val Accuracy: 0.3333\n"
     ]
    },
    {
     "name": "stderr",
     "output_type": "stream",
     "text": [
      "100%|████████████████████████████████████████████████████████████████████████████████████████████| 3/3 [00:00<?, ?it/s]\n"
     ]
    },
    {
     "name": "stdout",
     "output_type": "stream",
     "text": [
      "Example target: [0. 0. 1.]\n",
      "Example prediction: [0.0948, 0.4463, 0.4588]\n",
      "Epoch 56 Training Loss: 0.765 Training Accuracy: 0.58 Val Loss: 0.8839 Val Accuracy: 0.3333\n"
     ]
    },
    {
     "name": "stderr",
     "output_type": "stream",
     "text": [
      "100%|███████████████████████████████████████████████████████████████████████████████████| 3/3 [00:00<00:00, 375.02it/s]\n"
     ]
    },
    {
     "name": "stdout",
     "output_type": "stream",
     "text": [
      "Example target: [1. 0. 0.]\n",
      "Example prediction: [0.3715, 0.4344, 0.1941]\n",
      "Epoch 57 Training Loss: 0.7562 Training Accuracy: 0.6333 Val Loss: 0.8611 Val Accuracy: 0.4\n"
     ]
    },
    {
     "name": "stderr",
     "output_type": "stream",
     "text": [
      "100%|███████████████████████████████████████████████████████████████████████████████████| 3/3 [00:00<00:00, 749.88it/s]\n"
     ]
    },
    {
     "name": "stdout",
     "output_type": "stream",
     "text": [
      "Example target: [0. 1. 0.]\n",
      "Example prediction: [0.1758, 0.4683, 0.3559]\n",
      "Epoch 58 Training Loss: 0.7631 Training Accuracy: 0.5333 Val Loss: 0.8196 Val Accuracy: 0.7333\n"
     ]
    },
    {
     "name": "stderr",
     "output_type": "stream",
     "text": [
      "100%|███████████████████████████████████████████████████████████████████████████████████| 3/3 [00:00<00:00, 749.65it/s]\n"
     ]
    },
    {
     "name": "stdout",
     "output_type": "stream",
     "text": [
      "Example target: [1. 0. 0.]\n",
      "Example prediction: [0.4119, 0.3887, 0.1993]\n",
      "Epoch 59 Training Loss: 0.745 Training Accuracy: 0.6333 Val Loss: 0.8016 Val Accuracy: 0.8667\n"
     ]
    },
    {
     "name": "stderr",
     "output_type": "stream",
     "text": [
      "100%|███████████████████████████████████████████████████████████████████████████████████| 3/3 [00:00<00:00, 374.81it/s]\n"
     ]
    },
    {
     "name": "stdout",
     "output_type": "stream",
     "text": [
      "Example target: [1. 0. 0.]\n",
      "Example prediction: [0.4027, 0.414, 0.1833]\n",
      "Epoch 60 Training Loss: 0.7569 Training Accuracy: 0.76 Val Loss: 0.8265 Val Accuracy: 0.4\n"
     ]
    },
    {
     "name": "stderr",
     "output_type": "stream",
     "text": [
      "100%|███████████████████████████████████████████████████████████████████████████████████| 3/3 [00:00<00:00, 374.68it/s]\n"
     ]
    },
    {
     "name": "stdout",
     "output_type": "stream",
     "text": [
      "Example target: [0. 0. 1.]\n",
      "Example prediction: [0.0947, 0.3204, 0.5849]\n",
      "Epoch 61 Training Loss: 0.749 Training Accuracy: 0.6667 Val Loss: 0.8012 Val Accuracy: 0.9333\n"
     ]
    },
    {
     "name": "stderr",
     "output_type": "stream",
     "text": [
      "100%|███████████████████████████████████████████████████████████████████████████████████| 3/3 [00:00<00:00, 374.99it/s]\n"
     ]
    },
    {
     "name": "stdout",
     "output_type": "stream",
     "text": [
      "Example target: [0. 0. 1.]\n",
      "Example prediction: [0.0689, 0.3104, 0.6206]\n",
      "Epoch 62 Training Loss: 0.7464 Training Accuracy: 0.7867 Val Loss: 0.8079 Val Accuracy: 0.8\n"
     ]
    },
    {
     "name": "stderr",
     "output_type": "stream",
     "text": [
      "100%|███████████████████████████████████████████████████████████████████████████████████| 3/3 [00:00<00:00, 750.14it/s]\n"
     ]
    },
    {
     "name": "stdout",
     "output_type": "stream",
     "text": [
      "Example target: [0. 0. 1.]\n",
      "Example prediction: [0.0683, 0.3122, 0.6195]\n",
      "Epoch 63 Training Loss: 0.7332 Training Accuracy: 0.6733 Val Loss: 0.8028 Val Accuracy: 0.8667\n"
     ]
    },
    {
     "name": "stderr",
     "output_type": "stream",
     "text": [
      "100%|███████████████████████████████████████████████████████████████████████████████████| 3/3 [00:00<00:00, 749.70it/s]\n"
     ]
    },
    {
     "name": "stdout",
     "output_type": "stream",
     "text": [
      "Example target: [0. 1. 0.]\n",
      "Example prediction: [0.2346, 0.4152, 0.3502]\n",
      "Epoch 64 Training Loss: 0.7428 Training Accuracy: 0.72 Val Loss: 0.7886 Val Accuracy: 0.8667\n"
     ]
    },
    {
     "name": "stderr",
     "output_type": "stream",
     "text": [
      "100%|███████████████████████████████████████████████████████████████████████████████████| 3/3 [00:00<00:00, 749.96it/s]\n"
     ]
    },
    {
     "name": "stdout",
     "output_type": "stream",
     "text": [
      "Example target: [0. 0. 1.]\n",
      "Example prediction: [0.131, 0.4544, 0.4146]\n",
      "Epoch 65 Training Loss: 0.6735 Training Accuracy: 0.8933 Val Loss: 0.7896 Val Accuracy: 0.8667\n"
     ]
    },
    {
     "name": "stderr",
     "output_type": "stream",
     "text": [
      "100%|███████████████████████████████████████████████████████████████████████████████████| 3/3 [00:00<00:00, 374.95it/s]\n"
     ]
    },
    {
     "name": "stdout",
     "output_type": "stream",
     "text": [
      "Example target: [1. 0. 0.]\n",
      "Example prediction: [0.4252, 0.4084, 0.1665]\n",
      "Epoch 66 Training Loss: 0.7483 Training Accuracy: 0.68 Val Loss: 0.7823 Val Accuracy: 0.8667\n"
     ]
    },
    {
     "name": "stderr",
     "output_type": "stream",
     "text": [
      "100%|███████████████████████████████████████████████████████████████████████████████████| 3/3 [00:00<00:00, 749.79it/s]\n"
     ]
    },
    {
     "name": "stdout",
     "output_type": "stream",
     "text": [
      "Example target: [1. 0. 0.]\n",
      "Example prediction: [0.4211, 0.4266, 0.1523]\n",
      "Epoch 67 Training Loss: 0.7424 Training Accuracy: 0.8533 Val Loss: 0.8077 Val Accuracy: 0.7333\n"
     ]
    },
    {
     "name": "stderr",
     "output_type": "stream",
     "text": [
      "100%|███████████████████████████████████████████████████████████████████████████████████| 3/3 [00:00<00:00, 749.83it/s]\n"
     ]
    },
    {
     "name": "stdout",
     "output_type": "stream",
     "text": [
      "Example target: [0. 0. 1.]\n",
      "Example prediction: [0.1074, 0.5003, 0.3923]\n",
      "Epoch 68 Training Loss: 0.7375 Training Accuracy: 0.74 Val Loss: 0.8258 Val Accuracy: 0.6\n"
     ]
    },
    {
     "name": "stderr",
     "output_type": "stream",
     "text": [
      "100%|███████████████████████████████████████████████████████████████████████████████████| 3/3 [00:00<00:00, 749.79it/s]\n"
     ]
    },
    {
     "name": "stdout",
     "output_type": "stream",
     "text": [
      "Example target: [0. 0. 1.]\n",
      "Example prediction: [0.0914, 0.4786, 0.4299]\n",
      "Epoch 69 Training Loss: 0.676 Training Accuracy: 0.7867 Val Loss: 0.8155 Val Accuracy: 0.4667\n"
     ]
    },
    {
     "name": "stderr",
     "output_type": "stream",
     "text": [
      "100%|███████████████████████████████████████████████████████████████████████████████████| 3/3 [00:00<00:00, 375.02it/s]\n"
     ]
    },
    {
     "name": "stdout",
     "output_type": "stream",
     "text": [
      "Example target: [1. 0. 0.]\n",
      "Example prediction: [0.4365, 0.3855, 0.178]\n",
      "Epoch 70 Training Loss: 0.7344 Training Accuracy: 0.5533 Val Loss: 0.7494 Val Accuracy: 0.8\n"
     ]
    },
    {
     "name": "stderr",
     "output_type": "stream",
     "text": [
      "100%|███████████████████████████████████████████████████████████████████████████████████| 3/3 [00:00<00:00, 374.97it/s]\n"
     ]
    },
    {
     "name": "stdout",
     "output_type": "stream",
     "text": [
      "Example target: [0. 1. 0.]\n",
      "Example prediction: [0.2107, 0.4202, 0.3691]\n",
      "Epoch 71 Training Loss: 0.7689 Training Accuracy: 0.74 Val Loss: 0.7578 Val Accuracy: 1.0\n"
     ]
    },
    {
     "name": "stderr",
     "output_type": "stream",
     "text": [
      "100%|███████████████████████████████████████████████████████████████████████████████████| 3/3 [00:00<00:00, 249.85it/s]\n"
     ]
    },
    {
     "name": "stdout",
     "output_type": "stream",
     "text": [
      "Example target: [1. 0. 0.]\n",
      "Example prediction: [0.4484, 0.389, 0.1626]\n",
      "Epoch 72 Training Loss: 0.653 Training Accuracy: 0.88 Val Loss: 0.7414 Val Accuracy: 0.9333\n"
     ]
    },
    {
     "name": "stderr",
     "output_type": "stream",
     "text": [
      "100%|███████████████████████████████████████████████████████████████████████████████████| 3/3 [00:00<00:00, 749.92it/s]\n"
     ]
    },
    {
     "name": "stdout",
     "output_type": "stream",
     "text": [
      "Example target: [1. 0. 0.]\n",
      "Example prediction: [0.4231, 0.439, 0.138]\n",
      "Epoch 73 Training Loss: 0.7647 Training Accuracy: 0.74 Val Loss: 0.7755 Val Accuracy: 0.8667\n"
     ]
    },
    {
     "name": "stderr",
     "output_type": "stream",
     "text": [
      "100%|███████████████████████████████████████████████████████████████████████████████████| 3/3 [00:00<00:00, 375.02it/s]\n"
     ]
    },
    {
     "name": "stdout",
     "output_type": "stream",
     "text": [
      "Example target: [1. 0. 0.]\n",
      "Example prediction: [0.4392, 0.3828, 0.178]\n",
      "Epoch 74 Training Loss: 0.6559 Training Accuracy: 0.8867 Val Loss: 0.7348 Val Accuracy: 0.9333\n"
     ]
    },
    {
     "name": "stderr",
     "output_type": "stream",
     "text": [
      "100%|███████████████████████████████████████████████████████████████████████████████████| 3/3 [00:00<00:00, 375.02it/s]\n"
     ]
    },
    {
     "name": "stdout",
     "output_type": "stream",
     "text": [
      "Example target: [0. 0. 1.]\n",
      "Example prediction: [0.0695, 0.2828, 0.6478]\n",
      "Epoch 75 Training Loss: 0.686 Training Accuracy: 0.8533 Val Loss: 0.7245 Val Accuracy: 0.9333\n"
     ]
    },
    {
     "name": "stderr",
     "output_type": "stream",
     "text": [
      "100%|███████████████████████████████████████████████████████████████████████████████████| 3/3 [00:00<00:00, 374.94it/s]\n"
     ]
    },
    {
     "name": "stdout",
     "output_type": "stream",
     "text": [
      "Example target: [0. 0. 1.]\n",
      "Example prediction: [0.058, 0.3424, 0.5996]\n",
      "Epoch 76 Training Loss: 0.7336 Training Accuracy: 0.6667 Val Loss: 0.7501 Val Accuracy: 0.9333\n"
     ]
    },
    {
     "name": "stderr",
     "output_type": "stream",
     "text": [
      "100%|███████████████████████████████████████████████████████████████████████████████████| 3/3 [00:00<00:00, 375.02it/s]\n"
     ]
    },
    {
     "name": "stdout",
     "output_type": "stream",
     "text": [
      "Example target: [1. 0. 0.]\n",
      "Example prediction: [0.4636, 0.4005, 0.1359]\n",
      "Epoch 77 Training Loss: 0.7079 Training Accuracy: 0.8467 Val Loss: 0.7757 Val Accuracy: 0.8\n"
     ]
    },
    {
     "name": "stderr",
     "output_type": "stream",
     "text": [
      "100%|███████████████████████████████████████████████████████████████████████████████████| 3/3 [00:00<00:00, 750.19it/s]\n"
     ]
    },
    {
     "name": "stdout",
     "output_type": "stream",
     "text": [
      "Example target: [0. 0. 1.]\n",
      "Example prediction: [0.0468, 0.2347, 0.7185]\n",
      "Epoch 78 Training Loss: 0.6861 Training Accuracy: 0.8933 Val Loss: 0.7036 Val Accuracy: 0.9333\n"
     ]
    },
    {
     "name": "stderr",
     "output_type": "stream",
     "text": [
      "100%|███████████████████████████████████████████████████████████████████████████████████| 3/3 [00:00<00:00, 374.90it/s]\n"
     ]
    },
    {
     "name": "stdout",
     "output_type": "stream",
     "text": [
      "Example target: [1. 0. 0.]\n",
      "Example prediction: [0.4885, 0.3603, 0.1512]\n",
      "Epoch 79 Training Loss: 0.6634 Training Accuracy: 0.8733 Val Loss: 0.6971 Val Accuracy: 0.9333\n"
     ]
    },
    {
     "name": "stderr",
     "output_type": "stream",
     "text": [
      "100%|███████████████████████████████████████████████████████████████████████████████████| 3/3 [00:00<00:00, 374.61it/s]\n"
     ]
    },
    {
     "name": "stdout",
     "output_type": "stream",
     "text": [
      "Example target: [1. 0. 0.]\n",
      "Example prediction: [0.4975, 0.3574, 0.1452]\n",
      "Epoch 80 Training Loss: 0.6702 Training Accuracy: 0.8667 Val Loss: 0.6949 Val Accuracy: 1.0\n"
     ]
    },
    {
     "name": "stderr",
     "output_type": "stream",
     "text": [
      "100%|███████████████████████████████████████████████████████████████████████████████████| 3/3 [00:00<00:00, 374.97it/s]\n"
     ]
    },
    {
     "name": "stdout",
     "output_type": "stream",
     "text": [
      "Example target: [0. 1. 0.]\n",
      "Example prediction: [0.2543, 0.4651, 0.2805]\n",
      "Epoch 81 Training Loss: 0.7092 Training Accuracy: 0.8533 Val Loss: 0.7102 Val Accuracy: 0.9333\n"
     ]
    },
    {
     "name": "stderr",
     "output_type": "stream",
     "text": [
      "100%|███████████████████████████████████████████████████████████████████████████████████| 3/3 [00:00<00:00, 750.19it/s]\n"
     ]
    },
    {
     "name": "stdout",
     "output_type": "stream",
     "text": [
      "Example target: [0. 0. 1.]\n",
      "Example prediction: [0.1209, 0.484, 0.3952]\n",
      "Epoch 82 Training Loss: 0.63 Training Accuracy: 0.9333 Val Loss: 0.7081 Val Accuracy: 0.9333\n"
     ]
    },
    {
     "name": "stderr",
     "output_type": "stream",
     "text": [
      "100%|███████████████████████████████████████████████████████████████████████████████████| 3/3 [00:00<00:00, 750.05it/s]\n"
     ]
    },
    {
     "name": "stdout",
     "output_type": "stream",
     "text": [
      "Example target: [0. 1. 0.]\n",
      "Example prediction: [0.2324, 0.5, 0.2676]\n",
      "Epoch 83 Training Loss: 0.6832 Training Accuracy: 0.86 Val Loss: 0.7237 Val Accuracy: 0.8667\n"
     ]
    },
    {
     "name": "stderr",
     "output_type": "stream",
     "text": [
      "100%|███████████████████████████████████████████████████████████████████████████████████| 3/3 [00:00<00:00, 750.01it/s]\n"
     ]
    },
    {
     "name": "stdout",
     "output_type": "stream",
     "text": [
      "Example target: [1. 0. 0.]\n",
      "Example prediction: [0.5051, 0.3665, 0.1283]\n",
      "Epoch 84 Training Loss: 0.6543 Training Accuracy: 0.9133 Val Loss: 0.6933 Val Accuracy: 0.9333\n"
     ]
    },
    {
     "name": "stderr",
     "output_type": "stream",
     "text": [
      "100%|███████████████████████████████████████████████████████████████████████████████████| 3/3 [00:00<00:00, 531.87it/s]\n"
     ]
    },
    {
     "name": "stdout",
     "output_type": "stream",
     "text": [
      "Example target: [1. 0. 0.]\n",
      "Example prediction: [0.509, 0.3706, 0.1203]\n",
      "Epoch 85 Training Loss: 0.6695 Training Accuracy: 0.92 Val Loss: 0.6898 Val Accuracy: 0.9333\n"
     ]
    },
    {
     "name": "stderr",
     "output_type": "stream",
     "text": [
      "100%|███████████████████████████████████████████████████████████████████████████████████| 3/3 [00:00<00:00, 749.21it/s]\n"
     ]
    },
    {
     "name": "stdout",
     "output_type": "stream",
     "text": [
      "Example target: [0. 0. 1.]\n",
      "Example prediction: [0.038, 0.2652, 0.6968]\n",
      "Epoch 86 Training Loss: 0.6499 Training Accuracy: 0.92 Val Loss: 0.6724 Val Accuracy: 1.0\n"
     ]
    },
    {
     "name": "stderr",
     "output_type": "stream",
     "text": [
      "100%|███████████████████████████████████████████████████████████████████████████████████| 3/3 [00:00<00:00, 748.98it/s]\n"
     ]
    },
    {
     "name": "stdout",
     "output_type": "stream",
     "text": [
      "Example target: [0. 0. 1.]\n",
      "Example prediction: [0.0486, 0.352, 0.5994]\n",
      "Epoch 87 Training Loss: 0.6955 Training Accuracy: 0.7733 Val Loss: 0.6919 Val Accuracy: 0.9333\n"
     ]
    },
    {
     "name": "stderr",
     "output_type": "stream",
     "text": [
      "100%|███████████████████████████████████████████████████████████████████████████████████| 3/3 [00:00<00:00, 747.74it/s]\n"
     ]
    },
    {
     "name": "stdout",
     "output_type": "stream",
     "text": [
      "Example target: [0. 0. 1.]\n",
      "Example prediction: [0.0671, 0.3245, 0.6084]\n",
      "Epoch 88 Training Loss: 0.5983 Training Accuracy: 0.9133 Val Loss: 0.6577 Val Accuracy: 1.0\n"
     ]
    },
    {
     "name": "stderr",
     "output_type": "stream",
     "text": [
      "100%|███████████████████████████████████████████████████████████████████████████████████| 3/3 [00:00<00:00, 749.56it/s]\n"
     ]
    },
    {
     "name": "stdout",
     "output_type": "stream",
     "text": [
      "Example target: [1. 0. 0.]\n",
      "Example prediction: [0.5237, 0.3587, 0.1176]\n",
      "Epoch 89 Training Loss: 0.6256 Training Accuracy: 0.8933 Val Loss: 0.6671 Val Accuracy: 0.9333\n"
     ]
    },
    {
     "name": "stderr",
     "output_type": "stream",
     "text": [
      "100%|███████████████████████████████████████████████████████████████████████████████████| 3/3 [00:00<00:00, 749.47it/s]\n"
     ]
    },
    {
     "name": "stdout",
     "output_type": "stream",
     "text": [
      "Example target: [1. 0. 0.]\n",
      "Example prediction: [0.5325, 0.362, 0.1054]\n",
      "Epoch 90 Training Loss: 0.646 Training Accuracy: 0.9067 Val Loss: 0.6777 Val Accuracy: 0.9333\n"
     ]
    },
    {
     "name": "stderr",
     "output_type": "stream",
     "text": [
      "100%|███████████████████████████████████████████████████████████████████████████████████| 3/3 [00:00<00:00, 749.92it/s]\n"
     ]
    },
    {
     "name": "stdout",
     "output_type": "stream",
     "text": [
      "Example target: [0. 0. 1.]\n",
      "Example prediction: [0.0729, 0.4632, 0.4638]\n",
      "Epoch 91 Training Loss: 0.6424 Training Accuracy: 0.86 Val Loss: 0.6937 Val Accuracy: 0.8667\n"
     ]
    },
    {
     "name": "stderr",
     "output_type": "stream",
     "text": [
      "100%|███████████████████████████████████████████████████████████████████████████████████| 3/3 [00:00<00:00, 375.06it/s]\n"
     ]
    },
    {
     "name": "stdout",
     "output_type": "stream",
     "text": [
      "Example target: [1. 0. 0.]\n",
      "Example prediction: [0.5322, 0.3674, 0.1004]\n",
      "Epoch 92 Training Loss: 0.629 Training Accuracy: 0.92 Val Loss: 0.6809 Val Accuracy: 0.8667\n"
     ]
    },
    {
     "name": "stderr",
     "output_type": "stream",
     "text": [
      "100%|███████████████████████████████████████████████████████████████████████████████████| 3/3 [00:00<00:00, 749.65it/s]\n"
     ]
    },
    {
     "name": "stdout",
     "output_type": "stream",
     "text": [
      "Example target: [1. 0. 0.]\n",
      "Example prediction: [0.5258, 0.3469, 0.1273]\n",
      "Epoch 93 Training Loss: 0.5966 Training Accuracy: 0.9133 Val Loss: 0.6271 Val Accuracy: 1.0\n"
     ]
    },
    {
     "name": "stderr",
     "output_type": "stream",
     "text": [
      "100%|██████████████████████████████████████████████████████████████████████████████████| 3/3 [00:00<00:00, 2058.39it/s]\n"
     ]
    },
    {
     "name": "stdout",
     "output_type": "stream",
     "text": [
      "Example target: [0. 1. 0.]\n",
      "Example prediction: [0.2224, 0.4491, 0.3285]\n",
      "Epoch 94 Training Loss: 0.6346 Training Accuracy: 0.8267 Val Loss: 0.6423 Val Accuracy: 0.9333\n"
     ]
    },
    {
     "name": "stderr",
     "output_type": "stream",
     "text": [
      "100%|███████████████████████████████████████████████████████████████████████████████████| 3/3 [00:00<00:00, 375.11it/s]\n"
     ]
    },
    {
     "name": "stdout",
     "output_type": "stream",
     "text": [
      "Example target: [0. 0. 1.]\n",
      "Example prediction: [0.0744, 0.4668, 0.4588]\n",
      "Epoch 95 Training Loss: 0.6589 Training Accuracy: 0.86 Val Loss: 0.6617 Val Accuracy: 0.8667\n"
     ]
    },
    {
     "name": "stderr",
     "output_type": "stream",
     "text": [
      "100%|███████████████████████████████████████████████████████████████████████████████████| 3/3 [00:00<00:00, 749.92it/s]\n"
     ]
    },
    {
     "name": "stdout",
     "output_type": "stream",
     "text": [
      "Example target: [1. 0. 0.]\n",
      "Example prediction: [0.5253, 0.3647, 0.11]\n",
      "Epoch 96 Training Loss: 0.6758 Training Accuracy: 0.8067 Val Loss: 0.6424 Val Accuracy: 0.9333\n"
     ]
    },
    {
     "name": "stderr",
     "output_type": "stream",
     "text": [
      "100%|███████████████████████████████████████████████████████████████████████████████████| 3/3 [00:00<00:00, 750.41it/s]\n"
     ]
    },
    {
     "name": "stdout",
     "output_type": "stream",
     "text": [
      "Example target: [1. 0. 0.]\n",
      "Example prediction: [0.5615, 0.3385, 0.1001]\n",
      "Epoch 97 Training Loss: 0.6053 Training Accuracy: 0.9267 Val Loss: 0.6149 Val Accuracy: 1.0\n"
     ]
    },
    {
     "name": "stderr",
     "output_type": "stream",
     "text": [
      "100%|███████████████████████████████████████████████████████████████████████████████████| 3/3 [00:00<00:00, 749.07it/s]\n"
     ]
    },
    {
     "name": "stdout",
     "output_type": "stream",
     "text": [
      "Example target: [0. 0. 1.]\n",
      "Example prediction: [0.0587, 0.3239, 0.6174]\n",
      "Epoch 98 Training Loss: 0.5934 Training Accuracy: 0.84 Val Loss: 0.6025 Val Accuracy: 1.0\n"
     ]
    },
    {
     "name": "stderr",
     "output_type": "stream",
     "text": [
      "100%|███████████████████████████████████████████████████████████████████████████████████| 3/3 [00:00<00:00, 374.96it/s]\n"
     ]
    },
    {
     "name": "stdout",
     "output_type": "stream",
     "text": [
      "Example target: [0. 1. 0.]\n",
      "Example prediction: [0.1493, 0.6185, 0.2321]\n",
      "Epoch 99 Training Loss: 0.6487 Training Accuracy: 0.8133 Val Loss: 0.6632 Val Accuracy: 0.8\n",
      "Test Loss: 0.6374 Test Accuracy: 0.8667\n"
     ]
    }
   ],
   "source": [
    "\n",
    "hidden_layer_size=5\n",
    "lr=1e-2\n",
    "model_name = \"two_layer_NN_5l_1e-2\"\n",
    "%run -i train_ffnn.py"
   ]
  },
  {
   "cell_type": "code",
   "execution_count": 10,
   "metadata": {},
   "outputs": [
    {
     "name": "stdout",
     "output_type": "stream",
     "text": [
      "Training two_layer_NN_5l_1e-3 neural network on iris with SGD for 100 epochs...\n",
      "Optimizer:\n",
      "{'name': 'SGD', 'lr': 0.001, 'lr_scheduler': 'exponential', 'lr_decay': 0.99, 'stage_length': 1000, 'staircase': False, 'clip_norm': None, 'momentum': 0}\n"
     ]
    },
    {
     "name": "stderr",
     "output_type": "stream",
     "text": [
      "100%|███████████████████████████████████████████████████████████████████████████████████| 3/3 [00:00<00:00, 374.99it/s]\n"
     ]
    },
    {
     "name": "stdout",
     "output_type": "stream",
     "text": [
      "Example target: [1. 0. 0.]\n",
      "Example prediction: [0.0107, 0.9684, 0.0209]\n",
      "Epoch 0 Training Loss: 3.573 Training Accuracy: 0.42 Val Loss: 4.3312 Val Accuracy: 0.2\n"
     ]
    },
    {
     "name": "stderr",
     "output_type": "stream",
     "text": [
      "100%|███████████████████████████████████████████████████████████████████████████████████| 3/3 [00:00<00:00, 374.97it/s]\n"
     ]
    },
    {
     "name": "stdout",
     "output_type": "stream",
     "text": [
      "Example target: [0. 0. 1.]\n",
      "Example prediction: [0.0006, 0.9984, 0.001]\n",
      "Epoch 1 Training Loss: 3.9966 Training Accuracy: 0.3 Val Loss: 4.1305 Val Accuracy: 0.2\n"
     ]
    },
    {
     "name": "stderr",
     "output_type": "stream",
     "text": [
      "100%|███████████████████████████████████████████████████████████████████████████████████| 3/3 [00:00<00:00, 750.05it/s]\n"
     ]
    },
    {
     "name": "stdout",
     "output_type": "stream",
     "text": [
      "Example target: [1. 0. 0.]\n",
      "Example prediction: [0.0182, 0.9469, 0.0349]\n",
      "Epoch 2 Training Loss: 3.2272 Training Accuracy: 0.42 Val Loss: 3.9614 Val Accuracy: 0.2\n"
     ]
    },
    {
     "name": "stderr",
     "output_type": "stream",
     "text": [
      "100%|███████████████████████████████████████████████████████████████████████████████████| 3/3 [00:00<00:00, 374.93it/s]\n"
     ]
    },
    {
     "name": "stdout",
     "output_type": "stream",
     "text": [
      "Example target: [0. 0. 1.]\n",
      "Example prediction: [0.001, 0.9964, 0.0025]\n",
      "Epoch 3 Training Loss: 3.8474 Training Accuracy: 0.3 Val Loss: 3.7532 Val Accuracy: 0.2\n"
     ]
    },
    {
     "name": "stderr",
     "output_type": "stream",
     "text": [
      "100%|███████████████████████████████████████████████████████████████████████████████████| 3/3 [00:00<00:00, 984.19it/s]\n"
     ]
    },
    {
     "name": "stdout",
     "output_type": "stream",
     "text": [
      "Example target: [1. 0. 0.]\n",
      "Example prediction: [0.0217, 0.9334, 0.0448]\n",
      "Epoch 4 Training Loss: 3.1496 Training Accuracy: 0.36 Val Loss: 3.5822 Val Accuracy: 0.2\n"
     ]
    },
    {
     "name": "stderr",
     "output_type": "stream",
     "text": [
      "100%|███████████████████████████████████████████████████████████████████████████████████| 3/3 [00:00<00:00, 249.97it/s]\n"
     ]
    },
    {
     "name": "stdout",
     "output_type": "stream",
     "text": [
      "Example target: [1. 0. 0.]\n",
      "Example prediction: [0.0188, 0.9392, 0.042]\n",
      "Epoch 5 Training Loss: 2.8909 Training Accuracy: 0.36 Val Loss: 3.4301 Val Accuracy: 0.2\n"
     ]
    },
    {
     "name": "stderr",
     "output_type": "stream",
     "text": [
      "100%|███████████████████████████████████████████████████████████████████████████████████| 3/3 [00:00<00:00, 749.25it/s]\n"
     ]
    },
    {
     "name": "stdout",
     "output_type": "stream",
     "text": [
      "Example target: [1. 0. 0.]\n",
      "Example prediction: [0.034, 0.8991, 0.0669]\n",
      "Epoch 6 Training Loss: 3.0542 Training Accuracy: 0.3 Val Loss: 3.2635 Val Accuracy: 0.2\n"
     ]
    },
    {
     "name": "stderr",
     "output_type": "stream",
     "text": [
      "100%|███████████████████████████████████████████████████████████████████████████████████| 3/3 [00:00<00:00, 750.10it/s]\n"
     ]
    },
    {
     "name": "stdout",
     "output_type": "stream",
     "text": [
      "Example target: [0. 1. 0.]\n",
      "Example prediction: [0.0113, 0.9578, 0.0309]\n",
      "Epoch 7 Training Loss: 2.2496 Training Accuracy: 0.48 Val Loss: 3.13 Val Accuracy: 0.2\n"
     ]
    },
    {
     "name": "stderr",
     "output_type": "stream",
     "text": [
      "100%|███████████████████████████████████████████████████████████████████████████████████| 3/3 [00:00<00:00, 749.70it/s]\n"
     ]
    },
    {
     "name": "stdout",
     "output_type": "stream",
     "text": [
      "Example target: [0. 0. 1.]\n",
      "Example prediction: [0.0023, 0.9859, 0.0118]\n",
      "Epoch 8 Training Loss: 2.6429 Training Accuracy: 0.36 Val Loss: 2.9809 Val Accuracy: 0.2\n"
     ]
    },
    {
     "name": "stderr",
     "output_type": "stream",
     "text": [
      "100%|███████████████████████████████████████████████████████████████████████████████████| 3/3 [00:00<00:00, 480.26it/s]\n"
     ]
    },
    {
     "name": "stdout",
     "output_type": "stream",
     "text": [
      "Example target: [1. 0. 0.]\n",
      "Example prediction: [0.0462, 0.8571, 0.0967]\n",
      "Epoch 9 Training Loss: 2.7209 Training Accuracy: 0.3 Val Loss: 2.8269 Val Accuracy: 0.2\n"
     ]
    },
    {
     "name": "stderr",
     "output_type": "stream",
     "text": [
      "100%|███████████████████████████████████████████████████████████████████████████████████| 3/3 [00:00<00:00, 750.05it/s]\n"
     ]
    },
    {
     "name": "stdout",
     "output_type": "stream",
     "text": [
      "Example target: [0. 1. 0.]\n",
      "Example prediction: [0.0178, 0.9283, 0.0539]\n",
      "Epoch 10 Training Loss: 2.3371 Training Accuracy: 0.36 Val Loss: 2.7077 Val Accuracy: 0.2\n"
     ]
    },
    {
     "name": "stderr",
     "output_type": "stream",
     "text": [
      "100%|███████████████████████████████████████████████████████████████████████████████████| 3/3 [00:00<00:00, 750.01it/s]\n"
     ]
    },
    {
     "name": "stdout",
     "output_type": "stream",
     "text": [
      "Example target: [1. 0. 0.]\n",
      "Example prediction: [0.0428, 0.8558, 0.1014]\n",
      "Epoch 11 Training Loss: 2.5673 Training Accuracy: 0.24 Val Loss: 2.5695 Val Accuracy: 0.2\n"
     ]
    },
    {
     "name": "stderr",
     "output_type": "stream",
     "text": [
      "100%|███████████████████████████████████████████████████████████████████████████████████| 3/3 [00:00<00:00, 374.94it/s]\n"
     ]
    },
    {
     "name": "stdout",
     "output_type": "stream",
     "text": [
      "Example target: [1. 0. 0.]\n",
      "Example prediction: [0.0453, 0.8449, 0.1098]\n",
      "Epoch 12 Training Loss: 1.8435 Training Accuracy: 0.42 Val Loss: 2.4753 Val Accuracy: 0.2\n"
     ]
    },
    {
     "name": "stderr",
     "output_type": "stream",
     "text": [
      "100%|███████████████████████████████████████████████████████████████████████████████████| 3/3 [00:00<00:00, 750.01it/s]\n"
     ]
    },
    {
     "name": "stdout",
     "output_type": "stream",
     "text": [
      "Example target: [0. 0. 1.]\n",
      "Example prediction: [0.0075, 0.9493, 0.0433]\n",
      "Epoch 13 Training Loss: 2.2319 Training Accuracy: 0.3 Val Loss: 2.3566 Val Accuracy: 0.2\n"
     ]
    },
    {
     "name": "stderr",
     "output_type": "stream",
     "text": [
      "100%|███████████████████████████████████████████████████████████████████████████████████| 3/3 [00:00<00:00, 750.19it/s]\n"
     ]
    },
    {
     "name": "stdout",
     "output_type": "stream",
     "text": [
      "Example target: [1. 0. 0.]\n",
      "Example prediction: [0.0717, 0.7691, 0.1591]\n",
      "Epoch 14 Training Loss: 2.0252 Training Accuracy: 0.3 Val Loss: 2.2611 Val Accuracy: 0.2\n"
     ]
    },
    {
     "name": "stderr",
     "output_type": "stream",
     "text": [
      "100%|███████████████████████████████████████████████████████████████████████████████████| 3/3 [00:00<00:00, 752.07it/s]\n"
     ]
    },
    {
     "name": "stdout",
     "output_type": "stream",
     "text": [
      "Example target: [1. 0. 0.]\n",
      "Example prediction: [0.0613, 0.788, 0.1508]\n",
      "Epoch 15 Training Loss: 1.7874 Training Accuracy: 0.36 Val Loss: 2.1786 Val Accuracy: 0.2\n"
     ]
    },
    {
     "name": "stderr",
     "output_type": "stream",
     "text": [
      "100%|███████████████████████████████████████████████████████████████████████████████████| 3/3 [00:00<00:00, 373.65it/s]\n"
     ]
    },
    {
     "name": "stdout",
     "output_type": "stream",
     "text": [
      "Example target: [1. 0. 0.]\n",
      "Example prediction: [0.0725, 0.7565, 0.1711]\n",
      "Epoch 16 Training Loss: 1.7971 Training Accuracy: 0.3 Val Loss: 2.0972 Val Accuracy: 0.2\n"
     ]
    },
    {
     "name": "stderr",
     "output_type": "stream",
     "text": [
      "100%|███████████████████████████████████████████████████████████████████████████████████| 3/3 [00:00<00:00, 375.00it/s]\n"
     ]
    },
    {
     "name": "stdout",
     "output_type": "stream",
     "text": [
      "Example target: [0. 0. 1.]\n",
      "Example prediction: [0.0145, 0.8884, 0.0971]\n",
      "Epoch 17 Training Loss: 1.6307 Training Accuracy: 0.36 Val Loss: 2.0262 Val Accuracy: 0.2\n"
     ]
    },
    {
     "name": "stderr",
     "output_type": "stream",
     "text": [
      "100%|███████████████████████████████████████████████████████████████████████████████████| 3/3 [00:00<00:00, 750.01it/s]\n"
     ]
    },
    {
     "name": "stdout",
     "output_type": "stream",
     "text": [
      "Example target: [1. 0. 0.]\n",
      "Example prediction: [0.0873, 0.7084, 0.2043]\n",
      "Epoch 18 Training Loss: 1.6121 Training Accuracy: 0.36 Val Loss: 1.9462 Val Accuracy: 0.2\n"
     ]
    },
    {
     "name": "stderr",
     "output_type": "stream",
     "text": [
      "100%|███████████████████████████████████████████████████████████████████████████████████| 3/3 [00:00<00:00, 374.86it/s]\n"
     ]
    },
    {
     "name": "stdout",
     "output_type": "stream",
     "text": [
      "Example target: [1. 0. 0.]\n",
      "Example prediction: [0.075, 0.7233, 0.2017]\n",
      "Epoch 19 Training Loss: 1.6005 Training Accuracy: 0.3 Val Loss: 1.8708 Val Accuracy: 0.2\n"
     ]
    },
    {
     "name": "stderr",
     "output_type": "stream",
     "text": [
      "100%|███████████████████████████████████████████████████████████████████████████████████| 3/3 [00:00<00:00, 374.92it/s]\n"
     ]
    },
    {
     "name": "stdout",
     "output_type": "stream",
     "text": [
      "Example target: [1. 0. 0.]\n",
      "Example prediction: [0.1048, 0.6583, 0.2369]\n",
      "Epoch 20 Training Loss: 1.4602 Training Accuracy: 0.36 Val Loss: 1.8211 Val Accuracy: 0.2\n"
     ]
    },
    {
     "name": "stderr",
     "output_type": "stream",
     "text": [
      "100%|███████████████████████████████████████████████████████████████████████████████████| 3/3 [00:00<00:00, 750.10it/s]\n"
     ]
    },
    {
     "name": "stdout",
     "output_type": "stream",
     "text": [
      "Example target: [1. 0. 0.]\n",
      "Example prediction: [0.0831, 0.6985, 0.2184]\n",
      "Epoch 21 Training Loss: 1.2973 Training Accuracy: 0.42 Val Loss: 1.7802 Val Accuracy: 0.2\n"
     ]
    },
    {
     "name": "stderr",
     "output_type": "stream",
     "text": [
      "100%|███████████████████████████████████████████████████████████████████████████████████| 3/3 [00:00<00:00, 750.32it/s]\n"
     ]
    },
    {
     "name": "stdout",
     "output_type": "stream",
     "text": [
      "Example target: [0. 0. 1.]\n",
      "Example prediction: [0.0251, 0.7824, 0.1924]\n",
      "Epoch 22 Training Loss: 1.3514 Training Accuracy: 0.3 Val Loss: 1.7259 Val Accuracy: 0.2\n"
     ]
    },
    {
     "name": "stderr",
     "output_type": "stream",
     "text": [
      "100%|███████████████████████████████████████████████████████████████████████████████████| 3/3 [00:00<00:00, 374.96it/s]\n"
     ]
    },
    {
     "name": "stdout",
     "output_type": "stream",
     "text": [
      "Example target: [1. 0. 0.]\n",
      "Example prediction: [0.0911, 0.6679, 0.241]\n",
      "Epoch 23 Training Loss: 1.321 Training Accuracy: 0.36 Val Loss: 1.686 Val Accuracy: 0.2\n"
     ]
    },
    {
     "name": "stderr",
     "output_type": "stream",
     "text": [
      "100%|███████████████████████████████████████████████████████████████████████████████████| 3/3 [00:00<00:00, 748.40it/s]\n"
     ]
    },
    {
     "name": "stdout",
     "output_type": "stream",
     "text": [
      "Example target: [0. 1. 0.]\n",
      "Example prediction: [0.0639, 0.6887, 0.2474]\n",
      "Epoch 24 Training Loss: 1.092 Training Accuracy: 0.42 Val Loss: 1.6529 Val Accuracy: 0.2\n"
     ]
    },
    {
     "name": "stderr",
     "output_type": "stream",
     "text": [
      "100%|███████████████████████████████████████████████████████████████████████████████████| 3/3 [00:00<00:00, 374.98it/s]\n"
     ]
    },
    {
     "name": "stdout",
     "output_type": "stream",
     "text": [
      "Example target: [1. 0. 0.]\n",
      "Example prediction: [0.1101, 0.6146, 0.2753]\n",
      "Epoch 25 Training Loss: 1.3071 Training Accuracy: 0.24 Val Loss: 1.6043 Val Accuracy: 0.2\n"
     ]
    },
    {
     "name": "stderr",
     "output_type": "stream",
     "text": [
      "100%|███████████████████████████████████████████████████████████████████████████████████| 3/3 [00:00<00:00, 375.03it/s]\n"
     ]
    },
    {
     "name": "stdout",
     "output_type": "stream",
     "text": [
      "Example target: [1. 0. 0.]\n",
      "Example prediction: [0.114, 0.5996, 0.2865]\n",
      "Epoch 26 Training Loss: 1.2009 Training Accuracy: 0.3 Val Loss: 1.5676 Val Accuracy: 0.2\n"
     ]
    },
    {
     "name": "stderr",
     "output_type": "stream",
     "text": [
      "100%|███████████████████████████████████████████████████████████████████████████████████| 3/3 [00:00<00:00, 750.41it/s]\n"
     ]
    },
    {
     "name": "stdout",
     "output_type": "stream",
     "text": [
      "Example target: [0. 1. 0.]\n",
      "Example prediction: [0.0695, 0.6472, 0.2833]\n",
      "Epoch 27 Training Loss: 1.1965 Training Accuracy: 0.3 Val Loss: 1.5347 Val Accuracy: 0.2\n"
     ]
    },
    {
     "name": "stderr",
     "output_type": "stream",
     "text": [
      "100%|███████████████████████████████████████████████████████████████████████████████████| 3/3 [00:00<00:00, 375.06it/s]\n"
     ]
    },
    {
     "name": "stdout",
     "output_type": "stream",
     "text": [
      "Example target: [1. 0. 0.]\n",
      "Example prediction: [0.1279, 0.5623, 0.3098]\n",
      "Epoch 28 Training Loss: 1.3092 Training Accuracy: 0.2533 Val Loss: 1.5023 Val Accuracy: 0.2\n"
     ]
    },
    {
     "name": "stderr",
     "output_type": "stream",
     "text": [
      "100%|████████████████████████████████████████████████████████████████████████████████████████████| 3/3 [00:00<?, ?it/s]\n"
     ]
    },
    {
     "name": "stdout",
     "output_type": "stream",
     "text": [
      "Example target: [1. 0. 0.]\n",
      "Example prediction: [0.115, 0.5782, 0.3069]\n",
      "Epoch 29 Training Loss: 1.2806 Training Accuracy: 0.2667 Val Loss: 1.4737 Val Accuracy: 0.2\n"
     ]
    },
    {
     "name": "stderr",
     "output_type": "stream",
     "text": [
      "100%|███████████████████████████████████████████████████████████████████████████████████| 3/3 [00:00<00:00, 374.84it/s]\n"
     ]
    },
    {
     "name": "stdout",
     "output_type": "stream",
     "text": [
      "Example target: [1. 0. 0.]\n",
      "Example prediction: [0.1359, 0.541, 0.323]\n",
      "Epoch 30 Training Loss: 1.1671 Training Accuracy: 0.4 Val Loss: 1.4506 Val Accuracy: 0.2\n"
     ]
    },
    {
     "name": "stderr",
     "output_type": "stream",
     "text": [
      "100%|███████████████████████████████████████████████████████████████████████████████████| 3/3 [00:00<00:00, 374.90it/s]\n"
     ]
    },
    {
     "name": "stdout",
     "output_type": "stream",
     "text": [
      "Example target: [1. 0. 0.]\n",
      "Example prediction: [0.144, 0.5257, 0.3303]\n",
      "Epoch 31 Training Loss: 1.1258 Training Accuracy: 0.3533 Val Loss: 1.4304 Val Accuracy: 0.2\n"
     ]
    },
    {
     "name": "stderr",
     "output_type": "stream",
     "text": [
      "100%|███████████████████████████████████████████████████████████████████████████████████| 3/3 [00:00<00:00, 751.98it/s]\n"
     ]
    },
    {
     "name": "stdout",
     "output_type": "stream",
     "text": [
      "Example target: [1. 0. 0.]\n",
      "Example prediction: [0.1249, 0.5503, 0.3248]\n",
      "Epoch 32 Training Loss: 1.1134 Training Accuracy: 0.4867 Val Loss: 1.4123 Val Accuracy: 0.2\n"
     ]
    },
    {
     "name": "stderr",
     "output_type": "stream",
     "text": [
      "100%|███████████████████████████████████████████████████████████████████████████████████| 3/3 [00:00<00:00, 750.05it/s]\n"
     ]
    },
    {
     "name": "stdout",
     "output_type": "stream",
     "text": [
      "Example target: [1. 0. 0.]\n",
      "Example prediction: [0.14, 0.5279, 0.3321]\n",
      "Epoch 33 Training Loss: 1.0958 Training Accuracy: 0.44 Val Loss: 1.3994 Val Accuracy: 0.2\n"
     ]
    },
    {
     "name": "stderr",
     "output_type": "stream",
     "text": [
      "100%|███████████████████████████████████████████████████████████████████████████████████| 3/3 [00:00<00:00, 375.03it/s]\n"
     ]
    },
    {
     "name": "stdout",
     "output_type": "stream",
     "text": [
      "Example target: [0. 0. 1.]\n",
      "Example prediction: [0.0458, 0.4931, 0.4611]\n",
      "Epoch 34 Training Loss: 1.2635 Training Accuracy: 0.3267 Val Loss: 1.3785 Val Accuracy: 0.2\n"
     ]
    },
    {
     "name": "stderr",
     "output_type": "stream",
     "text": [
      "100%|███████████████████████████████████████████████████████████████████████████████████| 3/3 [00:00<00:00, 749.79it/s]\n"
     ]
    },
    {
     "name": "stdout",
     "output_type": "stream",
     "text": [
      "Example target: [1. 0. 0.]\n",
      "Example prediction: [0.1608, 0.4961, 0.3431]\n",
      "Epoch 35 Training Loss: 1.1516 Training Accuracy: 0.4 Val Loss: 1.3601 Val Accuracy: 0.2\n"
     ]
    },
    {
     "name": "stderr",
     "output_type": "stream",
     "text": [
      "100%|███████████████████████████████████████████████████████████████████████████████████| 3/3 [00:00<00:00, 750.10it/s]\n"
     ]
    },
    {
     "name": "stdout",
     "output_type": "stream",
     "text": [
      "Example target: [1. 0. 0.]\n",
      "Example prediction: [0.1501, 0.5036, 0.3463]\n",
      "Epoch 36 Training Loss: 1.0093 Training Accuracy: 0.54 Val Loss: 1.3444 Val Accuracy: 0.2667\n"
     ]
    },
    {
     "name": "stderr",
     "output_type": "stream",
     "text": [
      "100%|███████████████████████████████████████████████████████████████████████████████████| 3/3 [00:00<00:00, 374.97it/s]\n"
     ]
    },
    {
     "name": "stdout",
     "output_type": "stream",
     "text": [
      "Example target: [0. 1. 0.]\n",
      "Example prediction: [0.0614, 0.5825, 0.356]\n",
      "Epoch 37 Training Loss: 1.0221 Training Accuracy: 0.4867 Val Loss: 1.3381 Val Accuracy: 0.2667\n"
     ]
    },
    {
     "name": "stderr",
     "output_type": "stream",
     "text": [
      "100%|███████████████████████████████████████████████████████████████████████████████████| 3/3 [00:00<00:00, 375.17it/s]\n"
     ]
    },
    {
     "name": "stdout",
     "output_type": "stream",
     "text": [
      "Example target: [0. 0. 1.]\n",
      "Example prediction: [0.0594, 0.4905, 0.4501]\n",
      "Epoch 38 Training Loss: 0.9489 Training Accuracy: 0.5467 Val Loss: 1.3311 Val Accuracy: 0.3333\n"
     ]
    },
    {
     "name": "stderr",
     "output_type": "stream",
     "text": [
      "100%|███████████████████████████████████████████████████████████████████████████████████| 3/3 [00:00<00:00, 375.02it/s]\n"
     ]
    },
    {
     "name": "stdout",
     "output_type": "stream",
     "text": [
      "Example target: [1. 0. 0.]\n",
      "Example prediction: [0.1578, 0.4934, 0.3489]\n",
      "Epoch 39 Training Loss: 1.0665 Training Accuracy: 0.5667 Val Loss: 1.3223 Val Accuracy: 0.3333\n"
     ]
    },
    {
     "name": "stderr",
     "output_type": "stream",
     "text": [
      "100%|███████████████████████████████████████████████████████████████████████████████████| 3/3 [00:00<00:00, 750.19it/s]\n"
     ]
    },
    {
     "name": "stdout",
     "output_type": "stream",
     "text": [
      "Example target: [0. 0. 1.]\n",
      "Example prediction: [0.0628, 0.4753, 0.4619]\n",
      "Epoch 40 Training Loss: 0.9698 Training Accuracy: 0.5667 Val Loss: 1.3122 Val Accuracy: 0.3333\n"
     ]
    },
    {
     "name": "stderr",
     "output_type": "stream",
     "text": [
      "100%|███████████████████████████████████████████████████████████████████████████████████| 3/3 [00:00<00:00, 750.19it/s]\n"
     ]
    },
    {
     "name": "stdout",
     "output_type": "stream",
     "text": [
      "Example target: [1. 0. 0.]\n",
      "Example prediction: [0.1728, 0.4705, 0.3567]\n",
      "Epoch 41 Training Loss: 0.9297 Training Accuracy: 0.5267 Val Loss: 1.3054 Val Accuracy: 0.4\n"
     ]
    },
    {
     "name": "stderr",
     "output_type": "stream",
     "text": [
      "100%|███████████████████████████████████████████████████████████████████████████████████| 3/3 [00:00<00:00, 749.52it/s]\n"
     ]
    },
    {
     "name": "stdout",
     "output_type": "stream",
     "text": [
      "Example target: [1. 0. 0.]\n",
      "Example prediction: [0.1691, 0.4751, 0.3558]\n",
      "Epoch 42 Training Loss: 1.029 Training Accuracy: 0.5867 Val Loss: 1.2977 Val Accuracy: 0.4\n"
     ]
    },
    {
     "name": "stderr",
     "output_type": "stream",
     "text": [
      "100%|███████████████████████████████████████████████████████████████████████████████████| 3/3 [00:00<00:00, 749.74it/s]\n"
     ]
    },
    {
     "name": "stdout",
     "output_type": "stream",
     "text": [
      "Example target: [1. 0. 0.]\n",
      "Example prediction: [0.1767, 0.4654, 0.3579]\n",
      "Epoch 43 Training Loss: 1.0471 Training Accuracy: 0.5667 Val Loss: 1.2875 Val Accuracy: 0.4\n"
     ]
    },
    {
     "name": "stderr",
     "output_type": "stream",
     "text": [
      "100%|███████████████████████████████████████████████████████████████████████████████████| 3/3 [00:00<00:00, 749.96it/s]\n"
     ]
    },
    {
     "name": "stdout",
     "output_type": "stream",
     "text": [
      "Example target: [1. 0. 0.]\n",
      "Example prediction: [0.1699, 0.4702, 0.3599]\n",
      "Epoch 44 Training Loss: 1.0148 Training Accuracy: 0.58 Val Loss: 1.2769 Val Accuracy: 0.4\n"
     ]
    },
    {
     "name": "stderr",
     "output_type": "stream",
     "text": [
      "100%|███████████████████████████████████████████████████████████████████████████████████| 3/3 [00:00<00:00, 749.65it/s]\n"
     ]
    },
    {
     "name": "stdout",
     "output_type": "stream",
     "text": [
      "Example target: [1. 0. 0.]\n",
      "Example prediction: [0.1817, 0.459, 0.3593]\n",
      "Epoch 45 Training Loss: 0.9322 Training Accuracy: 0.58 Val Loss: 1.2747 Val Accuracy: 0.4\n"
     ]
    },
    {
     "name": "stderr",
     "output_type": "stream",
     "text": [
      "100%|███████████████████████████████████████████████████████████████████████████████████| 3/3 [00:00<00:00, 750.10it/s]\n"
     ]
    },
    {
     "name": "stdout",
     "output_type": "stream",
     "text": [
      "Example target: [0. 0. 1.]\n",
      "Example prediction: [0.0711, 0.4461, 0.4828]\n",
      "Epoch 46 Training Loss: 0.8896 Training Accuracy: 0.58 Val Loss: 1.2726 Val Accuracy: 0.4\n"
     ]
    },
    {
     "name": "stderr",
     "output_type": "stream",
     "text": [
      "100%|███████████████████████████████████████████████████████████████████████████████████| 3/3 [00:00<00:00, 729.28it/s]\n"
     ]
    },
    {
     "name": "stdout",
     "output_type": "stream",
     "text": [
      "Example target: [0. 0. 1.]\n",
      "Example prediction: [0.0634, 0.3988, 0.5378]\n",
      "Epoch 47 Training Loss: 1.0412 Training Accuracy: 0.4733 Val Loss: 1.2662 Val Accuracy: 0.4\n"
     ]
    },
    {
     "name": "stderr",
     "output_type": "stream",
     "text": [
      "100%|███████████████████████████████████████████████████████████████████████████████████| 3/3 [00:00<00:00, 749.96it/s]\n"
     ]
    },
    {
     "name": "stdout",
     "output_type": "stream",
     "text": [
      "Example target: [1. 0. 0.]\n",
      "Example prediction: [0.1765, 0.4625, 0.361]\n",
      "Epoch 48 Training Loss: 0.9635 Training Accuracy: 0.6533 Val Loss: 1.257 Val Accuracy: 0.4\n"
     ]
    },
    {
     "name": "stderr",
     "output_type": "stream",
     "text": [
      "100%|███████████████████████████████████████████████████████████████████████████████████| 3/3 [00:00<00:00, 542.32it/s]\n"
     ]
    },
    {
     "name": "stdout",
     "output_type": "stream",
     "text": [
      "Example target: [0. 1. 0.]\n",
      "Example prediction: [0.0821, 0.5184, 0.3995]\n",
      "Epoch 49 Training Loss: 1.0569 Training Accuracy: 0.5133 Val Loss: 1.2511 Val Accuracy: 0.4\n"
     ]
    },
    {
     "name": "stderr",
     "output_type": "stream",
     "text": [
      "100%|███████████████████████████████████████████████████████████████████████████████████| 3/3 [00:00<00:00, 750.14it/s]\n"
     ]
    },
    {
     "name": "stdout",
     "output_type": "stream",
     "text": [
      "Example target: [0. 1. 0.]\n",
      "Example prediction: [0.0834, 0.522, 0.3946]\n",
      "Epoch 50 Training Loss: 0.9634 Training Accuracy: 0.6333 Val Loss: 1.2483 Val Accuracy: 0.4\n"
     ]
    },
    {
     "name": "stderr",
     "output_type": "stream",
     "text": [
      "100%|███████████████████████████████████████████████████████████████████████████████████| 3/3 [00:00<00:00, 749.65it/s]\n"
     ]
    },
    {
     "name": "stdout",
     "output_type": "stream",
     "text": [
      "Example target: [1. 0. 0.]\n",
      "Example prediction: [0.1924, 0.449, 0.3586]\n",
      "Epoch 51 Training Loss: 0.9326 Training Accuracy: 0.6333 Val Loss: 1.2423 Val Accuracy: 0.4\n"
     ]
    },
    {
     "name": "stderr",
     "output_type": "stream",
     "text": [
      "100%|███████████████████████████████████████████████████████████████████████████████████| 3/3 [00:00<00:00, 749.92it/s]\n"
     ]
    },
    {
     "name": "stdout",
     "output_type": "stream",
     "text": [
      "Example target: [1. 0. 0.]\n",
      "Example prediction: [0.1901, 0.4497, 0.3603]\n",
      "Epoch 52 Training Loss: 1.0525 Training Accuracy: 0.5133 Val Loss: 1.2326 Val Accuracy: 0.4667\n"
     ]
    },
    {
     "name": "stderr",
     "output_type": "stream",
     "text": [
      "100%|███████████████████████████████████████████████████████████████████████████████████| 3/3 [00:00<00:00, 374.95it/s]\n"
     ]
    },
    {
     "name": "stdout",
     "output_type": "stream",
     "text": [
      "Example target: [0. 1. 0.]\n",
      "Example prediction: [0.1316, 0.4678, 0.4006]\n",
      "Epoch 53 Training Loss: 0.9467 Training Accuracy: 0.5667 Val Loss: 1.2275 Val Accuracy: 0.4667\n"
     ]
    },
    {
     "name": "stderr",
     "output_type": "stream",
     "text": [
      "100%|███████████████████████████████████████████████████████████████████████████████████| 3/3 [00:00<00:00, 750.01it/s]\n"
     ]
    },
    {
     "name": "stdout",
     "output_type": "stream",
     "text": [
      "Example target: [1. 0. 0.]\n",
      "Example prediction: [0.1868, 0.455, 0.3582]\n",
      "Epoch 54 Training Loss: 1.0044 Training Accuracy: 0.5 Val Loss: 1.2231 Val Accuracy: 0.4667\n"
     ]
    },
    {
     "name": "stderr",
     "output_type": "stream",
     "text": [
      "100%|███████████████████████████████████████████████████████████████████████████████████| 3/3 [00:00<00:00, 749.30it/s]\n"
     ]
    },
    {
     "name": "stdout",
     "output_type": "stream",
     "text": [
      "Example target: [1. 0. 0.]\n",
      "Example prediction: [0.176, 0.4712, 0.3527]\n",
      "Epoch 55 Training Loss: 0.9715 Training Accuracy: 0.44 Val Loss: 1.2211 Val Accuracy: 0.4\n"
     ]
    },
    {
     "name": "stderr",
     "output_type": "stream",
     "text": [
      "100%|███████████████████████████████████████████████████████████████████████████████████| 3/3 [00:00<00:00, 750.19it/s]\n"
     ]
    },
    {
     "name": "stdout",
     "output_type": "stream",
     "text": [
      "Example target: [0. 0. 1.]\n",
      "Example prediction: [0.0842, 0.3964, 0.5195]\n",
      "Epoch 56 Training Loss: 0.9166 Training Accuracy: 0.5667 Val Loss: 1.2206 Val Accuracy: 0.4\n"
     ]
    },
    {
     "name": "stderr",
     "output_type": "stream",
     "text": [
      "100%|███████████████████████████████████████████████████████████████████████████████████| 3/3 [00:00<00:00, 374.97it/s]\n"
     ]
    },
    {
     "name": "stdout",
     "output_type": "stream",
     "text": [
      "Example target: [1. 0. 0.]\n",
      "Example prediction: [0.1877, 0.4584, 0.3539]\n",
      "Epoch 57 Training Loss: 0.9507 Training Accuracy: 0.5733 Val Loss: 1.2169 Val Accuracy: 0.4\n"
     ]
    },
    {
     "name": "stderr",
     "output_type": "stream",
     "text": [
      "100%|███████████████████████████████████████████████████████████████████████████████████| 3/3 [00:00<00:00, 750.01it/s]\n"
     ]
    },
    {
     "name": "stdout",
     "output_type": "stream",
     "text": [
      "Example target: [0. 1. 0.]\n",
      "Example prediction: [0.0976, 0.5009, 0.4015]\n",
      "Epoch 58 Training Loss: 1.0485 Training Accuracy: 0.5133 Val Loss: 1.2075 Val Accuracy: 0.4667\n"
     ]
    },
    {
     "name": "stderr",
     "output_type": "stream",
     "text": [
      "100%|███████████████████████████████████████████████████████████████████████████████████| 3/3 [00:00<00:00, 749.92it/s]\n"
     ]
    },
    {
     "name": "stdout",
     "output_type": "stream",
     "text": [
      "Example target: [1. 0. 0.]\n",
      "Example prediction: [0.1988, 0.4441, 0.3571]\n",
      "Epoch 59 Training Loss: 0.9967 Training Accuracy: 0.56 Val Loss: 1.2008 Val Accuracy: 0.4667\n"
     ]
    },
    {
     "name": "stderr",
     "output_type": "stream",
     "text": [
      "100%|███████████████████████████████████████████████████████████████████████████████████| 3/3 [00:00<00:00, 749.96it/s]\n"
     ]
    },
    {
     "name": "stdout",
     "output_type": "stream",
     "text": [
      "Example target: [1. 0. 0.]\n",
      "Example prediction: [0.2, 0.4453, 0.3548]\n",
      "Epoch 60 Training Loss: 0.9469 Training Accuracy: 0.56 Val Loss: 1.1992 Val Accuracy: 0.4667\n"
     ]
    },
    {
     "name": "stderr",
     "output_type": "stream",
     "text": [
      "100%|███████████████████████████████████████████████████████████████████████████████████| 3/3 [00:00<00:00, 750.32it/s]\n"
     ]
    },
    {
     "name": "stdout",
     "output_type": "stream",
     "text": [
      "Example target: [0. 0. 1.]\n",
      "Example prediction: [0.0932, 0.3776, 0.5292]\n",
      "Epoch 61 Training Loss: 0.9942 Training Accuracy: 0.56 Val Loss: 1.1933 Val Accuracy: 0.4667\n"
     ]
    },
    {
     "name": "stderr",
     "output_type": "stream",
     "text": [
      "100%|███████████████████████████████████████████████████████████████████████████████████| 3/3 [00:00<00:00, 749.96it/s]\n"
     ]
    },
    {
     "name": "stdout",
     "output_type": "stream",
     "text": [
      "Example target: [0. 0. 1.]\n",
      "Example prediction: [0.085, 0.3604, 0.5547]\n",
      "Epoch 62 Training Loss: 0.9981 Training Accuracy: 0.56 Val Loss: 1.1892 Val Accuracy: 0.4667\n"
     ]
    },
    {
     "name": "stderr",
     "output_type": "stream",
     "text": [
      "100%|███████████████████████████████████████████████████████████████████████████████████| 3/3 [00:00<00:00, 750.05it/s]\n"
     ]
    },
    {
     "name": "stdout",
     "output_type": "stream",
     "text": [
      "Example target: [0. 0. 1.]\n",
      "Example prediction: [0.0868, 0.3607, 0.5525]\n",
      "Epoch 63 Training Loss: 0.9913 Training Accuracy: 0.56 Val Loss: 1.1851 Val Accuracy: 0.4667\n"
     ]
    },
    {
     "name": "stderr",
     "output_type": "stream",
     "text": [
      "100%|███████████████████████████████████████████████████████████████████████████████████| 3/3 [00:00<00:00, 451.08it/s]\n"
     ]
    },
    {
     "name": "stdout",
     "output_type": "stream",
     "text": [
      "Example target: [0. 1. 0.]\n",
      "Example prediction: [0.1568, 0.4316, 0.4115]\n",
      "Epoch 64 Training Loss: 1.0376 Training Accuracy: 0.5 Val Loss: 1.1789 Val Accuracy: 0.4667\n"
     ]
    },
    {
     "name": "stderr",
     "output_type": "stream",
     "text": [
      "100%|███████████████████████████████████████████████████████████████████████████████████| 3/3 [00:00<00:00, 374.68it/s]\n"
     ]
    },
    {
     "name": "stdout",
     "output_type": "stream",
     "text": [
      "Example target: [0. 0. 1.]\n",
      "Example prediction: [0.1058, 0.4413, 0.4529]\n",
      "Epoch 65 Training Loss: 0.9099 Training Accuracy: 0.62 Val Loss: 1.1764 Val Accuracy: 0.4667\n"
     ]
    },
    {
     "name": "stderr",
     "output_type": "stream",
     "text": [
      "100%|███████████████████████████████████████████████████████████████████████████████████| 3/3 [00:00<00:00, 374.95it/s]\n"
     ]
    },
    {
     "name": "stdout",
     "output_type": "stream",
     "text": [
      "Example target: [1. 0. 0.]\n",
      "Example prediction: [0.1965, 0.4554, 0.3481]\n",
      "Epoch 66 Training Loss: 0.963 Training Accuracy: 0.5 Val Loss: 1.1736 Val Accuracy: 0.4667\n"
     ]
    },
    {
     "name": "stderr",
     "output_type": "stream",
     "text": [
      "100%|███████████████████████████████████████████████████████████████████████████████████| 3/3 [00:00<00:00, 375.07it/s]\n"
     ]
    },
    {
     "name": "stdout",
     "output_type": "stream",
     "text": [
      "Example target: [1. 0. 0.]\n",
      "Example prediction: [0.1982, 0.4571, 0.3447]\n",
      "Epoch 67 Training Loss: 0.999 Training Accuracy: 0.56 Val Loss: 1.1715 Val Accuracy: 0.4667\n"
     ]
    },
    {
     "name": "stderr",
     "output_type": "stream",
     "text": [
      "100%|███████████████████████████████████████████████████████████████████████████████████| 3/3 [00:00<00:00, 250.05it/s]\n"
     ]
    },
    {
     "name": "stdout",
     "output_type": "stream",
     "text": [
      "Example target: [0. 0. 1.]\n",
      "Example prediction: [0.108, 0.4152, 0.4768]\n",
      "Epoch 68 Training Loss: 0.9976 Training Accuracy: 0.5 Val Loss: 1.17 Val Accuracy: 0.4\n"
     ]
    },
    {
     "name": "stderr",
     "output_type": "stream",
     "text": [
      "100%|███████████████████████████████████████████████████████████████████████████████████| 3/3 [00:00<00:00, 375.00it/s]\n"
     ]
    },
    {
     "name": "stdout",
     "output_type": "stream",
     "text": [
      "Example target: [0. 0. 1.]\n",
      "Example prediction: [0.108, 0.4175, 0.4746]\n",
      "Epoch 69 Training Loss: 0.8709 Training Accuracy: 0.6333 Val Loss: 1.1704 Val Accuracy: 0.4\n"
     ]
    },
    {
     "name": "stderr",
     "output_type": "stream",
     "text": [
      "100%|███████████████████████████████████████████████████████████████████████████████████| 3/3 [00:00<00:00, 374.97it/s]\n"
     ]
    },
    {
     "name": "stdout",
     "output_type": "stream",
     "text": [
      "Example target: [1. 0. 0.]\n",
      "Example prediction: [0.2015, 0.4535, 0.345]\n",
      "Epoch 70 Training Loss: 0.9329 Training Accuracy: 0.5733 Val Loss: 1.1638 Val Accuracy: 0.4667\n"
     ]
    },
    {
     "name": "stderr",
     "output_type": "stream",
     "text": [
      "100%|███████████████████████████████████████████████████████████████████████████████████| 3/3 [00:00<00:00, 374.95it/s]\n"
     ]
    },
    {
     "name": "stdout",
     "output_type": "stream",
     "text": [
      "Example target: [0. 1. 0.]\n",
      "Example prediction: [0.1659, 0.4291, 0.405]\n",
      "Epoch 71 Training Loss: 1.0089 Training Accuracy: 0.5 Val Loss: 1.1609 Val Accuracy: 0.4667\n"
     ]
    },
    {
     "name": "stderr",
     "output_type": "stream",
     "text": [
      "100%|███████████████████████████████████████████████████████████████████████████████████| 3/3 [00:00<00:00, 749.96it/s]\n"
     ]
    },
    {
     "name": "stdout",
     "output_type": "stream",
     "text": [
      "Example target: [1. 0. 0.]\n",
      "Example prediction: [0.2044, 0.4501, 0.3454]\n",
      "Epoch 72 Training Loss: 0.9052 Training Accuracy: 0.62 Val Loss: 1.157 Val Accuracy: 0.4667\n"
     ]
    },
    {
     "name": "stderr",
     "output_type": "stream",
     "text": [
      "100%|███████████████████████████████████████████████████████████████████████████████████| 3/3 [00:00<00:00, 749.83it/s]\n"
     ]
    },
    {
     "name": "stdout",
     "output_type": "stream",
     "text": [
      "Example target: [1. 0. 0.]\n",
      "Example prediction: [0.2056, 0.4524, 0.342]\n",
      "Epoch 73 Training Loss: 1.0078 Training Accuracy: 0.44 Val Loss: 1.1558 Val Accuracy: 0.4667\n"
     ]
    },
    {
     "name": "stderr",
     "output_type": "stream",
     "text": [
      "100%|███████████████████████████████████████████████████████████████████████████████████| 3/3 [00:00<00:00, 375.04it/s]\n"
     ]
    },
    {
     "name": "stdout",
     "output_type": "stream",
     "text": [
      "Example target: [1. 0. 0.]\n",
      "Example prediction: [0.2249, 0.4269, 0.3482]\n",
      "Epoch 74 Training Loss: 0.8614 Training Accuracy: 0.68 Val Loss: 1.1531 Val Accuracy: 0.4667\n"
     ]
    },
    {
     "name": "stderr",
     "output_type": "stream",
     "text": [
      "100%|███████████████████████████████████████████████████████████████████████████████████| 3/3 [00:00<00:00, 479.17it/s]\n"
     ]
    },
    {
     "name": "stdout",
     "output_type": "stream",
     "text": [
      "Example target: [0. 0. 1.]\n",
      "Example prediction: [0.1124, 0.3613, 0.5264]\n",
      "Epoch 75 Training Loss: 0.9768 Training Accuracy: 0.56 Val Loss: 1.1485 Val Accuracy: 0.4667\n"
     ]
    },
    {
     "name": "stderr",
     "output_type": "stream",
     "text": [
      "100%|███████████████████████████████████████████████████████████████████████████████████| 3/3 [00:00<00:00, 374.28it/s]\n"
     ]
    },
    {
     "name": "stdout",
     "output_type": "stream",
     "text": [
      "Example target: [0. 0. 1.]\n",
      "Example prediction: [0.1016, 0.3465, 0.5519]\n",
      "Epoch 76 Training Loss: 0.9926 Training Accuracy: 0.4333 Val Loss: 1.1462 Val Accuracy: 0.4667\n"
     ]
    },
    {
     "name": "stderr",
     "output_type": "stream",
     "text": [
      "100%|███████████████████████████████████████████████████████████████████████████████████| 3/3 [00:00<00:00, 374.92it/s]\n"
     ]
    },
    {
     "name": "stdout",
     "output_type": "stream",
     "text": [
      "Example target: [1. 0. 0.]\n",
      "Example prediction: [0.2344, 0.4226, 0.3429]\n",
      "Epoch 77 Training Loss: 0.9942 Training Accuracy: 0.5 Val Loss: 1.1453 Val Accuracy: 0.4667\n"
     ]
    },
    {
     "name": "stderr",
     "output_type": "stream",
     "text": [
      "100%|███████████████████████████████████████████████████████████████████████████████████| 3/3 [00:00<00:00, 749.83it/s]\n"
     ]
    },
    {
     "name": "stdout",
     "output_type": "stream",
     "text": [
      "Example target: [0. 0. 1.]\n",
      "Example prediction: [0.1047, 0.344, 0.5513]\n",
      "Epoch 78 Training Loss: 0.9608 Training Accuracy: 0.56 Val Loss: 1.1395 Val Accuracy: 0.4667\n"
     ]
    },
    {
     "name": "stderr",
     "output_type": "stream",
     "text": [
      "100%|███████████████████████████████████████████████████████████████████████████████████| 3/3 [00:00<00:00, 749.92it/s]\n"
     ]
    },
    {
     "name": "stdout",
     "output_type": "stream",
     "text": [
      "Example target: [1. 0. 0.]\n",
      "Example prediction: [0.2381, 0.4164, 0.3455]\n",
      "Epoch 79 Training Loss: 0.9627 Training Accuracy: 0.56 Val Loss: 1.1357 Val Accuracy: 0.4667\n"
     ]
    },
    {
     "name": "stderr",
     "output_type": "stream",
     "text": [
      "100%|███████████████████████████████████████████████████████████████████████████████████| 3/3 [00:00<00:00, 750.01it/s]\n"
     ]
    },
    {
     "name": "stdout",
     "output_type": "stream",
     "text": [
      "Example target: [1. 0. 0.]\n",
      "Example prediction: [0.2399, 0.4161, 0.344]\n",
      "Epoch 80 Training Loss: 1.0141 Training Accuracy: 0.4933 Val Loss: 1.1311 Val Accuracy: 0.4667\n"
     ]
    },
    {
     "name": "stderr",
     "output_type": "stream",
     "text": [
      "100%|███████████████████████████████████████████████████████████████████████████████████| 3/3 [00:00<00:00, 750.23it/s]\n"
     ]
    },
    {
     "name": "stdout",
     "output_type": "stream",
     "text": [
      "Example target: [0. 1. 0.]\n",
      "Example prediction: [0.1784, 0.44, 0.3816]\n",
      "Epoch 81 Training Loss: 0.9893 Training Accuracy: 0.5 Val Loss: 1.1293 Val Accuracy: 0.4667\n"
     ]
    },
    {
     "name": "stderr",
     "output_type": "stream",
     "text": [
      "100%|███████████████████████████████████████████████████████████████████████████████████| 3/3 [00:00<00:00, 374.93it/s]\n"
     ]
    },
    {
     "name": "stdout",
     "output_type": "stream",
     "text": [
      "Example target: [0. 0. 1.]\n",
      "Example prediction: [0.1296, 0.4249, 0.4455]\n",
      "Epoch 82 Training Loss: 0.9046 Training Accuracy: 0.56 Val Loss: 1.1281 Val Accuracy: 0.4667\n"
     ]
    },
    {
     "name": "stderr",
     "output_type": "stream",
     "text": [
      "100%|███████████████████████████████████████████████████████████████████████████████████| 3/3 [00:00<00:00, 750.19it/s]\n"
     ]
    },
    {
     "name": "stdout",
     "output_type": "stream",
     "text": [
      "Example target: [0. 1. 0.]\n",
      "Example prediction: [0.1794, 0.4437, 0.3769]\n",
      "Epoch 83 Training Loss: 0.9464 Training Accuracy: 0.56 Val Loss: 1.1285 Val Accuracy: 0.4667\n"
     ]
    },
    {
     "name": "stderr",
     "output_type": "stream",
     "text": [
      "100%|███████████████████████████████████████████████████████████████████████████████████| 3/3 [00:00<00:00, 375.00it/s]\n"
     ]
    },
    {
     "name": "stdout",
     "output_type": "stream",
     "text": [
      "Example target: [1. 0. 0.]\n",
      "Example prediction: [0.2455, 0.4153, 0.3391]\n",
      "Epoch 84 Training Loss: 1.0089 Training Accuracy: 0.5 Val Loss: 1.124 Val Accuracy: 0.4667\n"
     ]
    },
    {
     "name": "stderr",
     "output_type": "stream",
     "text": [
      "100%|███████████████████████████████████████████████████████████████████████████████████| 3/3 [00:00<00:00, 749.88it/s]\n"
     ]
    },
    {
     "name": "stdout",
     "output_type": "stream",
     "text": [
      "Example target: [1. 0. 0.]\n",
      "Example prediction: [0.2399, 0.4229, 0.3372]\n",
      "Epoch 85 Training Loss: 0.9776 Training Accuracy: 0.5 Val Loss: 1.1222 Val Accuracy: 0.4667\n"
     ]
    },
    {
     "name": "stderr",
     "output_type": "stream",
     "text": [
      "100%|███████████████████████████████████████████████████████████████████████████████████| 3/3 [00:00<00:00, 749.65it/s]\n"
     ]
    },
    {
     "name": "stdout",
     "output_type": "stream",
     "text": [
      "Example target: [0. 0. 1.]\n",
      "Example prediction: [0.1148, 0.3432, 0.542]\n",
      "Epoch 86 Training Loss: 0.9251 Training Accuracy: 0.56 Val Loss: 1.1203 Val Accuracy: 0.4667\n"
     ]
    },
    {
     "name": "stderr",
     "output_type": "stream",
     "text": [
      "100%|███████████████████████████████████████████████████████████████████████████████████| 3/3 [00:00<00:00, 374.99it/s]\n"
     ]
    },
    {
     "name": "stdout",
     "output_type": "stream",
     "text": [
      "Example target: [0. 0. 1.]\n",
      "Example prediction: [0.1172, 0.3471, 0.5357]\n",
      "Epoch 87 Training Loss: 1.0304 Training Accuracy: 0.38 Val Loss: 1.118 Val Accuracy: 0.4667\n"
     ]
    },
    {
     "name": "stderr",
     "output_type": "stream",
     "text": [
      "100%|███████████████████████████████████████████████████████████████████████████████████| 3/3 [00:00<00:00, 750.32it/s]\n"
     ]
    },
    {
     "name": "stdout",
     "output_type": "stream",
     "text": [
      "Example target: [0. 0. 1.]\n",
      "Example prediction: [0.1321, 0.3591, 0.5087]\n",
      "Epoch 88 Training Loss: 0.8922 Training Accuracy: 0.62 Val Loss: 1.1154 Val Accuracy: 0.4667\n"
     ]
    },
    {
     "name": "stderr",
     "output_type": "stream",
     "text": [
      "100%|███████████████████████████████████████████████████████████████████████████████████| 3/3 [00:00<00:00, 749.96it/s]\n"
     ]
    },
    {
     "name": "stdout",
     "output_type": "stream",
     "text": [
      "Example target: [1. 0. 0.]\n",
      "Example prediction: [0.2513, 0.4124, 0.3363]\n",
      "Epoch 89 Training Loss: 0.9556 Training Accuracy: 0.56 Val Loss: 1.1137 Val Accuracy: 0.4667\n"
     ]
    },
    {
     "name": "stderr",
     "output_type": "stream",
     "text": [
      "100%|███████████████████████████████████████████████████████████████████████████████████| 3/3 [00:00<00:00, 749.88it/s]\n"
     ]
    },
    {
     "name": "stdout",
     "output_type": "stream",
     "text": [
      "Example target: [1. 0. 0.]\n",
      "Example prediction: [0.2492, 0.4173, 0.3335]\n",
      "Epoch 90 Training Loss: 1.0056 Training Accuracy: 0.5 Val Loss: 1.1111 Val Accuracy: 0.4667\n"
     ]
    },
    {
     "name": "stderr",
     "output_type": "stream",
     "text": [
      "100%|███████████████████████████████████████████████████████████████████████████████████| 3/3 [00:00<00:00, 750.37it/s]\n"
     ]
    },
    {
     "name": "stdout",
     "output_type": "stream",
     "text": [
      "Example target: [0. 0. 1.]\n",
      "Example prediction: [0.1364, 0.3678, 0.4958]\n",
      "Epoch 91 Training Loss: 0.9289 Training Accuracy: 0.5 Val Loss: 1.1121 Val Accuracy: 0.4\n"
     ]
    },
    {
     "name": "stderr",
     "output_type": "stream",
     "text": [
      "100%|███████████████████████████████████████████████████████████████████████████████████| 3/3 [00:00<00:00, 749.56it/s]\n"
     ]
    },
    {
     "name": "stdout",
     "output_type": "stream",
     "text": [
      "Example target: [1. 0. 0.]\n",
      "Example prediction: [0.2503, 0.4193, 0.3303]\n",
      "Epoch 92 Training Loss: 0.9653 Training Accuracy: 0.5133 Val Loss: 1.1106 Val Accuracy: 0.4\n"
     ]
    },
    {
     "name": "stderr",
     "output_type": "stream",
     "text": [
      "100%|███████████████████████████████████████████████████████████████████████████████████| 3/3 [00:00<00:00, 375.00it/s]\n"
     ]
    },
    {
     "name": "stdout",
     "output_type": "stream",
     "text": [
      "Example target: [1. 0. 0.]\n",
      "Example prediction: [0.2452, 0.4231, 0.3317]\n",
      "Epoch 93 Training Loss: 0.9346 Training Accuracy: 0.5733 Val Loss: 1.1061 Val Accuracy: 0.4667\n"
     ]
    },
    {
     "name": "stderr",
     "output_type": "stream",
     "text": [
      "100%|███████████████████████████████████████████████████████████████████████████████████| 3/3 [00:00<00:00, 749.96it/s]\n"
     ]
    },
    {
     "name": "stdout",
     "output_type": "stream",
     "text": [
      "Example target: [0. 1. 0.]\n",
      "Example prediction: [0.1973, 0.4144, 0.3883]\n",
      "Epoch 94 Training Loss: 0.9665 Training Accuracy: 0.5 Val Loss: 1.105 Val Accuracy: 0.4667\n"
     ]
    },
    {
     "name": "stderr",
     "output_type": "stream",
     "text": [
      "100%|███████████████████████████████████████████████████████████████████████████████████| 3/3 [00:00<00:00, 374.95it/s]\n"
     ]
    },
    {
     "name": "stdout",
     "output_type": "stream",
     "text": [
      "Example target: [0. 0. 1.]\n",
      "Example prediction: [0.1405, 0.3949, 0.4646]\n",
      "Epoch 95 Training Loss: 0.9458 Training Accuracy: 0.5 Val Loss: 1.1059 Val Accuracy: 0.4\n"
     ]
    },
    {
     "name": "stderr",
     "output_type": "stream",
     "text": [
      "100%|███████████████████████████████████████████████████████████████████████████████████| 3/3 [00:00<00:00, 750.32it/s]\n"
     ]
    },
    {
     "name": "stdout",
     "output_type": "stream",
     "text": [
      "Example target: [1. 0. 0.]\n",
      "Example prediction: [0.2465, 0.4247, 0.3288]\n",
      "Epoch 96 Training Loss: 0.9575 Training Accuracy: 0.4533 Val Loss: 1.1051 Val Accuracy: 0.4\n"
     ]
    },
    {
     "name": "stderr",
     "output_type": "stream",
     "text": [
      "100%|███████████████████████████████████████████████████████████████████████████████████| 3/3 [00:00<00:00, 374.99it/s]\n"
     ]
    },
    {
     "name": "stdout",
     "output_type": "stream",
     "text": [
      "Example target: [1. 0. 0.]\n",
      "Example prediction: [0.2471, 0.4231, 0.3297]\n",
      "Epoch 97 Training Loss: 0.9522 Training Accuracy: 0.5733 Val Loss: 1.1021 Val Accuracy: 0.4667\n"
     ]
    },
    {
     "name": "stderr",
     "output_type": "stream",
     "text": [
      "100%|███████████████████████████████████████████████████████████████████████████████████| 3/3 [00:00<00:00, 749.83it/s]\n"
     ]
    },
    {
     "name": "stdout",
     "output_type": "stream",
     "text": [
      "Example target: [0. 0. 1.]\n",
      "Example prediction: [0.1411, 0.3837, 0.4752]\n",
      "Epoch 98 Training Loss: 0.9146 Training Accuracy: 0.5667 Val Loss: 1.0998 Val Accuracy: 0.4667\n"
     ]
    },
    {
     "name": "stderr",
     "output_type": "stream",
     "text": [
      "100%|███████████████████████████████████████████████████████████████████████████████████| 3/3 [00:00<00:00, 749.92it/s]\n"
     ]
    },
    {
     "name": "stdout",
     "output_type": "stream",
     "text": [
      "Example target: [0. 1. 0.]\n",
      "Example prediction: [0.1539, 0.4757, 0.3704]\n",
      "Epoch 99 Training Loss: 0.9359 Training Accuracy: 0.56 Val Loss: 1.1022 Val Accuracy: 0.4\n",
      "Test Loss: 0.9914 Test Accuracy: 0.4333\n"
     ]
    }
   ],
   "source": [
    "\n",
    "hidden_layer_size=5\n",
    "lr=1e-3\n",
    "model_name = \"two_layer_NN_5l_1e-3\"\n",
    "%run -i train_ffnn.py"
   ]
  },
  {
   "cell_type": "code",
   "execution_count": 9,
   "metadata": {},
   "outputs": [
    {
     "name": "stdout",
     "output_type": "stream",
     "text": [
      "Training two_layer_NN_10l_1e-3 neural network on iris with SGD for 100 epochs...\n",
      "Optimizer:\n",
      "{'name': 'SGD', 'lr': 0.001, 'lr_scheduler': 'exponential', 'lr_decay': 0.99, 'stage_length': 1000, 'staircase': False, 'clip_norm': None, 'momentum': 0}\n"
     ]
    },
    {
     "name": "stderr",
     "output_type": "stream",
     "text": [
      "100%|███████████████████████████████████████████████████████████████████████████████████| 3/3 [00:00<00:00, 749.92it/s]\n"
     ]
    },
    {
     "name": "stdout",
     "output_type": "stream",
     "text": [
      "Example target: [1. 0. 0.]\n",
      "Example prediction: [0.8969, 0.0218, 0.0813]\n",
      "Epoch 0 Training Loss: 2.5656 Training Accuracy: 0.2733 Val Loss: 1.4055 Val Accuracy: 0.5333\n"
     ]
    },
    {
     "name": "stderr",
     "output_type": "stream",
     "text": [
      "100%|███████████████████████████████████████████████████████████████████████████████████| 3/3 [00:00<00:00, 750.19it/s]\n"
     ]
    },
    {
     "name": "stdout",
     "output_type": "stream",
     "text": [
      "Example target: [1. 0. 0.]\n",
      "Example prediction: [0.8613, 0.0304, 0.1083]\n",
      "Epoch 1 Training Loss: 2.0883 Training Accuracy: 0.2733 Val Loss: 1.2143 Val Accuracy: 0.5333\n"
     ]
    },
    {
     "name": "stderr",
     "output_type": "stream",
     "text": [
      "100%|███████████████████████████████████████████████████████████████████████████████████| 3/3 [00:00<00:00, 374.99it/s]\n"
     ]
    },
    {
     "name": "stdout",
     "output_type": "stream",
     "text": [
      "Example target: [0. 1. 0.]\n",
      "Example prediction: [0.7914, 0.0267, 0.1818]\n",
      "Epoch 2 Training Loss: 1.7335 Training Accuracy: 0.2933 Val Loss: 1.0624 Val Accuracy: 0.5333\n"
     ]
    },
    {
     "name": "stderr",
     "output_type": "stream",
     "text": [
      "100%|███████████████████████████████████████████████████████████████████████████████████| 3/3 [00:00<00:00, 750.14it/s]\n"
     ]
    },
    {
     "name": "stdout",
     "output_type": "stream",
     "text": [
      "Example target: [1. 0. 0.]\n",
      "Example prediction: [0.7416, 0.0544, 0.204]\n",
      "Epoch 3 Training Loss: 1.4627 Training Accuracy: 0.4133 Val Loss: 0.9887 Val Accuracy: 0.6\n"
     ]
    },
    {
     "name": "stderr",
     "output_type": "stream",
     "text": [
      "100%|███████████████████████████████████████████████████████████████████████████████████| 3/3 [00:00<00:00, 750.23it/s]\n"
     ]
    },
    {
     "name": "stdout",
     "output_type": "stream",
     "text": [
      "Example target: [1. 0. 0.]\n",
      "Example prediction: [0.6861, 0.0395, 0.2744]\n",
      "Epoch 4 Training Loss: 1.3742 Training Accuracy: 0.5467 Val Loss: 0.9456 Val Accuracy: 0.6\n"
     ]
    },
    {
     "name": "stderr",
     "output_type": "stream",
     "text": [
      "100%|███████████████████████████████████████████████████████████████████████████████████| 3/3 [00:00<00:00, 533.67it/s]\n"
     ]
    },
    {
     "name": "stdout",
     "output_type": "stream",
     "text": [
      "Example target: [1. 0. 0.]\n",
      "Example prediction: [0.691, 0.0621, 0.2469]\n",
      "Epoch 5 Training Loss: 1.1902 Training Accuracy: 0.6467 Val Loss: 0.9145 Val Accuracy: 0.6667\n"
     ]
    },
    {
     "name": "stderr",
     "output_type": "stream",
     "text": [
      "100%|███████████████████████████████████████████████████████████████████████████████████| 3/3 [00:00<00:00, 490.37it/s]\n"
     ]
    },
    {
     "name": "stdout",
     "output_type": "stream",
     "text": [
      "Example target: [0. 0. 1.]\n",
      "Example prediction: [0.5175, 0.0621, 0.4204]\n",
      "Epoch 6 Training Loss: 0.9876 Training Accuracy: 0.7267 Val Loss: 0.894 Val Accuracy: 0.6667\n"
     ]
    },
    {
     "name": "stderr",
     "output_type": "stream",
     "text": [
      "100%|███████████████████████████████████████████████████████████████████████████████████| 3/3 [00:00<00:00, 750.14it/s]\n"
     ]
    },
    {
     "name": "stdout",
     "output_type": "stream",
     "text": [
      "Example target: [1. 0. 0.]\n",
      "Example prediction: [0.6858, 0.0781, 0.2361]\n",
      "Epoch 7 Training Loss: 1.0832 Training Accuracy: 0.6733 Val Loss: 0.8714 Val Accuracy: 0.6667\n"
     ]
    },
    {
     "name": "stderr",
     "output_type": "stream",
     "text": [
      "100%|███████████████████████████████████████████████████████████████████████████████████| 3/3 [00:00<00:00, 729.57it/s]\n"
     ]
    },
    {
     "name": "stdout",
     "output_type": "stream",
     "text": [
      "Example target: [1. 0. 0.]\n",
      "Example prediction: [0.7205, 0.0913, 0.1883]\n",
      "Epoch 8 Training Loss: 1.0683 Training Accuracy: 0.68 Val Loss: 0.8511 Val Accuracy: 0.6667\n"
     ]
    },
    {
     "name": "stderr",
     "output_type": "stream",
     "text": [
      "100%|███████████████████████████████████████████████████████████████████████████████████| 3/3 [00:00<00:00, 550.67it/s]\n"
     ]
    },
    {
     "name": "stdout",
     "output_type": "stream",
     "text": [
      "Example target: [1. 0. 0.]\n",
      "Example prediction: [0.7251, 0.0962, 0.1787]\n",
      "Epoch 9 Training Loss: 0.9166 Training Accuracy: 0.7533 Val Loss: 0.8355 Val Accuracy: 0.6667\n"
     ]
    },
    {
     "name": "stderr",
     "output_type": "stream",
     "text": [
      "100%|██████████████████████████████████████████████████████████████████████████████████| 3/3 [00:00<00:00, 2058.72it/s]\n"
     ]
    },
    {
     "name": "stdout",
     "output_type": "stream",
     "text": [
      "Example target: [1. 0. 0.]\n",
      "Example prediction: [0.6177, 0.1183, 0.264]\n",
      "Epoch 10 Training Loss: 1.1219 Training Accuracy: 0.6267 Val Loss: 0.8162 Val Accuracy: 0.7333\n"
     ]
    },
    {
     "name": "stderr",
     "output_type": "stream",
     "text": [
      "100%|███████████████████████████████████████████████████████████████████████████████████| 3/3 [00:00<00:00, 749.25it/s]\n"
     ]
    },
    {
     "name": "stdout",
     "output_type": "stream",
     "text": [
      "Example target: [0. 0. 1.]\n",
      "Example prediction: [0.4139, 0.1277, 0.4584]\n",
      "Epoch 11 Training Loss: 0.9343 Training Accuracy: 0.6933 Val Loss: 0.804 Val Accuracy: 0.8\n"
     ]
    },
    {
     "name": "stderr",
     "output_type": "stream",
     "text": [
      "100%|███████████████████████████████████████████████████████████████████████████████████| 3/3 [00:00<00:00, 375.07it/s]\n"
     ]
    },
    {
     "name": "stdout",
     "output_type": "stream",
     "text": [
      "Example target: [1. 0. 0.]\n",
      "Example prediction: [0.6117, 0.1287, 0.2596]\n",
      "Epoch 12 Training Loss: 1.1859 Training Accuracy: 0.5133 Val Loss: 0.7868 Val Accuracy: 0.8\n"
     ]
    },
    {
     "name": "stderr",
     "output_type": "stream",
     "text": [
      "100%|███████████████████████████████████████████████████████████████████████████████████| 3/3 [00:00<00:00, 308.97it/s]\n"
     ]
    },
    {
     "name": "stdout",
     "output_type": "stream",
     "text": [
      "Example target: [0. 0. 1.]\n",
      "Example prediction: [0.3705, 0.1736, 0.4559]\n",
      "Epoch 13 Training Loss: 0.9354 Training Accuracy: 0.6333 Val Loss: 0.7778 Val Accuracy: 0.8\n"
     ]
    },
    {
     "name": "stderr",
     "output_type": "stream",
     "text": [
      "100%|███████████████████████████████████████████████████████████████████████████████████| 3/3 [00:00<00:00, 750.01it/s]\n"
     ]
    },
    {
     "name": "stdout",
     "output_type": "stream",
     "text": [
      "Example target: [0. 1. 0.]\n",
      "Example prediction: [0.4423, 0.2282, 0.3295]\n",
      "Epoch 14 Training Loss: 0.9392 Training Accuracy: 0.6333 Val Loss: 0.77 Val Accuracy: 0.8\n"
     ]
    },
    {
     "name": "stderr",
     "output_type": "stream",
     "text": [
      "100%|███████████████████████████████████████████████████████████████████████████████████| 3/3 [00:00<00:00, 375.09it/s]\n"
     ]
    },
    {
     "name": "stdout",
     "output_type": "stream",
     "text": [
      "Example target: [1. 0. 0.]\n",
      "Example prediction: [0.6369, 0.1758, 0.1873]\n",
      "Epoch 15 Training Loss: 0.892 Training Accuracy: 0.6333 Val Loss: 0.7658 Val Accuracy: 0.8\n"
     ]
    },
    {
     "name": "stderr",
     "output_type": "stream",
     "text": [
      "100%|███████████████████████████████████████████████████████████████████████████████████| 3/3 [00:00<00:00, 375.02it/s]\n"
     ]
    },
    {
     "name": "stdout",
     "output_type": "stream",
     "text": [
      "Example target: [1. 0. 0.]\n",
      "Example prediction: [0.5507, 0.1474, 0.302]\n",
      "Epoch 16 Training Loss: 0.843 Training Accuracy: 0.7 Val Loss: 0.7599 Val Accuracy: 0.8\n"
     ]
    },
    {
     "name": "stderr",
     "output_type": "stream",
     "text": [
      "100%|███████████████████████████████████████████████████████████████████████████████████| 3/3 [00:00<00:00, 749.52it/s]\n"
     ]
    },
    {
     "name": "stdout",
     "output_type": "stream",
     "text": [
      "Example target: [0. 0. 1.]\n",
      "Example prediction: [0.3172, 0.2491, 0.4337]\n",
      "Epoch 17 Training Loss: 0.8531 Training Accuracy: 0.64 Val Loss: 0.7562 Val Accuracy: 0.8\n"
     ]
    },
    {
     "name": "stderr",
     "output_type": "stream",
     "text": [
      "100%|███████████████████████████████████████████████████████████████████████████████████| 3/3 [00:00<00:00, 750.01it/s]\n"
     ]
    },
    {
     "name": "stdout",
     "output_type": "stream",
     "text": [
      "Example target: [0. 1. 0.]\n",
      "Example prediction: [0.4098, 0.2719, 0.3183]\n",
      "Epoch 18 Training Loss: 0.8514 Training Accuracy: 0.64 Val Loss: 0.7532 Val Accuracy: 0.8\n"
     ]
    },
    {
     "name": "stderr",
     "output_type": "stream",
     "text": [
      "100%|███████████████████████████████████████████████████████████████████████████████████| 3/3 [00:00<00:00, 750.14it/s]\n"
     ]
    },
    {
     "name": "stdout",
     "output_type": "stream",
     "text": [
      "Example target: [0. 1. 0.]\n",
      "Example prediction: [0.3696, 0.2994, 0.331]\n",
      "Epoch 19 Training Loss: 0.7778 Training Accuracy: 0.7 Val Loss: 0.75 Val Accuracy: 0.8\n"
     ]
    },
    {
     "name": "stderr",
     "output_type": "stream",
     "text": [
      "100%|███████████████████████████████████████████████████████████████████████████████████| 3/3 [00:00<00:00, 374.95it/s]\n"
     ]
    },
    {
     "name": "stdout",
     "output_type": "stream",
     "text": [
      "Example target: [1. 0. 0.]\n",
      "Example prediction: [0.5379, 0.2261, 0.236]\n",
      "Epoch 20 Training Loss: 0.8047 Training Accuracy: 0.64 Val Loss: 0.7482 Val Accuracy: 0.8\n"
     ]
    },
    {
     "name": "stderr",
     "output_type": "stream",
     "text": [
      "100%|███████████████████████████████████████████████████████████████████████████████████| 3/3 [00:00<00:00, 375.04it/s]\n"
     ]
    },
    {
     "name": "stdout",
     "output_type": "stream",
     "text": [
      "Example target: [0. 1. 0.]\n",
      "Example prediction: [0.3528, 0.3399, 0.3073]\n",
      "Epoch 21 Training Loss: 0.8828 Training Accuracy: 0.52 Val Loss: 0.7523 Val Accuracy: 0.8\n"
     ]
    },
    {
     "name": "stderr",
     "output_type": "stream",
     "text": [
      "100%|███████████████████████████████████████████████████████████████████████████████████| 3/3 [00:00<00:00, 375.06it/s]\n"
     ]
    },
    {
     "name": "stdout",
     "output_type": "stream",
     "text": [
      "Example target: [0. 0. 1.]\n",
      "Example prediction: [0.2678, 0.3414, 0.3909]\n",
      "Epoch 22 Training Loss: 0.7797 Training Accuracy: 0.64 Val Loss: 0.7512 Val Accuracy: 0.8667\n"
     ]
    },
    {
     "name": "stderr",
     "output_type": "stream",
     "text": [
      "100%|███████████████████████████████████████████████████████████████████████████████████| 3/3 [00:00<00:00, 375.03it/s]\n"
     ]
    },
    {
     "name": "stdout",
     "output_type": "stream",
     "text": [
      "Example target: [0. 1. 0.]\n",
      "Example prediction: [0.339, 0.3484, 0.3126]\n",
      "Epoch 23 Training Loss: 0.7521 Training Accuracy: 0.7933 Val Loss: 0.7471 Val Accuracy: 0.8667\n"
     ]
    },
    {
     "name": "stderr",
     "output_type": "stream",
     "text": [
      "100%|███████████████████████████████████████████████████████████████████████████████████| 3/3 [00:00<00:00, 375.05it/s]\n"
     ]
    },
    {
     "name": "stdout",
     "output_type": "stream",
     "text": [
      "Example target: [0. 0. 1.]\n",
      "Example prediction: [0.1272, 0.2788, 0.594]\n",
      "Epoch 24 Training Loss: 0.7896 Training Accuracy: 0.62 Val Loss: 0.75 Val Accuracy: 1.0\n"
     ]
    },
    {
     "name": "stderr",
     "output_type": "stream",
     "text": [
      "100%|███████████████████████████████████████████████████████████████████████████████████| 3/3 [00:00<00:00, 374.99it/s]\n"
     ]
    },
    {
     "name": "stdout",
     "output_type": "stream",
     "text": [
      "Example target: [1. 0. 0.]\n",
      "Example prediction: [0.5161, 0.2285, 0.2554]\n",
      "Epoch 25 Training Loss: 0.8091 Training Accuracy: 0.82 Val Loss: 0.7531 Val Accuracy: 1.0\n"
     ]
    },
    {
     "name": "stderr",
     "output_type": "stream",
     "text": [
      "100%|███████████████████████████████████████████████████████████████████████████████████| 3/3 [00:00<00:00, 749.96it/s]\n"
     ]
    },
    {
     "name": "stdout",
     "output_type": "stream",
     "text": [
      "Example target: [1. 0. 0.]\n",
      "Example prediction: [0.4391, 0.2447, 0.3162]\n",
      "Epoch 26 Training Loss: 0.7791 Training Accuracy: 0.8667 Val Loss: 0.7558 Val Accuracy: 1.0\n"
     ]
    },
    {
     "name": "stderr",
     "output_type": "stream",
     "text": [
      "100%|███████████████████████████████████████████████████████████████████████████████████| 3/3 [00:00<00:00, 375.03it/s]\n"
     ]
    },
    {
     "name": "stdout",
     "output_type": "stream",
     "text": [
      "Example target: [1. 0. 0.]\n",
      "Example prediction: [0.4837, 0.2809, 0.2355]\n",
      "Epoch 27 Training Loss: 0.7561 Training Accuracy: 0.8667 Val Loss: 0.7523 Val Accuracy: 1.0\n"
     ]
    },
    {
     "name": "stderr",
     "output_type": "stream",
     "text": [
      "100%|███████████████████████████████████████████████████████████████████████████████████| 3/3 [00:00<00:00, 375.04it/s]\n"
     ]
    },
    {
     "name": "stdout",
     "output_type": "stream",
     "text": [
      "Example target: [0. 1. 0.]\n",
      "Example prediction: [0.2728, 0.377, 0.3501]\n",
      "Epoch 28 Training Loss: 0.7876 Training Accuracy: 0.8333 Val Loss: 0.7562 Val Accuracy: 1.0\n"
     ]
    },
    {
     "name": "stderr",
     "output_type": "stream",
     "text": [
      "100%|███████████████████████████████████████████████████████████████████████████████████| 3/3 [00:00<00:00, 374.89it/s]\n"
     ]
    },
    {
     "name": "stdout",
     "output_type": "stream",
     "text": [
      "Example target: [1. 0. 0.]\n",
      "Example prediction: [0.5437, 0.2041, 0.2522]\n",
      "Epoch 29 Training Loss: 0.7586 Training Accuracy: 0.7933 Val Loss: 0.752 Val Accuracy: 1.0\n"
     ]
    },
    {
     "name": "stderr",
     "output_type": "stream",
     "text": [
      "100%|███████████████████████████████████████████████████████████████████████████████████| 3/3 [00:00<00:00, 749.88it/s]\n"
     ]
    },
    {
     "name": "stdout",
     "output_type": "stream",
     "text": [
      "Example target: [0. 1. 0.]\n",
      "Example prediction: [0.2768, 0.3869, 0.3363]\n",
      "Epoch 30 Training Loss: 0.7326 Training Accuracy: 0.86 Val Loss: 0.7458 Val Accuracy: 1.0\n"
     ]
    },
    {
     "name": "stderr",
     "output_type": "stream",
     "text": [
      "100%|███████████████████████████████████████████████████████████████████████████████████| 3/3 [00:00<00:00, 374.97it/s]\n"
     ]
    },
    {
     "name": "stdout",
     "output_type": "stream",
     "text": [
      "Example target: [0. 1. 0.]\n",
      "Example prediction: [0.2979, 0.3883, 0.3138]\n",
      "Epoch 31 Training Loss: 0.7658 Training Accuracy: 0.8067 Val Loss: 0.7468 Val Accuracy: 1.0\n"
     ]
    },
    {
     "name": "stderr",
     "output_type": "stream",
     "text": [
      "100%|███████████████████████████████████████████████████████████████████████████████████| 3/3 [00:00<00:00, 374.96it/s]\n"
     ]
    },
    {
     "name": "stdout",
     "output_type": "stream",
     "text": [
      "Example target: [1. 0. 0.]\n",
      "Example prediction: [0.5721, 0.2055, 0.2224]\n",
      "Epoch 32 Training Loss: 0.7473 Training Accuracy: 0.8933 Val Loss: 0.7355 Val Accuracy: 1.0\n"
     ]
    },
    {
     "name": "stderr",
     "output_type": "stream",
     "text": [
      "100%|███████████████████████████████████████████████████████████████████████████████████| 3/3 [00:00<00:00, 750.14it/s]\n"
     ]
    },
    {
     "name": "stdout",
     "output_type": "stream",
     "text": [
      "Example target: [1. 0. 0.]\n",
      "Example prediction: [0.4515, 0.2558, 0.2926]\n",
      "Epoch 33 Training Loss: 0.7462 Training Accuracy: 0.94 Val Loss: 0.7314 Val Accuracy: 1.0\n"
     ]
    },
    {
     "name": "stderr",
     "output_type": "stream",
     "text": [
      "100%|███████████████████████████████████████████████████████████████████████████████████| 3/3 [00:00<00:00, 749.79it/s]\n"
     ]
    },
    {
     "name": "stdout",
     "output_type": "stream",
     "text": [
      "Example target: [1. 0. 0.]\n",
      "Example prediction: [0.5363, 0.2799, 0.1838]\n",
      "Epoch 34 Training Loss: 0.7543 Training Accuracy: 0.88 Val Loss: 0.7326 Val Accuracy: 0.8667\n"
     ]
    },
    {
     "name": "stderr",
     "output_type": "stream",
     "text": [
      "100%|███████████████████████████████████████████████████████████████████████████████████| 3/3 [00:00<00:00, 749.96it/s]\n"
     ]
    },
    {
     "name": "stdout",
     "output_type": "stream",
     "text": [
      "Example target: [1. 0. 0.]\n",
      "Example prediction: [0.5002, 0.2865, 0.2132]\n",
      "Epoch 35 Training Loss: 0.7433 Training Accuracy: 0.88 Val Loss: 0.7255 Val Accuracy: 1.0\n"
     ]
    },
    {
     "name": "stderr",
     "output_type": "stream",
     "text": [
      "100%|███████████████████████████████████████████████████████████████████████████████████| 3/3 [00:00<00:00, 374.93it/s]\n"
     ]
    },
    {
     "name": "stdout",
     "output_type": "stream",
     "text": [
      "Example target: [1. 0. 0.]\n",
      "Example prediction: [0.5094, 0.2475, 0.243]\n",
      "Epoch 36 Training Loss: 0.7378 Training Accuracy: 0.88 Val Loss: 0.7234 Val Accuracy: 1.0\n"
     ]
    },
    {
     "name": "stderr",
     "output_type": "stream",
     "text": [
      "100%|████████████████████████████████████████████████████████████████████████████████████████████| 3/3 [00:00<?, ?it/s]\n"
     ]
    },
    {
     "name": "stdout",
     "output_type": "stream",
     "text": [
      "Example target: [0. 0. 1.]\n",
      "Example prediction: [0.1931, 0.3802, 0.4267]\n",
      "Epoch 37 Training Loss: 0.7171 Training Accuracy: 0.8533 Val Loss: 0.7217 Val Accuracy: 1.0\n"
     ]
    },
    {
     "name": "stderr",
     "output_type": "stream",
     "text": [
      "100%|███████████████████████████████████████████████████████████████████████████████████| 3/3 [00:00<00:00, 374.98it/s]\n"
     ]
    },
    {
     "name": "stdout",
     "output_type": "stream",
     "text": [
      "Example target: [0. 0. 1.]\n",
      "Example prediction: [0.1605, 0.3826, 0.4569]\n",
      "Epoch 38 Training Loss: 0.7311 Training Accuracy: 0.86 Val Loss: 0.7216 Val Accuracy: 1.0\n"
     ]
    },
    {
     "name": "stderr",
     "output_type": "stream",
     "text": [
      "100%|███████████████████████████████████████████████████████████████████████████████████| 3/3 [00:00<00:00, 749.83it/s]\n"
     ]
    },
    {
     "name": "stdout",
     "output_type": "stream",
     "text": [
      "Example target: [1. 0. 0.]\n",
      "Example prediction: [0.4489, 0.2658, 0.2853]\n",
      "Epoch 39 Training Loss: 0.7403 Training Accuracy: 0.7867 Val Loss: 0.717 Val Accuracy: 1.0\n"
     ]
    },
    {
     "name": "stderr",
     "output_type": "stream",
     "text": [
      "100%|███████████████████████████████████████████████████████████████████████████████████| 3/3 [00:00<00:00, 752.84it/s]\n"
     ]
    },
    {
     "name": "stdout",
     "output_type": "stream",
     "text": [
      "Example target: [0. 0. 1.]\n",
      "Example prediction: [0.1598, 0.3929, 0.4473]\n",
      "Epoch 40 Training Loss: 0.6965 Training Accuracy: 0.9467 Val Loss: 0.7144 Val Accuracy: 1.0\n"
     ]
    },
    {
     "name": "stderr",
     "output_type": "stream",
     "text": [
      "100%|███████████████████████████████████████████████████████████████████████████████████| 3/3 [00:00<00:00, 374.37it/s]\n"
     ]
    },
    {
     "name": "stdout",
     "output_type": "stream",
     "text": [
      "Example target: [1. 0. 0.]\n",
      "Example prediction: [0.4945, 0.2918, 0.2137]\n",
      "Epoch 41 Training Loss: 0.6643 Training Accuracy: 0.9133 Val Loss: 0.7112 Val Accuracy: 1.0\n"
     ]
    },
    {
     "name": "stderr",
     "output_type": "stream",
     "text": [
      "100%|███████████████████████████████████████████████████████████████████████████████████| 3/3 [00:00<00:00, 375.00it/s]\n"
     ]
    },
    {
     "name": "stdout",
     "output_type": "stream",
     "text": [
      "Example target: [0. 1. 0.]\n",
      "Example prediction: [0.2537, 0.4114, 0.3349]\n",
      "Epoch 42 Training Loss: 0.6618 Training Accuracy: 0.8867 Val Loss: 0.7044 Val Accuracy: 1.0\n"
     ]
    },
    {
     "name": "stderr",
     "output_type": "stream",
     "text": [
      "100%|███████████████████████████████████████████████████████████████████████████████████| 3/3 [00:00<00:00, 750.19it/s]\n"
     ]
    },
    {
     "name": "stdout",
     "output_type": "stream",
     "text": [
      "Example target: [0. 1. 0.]\n",
      "Example prediction: [0.2845, 0.4002, 0.3152]\n",
      "Epoch 43 Training Loss: 0.7058 Training Accuracy: 0.8333 Val Loss: 0.7013 Val Accuracy: 1.0\n"
     ]
    },
    {
     "name": "stderr",
     "output_type": "stream",
     "text": [
      "100%|███████████████████████████████████████████████████████████████████████████████████| 3/3 [00:00<00:00, 749.74it/s]\n"
     ]
    },
    {
     "name": "stdout",
     "output_type": "stream",
     "text": [
      "Example target: [1. 0. 0.]\n",
      "Example prediction: [0.4589, 0.2599, 0.2812]\n",
      "Epoch 44 Training Loss: 0.6943 Training Accuracy: 0.7867 Val Loss: 0.6963 Val Accuracy: 1.0\n"
     ]
    },
    {
     "name": "stderr",
     "output_type": "stream",
     "text": [
      "100%|███████████████████████████████████████████████████████████████████████████████████| 3/3 [00:00<00:00, 749.74it/s]\n"
     ]
    },
    {
     "name": "stdout",
     "output_type": "stream",
     "text": [
      "Example target: [1. 0. 0.]\n",
      "Example prediction: [0.5128, 0.2856, 0.2016]\n",
      "Epoch 45 Training Loss: 0.6756 Training Accuracy: 0.8867 Val Loss: 0.6893 Val Accuracy: 1.0\n"
     ]
    },
    {
     "name": "stderr",
     "output_type": "stream",
     "text": [
      "100%|███████████████████████████████████████████████████████████████████████████████████| 3/3 [00:00<00:00, 750.01it/s]\n"
     ]
    },
    {
     "name": "stdout",
     "output_type": "stream",
     "text": [
      "Example target: [0. 0. 1.]\n",
      "Example prediction: [0.1449, 0.3708, 0.4843]\n",
      "Epoch 46 Training Loss: 0.6852 Training Accuracy: 0.8267 Val Loss: 0.6896 Val Accuracy: 1.0\n"
     ]
    },
    {
     "name": "stderr",
     "output_type": "stream",
     "text": [
      "100%|███████████████████████████████████████████████████████████████████████████████████| 3/3 [00:00<00:00, 374.95it/s]\n"
     ]
    },
    {
     "name": "stdout",
     "output_type": "stream",
     "text": [
      "Example target: [1. 0. 0.]\n",
      "Example prediction: [0.5446, 0.2734, 0.1821]\n",
      "Epoch 47 Training Loss: 0.6818 Training Accuracy: 0.8733 Val Loss: 0.6833 Val Accuracy: 1.0\n"
     ]
    },
    {
     "name": "stderr",
     "output_type": "stream",
     "text": [
      "100%|███████████████████████████████████████████████████████████████████████████████████| 3/3 [00:00<00:00, 750.10it/s]\n"
     ]
    },
    {
     "name": "stdout",
     "output_type": "stream",
     "text": [
      "Example target: [1. 0. 0.]\n",
      "Example prediction: [0.4777, 0.2602, 0.2622]\n",
      "Epoch 48 Training Loss: 0.7049 Training Accuracy: 0.8133 Val Loss: 0.6802 Val Accuracy: 1.0\n"
     ]
    },
    {
     "name": "stderr",
     "output_type": "stream",
     "text": [
      "100%|███████████████████████████████████████████████████████████████████████████████████| 3/3 [00:00<00:00, 750.10it/s]\n"
     ]
    },
    {
     "name": "stdout",
     "output_type": "stream",
     "text": [
      "Example target: [0. 0. 1.]\n",
      "Example prediction: [0.1773, 0.3673, 0.4554]\n",
      "Epoch 49 Training Loss: 0.636 Training Accuracy: 0.8867 Val Loss: 0.6688 Val Accuracy: 1.0\n"
     ]
    },
    {
     "name": "stderr",
     "output_type": "stream",
     "text": [
      "100%|███████████████████████████████████████████████████████████████████████████████████| 3/3 [00:00<00:00, 374.93it/s]\n"
     ]
    },
    {
     "name": "stdout",
     "output_type": "stream",
     "text": [
      "Example target: [0. 0. 1.]\n",
      "Example prediction: [0.1699, 0.366, 0.4641]\n",
      "Epoch 50 Training Loss: 0.6707 Training Accuracy: 0.8867 Val Loss: 0.6695 Val Accuracy: 1.0\n"
     ]
    },
    {
     "name": "stderr",
     "output_type": "stream",
     "text": [
      "100%|███████████████████████████████████████████████████████████████████████████████████| 3/3 [00:00<00:00, 375.03it/s]\n"
     ]
    },
    {
     "name": "stdout",
     "output_type": "stream",
     "text": [
      "Example target: [1. 0. 0.]\n",
      "Example prediction: [0.5271, 0.2807, 0.1922]\n",
      "Epoch 51 Training Loss: 0.6487 Training Accuracy: 0.8867 Val Loss: 0.6659 Val Accuracy: 1.0\n"
     ]
    },
    {
     "name": "stderr",
     "output_type": "stream",
     "text": [
      "100%|███████████████████████████████████████████████████████████████████████████████████| 3/3 [00:00<00:00, 749.96it/s]\n"
     ]
    },
    {
     "name": "stdout",
     "output_type": "stream",
     "text": [
      "Example target: [0. 1. 0.]\n",
      "Example prediction: [0.2489, 0.4078, 0.3432]\n",
      "Epoch 52 Training Loss: 0.6845 Training Accuracy: 0.8667 Val Loss: 0.6647 Val Accuracy: 1.0\n"
     ]
    },
    {
     "name": "stderr",
     "output_type": "stream",
     "text": [
      "100%|███████████████████████████████████████████████████████████████████████████████████| 3/3 [00:00<00:00, 750.01it/s]\n"
     ]
    },
    {
     "name": "stdout",
     "output_type": "stream",
     "text": [
      "Example target: [1. 0. 0.]\n",
      "Example prediction: [0.5249, 0.2993, 0.1758]\n",
      "Epoch 53 Training Loss: 0.672 Training Accuracy: 0.8067 Val Loss: 0.6637 Val Accuracy: 1.0\n"
     ]
    },
    {
     "name": "stderr",
     "output_type": "stream",
     "text": [
      "100%|███████████████████████████████████████████████████████████████████████████████████| 3/3 [00:00<00:00, 750.05it/s]\n"
     ]
    },
    {
     "name": "stdout",
     "output_type": "stream",
     "text": [
      "Example target: [1. 0. 0.]\n",
      "Example prediction: [0.5585, 0.2356, 0.2059]\n",
      "Epoch 54 Training Loss: 0.6408 Training Accuracy: 0.8867 Val Loss: 0.6555 Val Accuracy: 1.0\n"
     ]
    },
    {
     "name": "stderr",
     "output_type": "stream",
     "text": [
      "100%|███████████████████████████████████████████████████████████████████████████████████| 3/3 [00:00<00:00, 749.96it/s]\n"
     ]
    },
    {
     "name": "stdout",
     "output_type": "stream",
     "text": [
      "Example target: [0. 1. 0.]\n",
      "Example prediction: [0.2617, 0.3863, 0.3519]\n",
      "Epoch 55 Training Loss: 0.6485 Training Accuracy: 0.86 Val Loss: 0.6498 Val Accuracy: 1.0\n"
     ]
    },
    {
     "name": "stderr",
     "output_type": "stream",
     "text": [
      "100%|███████████████████████████████████████████████████████████████████████████████████| 3/3 [00:00<00:00, 374.95it/s]\n"
     ]
    },
    {
     "name": "stdout",
     "output_type": "stream",
     "text": [
      "Example target: [1. 0. 0.]\n",
      "Example prediction: [0.575, 0.2563, 0.1687]\n",
      "Epoch 56 Training Loss: 0.6859 Training Accuracy: 0.74 Val Loss: 0.6483 Val Accuracy: 1.0\n"
     ]
    },
    {
     "name": "stderr",
     "output_type": "stream",
     "text": [
      "100%|███████████████████████████████████████████████████████████████████████████████████| 3/3 [00:00<00:00, 749.92it/s]\n"
     ]
    },
    {
     "name": "stdout",
     "output_type": "stream",
     "text": [
      "Example target: [1. 0. 0.]\n",
      "Example prediction: [0.5986, 0.2737, 0.1277]\n",
      "Epoch 57 Training Loss: 0.7066 Training Accuracy: 0.7467 Val Loss: 0.6512 Val Accuracy: 1.0\n"
     ]
    },
    {
     "name": "stderr",
     "output_type": "stream",
     "text": [
      "100%|███████████████████████████████████████████████████████████████████████████████████| 3/3 [00:00<00:00, 375.02it/s]\n"
     ]
    },
    {
     "name": "stdout",
     "output_type": "stream",
     "text": [
      "Example target: [0. 0. 1.]\n",
      "Example prediction: [0.1577, 0.3693, 0.4729]\n",
      "Epoch 58 Training Loss: 0.6489 Training Accuracy: 0.8333 Val Loss: 0.6453 Val Accuracy: 1.0\n"
     ]
    },
    {
     "name": "stderr",
     "output_type": "stream",
     "text": [
      "100%|███████████████████████████████████████████████████████████████████████████████████| 3/3 [00:00<00:00, 547.77it/s]\n"
     ]
    },
    {
     "name": "stdout",
     "output_type": "stream",
     "text": [
      "Example target: [1. 0. 0.]\n",
      "Example prediction: [0.5158, 0.2541, 0.2301]\n",
      "Epoch 59 Training Loss: 0.6617 Training Accuracy: 0.88 Val Loss: 0.6409 Val Accuracy: 1.0\n"
     ]
    },
    {
     "name": "stderr",
     "output_type": "stream",
     "text": [
      "100%|███████████████████████████████████████████████████████████████████████████████████| 3/3 [00:00<00:00, 749.34it/s]\n"
     ]
    },
    {
     "name": "stdout",
     "output_type": "stream",
     "text": [
      "Example target: [1. 0. 0.]\n",
      "Example prediction: [0.5108, 0.2637, 0.2255]\n",
      "Epoch 60 Training Loss: 0.685 Training Accuracy: 0.88 Val Loss: 0.6448 Val Accuracy: 1.0\n"
     ]
    },
    {
     "name": "stderr",
     "output_type": "stream",
     "text": [
      "100%|███████████████████████████████████████████████████████████████████████████████████| 3/3 [00:00<00:00, 749.56it/s]\n"
     ]
    },
    {
     "name": "stdout",
     "output_type": "stream",
     "text": [
      "Example target: [1. 0. 0.]\n",
      "Example prediction: [0.5755, 0.2707, 0.1539]\n",
      "Epoch 61 Training Loss: 0.703 Training Accuracy: 0.7733 Val Loss: 0.6469 Val Accuracy: 1.0\n"
     ]
    },
    {
     "name": "stderr",
     "output_type": "stream",
     "text": [
      "100%|███████████████████████████████████████████████████████████████████████████████████| 3/3 [00:00<00:00, 749.96it/s]\n"
     ]
    },
    {
     "name": "stdout",
     "output_type": "stream",
     "text": [
      "Example target: [1. 0. 0.]\n",
      "Example prediction: [0.5731, 0.2849, 0.142]\n",
      "Epoch 62 Training Loss: 0.696 Training Accuracy: 0.82 Val Loss: 0.6488 Val Accuracy: 1.0\n"
     ]
    },
    {
     "name": "stderr",
     "output_type": "stream",
     "text": [
      "100%|███████████████████████████████████████████████████████████████████████████████████| 3/3 [00:00<00:00, 375.02it/s]\n"
     ]
    },
    {
     "name": "stdout",
     "output_type": "stream",
     "text": [
      "Example target: [1. 0. 0.]\n",
      "Example prediction: [0.5781, 0.2829, 0.139]\n",
      "Epoch 63 Training Loss: 0.6623 Training Accuracy: 0.9467 Val Loss: 0.6445 Val Accuracy: 1.0\n"
     ]
    },
    {
     "name": "stderr",
     "output_type": "stream",
     "text": [
      "100%|███████████████████████████████████████████████████████████████████████████████████| 3/3 [00:00<00:00, 374.56it/s]\n"
     ]
    },
    {
     "name": "stdout",
     "output_type": "stream",
     "text": [
      "Example target: [0. 0. 1.]\n",
      "Example prediction: [0.0635, 0.2984, 0.6381]\n",
      "Epoch 64 Training Loss: 0.648 Training Accuracy: 0.94 Val Loss: 0.6365 Val Accuracy: 1.0\n"
     ]
    },
    {
     "name": "stderr",
     "output_type": "stream",
     "text": [
      "100%|████████████████████████████████████████████████████████████████████████████████████████████| 3/3 [00:00<?, ?it/s]\n"
     ]
    },
    {
     "name": "stdout",
     "output_type": "stream",
     "text": [
      "Example target: [0. 0. 1.]\n",
      "Example prediction: [0.1216, 0.3912, 0.4872]\n",
      "Epoch 65 Training Loss: 0.6632 Training Accuracy: 0.8867 Val Loss: 0.6345 Val Accuracy: 1.0\n"
     ]
    },
    {
     "name": "stderr",
     "output_type": "stream",
     "text": [
      "100%|███████████████████████████████████████████████████████████████████████████████████| 3/3 [00:00<00:00, 374.94it/s]\n"
     ]
    },
    {
     "name": "stdout",
     "output_type": "stream",
     "text": [
      "Example target: [0. 1. 0.]\n",
      "Example prediction: [0.2595, 0.4214, 0.3191]\n",
      "Epoch 66 Training Loss: 0.63 Training Accuracy: 0.9533 Val Loss: 0.6272 Val Accuracy: 1.0\n"
     ]
    },
    {
     "name": "stderr",
     "output_type": "stream",
     "text": [
      "100%|███████████████████████████████████████████████████████████████████████████████████| 3/3 [00:00<00:00, 749.83it/s]\n"
     ]
    },
    {
     "name": "stdout",
     "output_type": "stream",
     "text": [
      "Example target: [0. 1. 0.]\n",
      "Example prediction: [0.2625, 0.4256, 0.3119]\n",
      "Epoch 67 Training Loss: 0.6614 Training Accuracy: 0.82 Val Loss: 0.6248 Val Accuracy: 1.0\n"
     ]
    },
    {
     "name": "stderr",
     "output_type": "stream",
     "text": [
      "100%|███████████████████████████████████████████████████████████████████████████████████| 3/3 [00:00<00:00, 374.98it/s]\n"
     ]
    },
    {
     "name": "stdout",
     "output_type": "stream",
     "text": [
      "Example target: [0. 0. 1.]\n",
      "Example prediction: [0.1287, 0.4217, 0.4496]\n",
      "Epoch 68 Training Loss: 0.677 Training Accuracy: 0.8867 Val Loss: 0.6267 Val Accuracy: 1.0\n"
     ]
    },
    {
     "name": "stderr",
     "output_type": "stream",
     "text": [
      "100%|███████████████████████████████████████████████████████████████████████████████████| 3/3 [00:00<00:00, 375.02it/s]\n"
     ]
    },
    {
     "name": "stdout",
     "output_type": "stream",
     "text": [
      "Example target: [0. 0. 1.]\n",
      "Example prediction: [0.1288, 0.4242, 0.447]\n",
      "Epoch 69 Training Loss: 0.6522 Training Accuracy: 0.9533 Val Loss: 0.6238 Val Accuracy: 1.0\n"
     ]
    },
    {
     "name": "stderr",
     "output_type": "stream",
     "text": [
      "100%|███████████████████████████████████████████████████████████████████████████████████| 3/3 [00:00<00:00, 749.74it/s]\n"
     ]
    },
    {
     "name": "stdout",
     "output_type": "stream",
     "text": [
      "Example target: [0. 1. 0.]\n",
      "Example prediction: [0.2559, 0.4313, 0.3128]\n",
      "Epoch 70 Training Loss: 0.6513 Training Accuracy: 0.8933 Val Loss: 0.6209 Val Accuracy: 1.0\n"
     ]
    },
    {
     "name": "stderr",
     "output_type": "stream",
     "text": [
      "100%|███████████████████████████████████████████████████████████████████████████████████| 3/3 [00:00<00:00, 749.83it/s]\n"
     ]
    },
    {
     "name": "stdout",
     "output_type": "stream",
     "text": [
      "Example target: [0. 0. 1.]\n",
      "Example prediction: [0.0591, 0.2977, 0.6432]\n",
      "Epoch 71 Training Loss: 0.637 Training Accuracy: 0.9467 Val Loss: 0.6182 Val Accuracy: 1.0\n"
     ]
    },
    {
     "name": "stderr",
     "output_type": "stream",
     "text": [
      "100%|███████████████████████████████████████████████████████████████████████████████████| 3/3 [00:00<00:00, 750.19it/s]\n"
     ]
    },
    {
     "name": "stdout",
     "output_type": "stream",
     "text": [
      "Example target: [0. 1. 0.]\n",
      "Example prediction: [0.2499, 0.4112, 0.339]\n",
      "Epoch 72 Training Loss: 0.5798 Training Accuracy: 0.9467 Val Loss: 0.6087 Val Accuracy: 1.0\n"
     ]
    },
    {
     "name": "stderr",
     "output_type": "stream",
     "text": [
      "100%|███████████████████████████████████████████████████████████████████████████████████| 3/3 [00:00<00:00, 749.74it/s]\n"
     ]
    },
    {
     "name": "stdout",
     "output_type": "stream",
     "text": [
      "Example target: [1. 0. 0.]\n",
      "Example prediction: [0.6796, 0.1914, 0.129]\n",
      "Epoch 73 Training Loss: 0.6541 Training Accuracy: 0.8267 Val Loss: 0.6073 Val Accuracy: 1.0\n"
     ]
    },
    {
     "name": "stderr",
     "output_type": "stream",
     "text": [
      "100%|███████████████████████████████████████████████████████████████████████████████████| 3/3 [00:00<00:00, 750.14it/s]\n"
     ]
    },
    {
     "name": "stdout",
     "output_type": "stream",
     "text": [
      "Example target: [0. 1. 0.]\n",
      "Example prediction: [0.2303, 0.4111, 0.3586]\n",
      "Epoch 74 Training Loss: 0.594 Training Accuracy: 0.8933 Val Loss: 0.5999 Val Accuracy: 1.0\n"
     ]
    },
    {
     "name": "stderr",
     "output_type": "stream",
     "text": [
      "100%|███████████████████████████████████████████████████████████████████████████████████| 3/3 [00:00<00:00, 374.54it/s]\n"
     ]
    },
    {
     "name": "stdout",
     "output_type": "stream",
     "text": [
      "Example target: [1. 0. 0.]\n",
      "Example prediction: [0.6126, 0.2472, 0.1402]\n",
      "Epoch 75 Training Loss: 0.6133 Training Accuracy: 0.86 Val Loss: 0.5958 Val Accuracy: 1.0\n"
     ]
    },
    {
     "name": "stderr",
     "output_type": "stream",
     "text": [
      "100%|███████████████████████████████████████████████████████████████████████████████████| 3/3 [00:00<00:00, 750.28it/s]\n"
     ]
    },
    {
     "name": "stdout",
     "output_type": "stream",
     "text": [
      "Example target: [1. 0. 0.]\n",
      "Example prediction: [0.6123, 0.2512, 0.1365]\n",
      "Epoch 76 Training Loss: 0.5743 Training Accuracy: 0.8667 Val Loss: 0.5895 Val Accuracy: 1.0\n"
     ]
    },
    {
     "name": "stderr",
     "output_type": "stream",
     "text": [
      "100%|███████████████████████████████████████████████████████████████████████████████████| 3/3 [00:00<00:00, 374.97it/s]\n"
     ]
    },
    {
     "name": "stdout",
     "output_type": "stream",
     "text": [
      "Example target: [0. 1. 0.]\n",
      "Example prediction: [0.2669, 0.4132, 0.3199]\n",
      "Epoch 77 Training Loss: 0.6802 Training Accuracy: 0.7333 Val Loss: 0.5963 Val Accuracy: 1.0\n"
     ]
    },
    {
     "name": "stderr",
     "output_type": "stream",
     "text": [
      "100%|███████████████████████████████████████████████████████████████████████████████████| 3/3 [00:00<00:00, 749.52it/s]\n"
     ]
    },
    {
     "name": "stdout",
     "output_type": "stream",
     "text": [
      "Example target: [1. 0. 0.]\n",
      "Example prediction: [0.6091, 0.2614, 0.1295]\n",
      "Epoch 78 Training Loss: 0.6167 Training Accuracy: 0.84 Val Loss: 0.592 Val Accuracy: 1.0\n"
     ]
    },
    {
     "name": "stderr",
     "output_type": "stream",
     "text": [
      "100%|███████████████████████████████████████████████████████████████████████████████████| 3/3 [00:00<00:00, 374.96it/s]\n"
     ]
    },
    {
     "name": "stdout",
     "output_type": "stream",
     "text": [
      "Example target: [0. 1. 0.]\n",
      "Example prediction: [0.2735, 0.4179, 0.3085]\n",
      "Epoch 79 Training Loss: 0.6459 Training Accuracy: 0.76 Val Loss: 0.59 Val Accuracy: 1.0\n"
     ]
    },
    {
     "name": "stderr",
     "output_type": "stream",
     "text": [
      "100%|███████████████████████████████████████████████████████████████████████████████████| 3/3 [00:00<00:00, 750.01it/s]\n"
     ]
    },
    {
     "name": "stdout",
     "output_type": "stream",
     "text": [
      "Example target: [1. 0. 0.]\n",
      "Example prediction: [0.5938, 0.2683, 0.1378]\n",
      "Epoch 80 Training Loss: 0.5883 Training Accuracy: 0.9333 Val Loss: 0.5814 Val Accuracy: 1.0\n"
     ]
    },
    {
     "name": "stderr",
     "output_type": "stream",
     "text": [
      "100%|███████████████████████████████████████████████████████████████████████████████████| 3/3 [00:00<00:00, 749.88it/s]\n"
     ]
    },
    {
     "name": "stdout",
     "output_type": "stream",
     "text": [
      "Example target: [1. 0. 0.]\n",
      "Example prediction: [0.585, 0.2886, 0.1264]\n",
      "Epoch 81 Training Loss: 0.652 Training Accuracy: 0.8333 Val Loss: 0.5851 Val Accuracy: 1.0\n"
     ]
    },
    {
     "name": "stderr",
     "output_type": "stream",
     "text": [
      "100%|███████████████████████████████████████████████████████████████████████████████████| 3/3 [00:00<00:00, 749.61it/s]\n"
     ]
    },
    {
     "name": "stdout",
     "output_type": "stream",
     "text": [
      "Example target: [0. 0. 1.]\n",
      "Example prediction: [0.1077, 0.3648, 0.5275]\n",
      "Epoch 82 Training Loss: 0.5795 Training Accuracy: 0.86 Val Loss: 0.5816 Val Accuracy: 1.0\n"
     ]
    },
    {
     "name": "stderr",
     "output_type": "stream",
     "text": [
      "100%|███████████████████████████████████████████████████████████████████████████████████| 3/3 [00:00<00:00, 750.01it/s]\n"
     ]
    },
    {
     "name": "stdout",
     "output_type": "stream",
     "text": [
      "Example target: [1. 0. 0.]\n",
      "Example prediction: [0.5948, 0.2896, 0.1156]\n",
      "Epoch 83 Training Loss: 0.6562 Training Accuracy: 0.88 Val Loss: 0.5849 Val Accuracy: 1.0\n"
     ]
    },
    {
     "name": "stderr",
     "output_type": "stream",
     "text": [
      "100%|███████████████████████████████████████████████████████████████████████████████████| 3/3 [00:00<00:00, 750.01it/s]\n"
     ]
    },
    {
     "name": "stdout",
     "output_type": "stream",
     "text": [
      "Example target: [0. 1. 0.]\n",
      "Example prediction: [0.2884, 0.4318, 0.2798]\n",
      "Epoch 84 Training Loss: 0.6045 Training Accuracy: 0.9467 Val Loss: 0.5795 Val Accuracy: 1.0\n"
     ]
    },
    {
     "name": "stderr",
     "output_type": "stream",
     "text": [
      "100%|███████████████████████████████████████████████████████████████████████████████████| 3/3 [00:00<00:00, 749.83it/s]\n"
     ]
    },
    {
     "name": "stdout",
     "output_type": "stream",
     "text": [
      "Example target: [1. 0. 0.]\n",
      "Example prediction: [0.6144, 0.2362, 0.1495]\n",
      "Epoch 85 Training Loss: 0.5674 Training Accuracy: 0.9533 Val Loss: 0.5691 Val Accuracy: 1.0\n"
     ]
    },
    {
     "name": "stderr",
     "output_type": "stream",
     "text": [
      "100%|███████████████████████████████████████████████████████████████████████████████████| 3/3 [00:00<00:00, 402.10it/s]\n"
     ]
    },
    {
     "name": "stdout",
     "output_type": "stream",
     "text": [
      "Example target: [1. 0. 0.]\n",
      "Example prediction: [0.6507, 0.2394, 0.1099]\n",
      "Epoch 86 Training Loss: 0.5846 Training Accuracy: 0.94 Val Loss: 0.5613 Val Accuracy: 1.0\n"
     ]
    },
    {
     "name": "stderr",
     "output_type": "stream",
     "text": [
      "100%|███████████████████████████████████████████████████████████████████████████████████| 3/3 [00:00<00:00, 750.05it/s]\n"
     ]
    },
    {
     "name": "stdout",
     "output_type": "stream",
     "text": [
      "Example target: [1. 0. 0.]\n",
      "Example prediction: [0.6524, 0.2378, 0.1099]\n",
      "Epoch 87 Training Loss: 0.6012 Training Accuracy: 0.8933 Val Loss: 0.5581 Val Accuracy: 1.0\n"
     ]
    },
    {
     "name": "stderr",
     "output_type": "stream",
     "text": [
      "100%|███████████████████████████████████████████████████████████████████████████████████| 3/3 [00:00<00:00, 750.10it/s]\n"
     ]
    },
    {
     "name": "stdout",
     "output_type": "stream",
     "text": [
      "Example target: [1. 0. 0.]\n",
      "Example prediction: [0.6601, 0.2304, 0.1095]\n",
      "Epoch 88 Training Loss: 0.5972 Training Accuracy: 0.82 Val Loss: 0.559 Val Accuracy: 1.0\n"
     ]
    },
    {
     "name": "stderr",
     "output_type": "stream",
     "text": [
      "100%|███████████████████████████████████████████████████████████████████████████████████| 3/3 [00:00<00:00, 749.92it/s]\n"
     ]
    },
    {
     "name": "stdout",
     "output_type": "stream",
     "text": [
      "Example target: [0. 1. 0.]\n",
      "Example prediction: [0.2792, 0.4023, 0.3185]\n",
      "Epoch 89 Training Loss: 0.5931 Training Accuracy: 0.8467 Val Loss: 0.5556 Val Accuracy: 1.0\n"
     ]
    },
    {
     "name": "stderr",
     "output_type": "stream",
     "text": [
      "100%|███████████████████████████████████████████████████████████████████████████████████| 3/3 [00:00<00:00, 750.19it/s]\n"
     ]
    },
    {
     "name": "stdout",
     "output_type": "stream",
     "text": [
      "Example target: [0. 1. 0.]\n",
      "Example prediction: [0.2502, 0.4476, 0.3022]\n",
      "Epoch 90 Training Loss: 0.6492 Training Accuracy: 0.7667 Val Loss: 0.5606 Val Accuracy: 1.0\n"
     ]
    },
    {
     "name": "stderr",
     "output_type": "stream",
     "text": [
      "100%|███████████████████████████████████████████████████████████████████████████████████| 3/3 [00:00<00:00, 191.99it/s]\n"
     ]
    },
    {
     "name": "stdout",
     "output_type": "stream",
     "text": [
      "Example target: [1. 0. 0.]\n",
      "Example prediction: [0.6562, 0.2338, 0.11]\n",
      "Epoch 91 Training Loss: 0.5937 Training Accuracy: 0.88 Val Loss: 0.5558 Val Accuracy: 1.0\n"
     ]
    },
    {
     "name": "stderr",
     "output_type": "stream",
     "text": [
      "100%|███████████████████████████████████████████████████████████████████████████████████| 3/3 [00:00<00:00, 979.29it/s]\n"
     ]
    },
    {
     "name": "stdout",
     "output_type": "stream",
     "text": [
      "Example target: [0. 1. 0.]\n",
      "Example prediction: [0.2355, 0.4233, 0.3411]\n",
      "Epoch 92 Training Loss: 0.5698 Training Accuracy: 0.8933 Val Loss: 0.5526 Val Accuracy: 1.0\n"
     ]
    },
    {
     "name": "stderr",
     "output_type": "stream",
     "text": [
      "100%|███████████████████████████████████████████████████████████████████████████████████| 3/3 [00:00<00:00, 374.99it/s]\n"
     ]
    },
    {
     "name": "stdout",
     "output_type": "stream",
     "text": [
      "Example target: [1. 0. 0.]\n",
      "Example prediction: [0.6593, 0.255, 0.0857]\n",
      "Epoch 93 Training Loss: 0.6773 Training Accuracy: 0.7067 Val Loss: 0.5604 Val Accuracy: 1.0\n"
     ]
    },
    {
     "name": "stderr",
     "output_type": "stream",
     "text": [
      "100%|███████████████████████████████████████████████████████████████████████████████████| 3/3 [00:00<00:00, 971.50it/s]\n"
     ]
    },
    {
     "name": "stdout",
     "output_type": "stream",
     "text": [
      "Example target: [0. 0. 1.]\n",
      "Example prediction: [0.0479, 0.2764, 0.6756]\n",
      "Epoch 94 Training Loss: 0.6375 Training Accuracy: 0.8667 Val Loss: 0.5588 Val Accuracy: 1.0\n"
     ]
    },
    {
     "name": "stderr",
     "output_type": "stream",
     "text": [
      "100%|███████████████████████████████████████████████████████████████████████████████████| 3/3 [00:00<00:00, 374.99it/s]\n"
     ]
    },
    {
     "name": "stdout",
     "output_type": "stream",
     "text": [
      "Example target: [0. 0. 1.]\n",
      "Example prediction: [0.0968, 0.395, 0.5082]\n",
      "Epoch 95 Training Loss: 0.605 Training Accuracy: 0.9133 Val Loss: 0.558 Val Accuracy: 1.0\n"
     ]
    },
    {
     "name": "stderr",
     "output_type": "stream",
     "text": [
      "100%|███████████████████████████████████████████████████████████████████████████████████| 3/3 [00:00<00:00, 749.96it/s]\n"
     ]
    },
    {
     "name": "stdout",
     "output_type": "stream",
     "text": [
      "Example target: [1. 0. 0.]\n",
      "Example prediction: [0.6531, 0.2651, 0.0818]\n",
      "Epoch 96 Training Loss: 0.6438 Training Accuracy: 0.94 Val Loss: 0.5653 Val Accuracy: 1.0\n"
     ]
    },
    {
     "name": "stderr",
     "output_type": "stream",
     "text": [
      "100%|███████████████████████████████████████████████████████████████████████████████████| 3/3 [00:00<00:00, 375.06it/s]\n"
     ]
    },
    {
     "name": "stdout",
     "output_type": "stream",
     "text": [
      "Example target: [1. 0. 0.]\n",
      "Example prediction: [0.6593, 0.2321, 0.1086]\n",
      "Epoch 97 Training Loss: 0.6135 Training Accuracy: 0.8933 Val Loss: 0.5626 Val Accuracy: 1.0\n"
     ]
    },
    {
     "name": "stderr",
     "output_type": "stream",
     "text": [
      "100%|███████████████████████████████████████████████████████████████████████████████████| 3/3 [00:00<00:00, 750.01it/s]\n"
     ]
    },
    {
     "name": "stdout",
     "output_type": "stream",
     "text": [
      "Example target: [0. 0. 1.]\n",
      "Example prediction: [0.0888, 0.392, 0.5192]\n",
      "Epoch 98 Training Loss: 0.5764 Training Accuracy: 0.9533 Val Loss: 0.5563 Val Accuracy: 1.0\n"
     ]
    },
    {
     "name": "stderr",
     "output_type": "stream",
     "text": [
      "100%|███████████████████████████████████████████████████████████████████████████████████| 3/3 [00:00<00:00, 578.68it/s]\n"
     ]
    },
    {
     "name": "stdout",
     "output_type": "stream",
     "text": [
      "Example target: [0. 0. 1.]\n",
      "Example prediction: [0.1097, 0.3923, 0.4979]\n",
      "Epoch 99 Training Loss: 0.5851 Training Accuracy: 0.94 Val Loss: 0.5559 Val Accuracy: 1.0\n",
      "Test Loss: 0.6053 Test Accuracy: 0.8667\n"
     ]
    }
   ],
   "source": [
    "\n",
    "hidden_layer_size=10\n",
    "lr=1e-3\n",
    "model_name = \"two_layer_NN_10l_1e-3\"\n",
    "%run -i train_ffnn.py"
   ]
  },
  {
   "cell_type": "code",
   "execution_count": 8,
   "metadata": {},
   "outputs": [
    {
     "name": "stdout",
     "output_type": "stream",
     "text": [
      "Training two_layer_NN_10l_1e-2 neural network on iris with SGD for 100 epochs...\n",
      "Optimizer:\n",
      "{'name': 'SGD', 'lr': 0.01, 'lr_scheduler': 'exponential', 'lr_decay': 0.99, 'stage_length': 1000, 'staircase': False, 'clip_norm': None, 'momentum': 0}\n"
     ]
    },
    {
     "name": "stderr",
     "output_type": "stream",
     "text": [
      "100%|███████████████████████████████████████████████████████████████████████████████████| 3/3 [00:00<00:00, 125.00it/s]\n"
     ]
    },
    {
     "name": "stdout",
     "output_type": "stream",
     "text": [
      "Example target: [1. 0. 0.]\n",
      "Example prediction: [0.6128, 0.1498, 0.2374]\n",
      "Epoch 0 Training Loss: 1.8771 Training Accuracy: 0.4 Val Loss: 0.8066 Val Accuracy: 0.6667\n"
     ]
    },
    {
     "name": "stderr",
     "output_type": "stream",
     "text": [
      "100%|███████████████████████████████████████████████████████████████████████████████████| 3/3 [00:00<00:00, 749.88it/s]\n"
     ]
    },
    {
     "name": "stdout",
     "output_type": "stream",
     "text": [
      "Example target: [1. 0. 0.]\n",
      "Example prediction: [0.4965, 0.2764, 0.2271]\n",
      "Epoch 1 Training Loss: 0.8586 Training Accuracy: 0.62 Val Loss: 0.8086 Val Accuracy: 0.8667\n"
     ]
    },
    {
     "name": "stderr",
     "output_type": "stream",
     "text": [
      "100%|███████████████████████████████████████████████████████████████████████████████████| 3/3 [00:00<00:00, 750.01it/s]\n"
     ]
    },
    {
     "name": "stdout",
     "output_type": "stream",
     "text": [
      "Example target: [0. 1. 0.]\n",
      "Example prediction: [0.1493, 0.2235, 0.6272]\n",
      "Epoch 2 Training Loss: 0.7297 Training Accuracy: 0.8733 Val Loss: 0.8899 Val Accuracy: 0.4\n"
     ]
    },
    {
     "name": "stderr",
     "output_type": "stream",
     "text": [
      "100%|███████████████████████████████████████████████████████████████████████████████████| 3/3 [00:00<00:00, 750.05it/s]\n"
     ]
    },
    {
     "name": "stdout",
     "output_type": "stream",
     "text": [
      "Example target: [1. 0. 0.]\n",
      "Example prediction: [0.4583, 0.2674, 0.2743]\n",
      "Epoch 3 Training Loss: 0.8014 Training Accuracy: 0.7133 Val Loss: 0.746 Val Accuracy: 0.7333\n"
     ]
    },
    {
     "name": "stderr",
     "output_type": "stream",
     "text": [
      "100%|███████████████████████████████████████████████████████████████████████████████████| 3/3 [00:00<00:00, 749.47it/s]\n"
     ]
    },
    {
     "name": "stdout",
     "output_type": "stream",
     "text": [
      "Example target: [1. 0. 0.]\n",
      "Example prediction: [0.5398, 0.2665, 0.1937]\n",
      "Epoch 4 Training Loss: 0.7119 Training Accuracy: 0.7333 Val Loss: 0.6963 Val Accuracy: 0.8667\n"
     ]
    },
    {
     "name": "stderr",
     "output_type": "stream",
     "text": [
      "100%|███████████████████████████████████████████████████████████████████████████████████| 3/3 [00:00<00:00, 750.19it/s]\n"
     ]
    },
    {
     "name": "stdout",
     "output_type": "stream",
     "text": [
      "Example target: [1. 0. 0.]\n",
      "Example prediction: [0.6006, 0.2391, 0.1603]\n",
      "Epoch 5 Training Loss: 0.6653 Training Accuracy: 0.92 Val Loss: 0.6298 Val Accuracy: 1.0\n"
     ]
    },
    {
     "name": "stderr",
     "output_type": "stream",
     "text": [
      "100%|███████████████████████████████████████████████████████████████████████████████████| 3/3 [00:00<00:00, 749.92it/s]\n"
     ]
    },
    {
     "name": "stdout",
     "output_type": "stream",
     "text": [
      "Example target: [0. 0. 1.]\n",
      "Example prediction: [0.2116, 0.3282, 0.4602]\n",
      "Epoch 6 Training Loss: 0.6276 Training Accuracy: 0.82 Val Loss: 0.5795 Val Accuracy: 0.8\n"
     ]
    },
    {
     "name": "stderr",
     "output_type": "stream",
     "text": [
      "100%|███████████████████████████████████████████████████████████████████████████████████| 3/3 [00:00<00:00, 750.05it/s]\n"
     ]
    },
    {
     "name": "stdout",
     "output_type": "stream",
     "text": [
      "Example target: [1. 0. 0.]\n",
      "Example prediction: [0.6952, 0.2003, 0.1045]\n",
      "Epoch 7 Training Loss: 0.622 Training Accuracy: 0.78 Val Loss: 0.5538 Val Accuracy: 1.0\n"
     ]
    },
    {
     "name": "stderr",
     "output_type": "stream",
     "text": [
      "100%|███████████████████████████████████████████████████████████████████████████████████| 3/3 [00:00<00:00, 343.68it/s]\n"
     ]
    },
    {
     "name": "stdout",
     "output_type": "stream",
     "text": [
      "Example target: [1. 0. 0.]\n",
      "Example prediction: [0.6973, 0.2092, 0.0935]\n",
      "Epoch 8 Training Loss: 0.6123 Training Accuracy: 0.8667 Val Loss: 0.5353 Val Accuracy: 0.8\n"
     ]
    },
    {
     "name": "stderr",
     "output_type": "stream",
     "text": [
      "100%|███████████████████████████████████████████████████████████████████████████████████| 3/3 [00:00<00:00, 375.05it/s]\n"
     ]
    },
    {
     "name": "stdout",
     "output_type": "stream",
     "text": [
      "Example target: [1. 0. 0.]\n",
      "Example prediction: [0.8037, 0.1453, 0.0511]\n",
      "Epoch 9 Training Loss: 0.5768 Training Accuracy: 0.8533 Val Loss: 0.5163 Val Accuracy: 0.8\n"
     ]
    },
    {
     "name": "stderr",
     "output_type": "stream",
     "text": [
      "100%|███████████████████████████████████████████████████████████████████████████████████| 3/3 [00:00<00:00, 749.25it/s]\n"
     ]
    },
    {
     "name": "stdout",
     "output_type": "stream",
     "text": [
      "Example target: [1. 0. 0.]\n",
      "Example prediction: [0.6585, 0.2382, 0.1033]\n",
      "Epoch 10 Training Loss: 0.63 Training Accuracy: 0.8067 Val Loss: 0.5073 Val Accuracy: 1.0\n"
     ]
    },
    {
     "name": "stderr",
     "output_type": "stream",
     "text": [
      "100%|███████████████████████████████████████████████████████████████████████████████████| 3/3 [00:00<00:00, 750.14it/s]\n"
     ]
    },
    {
     "name": "stdout",
     "output_type": "stream",
     "text": [
      "Example target: [0. 0. 1.]\n",
      "Example prediction: [0.0786, 0.2576, 0.6638]\n",
      "Epoch 11 Training Loss: 0.5541 Training Accuracy: 0.8667 Val Loss: 0.4955 Val Accuracy: 0.8\n"
     ]
    },
    {
     "name": "stderr",
     "output_type": "stream",
     "text": [
      "100%|███████████████████████████████████████████████████████████████████████████████████| 3/3 [00:00<00:00, 750.05it/s]\n"
     ]
    },
    {
     "name": "stdout",
     "output_type": "stream",
     "text": [
      "Example target: [1. 0. 0.]\n",
      "Example prediction: [0.6509, 0.304, 0.0451]\n",
      "Epoch 12 Training Loss: 0.6327 Training Accuracy: 0.7133 Val Loss: 0.6845 Val Accuracy: 0.7333\n"
     ]
    },
    {
     "name": "stderr",
     "output_type": "stream",
     "text": [
      "100%|███████████████████████████████████████████████████████████████████████████████████| 3/3 [00:00<00:00, 375.14it/s]\n"
     ]
    },
    {
     "name": "stdout",
     "output_type": "stream",
     "text": [
      "Example target: [0. 0. 1.]\n",
      "Example prediction: [0.0623, 0.4432, 0.4944]\n",
      "Epoch 13 Training Loss: 0.6007 Training Accuracy: 0.8667 Val Loss: 0.5003 Val Accuracy: 1.0\n"
     ]
    },
    {
     "name": "stderr",
     "output_type": "stream",
     "text": [
      "100%|███████████████████████████████████████████████████████████████████████████████████| 3/3 [00:00<00:00, 749.74it/s]\n"
     ]
    },
    {
     "name": "stdout",
     "output_type": "stream",
     "text": [
      "Example target: [0. 1. 0.]\n",
      "Example prediction: [0.251, 0.4966, 0.2524]\n",
      "Epoch 14 Training Loss: 0.555 Training Accuracy: 0.9 Val Loss: 0.4885 Val Accuracy: 0.8667\n"
     ]
    },
    {
     "name": "stderr",
     "output_type": "stream",
     "text": [
      "100%|███████████████████████████████████████████████████████████████████████████████████| 3/3 [00:00<00:00, 749.79it/s]\n"
     ]
    },
    {
     "name": "stdout",
     "output_type": "stream",
     "text": [
      "Example target: [1. 0. 0.]\n",
      "Example prediction: [0.7186, 0.2291, 0.0523]\n",
      "Epoch 15 Training Loss: 0.5269 Training Accuracy: 0.9667 Val Loss: 0.4603 Val Accuracy: 1.0\n"
     ]
    },
    {
     "name": "stderr",
     "output_type": "stream",
     "text": [
      "100%|███████████████████████████████████████████████████████████████████████████████████| 3/3 [00:00<00:00, 750.14it/s]\n"
     ]
    },
    {
     "name": "stdout",
     "output_type": "stream",
     "text": [
      "Example target: [1. 0. 0.]\n",
      "Example prediction: [0.8173, 0.1382, 0.0445]\n",
      "Epoch 16 Training Loss: 0.5217 Training Accuracy: 0.82 Val Loss: 0.4276 Val Accuracy: 1.0\n"
     ]
    },
    {
     "name": "stderr",
     "output_type": "stream",
     "text": [
      "100%|███████████████████████████████████████████████████████████████████████████████████| 3/3 [00:00<00:00, 749.79it/s]\n"
     ]
    },
    {
     "name": "stdout",
     "output_type": "stream",
     "text": [
      "Example target: [0. 0. 1.]\n",
      "Example prediction: [0.0607, 0.4825, 0.4567]\n",
      "Epoch 17 Training Loss: 0.5107 Training Accuracy: 0.8667 Val Loss: 0.4572 Val Accuracy: 0.8667\n"
     ]
    },
    {
     "name": "stderr",
     "output_type": "stream",
     "text": [
      "100%|███████████████████████████████████████████████████████████████████████████████████| 3/3 [00:00<00:00, 749.61it/s]\n"
     ]
    },
    {
     "name": "stdout",
     "output_type": "stream",
     "text": [
      "Example target: [0. 1. 0.]\n",
      "Example prediction: [0.2122, 0.5849, 0.2029]\n",
      "Epoch 18 Training Loss: 0.5255 Training Accuracy: 0.8867 Val Loss: 0.4571 Val Accuracy: 0.8\n"
     ]
    },
    {
     "name": "stderr",
     "output_type": "stream",
     "text": [
      "100%|███████████████████████████████████████████████████████████████████████████████████| 3/3 [00:00<00:00, 749.74it/s]\n"
     ]
    },
    {
     "name": "stdout",
     "output_type": "stream",
     "text": [
      "Example target: [0. 1. 0.]\n",
      "Example prediction: [0.2294, 0.4517, 0.3189]\n",
      "Epoch 19 Training Loss: 0.4653 Training Accuracy: 0.96 Val Loss: 0.4024 Val Accuracy: 1.0\n"
     ]
    },
    {
     "name": "stderr",
     "output_type": "stream",
     "text": [
      "100%|███████████████████████████████████████████████████████████████████████████████████| 3/3 [00:00<00:00, 749.96it/s]\n"
     ]
    },
    {
     "name": "stdout",
     "output_type": "stream",
     "text": [
      "Example target: [1. 0. 0.]\n",
      "Example prediction: [0.7523, 0.2086, 0.0391]\n",
      "Epoch 20 Training Loss: 0.4768 Training Accuracy: 0.92 Val Loss: 0.4401 Val Accuracy: 0.8\n"
     ]
    },
    {
     "name": "stderr",
     "output_type": "stream",
     "text": [
      "100%|███████████████████████████████████████████████████████████████████████████████████| 3/3 [00:00<00:00, 375.03it/s]\n"
     ]
    },
    {
     "name": "stdout",
     "output_type": "stream",
     "text": [
      "Example target: [0. 1. 0.]\n",
      "Example prediction: [0.1835, 0.6727, 0.1438]\n",
      "Epoch 21 Training Loss: 0.5339 Training Accuracy: 0.8933 Val Loss: 0.5817 Val Accuracy: 0.7333\n"
     ]
    },
    {
     "name": "stderr",
     "output_type": "stream",
     "text": [
      "100%|███████████████████████████████████████████████████████████████████████████████████| 3/3 [00:00<00:00, 750.14it/s]\n"
     ]
    },
    {
     "name": "stdout",
     "output_type": "stream",
     "text": [
      "Example target: [0. 0. 1.]\n",
      "Example prediction: [0.0363, 0.4841, 0.4796]\n",
      "Epoch 22 Training Loss: 0.5298 Training Accuracy: 0.7933 Val Loss: 0.4234 Val Accuracy: 0.8667\n"
     ]
    },
    {
     "name": "stderr",
     "output_type": "stream",
     "text": [
      "100%|███████████████████████████████████████████████████████████████████████████████████| 3/3 [00:00<00:00, 750.05it/s]\n"
     ]
    },
    {
     "name": "stdout",
     "output_type": "stream",
     "text": [
      "Example target: [0. 1. 0.]\n",
      "Example prediction: [0.2051, 0.4525, 0.3424]\n",
      "Epoch 23 Training Loss: 0.4404 Training Accuracy: 0.9667 Val Loss: 0.3692 Val Accuracy: 1.0\n"
     ]
    },
    {
     "name": "stderr",
     "output_type": "stream",
     "text": [
      "100%|███████████████████████████████████████████████████████████████████████████████████| 3/3 [00:00<00:00, 749.83it/s]\n"
     ]
    },
    {
     "name": "stdout",
     "output_type": "stream",
     "text": [
      "Example target: [0. 0. 1.]\n",
      "Example prediction: [0.0231, 0.5101, 0.4669]\n",
      "Epoch 24 Training Loss: 0.4832 Training Accuracy: 0.84 Val Loss: 0.477 Val Accuracy: 0.7333\n"
     ]
    },
    {
     "name": "stderr",
     "output_type": "stream",
     "text": [
      "100%|███████████████████████████████████████████████████████████████████████████████████| 3/3 [00:00<00:00, 749.96it/s]\n"
     ]
    },
    {
     "name": "stdout",
     "output_type": "stream",
     "text": [
      "Example target: [1. 0. 0.]\n",
      "Example prediction: [0.8228, 0.1612, 0.016]\n",
      "Epoch 25 Training Loss: 0.5294 Training Accuracy: 0.8333 Val Loss: 0.4614 Val Accuracy: 0.8\n"
     ]
    },
    {
     "name": "stderr",
     "output_type": "stream",
     "text": [
      "100%|███████████████████████████████████████████████████████████████████████████████████| 3/3 [00:00<00:00, 749.79it/s]\n"
     ]
    },
    {
     "name": "stdout",
     "output_type": "stream",
     "text": [
      "Example target: [1. 0. 0.]\n",
      "Example prediction: [0.7758, 0.1954, 0.0288]\n",
      "Epoch 26 Training Loss: 0.491 Training Accuracy: 0.9267 Val Loss: 0.4035 Val Accuracy: 1.0\n"
     ]
    },
    {
     "name": "stderr",
     "output_type": "stream",
     "text": [
      "100%|███████████████████████████████████████████████████████████████████████████████████| 3/3 [00:00<00:00, 749.65it/s]\n"
     ]
    },
    {
     "name": "stdout",
     "output_type": "stream",
     "text": [
      "Example target: [1. 0. 0.]\n",
      "Example prediction: [0.7478, 0.1703, 0.0819]\n",
      "Epoch 27 Training Loss: 0.461 Training Accuracy: 0.9133 Val Loss: 0.4501 Val Accuracy: 0.8\n"
     ]
    },
    {
     "name": "stderr",
     "output_type": "stream",
     "text": [
      "100%|███████████████████████████████████████████████████████████████████████████████████| 3/3 [00:00<00:00, 375.03it/s]\n"
     ]
    },
    {
     "name": "stdout",
     "output_type": "stream",
     "text": [
      "Example target: [0. 1. 0.]\n",
      "Example prediction: [0.1129, 0.5949, 0.2922]\n",
      "Epoch 28 Training Loss: 0.6011 Training Accuracy: 0.7867 Val Loss: 0.3722 Val Accuracy: 1.0\n"
     ]
    },
    {
     "name": "stderr",
     "output_type": "stream",
     "text": [
      "100%|███████████████████████████████████████████████████████████████████████████████████| 3/3 [00:00<00:00, 749.47it/s]\n"
     ]
    },
    {
     "name": "stdout",
     "output_type": "stream",
     "text": [
      "Example target: [1. 0. 0.]\n",
      "Example prediction: [0.9, 0.0907, 0.0093]\n",
      "Epoch 29 Training Loss: 0.4452 Training Accuracy: 0.92 Val Loss: 0.3798 Val Accuracy: 1.0\n"
     ]
    },
    {
     "name": "stderr",
     "output_type": "stream",
     "text": [
      "100%|███████████████████████████████████████████████████████████████████████████████████| 3/3 [00:00<00:00, 749.96it/s]\n"
     ]
    },
    {
     "name": "stdout",
     "output_type": "stream",
     "text": [
      "Example target: [0. 1. 0.]\n",
      "Example prediction: [0.1518, 0.521, 0.3272]\n",
      "Epoch 30 Training Loss: 0.4356 Training Accuracy: 0.8933 Val Loss: 0.3322 Val Accuracy: 1.0\n"
     ]
    },
    {
     "name": "stderr",
     "output_type": "stream",
     "text": [
      "100%|███████████████████████████████████████████████████████████████████████████████████| 3/3 [00:00<00:00, 749.47it/s]\n"
     ]
    },
    {
     "name": "stdout",
     "output_type": "stream",
     "text": [
      "Example target: [0. 1. 0.]\n",
      "Example prediction: [0.1851, 0.6122, 0.2028]\n",
      "Epoch 31 Training Loss: 0.4434 Training Accuracy: 0.9333 Val Loss: 0.3933 Val Accuracy: 0.8\n"
     ]
    },
    {
     "name": "stderr",
     "output_type": "stream",
     "text": [
      "100%|███████████████████████████████████████████████████████████████████████████████████| 3/3 [00:00<00:00, 750.41it/s]\n"
     ]
    },
    {
     "name": "stdout",
     "output_type": "stream",
     "text": [
      "Example target: [1. 0. 0.]\n",
      "Example prediction: [0.9294, 0.0649, 0.0058]\n",
      "Epoch 32 Training Loss: 0.3956 Training Accuracy: 0.9267 Val Loss: 0.3611 Val Accuracy: 0.9333\n"
     ]
    },
    {
     "name": "stderr",
     "output_type": "stream",
     "text": [
      "100%|███████████████████████████████████████████████████████████████████████████████████| 3/3 [00:00<00:00, 749.52it/s]\n"
     ]
    },
    {
     "name": "stdout",
     "output_type": "stream",
     "text": [
      "Example target: [1. 0. 0.]\n",
      "Example prediction: [0.878, 0.1128, 0.0092]\n",
      "Epoch 33 Training Loss: 0.4195 Training Accuracy: 0.9 Val Loss: 0.3836 Val Accuracy: 0.8\n"
     ]
    },
    {
     "name": "stderr",
     "output_type": "stream",
     "text": [
      "100%|███████████████████████████████████████████████████████████████████████████████████| 3/3 [00:00<00:00, 749.47it/s]\n"
     ]
    },
    {
     "name": "stdout",
     "output_type": "stream",
     "text": [
      "Example target: [1. 0. 0.]\n",
      "Example prediction: [0.828, 0.1621, 0.0099]\n",
      "Epoch 34 Training Loss: 0.4336 Training Accuracy: 0.9 Val Loss: 0.4343 Val Accuracy: 0.7333\n"
     ]
    },
    {
     "name": "stderr",
     "output_type": "stream",
     "text": [
      "100%|███████████████████████████████████████████████████████████████████████████████████| 3/3 [00:00<00:00, 374.96it/s]\n"
     ]
    },
    {
     "name": "stdout",
     "output_type": "stream",
     "text": [
      "Example target: [1. 0. 0.]\n",
      "Example prediction: [0.8264, 0.1454, 0.0282]\n",
      "Epoch 35 Training Loss: 0.4645 Training Accuracy: 0.8467 Val Loss: 0.3064 Val Accuracy: 0.9333\n"
     ]
    },
    {
     "name": "stderr",
     "output_type": "stream",
     "text": [
      "100%|████████████████████████████████████████████████████████████████████████████████████████████| 3/3 [00:00<?, ?it/s]\n"
     ]
    },
    {
     "name": "stdout",
     "output_type": "stream",
     "text": [
      "Example target: [1. 0. 0.]\n",
      "Example prediction: [0.8975, 0.0938, 0.0087]\n",
      "Epoch 36 Training Loss: 0.4576 Training Accuracy: 0.8067 Val Loss: 0.3199 Val Accuracy: 1.0\n"
     ]
    },
    {
     "name": "stderr",
     "output_type": "stream",
     "text": [
      "100%|███████████████████████████████████████████████████████████████████████████████████| 3/3 [00:00<00:00, 749.88it/s]\n"
     ]
    },
    {
     "name": "stdout",
     "output_type": "stream",
     "text": [
      "Example target: [0. 0. 1.]\n",
      "Example prediction: [0.0236, 0.398, 0.5784]\n",
      "Epoch 37 Training Loss: 0.405 Training Accuracy: 0.96 Val Loss: 0.3194 Val Accuracy: 1.0\n"
     ]
    },
    {
     "name": "stderr",
     "output_type": "stream",
     "text": [
      "100%|███████████████████████████████████████████████████████████████████████████████████| 3/3 [00:00<00:00, 375.00it/s]\n"
     ]
    },
    {
     "name": "stdout",
     "output_type": "stream",
     "text": [
      "Example target: [0. 0. 1.]\n",
      "Example prediction: [0.0113, 0.3061, 0.6826]\n",
      "Epoch 38 Training Loss: 0.4291 Training Accuracy: 0.98 Val Loss: 0.3057 Val Accuracy: 1.0\n"
     ]
    },
    {
     "name": "stderr",
     "output_type": "stream",
     "text": [
      "100%|███████████████████████████████████████████████████████████████████████████████████| 3/3 [00:00<00:00, 750.19it/s]\n"
     ]
    },
    {
     "name": "stdout",
     "output_type": "stream",
     "text": [
      "Example target: [1. 0. 0.]\n",
      "Example prediction: [0.8718, 0.1206, 0.0075]\n",
      "Epoch 39 Training Loss: 0.4014 Training Accuracy: 0.88 Val Loss: 0.3549 Val Accuracy: 0.8\n"
     ]
    },
    {
     "name": "stderr",
     "output_type": "stream",
     "text": [
      "100%|███████████████████████████████████████████████████████████████████████████████████| 3/3 [00:00<00:00, 749.47it/s]\n"
     ]
    },
    {
     "name": "stdout",
     "output_type": "stream",
     "text": [
      "Example target: [0. 0. 1.]\n",
      "Example prediction: [0.0125, 0.3718, 0.6157]\n",
      "Epoch 40 Training Loss: 0.379 Training Accuracy: 0.96 Val Loss: 0.3113 Val Accuracy: 1.0\n"
     ]
    },
    {
     "name": "stderr",
     "output_type": "stream",
     "text": [
      "100%|███████████████████████████████████████████████████████████████████████████████████| 3/3 [00:00<00:00, 750.50it/s]\n"
     ]
    },
    {
     "name": "stdout",
     "output_type": "stream",
     "text": [
      "Example target: [1. 0. 0.]\n",
      "Example prediction: [0.8269, 0.1514, 0.0216]\n",
      "Epoch 41 Training Loss: 0.4078 Training Accuracy: 0.9333 Val Loss: 0.2877 Val Accuracy: 1.0\n"
     ]
    },
    {
     "name": "stderr",
     "output_type": "stream",
     "text": [
      "100%|███████████████████████████████████████████████████████████████████████████████████| 3/3 [00:00<00:00, 749.96it/s]\n"
     ]
    },
    {
     "name": "stdout",
     "output_type": "stream",
     "text": [
      "Example target: [0. 1. 0.]\n",
      "Example prediction: [0.1276, 0.6253, 0.2471]\n",
      "Epoch 42 Training Loss: 0.3577 Training Accuracy: 0.9067 Val Loss: 0.2967 Val Accuracy: 1.0\n"
     ]
    },
    {
     "name": "stderr",
     "output_type": "stream",
     "text": [
      "100%|███████████████████████████████████████████████████████████████████████████████████| 3/3 [00:00<00:00, 374.92it/s]\n"
     ]
    },
    {
     "name": "stdout",
     "output_type": "stream",
     "text": [
      "Example target: [0. 1. 0.]\n",
      "Example prediction: [0.1787, 0.6067, 0.2146]\n",
      "Epoch 43 Training Loss: 0.3757 Training Accuracy: 0.9667 Val Loss: 0.315 Val Accuracy: 1.0\n"
     ]
    },
    {
     "name": "stderr",
     "output_type": "stream",
     "text": [
      "100%|███████████████████████████████████████████████████████████████████████████████████| 3/3 [00:00<00:00, 750.10it/s]\n"
     ]
    },
    {
     "name": "stdout",
     "output_type": "stream",
     "text": [
      "Example target: [1. 0. 0.]\n",
      "Example prediction: [0.9031, 0.0882, 0.0087]\n",
      "Epoch 44 Training Loss: 0.3913 Training Accuracy: 0.9133 Val Loss: 0.2751 Val Accuracy: 1.0\n"
     ]
    },
    {
     "name": "stderr",
     "output_type": "stream",
     "text": [
      "100%|███████████████████████████████████████████████████████████████████████████████████| 3/3 [00:00<00:00, 750.55it/s]\n"
     ]
    },
    {
     "name": "stdout",
     "output_type": "stream",
     "text": [
      "Example target: [1. 0. 0.]\n",
      "Example prediction: [0.8506, 0.137, 0.0124]\n",
      "Epoch 45 Training Loss: 0.3427 Training Accuracy: 0.92 Val Loss: 0.2823 Val Accuracy: 1.0\n"
     ]
    },
    {
     "name": "stderr",
     "output_type": "stream",
     "text": [
      "100%|███████████████████████████████████████████████████████████████████████████████████| 3/3 [00:00<00:00, 373.64it/s]\n"
     ]
    },
    {
     "name": "stdout",
     "output_type": "stream",
     "text": [
      "Example target: [0. 0. 1.]\n",
      "Example prediction: [0.0091, 0.3124, 0.6785]\n",
      "Epoch 46 Training Loss: 0.3888 Training Accuracy: 0.96 Val Loss: 0.2819 Val Accuracy: 1.0\n"
     ]
    },
    {
     "name": "stderr",
     "output_type": "stream",
     "text": [
      "100%|███████████████████████████████████████████████████████████████████████████████████| 3/3 [00:00<00:00, 375.00it/s]\n"
     ]
    },
    {
     "name": "stdout",
     "output_type": "stream",
     "text": [
      "Example target: [1. 0. 0.]\n",
      "Example prediction: [0.8788, 0.1121, 0.0091]\n",
      "Epoch 47 Training Loss: 0.3591 Training Accuracy: 0.9667 Val Loss: 0.2671 Val Accuracy: 1.0\n"
     ]
    },
    {
     "name": "stderr",
     "output_type": "stream",
     "text": [
      "100%|███████████████████████████████████████████████████████████████████████████████████| 3/3 [00:00<00:00, 750.14it/s]\n"
     ]
    },
    {
     "name": "stdout",
     "output_type": "stream",
     "text": [
      "Example target: [1. 0. 0.]\n",
      "Example prediction: [0.9042, 0.0909, 0.0049]\n",
      "Epoch 48 Training Loss: 0.3742 Training Accuracy: 0.9333 Val Loss: 0.2883 Val Accuracy: 1.0\n"
     ]
    },
    {
     "name": "stderr",
     "output_type": "stream",
     "text": [
      "100%|███████████████████████████████████████████████████████████████████████████████████| 3/3 [00:00<00:00, 750.05it/s]\n"
     ]
    },
    {
     "name": "stdout",
     "output_type": "stream",
     "text": [
      "Example target: [0. 0. 1.]\n",
      "Example prediction: [0.0186, 0.3227, 0.6587]\n",
      "Epoch 49 Training Loss: 0.2934 Training Accuracy: 0.98 Val Loss: 0.2642 Val Accuracy: 1.0\n"
     ]
    },
    {
     "name": "stderr",
     "output_type": "stream",
     "text": [
      "100%|███████████████████████████████████████████████████████████████████████████████████| 3/3 [00:00<00:00, 749.96it/s]\n"
     ]
    },
    {
     "name": "stdout",
     "output_type": "stream",
     "text": [
      "Example target: [0. 0. 1.]\n",
      "Example prediction: [0.0152, 0.3201, 0.6648]\n",
      "Epoch 50 Training Loss: 0.3762 Training Accuracy: 0.96 Val Loss: 0.2636 Val Accuracy: 1.0\n"
     ]
    },
    {
     "name": "stderr",
     "output_type": "stream",
     "text": [
      "100%|███████████████████████████████████████████████████████████████████████████████████| 3/3 [00:00<00:00, 750.05it/s]\n"
     ]
    },
    {
     "name": "stdout",
     "output_type": "stream",
     "text": [
      "Example target: [1. 0. 0.]\n",
      "Example prediction: [0.8597, 0.1281, 0.0122]\n",
      "Epoch 51 Training Loss: 0.3481 Training Accuracy: 0.9533 Val Loss: 0.2558 Val Accuracy: 1.0\n"
     ]
    },
    {
     "name": "stderr",
     "output_type": "stream",
     "text": [
      "100%|███████████████████████████████████████████████████████████████████████████████████| 3/3 [00:00<00:00, 750.19it/s]\n"
     ]
    },
    {
     "name": "stdout",
     "output_type": "stream",
     "text": [
      "Example target: [0. 1. 0.]\n",
      "Example prediction: [0.107, 0.6406, 0.2524]\n",
      "Epoch 52 Training Loss: 0.3741 Training Accuracy: 0.9 Val Loss: 0.2637 Val Accuracy: 1.0\n"
     ]
    },
    {
     "name": "stderr",
     "output_type": "stream",
     "text": [
      "100%|███████████████████████████████████████████████████████████████████████████████████| 3/3 [00:00<00:00, 749.88it/s]\n"
     ]
    },
    {
     "name": "stdout",
     "output_type": "stream",
     "text": [
      "Example target: [1. 0. 0.]\n",
      "Example prediction: [0.831, 0.1605, 0.0085]\n",
      "Epoch 53 Training Loss: 0.3523 Training Accuracy: 0.9467 Val Loss: 0.2748 Val Accuracy: 1.0\n"
     ]
    },
    {
     "name": "stderr",
     "output_type": "stream",
     "text": [
      "100%|███████████████████████████████████████████████████████████████████████████████████| 3/3 [00:00<00:00, 375.04it/s]\n"
     ]
    },
    {
     "name": "stdout",
     "output_type": "stream",
     "text": [
      "Example target: [1. 0. 0.]\n",
      "Example prediction: [0.9394, 0.0563, 0.0043]\n",
      "Epoch 54 Training Loss: 0.3378 Training Accuracy: 0.92 Val Loss: 0.2547 Val Accuracy: 1.0\n"
     ]
    },
    {
     "name": "stderr",
     "output_type": "stream",
     "text": [
      "100%|███████████████████████████████████████████████████████████████████████████████████| 3/3 [00:00<00:00, 749.92it/s]\n"
     ]
    },
    {
     "name": "stdout",
     "output_type": "stream",
     "text": [
      "Example target: [0. 1. 0.]\n",
      "Example prediction: [0.1569, 0.5726, 0.2705]\n",
      "Epoch 55 Training Loss: 0.3416 Training Accuracy: 0.8733 Val Loss: 0.2536 Val Accuracy: 1.0\n"
     ]
    },
    {
     "name": "stderr",
     "output_type": "stream",
     "text": [
      "100%|███████████████████████████████████████████████████████████████████████████████████| 3/3 [00:00<00:00, 373.76it/s]\n"
     ]
    },
    {
     "name": "stdout",
     "output_type": "stream",
     "text": [
      "Example target: [1. 0. 0.]\n",
      "Example prediction: [0.9044, 0.0919, 0.0037]\n",
      "Epoch 56 Training Loss: 0.3565 Training Accuracy: 0.96 Val Loss: 0.2717 Val Accuracy: 1.0\n"
     ]
    },
    {
     "name": "stderr",
     "output_type": "stream",
     "text": [
      "100%|███████████████████████████████████████████████████████████████████████████████████| 3/3 [00:00<00:00, 749.74it/s]\n"
     ]
    },
    {
     "name": "stdout",
     "output_type": "stream",
     "text": [
      "Example target: [1. 0. 0.]\n",
      "Example prediction: [0.8542, 0.1409, 0.0049]\n",
      "Epoch 57 Training Loss: 0.3873 Training Accuracy: 0.9667 Val Loss: 0.2849 Val Accuracy: 1.0\n"
     ]
    },
    {
     "name": "stderr",
     "output_type": "stream",
     "text": [
      "100%|███████████████████████████████████████████████████████████████████████████████████| 3/3 [00:00<00:00, 749.88it/s]\n"
     ]
    },
    {
     "name": "stdout",
     "output_type": "stream",
     "text": [
      "Example target: [0. 0. 1.]\n",
      "Example prediction: [0.0117, 0.3312, 0.6571]\n",
      "Epoch 58 Training Loss: 0.3188 Training Accuracy: 0.9733 Val Loss: 0.2489 Val Accuracy: 1.0\n"
     ]
    },
    {
     "name": "stderr",
     "output_type": "stream",
     "text": [
      "100%|███████████████████████████████████████████████████████████████████████████████████| 3/3 [00:00<00:00, 750.05it/s]\n"
     ]
    },
    {
     "name": "stdout",
     "output_type": "stream",
     "text": [
      "Example target: [1. 0. 0.]\n",
      "Example prediction: [0.9301, 0.0664, 0.0035]\n",
      "Epoch 59 Training Loss: 0.3558 Training Accuracy: 0.8933 Val Loss: 0.236 Val Accuracy: 1.0\n"
     ]
    },
    {
     "name": "stderr",
     "output_type": "stream",
     "text": [
      "100%|███████████████████████████████████████████████████████████████████████████████████| 3/3 [00:00<00:00, 749.96it/s]\n"
     ]
    },
    {
     "name": "stdout",
     "output_type": "stream",
     "text": [
      "Example target: [1. 0. 0.]\n",
      "Example prediction: [0.9099, 0.0877, 0.0025]\n",
      "Epoch 60 Training Loss: 0.366 Training Accuracy: 0.84 Val Loss: 0.275 Val Accuracy: 1.0\n"
     ]
    },
    {
     "name": "stderr",
     "output_type": "stream",
     "text": [
      "100%|███████████████████████████████████████████████████████████████████████████████████| 3/3 [00:00<00:00, 750.99it/s]\n"
     ]
    },
    {
     "name": "stdout",
     "output_type": "stream",
     "text": [
      "Example target: [1. 0. 0.]\n",
      "Example prediction: [0.8961, 0.1012, 0.0026]\n",
      "Epoch 61 Training Loss: 0.3745 Training Accuracy: 0.98 Val Loss: 0.3023 Val Accuracy: 0.8667\n"
     ]
    },
    {
     "name": "stderr",
     "output_type": "stream",
     "text": [
      "100%|███████████████████████████████████████████████████████████████████████████████████| 3/3 [00:00<00:00, 305.35it/s]\n"
     ]
    },
    {
     "name": "stdout",
     "output_type": "stream",
     "text": [
      "Example target: [1. 0. 0.]\n",
      "Example prediction: [0.8777, 0.1198, 0.0025]\n",
      "Epoch 62 Training Loss: 0.375 Training Accuracy: 0.9667 Val Loss: 0.3468 Val Accuracy: 0.8\n"
     ]
    },
    {
     "name": "stderr",
     "output_type": "stream",
     "text": [
      "100%|███████████████████████████████████████████████████████████████████████████████████| 3/3 [00:00<00:00, 374.90it/s]\n"
     ]
    },
    {
     "name": "stdout",
     "output_type": "stream",
     "text": [
      "Example target: [1. 0. 0.]\n",
      "Example prediction: [0.8859, 0.1106, 0.0035]\n",
      "Epoch 63 Training Loss: 0.3352 Training Accuracy: 0.92 Val Loss: 0.2596 Val Accuracy: 1.0\n"
     ]
    },
    {
     "name": "stderr",
     "output_type": "stream",
     "text": [
      "100%|███████████████████████████████████████████████████████████████████████████████████| 3/3 [00:00<00:00, 750.01it/s]\n"
     ]
    },
    {
     "name": "stdout",
     "output_type": "stream",
     "text": [
      "Example target: [0. 0. 1.]\n",
      "Example prediction: [0.0036, 0.2112, 0.7852]\n",
      "Epoch 64 Training Loss: 0.3167 Training Accuracy: 0.9733 Val Loss: 0.237 Val Accuracy: 1.0\n"
     ]
    },
    {
     "name": "stderr",
     "output_type": "stream",
     "text": [
      "100%|███████████████████████████████████████████████████████████████████████████████████| 3/3 [00:00<00:00, 374.98it/s]\n"
     ]
    },
    {
     "name": "stdout",
     "output_type": "stream",
     "text": [
      "Example target: [0. 0. 1.]\n",
      "Example prediction: [0.0182, 0.6506, 0.3312]\n",
      "Epoch 65 Training Loss: 0.3317 Training Accuracy: 0.8867 Val Loss: 0.3597 Val Accuracy: 0.7333\n"
     ]
    },
    {
     "name": "stderr",
     "output_type": "stream",
     "text": [
      "100%|███████████████████████████████████████████████████████████████████████████████████| 3/3 [00:00<00:00, 749.74it/s]\n"
     ]
    },
    {
     "name": "stdout",
     "output_type": "stream",
     "text": [
      "Example target: [0. 1. 0.]\n",
      "Example prediction: [0.1416, 0.5547, 0.3037]\n",
      "Epoch 66 Training Loss: 0.3207 Training Accuracy: 0.9067 Val Loss: 0.2212 Val Accuracy: 1.0\n"
     ]
    },
    {
     "name": "stderr",
     "output_type": "stream",
     "text": [
      "100%|███████████████████████████████████████████████████████████████████████████████████| 3/3 [00:00<00:00, 750.10it/s]\n"
     ]
    },
    {
     "name": "stdout",
     "output_type": "stream",
     "text": [
      "Example target: [0. 1. 0.]\n",
      "Example prediction: [0.1524, 0.6962, 0.1514]\n",
      "Epoch 67 Training Loss: 0.3507 Training Accuracy: 0.88 Val Loss: 0.2893 Val Accuracy: 0.8667\n"
     ]
    },
    {
     "name": "stderr",
     "output_type": "stream",
     "text": [
      "100%|███████████████████████████████████████████████████████████████████████████████████| 3/3 [00:00<00:00, 374.96it/s]\n"
     ]
    },
    {
     "name": "stdout",
     "output_type": "stream",
     "text": [
      "Example target: [0. 0. 1.]\n",
      "Example prediction: [0.0064, 0.4951, 0.4985]\n",
      "Epoch 68 Training Loss: 0.3593 Training Accuracy: 0.9133 Val Loss: 0.3034 Val Accuracy: 0.8667\n"
     ]
    },
    {
     "name": "stderr",
     "output_type": "stream",
     "text": [
      "100%|███████████████████████████████████████████████████████████████████████████████████| 3/3 [00:00<00:00, 374.94it/s]\n"
     ]
    },
    {
     "name": "stdout",
     "output_type": "stream",
     "text": [
      "Example target: [0. 0. 1.]\n",
      "Example prediction: [0.0055, 0.383, 0.6114]\n",
      "Epoch 69 Training Loss: 0.3265 Training Accuracy: 0.9733 Val Loss: 0.2559 Val Accuracy: 1.0\n"
     ]
    },
    {
     "name": "stderr",
     "output_type": "stream",
     "text": [
      "100%|███████████████████████████████████████████████████████████████████████████████████| 3/3 [00:00<00:00, 749.96it/s]\n"
     ]
    },
    {
     "name": "stdout",
     "output_type": "stream",
     "text": [
      "Example target: [0. 1. 0.]\n",
      "Example prediction: [0.1337, 0.651, 0.2154]\n",
      "Epoch 70 Training Loss: 0.3531 Training Accuracy: 0.9133 Val Loss: 0.2354 Val Accuracy: 1.0\n"
     ]
    },
    {
     "name": "stderr",
     "output_type": "stream",
     "text": [
      "100%|███████████████████████████████████████████████████████████████████████████████████| 3/3 [00:00<00:00, 750.32it/s]\n"
     ]
    },
    {
     "name": "stdout",
     "output_type": "stream",
     "text": [
      "Example target: [0. 0. 1.]\n",
      "Example prediction: [0.0033, 0.2573, 0.7395]\n",
      "Epoch 71 Training Loss: 0.2939 Training Accuracy: 0.98 Val Loss: 0.2395 Val Accuracy: 1.0\n"
     ]
    },
    {
     "name": "stderr",
     "output_type": "stream",
     "text": [
      "100%|███████████████████████████████████████████████████████████████████████████████████| 3/3 [00:00<00:00, 749.61it/s]\n"
     ]
    },
    {
     "name": "stdout",
     "output_type": "stream",
     "text": [
      "Example target: [0. 1. 0.]\n",
      "Example prediction: [0.1306, 0.5269, 0.3424]\n",
      "Epoch 72 Training Loss: 0.2807 Training Accuracy: 0.98 Val Loss: 0.2107 Val Accuracy: 1.0\n"
     ]
    },
    {
     "name": "stderr",
     "output_type": "stream",
     "text": [
      "100%|███████████████████████████████████████████████████████████████████████████████████| 3/3 [00:00<00:00, 749.88it/s]\n"
     ]
    },
    {
     "name": "stdout",
     "output_type": "stream",
     "text": [
      "Example target: [1. 0. 0.]\n",
      "Example prediction: [0.9688, 0.0307, 0.0006]\n",
      "Epoch 73 Training Loss: 0.3439 Training Accuracy: 0.8933 Val Loss: 0.2191 Val Accuracy: 1.0\n"
     ]
    },
    {
     "name": "stderr",
     "output_type": "stream",
     "text": [
      "100%|███████████████████████████████████████████████████████████████████████████████████| 3/3 [00:00<00:00, 749.83it/s]\n"
     ]
    },
    {
     "name": "stdout",
     "output_type": "stream",
     "text": [
      "Example target: [0. 1. 0.]\n",
      "Example prediction: [0.0869, 0.5051, 0.408]\n",
      "Epoch 74 Training Loss: 0.2942 Training Accuracy: 0.98 Val Loss: 0.2144 Val Accuracy: 1.0\n"
     ]
    },
    {
     "name": "stderr",
     "output_type": "stream",
     "text": [
      "100%|███████████████████████████████████████████████████████████████████████████████████| 3/3 [00:00<00:00, 750.10it/s]\n"
     ]
    },
    {
     "name": "stdout",
     "output_type": "stream",
     "text": [
      "Example target: [1. 0. 0.]\n",
      "Example prediction: [0.9344, 0.064, 0.0016]\n",
      "Epoch 75 Training Loss: 0.3148 Training Accuracy: 0.9067 Val Loss: 0.2104 Val Accuracy: 1.0\n"
     ]
    },
    {
     "name": "stderr",
     "output_type": "stream",
     "text": [
      "100%|███████████████████████████████████████████████████████████████████████████████████| 3/3 [00:00<00:00, 374.99it/s]\n"
     ]
    },
    {
     "name": "stdout",
     "output_type": "stream",
     "text": [
      "Example target: [1. 0. 0.]\n",
      "Example prediction: [0.9258, 0.0717, 0.0025]\n",
      "Epoch 76 Training Loss: 0.2694 Training Accuracy: 0.9467 Val Loss: 0.2027 Val Accuracy: 1.0\n"
     ]
    },
    {
     "name": "stderr",
     "output_type": "stream",
     "text": [
      "100%|███████████████████████████████████████████████████████████████████████████████████| 3/3 [00:00<00:00, 749.88it/s]\n"
     ]
    },
    {
     "name": "stdout",
     "output_type": "stream",
     "text": [
      "Example target: [0. 1. 0.]\n",
      "Example prediction: [0.1319, 0.7558, 0.1123]\n",
      "Epoch 77 Training Loss: 0.3502 Training Accuracy: 0.9267 Val Loss: 0.3035 Val Accuracy: 0.8\n"
     ]
    },
    {
     "name": "stderr",
     "output_type": "stream",
     "text": [
      "100%|███████████████████████████████████████████████████████████████████████████████████| 3/3 [00:00<00:00, 750.23it/s]\n"
     ]
    },
    {
     "name": "stdout",
     "output_type": "stream",
     "text": [
      "Example target: [1. 0. 0.]\n",
      "Example prediction: [0.9126, 0.0852, 0.0022]\n",
      "Epoch 78 Training Loss: 0.3145 Training Accuracy: 0.9467 Val Loss: 0.2028 Val Accuracy: 1.0\n"
     ]
    },
    {
     "name": "stderr",
     "output_type": "stream",
     "text": [
      "100%|███████████████████████████████████████████████████████████████████████████████████| 3/3 [00:00<00:00, 748.98it/s]\n"
     ]
    },
    {
     "name": "stdout",
     "output_type": "stream",
     "text": [
      "Example target: [0. 1. 0.]\n",
      "Example prediction: [0.1497, 0.7295, 0.1208]\n",
      "Epoch 79 Training Loss: 0.2922 Training Accuracy: 0.96 Val Loss: 0.2764 Val Accuracy: 0.8667\n"
     ]
    },
    {
     "name": "stderr",
     "output_type": "stream",
     "text": [
      "100%|███████████████████████████████████████████████████████████████████████████████████| 3/3 [00:00<00:00, 749.79it/s]\n"
     ]
    },
    {
     "name": "stdout",
     "output_type": "stream",
     "text": [
      "Example target: [1. 0. 0.]\n",
      "Example prediction: [0.9143, 0.0828, 0.0029]\n",
      "Epoch 80 Training Loss: 0.2737 Training Accuracy: 0.9667 Val Loss: 0.197 Val Accuracy: 1.0\n"
     ]
    },
    {
     "name": "stderr",
     "output_type": "stream",
     "text": [
      "100%|███████████████████████████████████████████████████████████████████████████████████| 3/3 [00:00<00:00, 375.09it/s]\n"
     ]
    },
    {
     "name": "stdout",
     "output_type": "stream",
     "text": [
      "Example target: [1. 0. 0.]\n",
      "Example prediction: [0.8869, 0.1111, 0.002]\n",
      "Epoch 81 Training Loss: 0.3177 Training Accuracy: 0.9533 Val Loss: 0.2371 Val Accuracy: 1.0\n"
     ]
    },
    {
     "name": "stderr",
     "output_type": "stream",
     "text": [
      "100%|███████████████████████████████████████████████████████████████████████████████████| 3/3 [00:00<00:00, 749.88it/s]\n"
     ]
    },
    {
     "name": "stdout",
     "output_type": "stream",
     "text": [
      "Example target: [0. 0. 1.]\n",
      "Example prediction: [0.0113, 0.4933, 0.4954]\n",
      "Epoch 82 Training Loss: 0.256 Training Accuracy: 0.9667 Val Loss: 0.25 Val Accuracy: 1.0\n"
     ]
    },
    {
     "name": "stderr",
     "output_type": "stream",
     "text": [
      "100%|███████████████████████████████████████████████████████████████████████████████████| 3/3 [00:00<00:00, 750.37it/s]\n"
     ]
    },
    {
     "name": "stdout",
     "output_type": "stream",
     "text": [
      "Example target: [1. 0. 0.]\n",
      "Example prediction: [0.8834, 0.1152, 0.0014]\n",
      "Epoch 83 Training Loss: 0.3115 Training Accuracy: 0.9667 Val Loss: 0.2961 Val Accuracy: 0.8\n"
     ]
    },
    {
     "name": "stderr",
     "output_type": "stream",
     "text": [
      "100%|███████████████████████████████████████████████████████████████████████████████████| 3/3 [00:00<00:00, 750.32it/s]\n"
     ]
    },
    {
     "name": "stdout",
     "output_type": "stream",
     "text": [
      "Example target: [0. 1. 0.]\n",
      "Example prediction: [0.1564, 0.6821, 0.1615]\n",
      "Epoch 84 Training Loss: 0.2556 Training Accuracy: 0.9533 Val Loss: 0.2189 Val Accuracy: 1.0\n"
     ]
    },
    {
     "name": "stderr",
     "output_type": "stream",
     "text": [
      "100%|███████████████████████████████████████████████████████████████████████████████████| 3/3 [00:00<00:00, 750.28it/s]\n"
     ]
    },
    {
     "name": "stdout",
     "output_type": "stream",
     "text": [
      "Example target: [1. 0. 0.]\n",
      "Example prediction: [0.961, 0.0382, 0.0007]\n",
      "Epoch 85 Training Loss: 0.2488 Training Accuracy: 0.98 Val Loss: 0.1875 Val Accuracy: 1.0\n"
     ]
    },
    {
     "name": "stderr",
     "output_type": "stream",
     "text": [
      "100%|███████████████████████████████████████████████████████████████████████████████████| 3/3 [00:00<00:00, 749.96it/s]\n"
     ]
    },
    {
     "name": "stdout",
     "output_type": "stream",
     "text": [
      "Example target: [1. 0. 0.]\n",
      "Example prediction: [0.9403, 0.0581, 0.0016]\n",
      "Epoch 86 Training Loss: 0.2993 Training Accuracy: 0.94 Val Loss: 0.1882 Val Accuracy: 1.0\n"
     ]
    },
    {
     "name": "stderr",
     "output_type": "stream",
     "text": [
      "100%|███████████████████████████████████████████████████████████████████████████████████| 3/3 [00:00<00:00, 375.06it/s]\n"
     ]
    },
    {
     "name": "stdout",
     "output_type": "stream",
     "text": [
      "Example target: [1. 0. 0.]\n",
      "Example prediction: [0.937, 0.0618, 0.0013]\n",
      "Epoch 87 Training Loss: 0.301 Training Accuracy: 0.92 Val Loss: 0.187 Val Accuracy: 1.0\n"
     ]
    },
    {
     "name": "stderr",
     "output_type": "stream",
     "text": [
      "100%|███████████████████████████████████████████████████████████████████████████████████| 3/3 [00:00<00:00, 749.83it/s]\n"
     ]
    },
    {
     "name": "stdout",
     "output_type": "stream",
     "text": [
      "Example target: [1. 0. 0.]\n",
      "Example prediction: [0.9425, 0.0569, 0.0007]\n",
      "Epoch 88 Training Loss: 0.2767 Training Accuracy: 0.9533 Val Loss: 0.2247 Val Accuracy: 1.0\n"
     ]
    },
    {
     "name": "stderr",
     "output_type": "stream",
     "text": [
      "100%|███████████████████████████████████████████████████████████████████████████████████| 3/3 [00:00<00:00, 750.10it/s]\n"
     ]
    },
    {
     "name": "stdout",
     "output_type": "stream",
     "text": [
      "Example target: [0. 1. 0.]\n",
      "Example prediction: [0.1429, 0.6047, 0.2524]\n",
      "Epoch 89 Training Loss: 0.2883 Training Accuracy: 0.98 Val Loss: 0.1824 Val Accuracy: 1.0\n"
     ]
    },
    {
     "name": "stderr",
     "output_type": "stream",
     "text": [
      "100%|███████████████████████████████████████████████████████████████████████████████████| 3/3 [00:00<00:00, 375.02it/s]\n"
     ]
    },
    {
     "name": "stdout",
     "output_type": "stream",
     "text": [
      "Example target: [0. 1. 0.]\n",
      "Example prediction: [0.0821, 0.8635, 0.0544]\n",
      "Epoch 90 Training Loss: 0.3505 Training Accuracy: 0.88 Val Loss: 0.3075 Val Accuracy: 0.8\n"
     ]
    },
    {
     "name": "stderr",
     "output_type": "stream",
     "text": [
      "100%|███████████████████████████████████████████████████████████████████████████████████| 3/3 [00:00<00:00, 375.11it/s]\n"
     ]
    },
    {
     "name": "stdout",
     "output_type": "stream",
     "text": [
      "Example target: [1. 0. 0.]\n",
      "Example prediction: [0.9468, 0.0521, 0.001]\n",
      "Epoch 91 Training Loss: 0.333 Training Accuracy: 0.8733 Val Loss: 0.1809 Val Accuracy: 1.0\n"
     ]
    },
    {
     "name": "stderr",
     "output_type": "stream",
     "text": [
      "100%|███████████████████████████████████████████████████████████████████████████████████| 3/3 [00:00<00:00, 749.96it/s]\n"
     ]
    },
    {
     "name": "stdout",
     "output_type": "stream",
     "text": [
      "Example target: [0. 1. 0.]\n",
      "Example prediction: [0.0746, 0.675, 0.2504]\n",
      "Epoch 92 Training Loss: 0.2873 Training Accuracy: 0.9267 Val Loss: 0.179 Val Accuracy: 1.0\n"
     ]
    },
    {
     "name": "stderr",
     "output_type": "stream",
     "text": [
      "100%|███████████████████████████████████████████████████████████████████████████████████| 3/3 [00:00<00:00, 749.30it/s]\n"
     ]
    },
    {
     "name": "stdout",
     "output_type": "stream",
     "text": [
      "Example target: [1. 0. 0.]\n",
      "Example prediction: [0.8882, 0.111, 0.0008]\n",
      "Epoch 93 Training Loss: 0.3655 Training Accuracy: 0.8933 Val Loss: 0.3209 Val Accuracy: 0.7333\n"
     ]
    },
    {
     "name": "stderr",
     "output_type": "stream",
     "text": [
      "100%|███████████████████████████████████████████████████████████████████████████████████| 3/3 [00:00<00:00, 750.19it/s]\n"
     ]
    },
    {
     "name": "stdout",
     "output_type": "stream",
     "text": [
      "Example target: [0. 0. 1.]\n",
      "Example prediction: [0.0011, 0.1376, 0.8614]\n",
      "Epoch 94 Training Loss: 0.3746 Training Accuracy: 0.86 Val Loss: 0.1802 Val Accuracy: 1.0\n"
     ]
    },
    {
     "name": "stderr",
     "output_type": "stream",
     "text": [
      "100%|███████████████████████████████████████████████████████████████████████████████████| 3/3 [00:00<00:00, 750.05it/s]\n"
     ]
    },
    {
     "name": "stdout",
     "output_type": "stream",
     "text": [
      "Example target: [0. 0. 1.]\n",
      "Example prediction: [0.0019, 0.2801, 0.7181]\n",
      "Epoch 95 Training Loss: 0.2665 Training Accuracy: 0.9467 Val Loss: 0.2011 Val Accuracy: 1.0\n"
     ]
    },
    {
     "name": "stderr",
     "output_type": "stream",
     "text": [
      "100%|███████████████████████████████████████████████████████████████████████████████████| 3/3 [00:00<00:00, 374.90it/s]\n"
     ]
    },
    {
     "name": "stdout",
     "output_type": "stream",
     "text": [
      "Example target: [1. 0. 0.]\n",
      "Example prediction: [0.8807, 0.1183, 0.001]\n",
      "Epoch 96 Training Loss: 0.2906 Training Accuracy: 0.9733 Val Loss: 0.2494 Val Accuracy: 0.9333\n"
     ]
    },
    {
     "name": "stderr",
     "output_type": "stream",
     "text": [
      "100%|███████████████████████████████████████████████████████████████████████████████████| 3/3 [00:00<00:00, 374.76it/s]\n"
     ]
    },
    {
     "name": "stdout",
     "output_type": "stream",
     "text": [
      "Example target: [1. 0. 0.]\n",
      "Example prediction: [0.9563, 0.0434, 0.0003]\n",
      "Epoch 97 Training Loss: 0.2931 Training Accuracy: 0.92 Val Loss: 0.1848 Val Accuracy: 1.0\n"
     ]
    },
    {
     "name": "stderr",
     "output_type": "stream",
     "text": [
      "100%|███████████████████████████████████████████████████████████████████████████████████| 3/3 [00:00<00:00, 375.06it/s]\n"
     ]
    },
    {
     "name": "stdout",
     "output_type": "stream",
     "text": [
      "Example target: [0. 0. 1.]\n",
      "Example prediction: [0.0012, 0.1705, 0.8284]\n",
      "Epoch 98 Training Loss: 0.245 Training Accuracy: 0.9733 Val Loss: 0.1747 Val Accuracy: 1.0\n"
     ]
    },
    {
     "name": "stderr",
     "output_type": "stream",
     "text": [
      "100%|███████████████████████████████████████████████████████████████████████████████████| 3/3 [00:00<00:00, 749.47it/s]\n"
     ]
    },
    {
     "name": "stdout",
     "output_type": "stream",
     "text": [
      "Example target: [0. 0. 1.]\n",
      "Example prediction: [0.0041, 0.3449, 0.651]\n",
      "Epoch 99 Training Loss: 0.2975 Training Accuracy: 0.9467 Val Loss: 0.1978 Val Accuracy: 1.0\n",
      "Test Loss: 0.2754 Test Accuracy: 0.9333\n"
     ]
    }
   ],
   "source": [
    "\n",
    "hidden_layer_size=10\n",
    "lr=1e-2\n",
    "model_name = \"two_layer_NN_10l_1e-2\"\n",
    "%run -i train_ffnn.py"
   ]
  },
  {
   "cell_type": "code",
   "execution_count": 1,
   "metadata": {},
   "outputs": [
    {
     "name": "stdout",
     "output_type": "stream",
     "text": [
      "Training kaggle_playing_30_20_10_10 neural network on higgs with SGD for 10 epochs...\n",
      "Optimizer:\n",
      "{'name': 'SGD', 'lr': 0.01, 'lr_scheduler': 'exponential', 'lr_decay': 0.99, 'stage_length': 1000, 'staircase': False, 'clip_norm': None, 'momentum': 0}\n"
     ]
    },
    {
     "name": "stderr",
     "output_type": "stream",
     "text": [
      "100%|███████████████████████████████████████████████████████████████████████████| 10000/10000 [00:14<00:00, 675.81it/s]\n"
     ]
    },
    {
     "name": "stdout",
     "output_type": "stream",
     "text": [
      "Example target: [0. 1.]\n",
      "Example prediction: [0.4792, 0.5208]\n",
      "Epoch 0 Training Loss: 0.6759 Training Accuracy: 0.5676 Val Loss: 0.6527 Val Accuracy: 0.6105\n"
     ]
    },
    {
     "name": "stderr",
     "output_type": "stream",
     "text": [
      "100%|███████████████████████████████████████████████████████████████████████████| 10000/10000 [00:14<00:00, 671.35it/s]\n"
     ]
    },
    {
     "name": "stdout",
     "output_type": "stream",
     "text": [
      "Example target: [0. 1.]\n",
      "Example prediction: [0.677, 0.323]\n",
      "Epoch 1 Training Loss: 0.6418 Training Accuracy: 0.6256 Val Loss: 0.6318 Val Accuracy: 0.6395\n"
     ]
    },
    {
     "name": "stderr",
     "output_type": "stream",
     "text": [
      "100%|███████████████████████████████████████████████████████████████████████████| 10000/10000 [00:14<00:00, 677.33it/s]\n"
     ]
    },
    {
     "name": "stdout",
     "output_type": "stream",
     "text": [
      "Example target: [1. 0.]\n",
      "Example prediction: [0.9181, 0.0819]\n",
      "Epoch 2 Training Loss: 0.6229 Training Accuracy: 0.6494 Val Loss: 0.612 Val Accuracy: 0.6596\n"
     ]
    },
    {
     "name": "stderr",
     "output_type": "stream",
     "text": [
      "100%|███████████████████████████████████████████████████████████████████████████| 10000/10000 [00:15<00:00, 650.58it/s]\n"
     ]
    },
    {
     "name": "stdout",
     "output_type": "stream",
     "text": [
      "Example target: [1. 0.]\n",
      "Example prediction: [0.519, 0.481]\n",
      "Epoch 3 Training Loss: 0.6074 Training Accuracy: 0.6663 Val Loss: 0.6021 Val Accuracy: 0.6714\n"
     ]
    },
    {
     "name": "stderr",
     "output_type": "stream",
     "text": [
      "100%|███████████████████████████████████████████████████████████████████████████| 10000/10000 [00:17<00:00, 584.59it/s]\n"
     ]
    },
    {
     "name": "stdout",
     "output_type": "stream",
     "text": [
      "Example target: [1. 0.]\n",
      "Example prediction: [0.7369, 0.2631]\n",
      "Epoch 4 Training Loss: 0.5996 Training Accuracy: 0.6744 Val Loss: 0.5946 Val Accuracy: 0.6755\n"
     ]
    },
    {
     "name": "stderr",
     "output_type": "stream",
     "text": [
      "100%|███████████████████████████████████████████████████████████████████████████| 10000/10000 [00:17<00:00, 558.22it/s]\n"
     ]
    },
    {
     "name": "stdout",
     "output_type": "stream",
     "text": [
      "Example target: [1. 0.]\n",
      "Example prediction: [0.716, 0.284]\n",
      "Epoch 5 Training Loss: 0.5946 Training Accuracy: 0.6786 Val Loss: 0.6017 Val Accuracy: 0.6725\n"
     ]
    },
    {
     "name": "stderr",
     "output_type": "stream",
     "text": [
      "100%|███████████████████████████████████████████████████████████████████████████| 10000/10000 [00:23<00:00, 432.02it/s]\n"
     ]
    },
    {
     "name": "stdout",
     "output_type": "stream",
     "text": [
      "Example target: [0. 1.]\n",
      "Example prediction: [0.099, 0.901]\n",
      "Epoch 6 Training Loss: 0.591 Training Accuracy: 0.6814 Val Loss: 0.5914 Val Accuracy: 0.6804\n"
     ]
    },
    {
     "name": "stderr",
     "output_type": "stream",
     "text": [
      "100%|███████████████████████████████████████████████████████████████████████████| 10000/10000 [00:18<00:00, 544.93it/s]\n"
     ]
    },
    {
     "name": "stdout",
     "output_type": "stream",
     "text": [
      "Example target: [1. 0.]\n",
      "Example prediction: [0.2312, 0.7688]\n",
      "Epoch 7 Training Loss: 0.588 Training Accuracy: 0.6843 Val Loss: 0.5876 Val Accuracy: 0.6818\n"
     ]
    },
    {
     "name": "stderr",
     "output_type": "stream",
     "text": [
      "100%|███████████████████████████████████████████████████████████████████████████| 10000/10000 [00:20<00:00, 476.22it/s]\n"
     ]
    },
    {
     "name": "stdout",
     "output_type": "stream",
     "text": [
      "Example target: [1. 0.]\n",
      "Example prediction: [0.6316, 0.3684]\n",
      "Epoch 8 Training Loss: 0.5857 Training Accuracy: 0.6858 Val Loss: 0.5833 Val Accuracy: 0.6836\n"
     ]
    },
    {
     "name": "stderr",
     "output_type": "stream",
     "text": [
      "100%|███████████████████████████████████████████████████████████████████████████| 10000/10000 [00:19<00:00, 522.07it/s]\n"
     ]
    },
    {
     "name": "stdout",
     "output_type": "stream",
     "text": [
      "Example target: [1. 0.]\n",
      "Example prediction: [0.5097, 0.4903]\n",
      "Epoch 9 Training Loss: 0.5833 Training Accuracy: 0.6877 Val Loss: 0.5824 Val Accuracy: 0.687\n",
      "Test Loss: 0.0 Test Accuracy: 0.4795\n"
     ]
    }
   ],
   "source": [
    "\n",
    "%run -i train_ffnn_kaggle.py"
   ]
  },
  {
   "cell_type": "code",
   "execution_count": 1,
   "metadata": {},
   "outputs": [
    {
     "name": "stdout",
     "output_type": "stream",
     "text": [
      "Training kaggle_playing_40_25_15_10_10 neural network on higgs with SGD for 10 epochs...\n",
      "Optimizer:\n",
      "{'name': 'SGD', 'lr': 0.01, 'lr_scheduler': 'exponential', 'lr_decay': 0.99, 'stage_length': 1000, 'staircase': True, 'clip_norm': 1.0, 'momentum': 0.9}\n"
     ]
    },
    {
     "name": "stderr",
     "output_type": "stream",
     "text": [
      "100%|███████████████████████████████████████████████████████████████████████████| 10000/10000 [00:23<00:00, 421.98it/s]\n"
     ]
    },
    {
     "name": "stdout",
     "output_type": "stream",
     "text": [
      "Example target: [1. 0.]\n",
      "Example prediction: [0.5796, 0.4204]\n",
      "Epoch 0 Training Loss: 0.6325 Training Accuracy: 0.6342 Val Loss: 0.604 Val Accuracy: 0.6677\n"
     ]
    },
    {
     "name": "stderr",
     "output_type": "stream",
     "text": [
      "100%|███████████████████████████████████████████████████████████████████████████| 10000/10000 [00:23<00:00, 418.87it/s]\n"
     ]
    },
    {
     "name": "stdout",
     "output_type": "stream",
     "text": [
      "Example target: [0. 1.]\n",
      "Example prediction: [0.4187, 0.5813]\n",
      "Epoch 1 Training Loss: 0.5937 Training Accuracy: 0.6798 Val Loss: 0.5894 Val Accuracy: 0.6806\n"
     ]
    },
    {
     "name": "stderr",
     "output_type": "stream",
     "text": [
      "100%|███████████████████████████████████████████████████████████████████████████| 10000/10000 [00:22<00:00, 437.37it/s]\n"
     ]
    },
    {
     "name": "stdout",
     "output_type": "stream",
     "text": [
      "Example target: [0. 1.]\n",
      "Example prediction: [0.125, 0.875]\n",
      "Epoch 2 Training Loss: 0.5793 Training Accuracy: 0.6928 Val Loss: 0.5762 Val Accuracy: 0.695\n"
     ]
    },
    {
     "name": "stderr",
     "output_type": "stream",
     "text": [
      "100%|███████████████████████████████████████████████████████████████████████████| 10000/10000 [00:27<00:00, 370.32it/s]\n"
     ]
    },
    {
     "name": "stdout",
     "output_type": "stream",
     "text": [
      "Example target: [0. 1.]\n",
      "Example prediction: [0.3644, 0.6356]\n",
      "Epoch 3 Training Loss: 0.5708 Training Accuracy: 0.7 Val Loss: 0.5673 Val Accuracy: 0.7023\n"
     ]
    },
    {
     "name": "stderr",
     "output_type": "stream",
     "text": [
      "100%|███████████████████████████████████████████████████████████████████████████| 10000/10000 [00:26<00:00, 370.95it/s]\n"
     ]
    },
    {
     "name": "stdout",
     "output_type": "stream",
     "text": [
      "Example target: [0. 1.]\n",
      "Example prediction: [0.6885, 0.3115]\n",
      "Epoch 4 Training Loss: 0.5649 Training Accuracy: 0.705 Val Loss: 0.5586 Val Accuracy: 0.7088\n"
     ]
    },
    {
     "name": "stderr",
     "output_type": "stream",
     "text": [
      "100%|███████████████████████████████████████████████████████████████████████████| 10000/10000 [00:22<00:00, 440.62it/s]\n"
     ]
    },
    {
     "name": "stdout",
     "output_type": "stream",
     "text": [
      "Example target: [0. 1.]\n",
      "Example prediction: [0.2809, 0.7191]\n",
      "Epoch 5 Training Loss: 0.5605 Training Accuracy: 0.7077 Val Loss: 0.5583 Val Accuracy: 0.7084\n"
     ]
    },
    {
     "name": "stderr",
     "output_type": "stream",
     "text": [
      "100%|███████████████████████████████████████████████████████████████████████████| 10000/10000 [00:26<00:00, 376.33it/s]\n"
     ]
    },
    {
     "name": "stdout",
     "output_type": "stream",
     "text": [
      "Example target: [1. 0.]\n",
      "Example prediction: [0.6076, 0.3924]\n",
      "Epoch 6 Training Loss: 0.5561 Training Accuracy: 0.7117 Val Loss: 0.5535 Val Accuracy: 0.7103\n"
     ]
    },
    {
     "name": "stderr",
     "output_type": "stream",
     "text": [
      "100%|███████████████████████████████████████████████████████████████████████████| 10000/10000 [00:23<00:00, 425.06it/s]\n"
     ]
    },
    {
     "name": "stdout",
     "output_type": "stream",
     "text": [
      "Example target: [0. 1.]\n",
      "Example prediction: [0.4014, 0.5986]\n",
      "Epoch 7 Training Loss: 0.5515 Training Accuracy: 0.7152 Val Loss: 0.5536 Val Accuracy: 0.7108\n"
     ]
    },
    {
     "name": "stderr",
     "output_type": "stream",
     "text": [
      "100%|███████████████████████████████████████████████████████████████████████████| 10000/10000 [00:23<00:00, 419.61it/s]\n"
     ]
    },
    {
     "name": "stdout",
     "output_type": "stream",
     "text": [
      "Example target: [1. 0.]\n",
      "Example prediction: [0.7819, 0.2181]\n",
      "Epoch 8 Training Loss: 0.5478 Training Accuracy: 0.7175 Val Loss: 0.5466 Val Accuracy: 0.7172\n"
     ]
    },
    {
     "name": "stderr",
     "output_type": "stream",
     "text": [
      "100%|███████████████████████████████████████████████████████████████████████████| 10000/10000 [00:26<00:00, 377.71it/s]\n"
     ]
    },
    {
     "name": "stdout",
     "output_type": "stream",
     "text": [
      "Example target: [0. 1.]\n",
      "Example prediction: [0.5126, 0.4874]\n",
      "Epoch 9 Training Loss: 0.5447 Training Accuracy: 0.7201 Val Loss: 0.5516 Val Accuracy: 0.713\n",
      "Test Loss: 0.0 Test Accuracy: 0.5056\n"
     ]
    }
   ],
   "source": [
    "#40_25_15_10x3\n",
    "%run -i train_ffnn_kaggle.py"
   ]
  },
  {
   "cell_type": "code",
   "execution_count": 1,
   "metadata": {},
   "outputs": [
    {
     "name": "stdout",
     "output_type": "stream",
     "text": [
      "Training kaggle_playing_100_50_25_10x5_stage10 neural network on higgs with SGD for 10 epochs...\n",
      "Optimizer:\n",
      "{'name': 'SGD', 'lr': 0.01, 'lr_scheduler': 'exponential', 'lr_decay': 0.99, 'stage_length': 10, 'staircase': True, 'clip_norm': 1.0, 'momentum': 0.9}\n"
     ]
    },
    {
     "name": "stderr",
     "output_type": "stream",
     "text": [
      "100%|███████████████████████████████████████████████████████████████████████████| 10000/10000 [00:28<00:00, 354.08it/s]\n"
     ]
    },
    {
     "name": "stdout",
     "output_type": "stream",
     "text": [
      "Example target: [1. 0.]\n",
      "Example prediction: [0.653, 0.347]\n",
      "Epoch 0 Training Loss: 0.6299 Training Accuracy: 0.6381 Val Loss: 0.5992 Val Accuracy: 0.6724\n"
     ]
    },
    {
     "name": "stderr",
     "output_type": "stream",
     "text": [
      "100%|███████████████████████████████████████████████████████████████████████████| 10000/10000 [00:27<00:00, 358.99it/s]\n"
     ]
    },
    {
     "name": "stdout",
     "output_type": "stream",
     "text": [
      "Example target: [0. 1.]\n",
      "Example prediction: [0.4497, 0.5503]\n",
      "Epoch 1 Training Loss: 0.5905 Training Accuracy: 0.6823 Val Loss: 0.5803 Val Accuracy: 0.6892\n"
     ]
    },
    {
     "name": "stderr",
     "output_type": "stream",
     "text": [
      "100%|███████████████████████████████████████████████████████████████████████████| 10000/10000 [00:27<00:00, 361.27it/s]\n"
     ]
    },
    {
     "name": "stdout",
     "output_type": "stream",
     "text": [
      "Example target: [1. 0.]\n",
      "Example prediction: [0.5418, 0.4582]\n",
      "Epoch 2 Training Loss: 0.5766 Training Accuracy: 0.6953 Val Loss: 0.5729 Val Accuracy: 0.6986\n"
     ]
    },
    {
     "name": "stderr",
     "output_type": "stream",
     "text": [
      "100%|███████████████████████████████████████████████████████████████████████████| 10000/10000 [00:28<00:00, 345.92it/s]\n"
     ]
    },
    {
     "name": "stdout",
     "output_type": "stream",
     "text": [
      "Example target: [0. 1.]\n",
      "Example prediction: [0.1982, 0.8018]\n",
      "Epoch 3 Training Loss: 0.5662 Training Accuracy: 0.7042 Val Loss: 0.5601 Val Accuracy: 0.7074\n"
     ]
    },
    {
     "name": "stderr",
     "output_type": "stream",
     "text": [
      "100%|███████████████████████████████████████████████████████████████████████████| 10000/10000 [00:28<00:00, 348.23it/s]\n"
     ]
    },
    {
     "name": "stdout",
     "output_type": "stream",
     "text": [
      "Example target: [1. 0.]\n",
      "Example prediction: [0.7395, 0.2605]\n",
      "Epoch 4 Training Loss: 0.558 Training Accuracy: 0.7114 Val Loss: 0.5546 Val Accuracy: 0.7125\n"
     ]
    },
    {
     "name": "stderr",
     "output_type": "stream",
     "text": [
      "100%|███████████████████████████████████████████████████████████████████████████| 10000/10000 [00:28<00:00, 351.65it/s]\n"
     ]
    },
    {
     "name": "stdout",
     "output_type": "stream",
     "text": [
      "Example target: [0. 1.]\n",
      "Example prediction: [0.4831, 0.5169]\n",
      "Epoch 5 Training Loss: 0.5516 Training Accuracy: 0.7159 Val Loss: 0.5527 Val Accuracy: 0.7133\n"
     ]
    },
    {
     "name": "stderr",
     "output_type": "stream",
     "text": [
      "100%|███████████████████████████████████████████████████████████████████████████| 10000/10000 [00:32<00:00, 310.28it/s]\n"
     ]
    },
    {
     "name": "stdout",
     "output_type": "stream",
     "text": [
      "Example target: [1. 0.]\n",
      "Example prediction: [0.5493, 0.4507]\n",
      "Epoch 6 Training Loss: 0.5462 Training Accuracy: 0.7192 Val Loss: 0.5431 Val Accuracy: 0.7177\n"
     ]
    },
    {
     "name": "stderr",
     "output_type": "stream",
     "text": [
      "100%|███████████████████████████████████████████████████████████████████████████| 10000/10000 [00:28<00:00, 352.17it/s]\n"
     ]
    },
    {
     "name": "stdout",
     "output_type": "stream",
     "text": [
      "Example target: [1. 0.]\n",
      "Example prediction: [0.8644, 0.1356]\n",
      "Epoch 7 Training Loss: 0.5416 Training Accuracy: 0.7226 Val Loss: 0.5409 Val Accuracy: 0.7212\n"
     ]
    },
    {
     "name": "stderr",
     "output_type": "stream",
     "text": [
      "100%|███████████████████████████████████████████████████████████████████████████| 10000/10000 [00:33<00:00, 300.65it/s]\n"
     ]
    },
    {
     "name": "stdout",
     "output_type": "stream",
     "text": [
      "Example target: [1. 0.]\n",
      "Example prediction: [0.1478, 0.8522]\n",
      "Epoch 8 Training Loss: 0.5368 Training Accuracy: 0.7259 Val Loss: 0.5356 Val Accuracy: 0.7253\n"
     ]
    },
    {
     "name": "stderr",
     "output_type": "stream",
     "text": [
      "100%|███████████████████████████████████████████████████████████████████████████| 10000/10000 [00:31<00:00, 317.61it/s]\n"
     ]
    },
    {
     "name": "stdout",
     "output_type": "stream",
     "text": [
      "Example target: [1. 0.]\n",
      "Example prediction: [0.8976, 0.1024]\n",
      "Epoch 9 Training Loss: 0.5331 Training Accuracy: 0.7289 Val Loss: 0.5304 Val Accuracy: 0.7295\n",
      "Test Loss: 0.0 Test Accuracy: 0.448\n"
     ]
    }
   ],
   "source": [
    "#100_50_25_10x5 stage 10\n",
    "%run -i train_ffnn_kaggle.py"
   ]
  },
  {
   "cell_type": "code",
   "execution_count": 2,
   "metadata": {},
   "outputs": [
    {
     "name": "stdout",
     "output_type": "stream",
     "text": [
      "Training kaggle_playing_100_50_25_10x5_5x5_stage10 neural network on higgs with SGD for 10 epochs...\n",
      "Optimizer:\n",
      "{'name': 'SGD', 'lr': 0.01, 'lr_scheduler': 'exponential', 'lr_decay': 0.99, 'stage_length': 10, 'staircase': True, 'clip_norm': 1.0, 'momentum': 0.9}\n"
     ]
    },
    {
     "name": "stderr",
     "output_type": "stream",
     "text": [
      "100%|███████████████████████████████████████████████████████████████████████████| 10000/10000 [00:37<00:00, 266.63it/s]\n"
     ]
    },
    {
     "name": "stdout",
     "output_type": "stream",
     "text": [
      "Example target: [1. 0.]\n",
      "Example prediction: [0.3592, 0.6408]\n",
      "Epoch 0 Training Loss: 0.6347 Training Accuracy: 0.6332 Val Loss: 0.6031 Val Accuracy: 0.6704\n"
     ]
    },
    {
     "name": "stderr",
     "output_type": "stream",
     "text": [
      "100%|███████████████████████████████████████████████████████████████████████████| 10000/10000 [00:39<00:00, 250.82it/s]\n"
     ]
    },
    {
     "name": "stdout",
     "output_type": "stream",
     "text": [
      "Example target: [0. 1.]\n",
      "Example prediction: [0.5725, 0.4275]\n",
      "Epoch 1 Training Loss: 0.5949 Training Accuracy: 0.6801 Val Loss: 0.5861 Val Accuracy: 0.6859\n"
     ]
    },
    {
     "name": "stderr",
     "output_type": "stream",
     "text": [
      "100%|███████████████████████████████████████████████████████████████████████████| 10000/10000 [00:41<00:00, 241.73it/s]\n"
     ]
    },
    {
     "name": "stdout",
     "output_type": "stream",
     "text": [
      "Example target: [0. 1.]\n",
      "Example prediction: [0.0346, 0.9654]\n",
      "Epoch 2 Training Loss: 0.5803 Training Accuracy: 0.6925 Val Loss: 0.5742 Val Accuracy: 0.6945\n"
     ]
    },
    {
     "name": "stderr",
     "output_type": "stream",
     "text": [
      "100%|███████████████████████████████████████████████████████████████████████████| 10000/10000 [00:41<00:00, 241.96it/s]\n"
     ]
    },
    {
     "name": "stdout",
     "output_type": "stream",
     "text": [
      "Example target: [1. 0.]\n",
      "Example prediction: [0.4467, 0.5533]\n",
      "Epoch 3 Training Loss: 0.5702 Training Accuracy: 0.7013 Val Loss: 0.5673 Val Accuracy: 0.6999\n"
     ]
    },
    {
     "name": "stderr",
     "output_type": "stream",
     "text": [
      "100%|███████████████████████████████████████████████████████████████████████████| 10000/10000 [00:46<00:00, 214.79it/s]\n"
     ]
    },
    {
     "name": "stdout",
     "output_type": "stream",
     "text": [
      "Example target: [0. 1.]\n",
      "Example prediction: [0.4976, 0.5024]\n",
      "Epoch 4 Training Loss: 0.5625 Training Accuracy: 0.7071 Val Loss: 0.5628 Val Accuracy: 0.705\n"
     ]
    },
    {
     "name": "stderr",
     "output_type": "stream",
     "text": [
      "100%|███████████████████████████████████████████████████████████████████████████| 10000/10000 [00:35<00:00, 282.17it/s]\n"
     ]
    },
    {
     "name": "stdout",
     "output_type": "stream",
     "text": [
      "Example target: [1. 0.]\n",
      "Example prediction: [0.7944, 0.2056]\n",
      "Epoch 5 Training Loss: 0.5561 Training Accuracy: 0.712 Val Loss: 0.5759 Val Accuracy: 0.7075\n"
     ]
    },
    {
     "name": "stderr",
     "output_type": "stream",
     "text": [
      "100%|███████████████████████████████████████████████████████████████████████████| 10000/10000 [00:41<00:00, 238.59it/s]\n"
     ]
    },
    {
     "name": "stdout",
     "output_type": "stream",
     "text": [
      "Example target: [1. 0.]\n",
      "Example prediction: [0.6542, 0.3458]\n",
      "Epoch 6 Training Loss: 0.5511 Training Accuracy: 0.7155 Val Loss: 0.5522 Val Accuracy: 0.7115\n"
     ]
    },
    {
     "name": "stderr",
     "output_type": "stream",
     "text": [
      "100%|███████████████████████████████████████████████████████████████████████████| 10000/10000 [00:37<00:00, 268.36it/s]\n"
     ]
    },
    {
     "name": "stdout",
     "output_type": "stream",
     "text": [
      "Example target: [0. 1.]\n",
      "Example prediction: [0.7788, 0.2212]\n",
      "Epoch 7 Training Loss: 0.5471 Training Accuracy: 0.7187 Val Loss: 0.5473 Val Accuracy: 0.7172\n"
     ]
    },
    {
     "name": "stderr",
     "output_type": "stream",
     "text": [
      "100%|███████████████████████████████████████████████████████████████████████████| 10000/10000 [00:39<00:00, 256.34it/s]\n"
     ]
    },
    {
     "name": "stdout",
     "output_type": "stream",
     "text": [
      "Example target: [0. 1.]\n",
      "Example prediction: [0.1901, 0.8099]\n",
      "Epoch 8 Training Loss: 0.5429 Training Accuracy: 0.7218 Val Loss: 0.5429 Val Accuracy: 0.7193\n"
     ]
    },
    {
     "name": "stderr",
     "output_type": "stream",
     "text": [
      "100%|███████████████████████████████████████████████████████████████████████████| 10000/10000 [00:41<00:00, 240.90it/s]\n"
     ]
    },
    {
     "name": "stdout",
     "output_type": "stream",
     "text": [
      "Example target: [0. 1.]\n",
      "Example prediction: [0.1725, 0.8275]\n",
      "Epoch 9 Training Loss: 0.5394 Training Accuracy: 0.7242 Val Loss: 0.5434 Val Accuracy: 0.7189\n",
      "Test Loss: 0.0 Test Accuracy: 0.455\n"
     ]
    }
   ],
   "source": [
    "#100_50_25_10x5_5x5 stage 10\n",
    "%run -i train_ffnn_kaggle.py"
   ]
  },
  {
   "cell_type": "code",
   "execution_count": 1,
   "metadata": {},
   "outputs": [
    {
     "name": "stdout",
     "output_type": "stream",
     "text": [
      "Training kaggle_playing_100_50_25x2_10x3_5x2_stage10 neural network on higgs with SGD for 100 epochs...\n",
      "Optimizer:\n",
      "{'name': 'SGD', 'lr': 0.01, 'lr_scheduler': 'exponential', 'lr_decay': 0.99, 'stage_length': 10, 'staircase': True, 'clip_norm': 1.0, 'momentum': 0.9}\n"
     ]
    },
    {
     "name": "stderr",
     "output_type": "stream",
     "text": [
      "100%|███████████████████████████████████████████████████████████████████████████| 10000/10000 [00:36<00:00, 271.61it/s]\n"
     ]
    },
    {
     "name": "stdout",
     "output_type": "stream",
     "text": [
      "Example target: [1. 0.]\n",
      "Example prediction: [0.7392, 0.2608]\n",
      "Epoch 0 Training Loss: 0.6337 Training Accuracy: 0.6318 Val Loss: 0.5988 Val Accuracy: 0.6761\n"
     ]
    },
    {
     "name": "stderr",
     "output_type": "stream",
     "text": [
      "100%|███████████████████████████████████████████████████████████████████████████| 10000/10000 [00:34<00:00, 286.80it/s]\n"
     ]
    },
    {
     "name": "stdout",
     "output_type": "stream",
     "text": [
      "Example target: [0. 1.]\n",
      "Example prediction: [0.5757, 0.4243]\n",
      "Epoch 1 Training Loss: 0.5914 Training Accuracy: 0.6812 Val Loss: 0.5861 Val Accuracy: 0.6865\n"
     ]
    },
    {
     "name": "stderr",
     "output_type": "stream",
     "text": [
      "100%|███████████████████████████████████████████████████████████████████████████| 10000/10000 [00:32<00:00, 311.47it/s]\n"
     ]
    },
    {
     "name": "stdout",
     "output_type": "stream",
     "text": [
      "Example target: [1. 0.]\n",
      "Example prediction: [0.4991, 0.5009]\n",
      "Epoch 2 Training Loss: 0.5768 Training Accuracy: 0.6946 Val Loss: 0.572 Val Accuracy: 0.6991\n"
     ]
    },
    {
     "name": "stderr",
     "output_type": "stream",
     "text": [
      "100%|███████████████████████████████████████████████████████████████████████████| 10000/10000 [00:30<00:00, 324.36it/s]\n"
     ]
    },
    {
     "name": "stdout",
     "output_type": "stream",
     "text": [
      "Example target: [1. 0.]\n",
      "Example prediction: [0.5777, 0.4223]\n",
      "Epoch 3 Training Loss: 0.5661 Training Accuracy: 0.7037 Val Loss: 0.5684 Val Accuracy: 0.6978\n"
     ]
    },
    {
     "name": "stderr",
     "output_type": "stream",
     "text": [
      "100%|███████████████████████████████████████████████████████████████████████████| 10000/10000 [00:33<00:00, 301.73it/s]\n"
     ]
    },
    {
     "name": "stdout",
     "output_type": "stream",
     "text": [
      "Example target: [1. 0.]\n",
      "Example prediction: [0.6753, 0.3247]\n",
      "Epoch 4 Training Loss: 0.5573 Training Accuracy: 0.7105 Val Loss: 0.5533 Val Accuracy: 0.7106\n"
     ]
    },
    {
     "name": "stderr",
     "output_type": "stream",
     "text": [
      "100%|███████████████████████████████████████████████████████████████████████████| 10000/10000 [00:30<00:00, 322.59it/s]\n"
     ]
    },
    {
     "name": "stdout",
     "output_type": "stream",
     "text": [
      "Example target: [1. 0.]\n",
      "Example prediction: [0.6475, 0.3525]\n",
      "Epoch 5 Training Loss: 0.551 Training Accuracy: 0.716 Val Loss: 0.549 Val Accuracy: 0.7177\n"
     ]
    },
    {
     "name": "stderr",
     "output_type": "stream",
     "text": [
      "100%|███████████████████████████████████████████████████████████████████████████| 10000/10000 [00:30<00:00, 323.22it/s]\n"
     ]
    },
    {
     "name": "stdout",
     "output_type": "stream",
     "text": [
      "Example target: [1. 0.]\n",
      "Example prediction: [0.7929, 0.2071]\n",
      "Epoch 6 Training Loss: 0.5459 Training Accuracy: 0.7197 Val Loss: 0.5412 Val Accuracy: 0.7179\n"
     ]
    },
    {
     "name": "stderr",
     "output_type": "stream",
     "text": [
      "100%|███████████████████████████████████████████████████████████████████████████| 10000/10000 [00:33<00:00, 298.89it/s]\n"
     ]
    },
    {
     "name": "stdout",
     "output_type": "stream",
     "text": [
      "Example target: [1. 0.]\n",
      "Example prediction: [0.9808, 0.0192]\n",
      "Epoch 7 Training Loss: 0.5405 Training Accuracy: 0.7234 Val Loss: 0.5518 Val Accuracy: 0.7153\n"
     ]
    },
    {
     "name": "stderr",
     "output_type": "stream",
     "text": [
      "100%|███████████████████████████████████████████████████████████████████████████| 10000/10000 [00:36<00:00, 277.29it/s]\n"
     ]
    },
    {
     "name": "stdout",
     "output_type": "stream",
     "text": [
      "Example target: [1. 0.]\n",
      "Example prediction: [0.6929, 0.3071]\n",
      "Epoch 8 Training Loss: 0.5362 Training Accuracy: 0.7267 Val Loss: 0.534 Val Accuracy: 0.7257\n"
     ]
    },
    {
     "name": "stderr",
     "output_type": "stream",
     "text": [
      "100%|███████████████████████████████████████████████████████████████████████████| 10000/10000 [00:31<00:00, 317.99it/s]\n"
     ]
    },
    {
     "name": "stdout",
     "output_type": "stream",
     "text": [
      "Example target: [1. 0.]\n",
      "Example prediction: [0.7719, 0.2281]\n",
      "Epoch 9 Training Loss: 0.532 Training Accuracy: 0.7292 Val Loss: 0.5295 Val Accuracy: 0.7286\n"
     ]
    },
    {
     "name": "stderr",
     "output_type": "stream",
     "text": [
      "100%|███████████████████████████████████████████████████████████████████████████| 10000/10000 [00:30<00:00, 324.66it/s]\n"
     ]
    },
    {
     "name": "stdout",
     "output_type": "stream",
     "text": [
      "Example target: [1. 0.]\n",
      "Example prediction: [0.8711, 0.1289]\n",
      "Epoch 10 Training Loss: 0.5284 Training Accuracy: 0.732 Val Loss: 0.5355 Val Accuracy: 0.7224\n"
     ]
    },
    {
     "name": "stderr",
     "output_type": "stream",
     "text": [
      "100%|███████████████████████████████████████████████████████████████████████████| 10000/10000 [00:32<00:00, 303.08it/s]\n"
     ]
    },
    {
     "name": "stdout",
     "output_type": "stream",
     "text": [
      "Example target: [1. 0.]\n",
      "Example prediction: [0.9786, 0.0214]\n",
      "Epoch 11 Training Loss: 0.5259 Training Accuracy: 0.7335 Val Loss: 0.5258 Val Accuracy: 0.7317\n"
     ]
    },
    {
     "name": "stderr",
     "output_type": "stream",
     "text": [
      "100%|███████████████████████████████████████████████████████████████████████████| 10000/10000 [00:30<00:00, 328.46it/s]\n"
     ]
    },
    {
     "name": "stdout",
     "output_type": "stream",
     "text": [
      "Example target: [1. 0.]\n",
      "Example prediction: [0.5955, 0.4045]\n",
      "Epoch 12 Training Loss: 0.5235 Training Accuracy: 0.7352 Val Loss: 0.5249 Val Accuracy: 0.7324\n"
     ]
    },
    {
     "name": "stderr",
     "output_type": "stream",
     "text": [
      "100%|███████████████████████████████████████████████████████████████████████████| 10000/10000 [00:30<00:00, 327.54it/s]\n"
     ]
    },
    {
     "name": "stdout",
     "output_type": "stream",
     "text": [
      "Example target: [0. 1.]\n",
      "Example prediction: [0.1901, 0.8099]\n",
      "Epoch 13 Training Loss: 0.5215 Training Accuracy: 0.7367 Val Loss: 0.5411 Val Accuracy: 0.723\n"
     ]
    },
    {
     "name": "stderr",
     "output_type": "stream",
     "text": [
      "100%|███████████████████████████████████████████████████████████████████████████| 10000/10000 [00:33<00:00, 295.91it/s]\n"
     ]
    },
    {
     "name": "stdout",
     "output_type": "stream",
     "text": [
      "Example target: [0. 1.]\n",
      "Example prediction: [0.7111, 0.2889]\n",
      "Epoch 14 Training Loss: 0.5199 Training Accuracy: 0.7387 Val Loss: 0.5225 Val Accuracy: 0.7339\n"
     ]
    },
    {
     "name": "stderr",
     "output_type": "stream",
     "text": [
      "100%|███████████████████████████████████████████████████████████████████████████| 10000/10000 [00:45<00:00, 221.72it/s]\n"
     ]
    },
    {
     "name": "stdout",
     "output_type": "stream",
     "text": [
      "Example target: [1. 0.]\n",
      "Example prediction: [0.4173, 0.5827]\n",
      "Epoch 15 Training Loss: 0.5182 Training Accuracy: 0.7386 Val Loss: 0.521 Val Accuracy: 0.7351\n"
     ]
    },
    {
     "name": "stderr",
     "output_type": "stream",
     "text": [
      "100%|███████████████████████████████████████████████████████████████████████████| 10000/10000 [00:45<00:00, 217.51it/s]\n"
     ]
    },
    {
     "name": "stdout",
     "output_type": "stream",
     "text": [
      "Example target: [1. 0.]\n",
      "Example prediction: [0.4443, 0.5557]\n",
      "Epoch 16 Training Loss: 0.5176 Training Accuracy: 0.7391 Val Loss: 0.5174 Val Accuracy: 0.7365\n"
     ]
    },
    {
     "name": "stderr",
     "output_type": "stream",
     "text": [
      "100%|███████████████████████████████████████████████████████████████████████████| 10000/10000 [00:38<00:00, 259.85it/s]\n"
     ]
    },
    {
     "name": "stdout",
     "output_type": "stream",
     "text": [
      "Example target: [1. 0.]\n",
      "Example prediction: [0.1816, 0.8184]\n",
      "Epoch 17 Training Loss: 0.5158 Training Accuracy: 0.7411 Val Loss: 0.5217 Val Accuracy: 0.7345\n"
     ]
    },
    {
     "name": "stderr",
     "output_type": "stream",
     "text": [
      "100%|███████████████████████████████████████████████████████████████████████████| 10000/10000 [00:37<00:00, 269.72it/s]\n"
     ]
    },
    {
     "name": "stdout",
     "output_type": "stream",
     "text": [
      "Example target: [0. 1.]\n",
      "Example prediction: [0.3085, 0.6915]\n",
      "Epoch 18 Training Loss: 0.5143 Training Accuracy: 0.7416 Val Loss: 0.5248 Val Accuracy: 0.7345\n"
     ]
    },
    {
     "name": "stderr",
     "output_type": "stream",
     "text": [
      "100%|███████████████████████████████████████████████████████████████████████████| 10000/10000 [00:36<00:00, 273.09it/s]\n"
     ]
    },
    {
     "name": "stdout",
     "output_type": "stream",
     "text": [
      "Example target: [0. 1.]\n",
      "Example prediction: [0.3174, 0.6826]\n",
      "Epoch 19 Training Loss: 0.5133 Training Accuracy: 0.7422 Val Loss: 0.5197 Val Accuracy: 0.7371\n"
     ]
    },
    {
     "name": "stderr",
     "output_type": "stream",
     "text": [
      "100%|███████████████████████████████████████████████████████████████████████████| 10000/10000 [00:36<00:00, 271.24it/s]\n"
     ]
    },
    {
     "name": "stdout",
     "output_type": "stream",
     "text": [
      "Example target: [0. 1.]\n",
      "Example prediction: [0.0723, 0.9277]\n",
      "Epoch 20 Training Loss: 0.5126 Training Accuracy: 0.743 Val Loss: 0.5159 Val Accuracy: 0.7378\n"
     ]
    },
    {
     "name": "stderr",
     "output_type": "stream",
     "text": [
      "100%|███████████████████████████████████████████████████████████████████████████| 10000/10000 [00:35<00:00, 284.22it/s]\n"
     ]
    },
    {
     "name": "stdout",
     "output_type": "stream",
     "text": [
      "Example target: [1. 0.]\n",
      "Example prediction: [0.3443, 0.6557]\n",
      "Epoch 21 Training Loss: 0.5112 Training Accuracy: 0.7439 Val Loss: 0.5196 Val Accuracy: 0.7351\n"
     ]
    },
    {
     "name": "stderr",
     "output_type": "stream",
     "text": [
      "100%|███████████████████████████████████████████████████████████████████████████| 10000/10000 [00:34<00:00, 287.37it/s]\n"
     ]
    },
    {
     "name": "stdout",
     "output_type": "stream",
     "text": [
      "Example target: [0. 1.]\n",
      "Example prediction: [0.1593, 0.8407]\n",
      "Epoch 22 Training Loss: 0.5103 Training Accuracy: 0.7447 Val Loss: 0.5231 Val Accuracy: 0.7357\n"
     ]
    },
    {
     "name": "stderr",
     "output_type": "stream",
     "text": [
      "100%|███████████████████████████████████████████████████████████████████████████| 10000/10000 [00:41<00:00, 239.55it/s]\n"
     ]
    },
    {
     "name": "stdout",
     "output_type": "stream",
     "text": [
      "Example target: [0. 1.]\n",
      "Example prediction: [0.7428, 0.2572]\n",
      "Epoch 23 Training Loss: 0.5095 Training Accuracy: 0.7452 Val Loss: 0.5189 Val Accuracy: 0.7399\n"
     ]
    },
    {
     "name": "stderr",
     "output_type": "stream",
     "text": [
      "100%|███████████████████████████████████████████████████████████████████████████| 10000/10000 [00:36<00:00, 277.26it/s]\n"
     ]
    },
    {
     "name": "stdout",
     "output_type": "stream",
     "text": [
      "Example target: [1. 0.]\n",
      "Example prediction: [0.4399, 0.5601]\n",
      "Epoch 24 Training Loss: 0.5087 Training Accuracy: 0.7459 Val Loss: 0.5136 Val Accuracy: 0.7413\n"
     ]
    },
    {
     "name": "stderr",
     "output_type": "stream",
     "text": [
      "100%|███████████████████████████████████████████████████████████████████████████| 10000/10000 [00:35<00:00, 281.65it/s]\n"
     ]
    },
    {
     "name": "stdout",
     "output_type": "stream",
     "text": [
      "Example target: [0. 1.]\n",
      "Example prediction: [0.6359, 0.3641]\n",
      "Epoch 25 Training Loss: 0.5083 Training Accuracy: 0.7459 Val Loss: 0.5149 Val Accuracy: 0.7408\n"
     ]
    },
    {
     "name": "stderr",
     "output_type": "stream",
     "text": [
      "100%|███████████████████████████████████████████████████████████████████████████| 10000/10000 [00:35<00:00, 281.31it/s]\n"
     ]
    },
    {
     "name": "stdout",
     "output_type": "stream",
     "text": [
      "Example target: [0. 1.]\n",
      "Example prediction: [0.2401, 0.7599]\n",
      "Epoch 26 Training Loss: 0.5075 Training Accuracy: 0.7459 Val Loss: 0.5141 Val Accuracy: 0.7335\n"
     ]
    },
    {
     "name": "stderr",
     "output_type": "stream",
     "text": [
      "100%|███████████████████████████████████████████████████████████████████████████| 10000/10000 [00:35<00:00, 278.78it/s]\n"
     ]
    },
    {
     "name": "stdout",
     "output_type": "stream",
     "text": [
      "Example target: [1. 0.]\n",
      "Example prediction: [0.8099, 0.1901]\n",
      "Epoch 27 Training Loss: 0.5063 Training Accuracy: 0.747 Val Loss: 0.5154 Val Accuracy: 0.7415\n"
     ]
    },
    {
     "name": "stderr",
     "output_type": "stream",
     "text": [
      "100%|███████████████████████████████████████████████████████████████████████████| 10000/10000 [00:36<00:00, 272.45it/s]\n"
     ]
    },
    {
     "name": "stdout",
     "output_type": "stream",
     "text": [
      "Example target: [1. 0.]\n",
      "Example prediction: [0.6326, 0.3674]\n",
      "Epoch 28 Training Loss: 0.5055 Training Accuracy: 0.7477 Val Loss: 0.5127 Val Accuracy: 0.7391\n"
     ]
    },
    {
     "name": "stderr",
     "output_type": "stream",
     "text": [
      "100%|███████████████████████████████████████████████████████████████████████████| 10000/10000 [00:39<00:00, 253.18it/s]\n"
     ]
    },
    {
     "name": "stdout",
     "output_type": "stream",
     "text": [
      "Example target: [0. 1.]\n",
      "Example prediction: [0.2766, 0.7234]\n",
      "Epoch 29 Training Loss: 0.5053 Training Accuracy: 0.7476 Val Loss: 0.5155 Val Accuracy: 0.7421\n"
     ]
    },
    {
     "name": "stderr",
     "output_type": "stream",
     "text": [
      "100%|███████████████████████████████████████████████████████████████████████████| 10000/10000 [00:30<00:00, 326.16it/s]\n"
     ]
    },
    {
     "name": "stdout",
     "output_type": "stream",
     "text": [
      "Example target: [0. 1.]\n",
      "Example prediction: [0.3506, 0.6494]\n",
      "Epoch 30 Training Loss: 0.5045 Training Accuracy: 0.7482 Val Loss: 0.5095 Val Accuracy: 0.7442\n"
     ]
    },
    {
     "name": "stderr",
     "output_type": "stream",
     "text": [
      "100%|███████████████████████████████████████████████████████████████████████████| 10000/10000 [00:38<00:00, 257.06it/s]\n"
     ]
    },
    {
     "name": "stdout",
     "output_type": "stream",
     "text": [
      "Example target: [1. 0.]\n",
      "Example prediction: [0.8998, 0.1002]\n",
      "Epoch 31 Training Loss: 0.5039 Training Accuracy: 0.749 Val Loss: 0.516 Val Accuracy: 0.7426\n"
     ]
    },
    {
     "name": "stderr",
     "output_type": "stream",
     "text": [
      "100%|███████████████████████████████████████████████████████████████████████████| 10000/10000 [00:37<00:00, 269.58it/s]\n"
     ]
    },
    {
     "name": "stdout",
     "output_type": "stream",
     "text": [
      "Example target: [0. 1.]\n",
      "Example prediction: [0.2342, 0.7658]\n",
      "Epoch 32 Training Loss: 0.5038 Training Accuracy: 0.7491 Val Loss: 0.5187 Val Accuracy: 0.7374\n"
     ]
    },
    {
     "name": "stderr",
     "output_type": "stream",
     "text": [
      "100%|███████████████████████████████████████████████████████████████████████████| 10000/10000 [00:37<00:00, 268.65it/s]\n"
     ]
    },
    {
     "name": "stdout",
     "output_type": "stream",
     "text": [
      "Example target: [1. 0.]\n",
      "Example prediction: [0.5401, 0.4599]\n",
      "Epoch 33 Training Loss: 0.5033 Training Accuracy: 0.7492 Val Loss: 0.5126 Val Accuracy: 0.7417\n"
     ]
    },
    {
     "name": "stderr",
     "output_type": "stream",
     "text": [
      "100%|███████████████████████████████████████████████████████████████████████████| 10000/10000 [00:36<00:00, 271.47it/s]\n"
     ]
    },
    {
     "name": "stdout",
     "output_type": "stream",
     "text": [
      "Example target: [1. 0.]\n",
      "Example prediction: [0.3843, 0.6157]\n",
      "Epoch 34 Training Loss: 0.5027 Training Accuracy: 0.7495 Val Loss: 0.514 Val Accuracy: 0.7415\n"
     ]
    },
    {
     "name": "stderr",
     "output_type": "stream",
     "text": [
      "100%|███████████████████████████████████████████████████████████████████████████| 10000/10000 [00:37<00:00, 264.73it/s]\n"
     ]
    },
    {
     "name": "stdout",
     "output_type": "stream",
     "text": [
      "Example target: [1. 0.]\n",
      "Example prediction: [0.5299, 0.4701]\n",
      "Epoch 35 Training Loss: 0.5021 Training Accuracy: 0.7502 Val Loss: 0.5144 Val Accuracy: 0.7424\n"
     ]
    },
    {
     "name": "stderr",
     "output_type": "stream",
     "text": [
      "100%|███████████████████████████████████████████████████████████████████████████| 10000/10000 [00:53<00:00, 186.75it/s]\n"
     ]
    },
    {
     "name": "stdout",
     "output_type": "stream",
     "text": [
      "Example target: [1. 0.]\n",
      "Example prediction: [0.6945, 0.3055]\n",
      "Epoch 36 Training Loss: 0.5015 Training Accuracy: 0.7502 Val Loss: 0.5115 Val Accuracy: 0.7413\n"
     ]
    },
    {
     "name": "stderr",
     "output_type": "stream",
     "text": [
      "100%|███████████████████████████████████████████████████████████████████████████| 10000/10000 [00:36<00:00, 273.79it/s]\n"
     ]
    },
    {
     "name": "stdout",
     "output_type": "stream",
     "text": [
      "Example target: [0. 1.]\n",
      "Example prediction: [0.611, 0.389]\n",
      "Epoch 37 Training Loss: 0.5011 Training Accuracy: 0.7509 Val Loss: 0.5092 Val Accuracy: 0.7404\n"
     ]
    },
    {
     "name": "stderr",
     "output_type": "stream",
     "text": [
      "100%|███████████████████████████████████████████████████████████████████████████| 10000/10000 [00:49<00:00, 200.52it/s]\n"
     ]
    },
    {
     "name": "stdout",
     "output_type": "stream",
     "text": [
      "Example target: [1. 0.]\n",
      "Example prediction: [0.2017, 0.7983]\n",
      "Epoch 38 Training Loss: 0.5007 Training Accuracy: 0.7514 Val Loss: 0.5102 Val Accuracy: 0.742\n"
     ]
    },
    {
     "name": "stderr",
     "output_type": "stream",
     "text": [
      "100%|███████████████████████████████████████████████████████████████████████████| 10000/10000 [00:39<00:00, 253.25it/s]\n"
     ]
    },
    {
     "name": "stdout",
     "output_type": "stream",
     "text": [
      "Example target: [0. 1.]\n",
      "Example prediction: [0.2087, 0.7913]\n",
      "Epoch 39 Training Loss: 0.5 Training Accuracy: 0.7516 Val Loss: 0.5119 Val Accuracy: 0.7418\n"
     ]
    },
    {
     "name": "stderr",
     "output_type": "stream",
     "text": [
      "100%|███████████████████████████████████████████████████████████████████████████| 10000/10000 [00:35<00:00, 278.32it/s]\n"
     ]
    },
    {
     "name": "stdout",
     "output_type": "stream",
     "text": [
      "Example target: [1. 0.]\n",
      "Example prediction: [0.4678, 0.5322]\n",
      "Epoch 40 Training Loss: 0.4998 Training Accuracy: 0.7511 Val Loss: 0.51 Val Accuracy: 0.7438\n"
     ]
    },
    {
     "name": "stderr",
     "output_type": "stream",
     "text": [
      "100%|███████████████████████████████████████████████████████████████████████████| 10000/10000 [00:35<00:00, 281.17it/s]\n"
     ]
    },
    {
     "name": "stdout",
     "output_type": "stream",
     "text": [
      "Example target: [0. 1.]\n",
      "Example prediction: [0.4875, 0.5125]\n",
      "Epoch 41 Training Loss: 0.4997 Training Accuracy: 0.7513 Val Loss: 0.506 Val Accuracy: 0.7443\n"
     ]
    },
    {
     "name": "stderr",
     "output_type": "stream",
     "text": [
      "100%|███████████████████████████████████████████████████████████████████████████| 10000/10000 [00:36<00:00, 277.51it/s]\n"
     ]
    },
    {
     "name": "stdout",
     "output_type": "stream",
     "text": [
      "Example target: [1. 0.]\n",
      "Example prediction: [0.5112, 0.4888]\n",
      "Epoch 42 Training Loss: 0.499 Training Accuracy: 0.7521 Val Loss: 0.527 Val Accuracy: 0.7423\n"
     ]
    },
    {
     "name": "stderr",
     "output_type": "stream",
     "text": [
      "100%|███████████████████████████████████████████████████████████████████████████| 10000/10000 [00:40<00:00, 246.90it/s]\n"
     ]
    },
    {
     "name": "stdout",
     "output_type": "stream",
     "text": [
      "Example target: [1. 0.]\n",
      "Example prediction: [0.6256, 0.3744]\n",
      "Epoch 43 Training Loss: 0.4991 Training Accuracy: 0.7522 Val Loss: 0.5056 Val Accuracy: 0.744\n"
     ]
    },
    {
     "name": "stderr",
     "output_type": "stream",
     "text": [
      "100%|███████████████████████████████████████████████████████████████████████████| 10000/10000 [00:37<00:00, 267.26it/s]\n"
     ]
    },
    {
     "name": "stdout",
     "output_type": "stream",
     "text": [
      "Example target: [0. 1.]\n",
      "Example prediction: [0.4553, 0.5447]\n",
      "Epoch 44 Training Loss: 0.4984 Training Accuracy: 0.7522 Val Loss: 0.5153 Val Accuracy: 0.7413\n"
     ]
    },
    {
     "name": "stderr",
     "output_type": "stream",
     "text": [
      "100%|███████████████████████████████████████████████████████████████████████████| 10000/10000 [00:37<00:00, 266.01it/s]\n"
     ]
    },
    {
     "name": "stdout",
     "output_type": "stream",
     "text": [
      "Example target: [0. 1.]\n",
      "Example prediction: [0.1638, 0.8362]\n",
      "Epoch 45 Training Loss: 0.4981 Training Accuracy: 0.7526 Val Loss: 0.5119 Val Accuracy: 0.7449\n"
     ]
    },
    {
     "name": "stderr",
     "output_type": "stream",
     "text": [
      "100%|███████████████████████████████████████████████████████████████████████████| 10000/10000 [00:38<00:00, 257.30it/s]\n"
     ]
    },
    {
     "name": "stdout",
     "output_type": "stream",
     "text": [
      "Example target: [0. 1.]\n",
      "Example prediction: [0.2811, 0.7189]\n",
      "Epoch 46 Training Loss: 0.4982 Training Accuracy: 0.7524 Val Loss: 0.5095 Val Accuracy: 0.7439\n"
     ]
    },
    {
     "name": "stderr",
     "output_type": "stream",
     "text": [
      "100%|███████████████████████████████████████████████████████████████████████████| 10000/10000 [00:36<00:00, 273.56it/s]\n"
     ]
    },
    {
     "name": "stdout",
     "output_type": "stream",
     "text": [
      "Example target: [1. 0.]\n",
      "Example prediction: [0.4456, 0.5544]\n",
      "Epoch 47 Training Loss: 0.4974 Training Accuracy: 0.7532 Val Loss: 0.512 Val Accuracy: 0.7394\n"
     ]
    },
    {
     "name": "stderr",
     "output_type": "stream",
     "text": [
      "100%|███████████████████████████████████████████████████████████████████████████| 10000/10000 [00:42<00:00, 234.74it/s]\n"
     ]
    },
    {
     "name": "stdout",
     "output_type": "stream",
     "text": [
      "Example target: [0. 1.]\n",
      "Example prediction: [0.6434, 0.3566]\n",
      "Epoch 48 Training Loss: 0.4974 Training Accuracy: 0.7531 Val Loss: 0.51 Val Accuracy: 0.7439\n"
     ]
    },
    {
     "name": "stderr",
     "output_type": "stream",
     "text": [
      "100%|███████████████████████████████████████████████████████████████████████████| 10000/10000 [00:33<00:00, 296.88it/s]\n"
     ]
    },
    {
     "name": "stdout",
     "output_type": "stream",
     "text": [
      "Example target: [1. 0.]\n",
      "Example prediction: [0.742, 0.258]\n",
      "Epoch 49 Training Loss: 0.4967 Training Accuracy: 0.754 Val Loss: 0.5083 Val Accuracy: 0.7384\n"
     ]
    },
    {
     "name": "stderr",
     "output_type": "stream",
     "text": [
      "100%|███████████████████████████████████████████████████████████████████████████| 10000/10000 [00:31<00:00, 319.32it/s]\n"
     ]
    },
    {
     "name": "stdout",
     "output_type": "stream",
     "text": [
      "Example target: [1. 0.]\n",
      "Example prediction: [0.7246, 0.2754]\n",
      "Epoch 50 Training Loss: 0.4972 Training Accuracy: 0.7533 Val Loss: 0.5148 Val Accuracy: 0.7362\n"
     ]
    },
    {
     "name": "stderr",
     "output_type": "stream",
     "text": [
      "100%|███████████████████████████████████████████████████████████████████████████| 10000/10000 [00:32<00:00, 308.99it/s]\n"
     ]
    },
    {
     "name": "stdout",
     "output_type": "stream",
     "text": [
      "Example target: [0. 1.]\n",
      "Example prediction: [0.3235, 0.6765]\n",
      "Epoch 51 Training Loss: 0.4963 Training Accuracy: 0.754 Val Loss: 0.5058 Val Accuracy: 0.7456\n"
     ]
    },
    {
     "name": "stderr",
     "output_type": "stream",
     "text": [
      "100%|███████████████████████████████████████████████████████████████████████████| 10000/10000 [00:31<00:00, 320.89it/s]\n"
     ]
    },
    {
     "name": "stdout",
     "output_type": "stream",
     "text": [
      "Example target: [1. 0.]\n",
      "Example prediction: [0.6877, 0.3123]\n",
      "Epoch 52 Training Loss: 0.4964 Training Accuracy: 0.7538 Val Loss: 0.5079 Val Accuracy: 0.7457\n"
     ]
    },
    {
     "name": "stderr",
     "output_type": "stream",
     "text": [
      "100%|███████████████████████████████████████████████████████████████████████████| 10000/10000 [00:36<00:00, 275.07it/s]\n"
     ]
    },
    {
     "name": "stdout",
     "output_type": "stream",
     "text": [
      "Example target: [0. 1.]\n",
      "Example prediction: [0.3999, 0.6001]\n",
      "Epoch 53 Training Loss: 0.496 Training Accuracy: 0.7543 Val Loss: 0.5082 Val Accuracy: 0.7438\n"
     ]
    },
    {
     "name": "stderr",
     "output_type": "stream",
     "text": [
      "100%|███████████████████████████████████████████████████████████████████████████| 10000/10000 [00:37<00:00, 263.23it/s]\n"
     ]
    },
    {
     "name": "stdout",
     "output_type": "stream",
     "text": [
      "Example target: [0. 1.]\n",
      "Example prediction: [0.1442, 0.8558]\n",
      "Epoch 54 Training Loss: 0.4963 Training Accuracy: 0.7541 Val Loss: 0.5142 Val Accuracy: 0.7471\n"
     ]
    },
    {
     "name": "stderr",
     "output_type": "stream",
     "text": [
      "100%|███████████████████████████████████████████████████████████████████████████| 10000/10000 [00:37<00:00, 269.74it/s]\n"
     ]
    },
    {
     "name": "stdout",
     "output_type": "stream",
     "text": [
      "Example target: [0. 1.]\n",
      "Example prediction: [0.1091, 0.8909]\n",
      "Epoch 55 Training Loss: 0.4956 Training Accuracy: 0.754 Val Loss: 0.5125 Val Accuracy: 0.7442\n"
     ]
    },
    {
     "name": "stderr",
     "output_type": "stream",
     "text": [
      "100%|███████████████████████████████████████████████████████████████████████████| 10000/10000 [00:35<00:00, 278.67it/s]\n"
     ]
    },
    {
     "name": "stdout",
     "output_type": "stream",
     "text": [
      "Example target: [0. 1.]\n",
      "Example prediction: [0.1077, 0.8923]\n",
      "Epoch 56 Training Loss: 0.4958 Training Accuracy: 0.7543 Val Loss: 0.5116 Val Accuracy: 0.741\n"
     ]
    },
    {
     "name": "stderr",
     "output_type": "stream",
     "text": [
      "100%|███████████████████████████████████████████████████████████████████████████| 10000/10000 [00:37<00:00, 264.49it/s]\n"
     ]
    },
    {
     "name": "stdout",
     "output_type": "stream",
     "text": [
      "Example target: [0. 1.]\n",
      "Example prediction: [0.0383, 0.9617]\n",
      "Epoch 57 Training Loss: 0.4954 Training Accuracy: 0.7541 Val Loss: 0.5072 Val Accuracy: 0.7442\n"
     ]
    },
    {
     "name": "stderr",
     "output_type": "stream",
     "text": [
      "100%|███████████████████████████████████████████████████████████████████████████| 10000/10000 [00:38<00:00, 260.36it/s]\n"
     ]
    },
    {
     "name": "stdout",
     "output_type": "stream",
     "text": [
      "Example target: [0. 1.]\n",
      "Example prediction: [0.7011, 0.2989]\n",
      "Epoch 58 Training Loss: 0.4948 Training Accuracy: 0.7547 Val Loss: 0.5176 Val Accuracy: 0.7359\n"
     ]
    },
    {
     "name": "stderr",
     "output_type": "stream",
     "text": [
      "100%|███████████████████████████████████████████████████████████████████████████| 10000/10000 [00:35<00:00, 283.37it/s]\n"
     ]
    },
    {
     "name": "stdout",
     "output_type": "stream",
     "text": [
      "Example target: [0. 1.]\n",
      "Example prediction: [0.1312, 0.8688]\n",
      "Epoch 59 Training Loss: 0.4949 Training Accuracy: 0.755 Val Loss: 0.5059 Val Accuracy: 0.746\n"
     ]
    },
    {
     "name": "stderr",
     "output_type": "stream",
     "text": [
      "100%|███████████████████████████████████████████████████████████████████████████| 10000/10000 [00:36<00:00, 270.99it/s]\n"
     ]
    },
    {
     "name": "stdout",
     "output_type": "stream",
     "text": [
      "Example target: [0. 1.]\n",
      "Example prediction: [0.701, 0.299]\n",
      "Epoch 60 Training Loss: 0.4943 Training Accuracy: 0.7548 Val Loss: 0.5073 Val Accuracy: 0.7442\n"
     ]
    },
    {
     "name": "stderr",
     "output_type": "stream",
     "text": [
      "100%|███████████████████████████████████████████████████████████████████████████| 10000/10000 [00:40<00:00, 246.92it/s]\n"
     ]
    },
    {
     "name": "stdout",
     "output_type": "stream",
     "text": [
      "Example target: [1. 0.]\n",
      "Example prediction: [0.921, 0.079]\n",
      "Epoch 61 Training Loss: 0.4939 Training Accuracy: 0.7556 Val Loss: 0.5054 Val Accuracy: 0.7459\n"
     ]
    },
    {
     "name": "stderr",
     "output_type": "stream",
     "text": [
      "100%|███████████████████████████████████████████████████████████████████████████| 10000/10000 [00:35<00:00, 279.66it/s]\n"
     ]
    },
    {
     "name": "stdout",
     "output_type": "stream",
     "text": [
      "Example target: [1. 0.]\n",
      "Example prediction: [0.6764, 0.3236]\n",
      "Epoch 62 Training Loss: 0.4936 Training Accuracy: 0.7557 Val Loss: 0.5135 Val Accuracy: 0.7433\n"
     ]
    },
    {
     "name": "stderr",
     "output_type": "stream",
     "text": [
      "100%|███████████████████████████████████████████████████████████████████████████| 10000/10000 [00:36<00:00, 275.53it/s]\n"
     ]
    },
    {
     "name": "stdout",
     "output_type": "stream",
     "text": [
      "Example target: [1. 0.]\n",
      "Example prediction: [0.8539, 0.1461]\n",
      "Epoch 63 Training Loss: 0.4934 Training Accuracy: 0.7556 Val Loss: 0.5087 Val Accuracy: 0.7415\n"
     ]
    },
    {
     "name": "stderr",
     "output_type": "stream",
     "text": [
      "100%|███████████████████████████████████████████████████████████████████████████| 10000/10000 [00:37<00:00, 267.34it/s]\n"
     ]
    },
    {
     "name": "stdout",
     "output_type": "stream",
     "text": [
      "Example target: [1. 0.]\n",
      "Example prediction: [0.5811, 0.4189]\n",
      "Epoch 64 Training Loss: 0.4937 Training Accuracy: 0.7554 Val Loss: 0.5075 Val Accuracy: 0.7444\n"
     ]
    },
    {
     "name": "stderr",
     "output_type": "stream",
     "text": [
      "100%|███████████████████████████████████████████████████████████████████████████| 10000/10000 [00:34<00:00, 291.48it/s]\n"
     ]
    },
    {
     "name": "stdout",
     "output_type": "stream",
     "text": [
      "Example target: [0. 1.]\n",
      "Example prediction: [0.624, 0.376]\n",
      "Epoch 65 Training Loss: 0.4936 Training Accuracy: 0.7554 Val Loss: 0.5066 Val Accuracy: 0.7465\n"
     ]
    },
    {
     "name": "stderr",
     "output_type": "stream",
     "text": [
      "100%|███████████████████████████████████████████████████████████████████████████| 10000/10000 [00:32<00:00, 305.06it/s]\n"
     ]
    },
    {
     "name": "stdout",
     "output_type": "stream",
     "text": [
      "Example target: [0. 1.]\n",
      "Example prediction: [0.4961, 0.5039]\n",
      "Epoch 66 Training Loss: 0.4932 Training Accuracy: 0.7559 Val Loss: 0.5062 Val Accuracy: 0.7466\n"
     ]
    },
    {
     "name": "stderr",
     "output_type": "stream",
     "text": [
      "100%|███████████████████████████████████████████████████████████████████████████| 10000/10000 [00:31<00:00, 322.45it/s]\n"
     ]
    },
    {
     "name": "stdout",
     "output_type": "stream",
     "text": [
      "Example target: [1. 0.]\n",
      "Example prediction: [0.5098, 0.4902]\n",
      "Epoch 67 Training Loss: 0.4933 Training Accuracy: 0.7554 Val Loss: 0.505 Val Accuracy: 0.7476\n"
     ]
    },
    {
     "name": "stderr",
     "output_type": "stream",
     "text": [
      "100%|███████████████████████████████████████████████████████████████████████████| 10000/10000 [00:35<00:00, 278.13it/s]\n"
     ]
    },
    {
     "name": "stdout",
     "output_type": "stream",
     "text": [
      "Example target: [0. 1.]\n",
      "Example prediction: [0.3103, 0.6897]\n",
      "Epoch 68 Training Loss: 0.4927 Training Accuracy: 0.7557 Val Loss: 0.5105 Val Accuracy: 0.7403\n"
     ]
    },
    {
     "name": "stderr",
     "output_type": "stream",
     "text": [
      "100%|███████████████████████████████████████████████████████████████████████████| 10000/10000 [00:41<00:00, 243.52it/s]\n"
     ]
    },
    {
     "name": "stdout",
     "output_type": "stream",
     "text": [
      "Example target: [0. 1.]\n",
      "Example prediction: [0.7598, 0.2402]\n",
      "Epoch 69 Training Loss: 0.4927 Training Accuracy: 0.7563 Val Loss: 0.5042 Val Accuracy: 0.7455\n"
     ]
    },
    {
     "name": "stderr",
     "output_type": "stream",
     "text": [
      "100%|███████████████████████████████████████████████████████████████████████████| 10000/10000 [00:35<00:00, 281.12it/s]\n"
     ]
    },
    {
     "name": "stdout",
     "output_type": "stream",
     "text": [
      "Example target: [1. 0.]\n",
      "Example prediction: [0.4215, 0.5785]\n",
      "Epoch 70 Training Loss: 0.4922 Training Accuracy: 0.7563 Val Loss: 0.5045 Val Accuracy: 0.7456\n"
     ]
    },
    {
     "name": "stderr",
     "output_type": "stream",
     "text": [
      "100%|███████████████████████████████████████████████████████████████████████████| 10000/10000 [00:34<00:00, 288.34it/s]\n"
     ]
    },
    {
     "name": "stdout",
     "output_type": "stream",
     "text": [
      "Example target: [0. 1.]\n",
      "Example prediction: [0.5214, 0.4786]\n",
      "Epoch 71 Training Loss: 0.4919 Training Accuracy: 0.7564 Val Loss: 0.5158 Val Accuracy: 0.7416\n"
     ]
    },
    {
     "name": "stderr",
     "output_type": "stream",
     "text": [
      "100%|███████████████████████████████████████████████████████████████████████████| 10000/10000 [00:35<00:00, 278.16it/s]\n"
     ]
    },
    {
     "name": "stdout",
     "output_type": "stream",
     "text": [
      "Example target: [0. 1.]\n",
      "Example prediction: [0.2642, 0.7358]\n",
      "Epoch 72 Training Loss: 0.4917 Training Accuracy: 0.7565 Val Loss: 0.5046 Val Accuracy: 0.7483\n"
     ]
    },
    {
     "name": "stderr",
     "output_type": "stream",
     "text": [
      "100%|███████████████████████████████████████████████████████████████████████████| 10000/10000 [00:35<00:00, 282.00it/s]\n"
     ]
    },
    {
     "name": "stdout",
     "output_type": "stream",
     "text": [
      "Example target: [1. 0.]\n",
      "Example prediction: [0.7303, 0.2697]\n",
      "Epoch 73 Training Loss: 0.4917 Training Accuracy: 0.7565 Val Loss: 0.5083 Val Accuracy: 0.7407\n"
     ]
    },
    {
     "name": "stderr",
     "output_type": "stream",
     "text": [
      "100%|███████████████████████████████████████████████████████████████████████████| 10000/10000 [00:35<00:00, 277.82it/s]\n"
     ]
    },
    {
     "name": "stdout",
     "output_type": "stream",
     "text": [
      "Example target: [1. 0.]\n",
      "Example prediction: [0.6379, 0.3621]\n",
      "Epoch 74 Training Loss: 0.4914 Training Accuracy: 0.7573 Val Loss: 0.5052 Val Accuracy: 0.7455\n"
     ]
    },
    {
     "name": "stderr",
     "output_type": "stream",
     "text": [
      "100%|███████████████████████████████████████████████████████████████████████████| 10000/10000 [00:32<00:00, 312.42it/s]\n"
     ]
    },
    {
     "name": "stdout",
     "output_type": "stream",
     "text": [
      "Example target: [1. 0.]\n",
      "Example prediction: [0.9435, 0.0565]\n",
      "Epoch 75 Training Loss: 0.4915 Training Accuracy: 0.7566 Val Loss: 0.509 Val Accuracy: 0.7443\n"
     ]
    },
    {
     "name": "stderr",
     "output_type": "stream",
     "text": [
      "100%|███████████████████████████████████████████████████████████████████████████| 10000/10000 [00:33<00:00, 301.45it/s]\n"
     ]
    },
    {
     "name": "stdout",
     "output_type": "stream",
     "text": [
      "Example target: [0. 1.]\n",
      "Example prediction: [0.0446, 0.9554]\n",
      "Epoch 76 Training Loss: 0.491 Training Accuracy: 0.7572 Val Loss: 0.5063 Val Accuracy: 0.7466\n"
     ]
    },
    {
     "name": "stderr",
     "output_type": "stream",
     "text": [
      "100%|███████████████████████████████████████████████████████████████████████████| 10000/10000 [00:33<00:00, 296.25it/s]\n"
     ]
    },
    {
     "name": "stdout",
     "output_type": "stream",
     "text": [
      "Example target: [0. 1.]\n",
      "Example prediction: [0.3841, 0.6159]\n",
      "Epoch 77 Training Loss: 0.4909 Training Accuracy: 0.757 Val Loss: 0.504 Val Accuracy: 0.7457\n"
     ]
    },
    {
     "name": "stderr",
     "output_type": "stream",
     "text": [
      "100%|███████████████████████████████████████████████████████████████████████████| 10000/10000 [00:30<00:00, 331.73it/s]\n"
     ]
    },
    {
     "name": "stdout",
     "output_type": "stream",
     "text": [
      "Example target: [0. 1.]\n",
      "Example prediction: [0.5389, 0.4611]\n",
      "Epoch 78 Training Loss: 0.4905 Training Accuracy: 0.7577 Val Loss: 0.5068 Val Accuracy: 0.7472\n"
     ]
    },
    {
     "name": "stderr",
     "output_type": "stream",
     "text": [
      "100%|███████████████████████████████████████████████████████████████████████████| 10000/10000 [00:30<00:00, 326.98it/s]\n"
     ]
    },
    {
     "name": "stdout",
     "output_type": "stream",
     "text": [
      "Example target: [1. 0.]\n",
      "Example prediction: [0.584, 0.416]\n",
      "Epoch 79 Training Loss: 0.4906 Training Accuracy: 0.7573 Val Loss: 0.504 Val Accuracy: 0.7462\n"
     ]
    },
    {
     "name": "stderr",
     "output_type": "stream",
     "text": [
      "100%|███████████████████████████████████████████████████████████████████████████| 10000/10000 [00:30<00:00, 326.12it/s]\n"
     ]
    },
    {
     "name": "stdout",
     "output_type": "stream",
     "text": [
      "Example target: [1. 0.]\n",
      "Example prediction: [0.3666, 0.6334]\n",
      "Epoch 80 Training Loss: 0.4906 Training Accuracy: 0.7576 Val Loss: 0.5068 Val Accuracy: 0.7478\n"
     ]
    },
    {
     "name": "stderr",
     "output_type": "stream",
     "text": [
      "100%|███████████████████████████████████████████████████████████████████████████| 10000/10000 [00:30<00:00, 324.49it/s]\n"
     ]
    },
    {
     "name": "stdout",
     "output_type": "stream",
     "text": [
      "Example target: [1. 0.]\n",
      "Example prediction: [0.8848, 0.1152]\n",
      "Epoch 81 Training Loss: 0.4901 Training Accuracy: 0.7583 Val Loss: 0.5069 Val Accuracy: 0.7466\n"
     ]
    },
    {
     "name": "stderr",
     "output_type": "stream",
     "text": [
      "100%|███████████████████████████████████████████████████████████████████████████| 10000/10000 [00:33<00:00, 302.15it/s]\n"
     ]
    },
    {
     "name": "stdout",
     "output_type": "stream",
     "text": [
      "Example target: [0. 1.]\n",
      "Example prediction: [0.4662, 0.5338]\n",
      "Epoch 82 Training Loss: 0.4902 Training Accuracy: 0.7579 Val Loss: 0.5054 Val Accuracy: 0.7472\n"
     ]
    },
    {
     "name": "stderr",
     "output_type": "stream",
     "text": [
      "100%|███████████████████████████████████████████████████████████████████████████| 10000/10000 [00:32<00:00, 311.84it/s]\n"
     ]
    },
    {
     "name": "stdout",
     "output_type": "stream",
     "text": [
      "Example target: [1. 0.]\n",
      "Example prediction: [0.9967, 0.0033]\n",
      "Epoch 83 Training Loss: 0.49 Training Accuracy: 0.7581 Val Loss: 0.5079 Val Accuracy: 0.7457\n"
     ]
    },
    {
     "name": "stderr",
     "output_type": "stream",
     "text": [
      "100%|███████████████████████████████████████████████████████████████████████████| 10000/10000 [00:31<00:00, 317.31it/s]\n"
     ]
    },
    {
     "name": "stdout",
     "output_type": "stream",
     "text": [
      "Example target: [0. 1.]\n",
      "Example prediction: [0.0364, 0.9636]\n",
      "Epoch 84 Training Loss: 0.4896 Training Accuracy: 0.7587 Val Loss: 0.5058 Val Accuracy: 0.7465\n"
     ]
    },
    {
     "name": "stderr",
     "output_type": "stream",
     "text": [
      "100%|███████████████████████████████████████████████████████████████████████████| 10000/10000 [00:31<00:00, 318.25it/s]\n"
     ]
    },
    {
     "name": "stdout",
     "output_type": "stream",
     "text": [
      "Example target: [0. 1.]\n",
      "Example prediction: [0.0378, 0.9622]\n",
      "Epoch 85 Training Loss: 0.4895 Training Accuracy: 0.7585 Val Loss: 0.5081 Val Accuracy: 0.7443\n"
     ]
    },
    {
     "name": "stderr",
     "output_type": "stream",
     "text": [
      "100%|███████████████████████████████████████████████████████████████████████████| 10000/10000 [00:35<00:00, 277.94it/s]\n"
     ]
    },
    {
     "name": "stdout",
     "output_type": "stream",
     "text": [
      "Example target: [0. 1.]\n",
      "Example prediction: [0.7805, 0.2195]\n",
      "Epoch 86 Training Loss: 0.4896 Training Accuracy: 0.7585 Val Loss: 0.5111 Val Accuracy: 0.7437\n"
     ]
    },
    {
     "name": "stderr",
     "output_type": "stream",
     "text": [
      "100%|███████████████████████████████████████████████████████████████████████████| 10000/10000 [00:31<00:00, 314.75it/s]\n"
     ]
    },
    {
     "name": "stdout",
     "output_type": "stream",
     "text": [
      "Example target: [1. 0.]\n",
      "Example prediction: [0.5771, 0.4229]\n",
      "Epoch 87 Training Loss: 0.4893 Training Accuracy: 0.7587 Val Loss: 0.5034 Val Accuracy: 0.748\n"
     ]
    },
    {
     "name": "stderr",
     "output_type": "stream",
     "text": [
      "100%|███████████████████████████████████████████████████████████████████████████| 10000/10000 [00:31<00:00, 317.21it/s]\n"
     ]
    },
    {
     "name": "stdout",
     "output_type": "stream",
     "text": [
      "Example target: [0. 1.]\n",
      "Example prediction: [0.0642, 0.9358]\n",
      "Epoch 88 Training Loss: 0.4892 Training Accuracy: 0.758 Val Loss: 0.5051 Val Accuracy: 0.7462\n"
     ]
    },
    {
     "name": "stderr",
     "output_type": "stream",
     "text": [
      "100%|███████████████████████████████████████████████████████████████████████████| 10000/10000 [00:33<00:00, 300.37it/s]\n"
     ]
    },
    {
     "name": "stdout",
     "output_type": "stream",
     "text": [
      "Example target: [1. 0.]\n",
      "Example prediction: [0.4091, 0.5909]\n",
      "Epoch 89 Training Loss: 0.4887 Training Accuracy: 0.759 Val Loss: 0.5046 Val Accuracy: 0.7461\n"
     ]
    },
    {
     "name": "stderr",
     "output_type": "stream",
     "text": [
      "100%|███████████████████████████████████████████████████████████████████████████| 10000/10000 [00:31<00:00, 318.99it/s]\n"
     ]
    },
    {
     "name": "stdout",
     "output_type": "stream",
     "text": [
      "Example target: [0. 1.]\n",
      "Example prediction: [0.3588, 0.6412]\n",
      "Epoch 90 Training Loss: 0.4887 Training Accuracy: 0.7592 Val Loss: 0.5065 Val Accuracy: 0.7455\n"
     ]
    },
    {
     "name": "stderr",
     "output_type": "stream",
     "text": [
      "100%|███████████████████████████████████████████████████████████████████████████| 10000/10000 [00:31<00:00, 321.13it/s]\n"
     ]
    },
    {
     "name": "stdout",
     "output_type": "stream",
     "text": [
      "Example target: [1. 0.]\n",
      "Example prediction: [0.848, 0.152]\n",
      "Epoch 91 Training Loss: 0.4883 Training Accuracy: 0.7594 Val Loss: 0.5082 Val Accuracy: 0.7466\n"
     ]
    },
    {
     "name": "stderr",
     "output_type": "stream",
     "text": [
      "100%|███████████████████████████████████████████████████████████████████████████| 10000/10000 [00:30<00:00, 326.04it/s]\n"
     ]
    },
    {
     "name": "stdout",
     "output_type": "stream",
     "text": [
      "Example target: [0. 1.]\n",
      "Example prediction: [0.2921, 0.7079]\n",
      "Epoch 92 Training Loss: 0.4886 Training Accuracy: 0.7592 Val Loss: 0.5047 Val Accuracy: 0.7476\n"
     ]
    },
    {
     "name": "stderr",
     "output_type": "stream",
     "text": [
      "100%|███████████████████████████████████████████████████████████████████████████| 10000/10000 [00:32<00:00, 309.83it/s]\n"
     ]
    },
    {
     "name": "stdout",
     "output_type": "stream",
     "text": [
      "Example target: [1. 0.]\n",
      "Example prediction: [0.197, 0.803]\n",
      "Epoch 93 Training Loss: 0.4882 Training Accuracy: 0.759 Val Loss: 0.5033 Val Accuracy: 0.7485\n"
     ]
    },
    {
     "name": "stderr",
     "output_type": "stream",
     "text": [
      "100%|███████████████████████████████████████████████████████████████████████████| 10000/10000 [00:30<00:00, 324.47it/s]\n"
     ]
    },
    {
     "name": "stdout",
     "output_type": "stream",
     "text": [
      "Example target: [0. 1.]\n",
      "Example prediction: [0.7009, 0.2991]\n",
      "Epoch 94 Training Loss: 0.4878 Training Accuracy: 0.7597 Val Loss: 0.507 Val Accuracy: 0.7432\n"
     ]
    },
    {
     "name": "stderr",
     "output_type": "stream",
     "text": [
      "100%|███████████████████████████████████████████████████████████████████████████| 10000/10000 [00:35<00:00, 285.39it/s]\n"
     ]
    },
    {
     "name": "stdout",
     "output_type": "stream",
     "text": [
      "Example target: [0. 1.]\n",
      "Example prediction: [0.5561, 0.4439]\n",
      "Epoch 95 Training Loss: 0.4881 Training Accuracy: 0.7589 Val Loss: 0.5069 Val Accuracy: 0.7455\n"
     ]
    },
    {
     "name": "stderr",
     "output_type": "stream",
     "text": [
      "100%|███████████████████████████████████████████████████████████████████████████| 10000/10000 [00:32<00:00, 310.08it/s]\n"
     ]
    },
    {
     "name": "stdout",
     "output_type": "stream",
     "text": [
      "Example target: [0. 1.]\n",
      "Example prediction: [0.5397, 0.4603]\n",
      "Epoch 96 Training Loss: 0.4877 Training Accuracy: 0.7594 Val Loss: 0.5037 Val Accuracy: 0.7468\n"
     ]
    },
    {
     "name": "stderr",
     "output_type": "stream",
     "text": [
      "100%|███████████████████████████████████████████████████████████████████████████| 10000/10000 [00:30<00:00, 327.68it/s]\n"
     ]
    },
    {
     "name": "stdout",
     "output_type": "stream",
     "text": [
      "Example target: [0. 1.]\n",
      "Example prediction: [0.5574, 0.4426]\n",
      "Epoch 97 Training Loss: 0.4878 Training Accuracy: 0.7587 Val Loss: 0.5051 Val Accuracy: 0.746\n"
     ]
    },
    {
     "name": "stderr",
     "output_type": "stream",
     "text": [
      "100%|███████████████████████████████████████████████████████████████████████████| 10000/10000 [00:31<00:00, 317.44it/s]\n"
     ]
    },
    {
     "name": "stdout",
     "output_type": "stream",
     "text": [
      "Example target: [1. 0.]\n",
      "Example prediction: [0.9275, 0.0725]\n",
      "Epoch 98 Training Loss: 0.4875 Training Accuracy: 0.7594 Val Loss: 0.5064 Val Accuracy: 0.7479\n"
     ]
    },
    {
     "name": "stderr",
     "output_type": "stream",
     "text": [
      "100%|███████████████████████████████████████████████████████████████████████████| 10000/10000 [00:34<00:00, 291.17it/s]\n"
     ]
    },
    {
     "name": "stdout",
     "output_type": "stream",
     "text": [
      "Example target: [1. 0.]\n",
      "Example prediction: [0.571, 0.429]\n",
      "Epoch 99 Training Loss: 0.4875 Training Accuracy: 0.7599 Val Loss: 0.5121 Val Accuracy: 0.7449\n",
      "Test Loss: 0.0 Test Accuracy: 0.4828\n"
     ]
    }
   ],
   "source": [
    "#100_50_25x2_10x3_5x2_stage10\n",
    "%run -i train_ffnn_kaggle.py"
   ]
  },
  {
   "cell_type": "code",
   "execution_count": 3,
   "metadata": {},
   "outputs": [],
   "source": [
    "a=model.test_kaggle(dataset)"
   ]
  }
 ],
 "metadata": {
  "kernelspec": {
   "display_name": "hw6env",
   "language": "python",
   "name": "hw6env"
  },
  "language_info": {
   "codemirror_mode": {
    "name": "ipython",
    "version": 3
   },
   "file_extension": ".py",
   "mimetype": "text/x-python",
   "name": "python",
   "nbconvert_exporter": "python",
   "pygments_lexer": "ipython3",
   "version": "3.6.10"
  }
 },
 "nbformat": 4,
 "nbformat_minor": 2
}
